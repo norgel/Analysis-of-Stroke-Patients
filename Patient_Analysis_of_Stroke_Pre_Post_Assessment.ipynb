{
  "nbformat": 4,
  "nbformat_minor": 0,
  "metadata": {
    "colab": {
      "provenance": [],
      "collapsed_sections": [],
      "authorship_tag": "ABX9TyNhJXBGA2jlX8RB6PBL0t3h",
      "include_colab_link": true
    },
    "kernelspec": {
      "name": "python3",
      "display_name": "Python 3"
    },
    "language_info": {
      "name": "python"
    }
  },
  "cells": [
    {
      "cell_type": "markdown",
      "metadata": {
        "id": "view-in-github",
        "colab_type": "text"
      },
      "source": [
        "<a href=\"https://colab.research.google.com/github/norgel/Analysis-of-Stroke-Patients/blob/main/Patient_Analysis_of_Stroke_Pre_Post_Assessment.ipynb\" target=\"_parent\"><img src=\"https://colab.research.google.com/assets/colab-badge.svg\" alt=\"Open In Colab\"/></a>"
      ]
    },
    {
      "cell_type": "markdown",
      "source": [
        "Author: Nicholas Orgel\n",
        "\n",
        "Date Started: 11/02/2022"
      ],
      "metadata": {
        "id": "Ohf3A4yrlaaP"
      }
    },
    {
      "cell_type": "markdown",
      "source": [
        "Dataset Aquired from: https://www.kaggle.com/datasets/fedesoriano/stroke-prediction-dataset\n",
        "\n",
        "- This is a classification dataset that has the task of identifying whether or not a person has had a stroke.\n",
        "---\n",
        "## **Description:**\n",
        "- Excerpt from the dataset description: \"According to the World Health Organization (WHO) stroke is the 2nd leading cause of death globally, responsible for approximately 11% of total deaths. This dataset is used to predict whether a patient is likely to get stroke based on the input parameters like gender, age, various diseases, and smoking status. Each row in the data provides relavant information about the patient.\"\n",
        "\n",
        "---\n",
        "\n",
        "## **Tasks:**\n",
        "\n",
        "- Deleted unnecessay columns.\n",
        "- Deleted duplicate rows.\n",
        "- Identified and addressed missing values.\n",
        "- Identified and corrected inconsistencies in data for categorical values (i.e. Cat, cat, cats).\n",
        "- Produced univariate visuals for the target and all features.\n",
        "- Identified outliers.\n",
        "- Clearly commented all of your cleaning steps and described any decisions you made."
      ],
      "metadata": {
        "id": "j-C0VYM4lhBT"
      }
    },
    {
      "cell_type": "markdown",
      "source": [
        "## **Import Libraries**"
      ],
      "metadata": {
        "id": "zujcToepv2-y"
      }
    },
    {
      "cell_type": "code",
      "source": [
        "# Main Libraries\n",
        "import pandas as pd\n",
        "import numpy as np\n",
        "import matplotlib.pyplot as plt\n",
        "import seaborn as sns\n",
        "\n",
        "# sklearn packages\n",
        "from sklearn.model_selection import train_test_split\n",
        "from sklearn.pipeline import make_pipeline\n",
        "from sklearn.preprocessing import StandardScaler\n",
        "from sklearn.impute import SimpleImputer\n",
        "\n",
        "# Pipeline Display\n",
        "from sklearn import set_config\n",
        "set_config(display='diagram')"
      ],
      "metadata": {
        "id": "EgLD7x7Gpw6T"
      },
      "execution_count": 1,
      "outputs": []
    },
    {
      "cell_type": "markdown",
      "source": [
        "## **Load Dataset Head**"
      ],
      "metadata": {
        "id": "LYV9dFBAv7oG"
      }
    },
    {
      "cell_type": "code",
      "execution_count": 2,
      "metadata": {
        "colab": {
          "base_uri": "https://localhost:8080/",
          "height": 221
        },
        "id": "6es6Au5alU4x",
        "outputId": "a84f0637-4284-4fdc-c1ce-5bc482473fc7"
      },
      "outputs": [
        {
          "output_type": "execute_result",
          "data": {
            "text/plain": [
              "      id  gender   age  hypertension  heart_disease ever_married  \\\n",
              "0   9046    Male  67.0             0              1          Yes   \n",
              "1  51676  Female  61.0             0              0          Yes   \n",
              "2  31112    Male  80.0             0              1          Yes   \n",
              "3  60182  Female  49.0             0              0          Yes   \n",
              "4   1665  Female  79.0             1              0          Yes   \n",
              "\n",
              "       work_type Residence_type  avg_glucose_level   bmi   smoking_status  \\\n",
              "0        Private          Urban             228.69  36.6  formerly smoked   \n",
              "1  Self-employed          Rural             202.21   NaN     never smoked   \n",
              "2        Private          Rural             105.92  32.5     never smoked   \n",
              "3        Private          Urban             171.23  34.4           smokes   \n",
              "4  Self-employed          Rural             174.12  24.0     never smoked   \n",
              "\n",
              "   stroke  \n",
              "0       1  \n",
              "1       1  \n",
              "2       1  \n",
              "3       1  \n",
              "4       1  "
            ],
            "text/html": [
              "\n",
              "  <div id=\"df-b8e2d783-8558-4b0a-8404-679ac101ef59\">\n",
              "    <div class=\"colab-df-container\">\n",
              "      <div>\n",
              "<style scoped>\n",
              "    .dataframe tbody tr th:only-of-type {\n",
              "        vertical-align: middle;\n",
              "    }\n",
              "\n",
              "    .dataframe tbody tr th {\n",
              "        vertical-align: top;\n",
              "    }\n",
              "\n",
              "    .dataframe thead th {\n",
              "        text-align: right;\n",
              "    }\n",
              "</style>\n",
              "<table border=\"1\" class=\"dataframe\">\n",
              "  <thead>\n",
              "    <tr style=\"text-align: right;\">\n",
              "      <th></th>\n",
              "      <th>id</th>\n",
              "      <th>gender</th>\n",
              "      <th>age</th>\n",
              "      <th>hypertension</th>\n",
              "      <th>heart_disease</th>\n",
              "      <th>ever_married</th>\n",
              "      <th>work_type</th>\n",
              "      <th>Residence_type</th>\n",
              "      <th>avg_glucose_level</th>\n",
              "      <th>bmi</th>\n",
              "      <th>smoking_status</th>\n",
              "      <th>stroke</th>\n",
              "    </tr>\n",
              "  </thead>\n",
              "  <tbody>\n",
              "    <tr>\n",
              "      <th>0</th>\n",
              "      <td>9046</td>\n",
              "      <td>Male</td>\n",
              "      <td>67.0</td>\n",
              "      <td>0</td>\n",
              "      <td>1</td>\n",
              "      <td>Yes</td>\n",
              "      <td>Private</td>\n",
              "      <td>Urban</td>\n",
              "      <td>228.69</td>\n",
              "      <td>36.6</td>\n",
              "      <td>formerly smoked</td>\n",
              "      <td>1</td>\n",
              "    </tr>\n",
              "    <tr>\n",
              "      <th>1</th>\n",
              "      <td>51676</td>\n",
              "      <td>Female</td>\n",
              "      <td>61.0</td>\n",
              "      <td>0</td>\n",
              "      <td>0</td>\n",
              "      <td>Yes</td>\n",
              "      <td>Self-employed</td>\n",
              "      <td>Rural</td>\n",
              "      <td>202.21</td>\n",
              "      <td>NaN</td>\n",
              "      <td>never smoked</td>\n",
              "      <td>1</td>\n",
              "    </tr>\n",
              "    <tr>\n",
              "      <th>2</th>\n",
              "      <td>31112</td>\n",
              "      <td>Male</td>\n",
              "      <td>80.0</td>\n",
              "      <td>0</td>\n",
              "      <td>1</td>\n",
              "      <td>Yes</td>\n",
              "      <td>Private</td>\n",
              "      <td>Rural</td>\n",
              "      <td>105.92</td>\n",
              "      <td>32.5</td>\n",
              "      <td>never smoked</td>\n",
              "      <td>1</td>\n",
              "    </tr>\n",
              "    <tr>\n",
              "      <th>3</th>\n",
              "      <td>60182</td>\n",
              "      <td>Female</td>\n",
              "      <td>49.0</td>\n",
              "      <td>0</td>\n",
              "      <td>0</td>\n",
              "      <td>Yes</td>\n",
              "      <td>Private</td>\n",
              "      <td>Urban</td>\n",
              "      <td>171.23</td>\n",
              "      <td>34.4</td>\n",
              "      <td>smokes</td>\n",
              "      <td>1</td>\n",
              "    </tr>\n",
              "    <tr>\n",
              "      <th>4</th>\n",
              "      <td>1665</td>\n",
              "      <td>Female</td>\n",
              "      <td>79.0</td>\n",
              "      <td>1</td>\n",
              "      <td>0</td>\n",
              "      <td>Yes</td>\n",
              "      <td>Self-employed</td>\n",
              "      <td>Rural</td>\n",
              "      <td>174.12</td>\n",
              "      <td>24.0</td>\n",
              "      <td>never smoked</td>\n",
              "      <td>1</td>\n",
              "    </tr>\n",
              "  </tbody>\n",
              "</table>\n",
              "</div>\n",
              "      <button class=\"colab-df-convert\" onclick=\"convertToInteractive('df-b8e2d783-8558-4b0a-8404-679ac101ef59')\"\n",
              "              title=\"Convert this dataframe to an interactive table.\"\n",
              "              style=\"display:none;\">\n",
              "        \n",
              "  <svg xmlns=\"http://www.w3.org/2000/svg\" height=\"24px\"viewBox=\"0 0 24 24\"\n",
              "       width=\"24px\">\n",
              "    <path d=\"M0 0h24v24H0V0z\" fill=\"none\"/>\n",
              "    <path d=\"M18.56 5.44l.94 2.06.94-2.06 2.06-.94-2.06-.94-.94-2.06-.94 2.06-2.06.94zm-11 1L8.5 8.5l.94-2.06 2.06-.94-2.06-.94L8.5 2.5l-.94 2.06-2.06.94zm10 10l.94 2.06.94-2.06 2.06-.94-2.06-.94-.94-2.06-.94 2.06-2.06.94z\"/><path d=\"M17.41 7.96l-1.37-1.37c-.4-.4-.92-.59-1.43-.59-.52 0-1.04.2-1.43.59L10.3 9.45l-7.72 7.72c-.78.78-.78 2.05 0 2.83L4 21.41c.39.39.9.59 1.41.59.51 0 1.02-.2 1.41-.59l7.78-7.78 2.81-2.81c.8-.78.8-2.07 0-2.86zM5.41 20L4 18.59l7.72-7.72 1.47 1.35L5.41 20z\"/>\n",
              "  </svg>\n",
              "      </button>\n",
              "      \n",
              "  <style>\n",
              "    .colab-df-container {\n",
              "      display:flex;\n",
              "      flex-wrap:wrap;\n",
              "      gap: 12px;\n",
              "    }\n",
              "\n",
              "    .colab-df-convert {\n",
              "      background-color: #E8F0FE;\n",
              "      border: none;\n",
              "      border-radius: 50%;\n",
              "      cursor: pointer;\n",
              "      display: none;\n",
              "      fill: #1967D2;\n",
              "      height: 32px;\n",
              "      padding: 0 0 0 0;\n",
              "      width: 32px;\n",
              "    }\n",
              "\n",
              "    .colab-df-convert:hover {\n",
              "      background-color: #E2EBFA;\n",
              "      box-shadow: 0px 1px 2px rgba(60, 64, 67, 0.3), 0px 1px 3px 1px rgba(60, 64, 67, 0.15);\n",
              "      fill: #174EA6;\n",
              "    }\n",
              "\n",
              "    [theme=dark] .colab-df-convert {\n",
              "      background-color: #3B4455;\n",
              "      fill: #D2E3FC;\n",
              "    }\n",
              "\n",
              "    [theme=dark] .colab-df-convert:hover {\n",
              "      background-color: #434B5C;\n",
              "      box-shadow: 0px 1px 3px 1px rgba(0, 0, 0, 0.15);\n",
              "      filter: drop-shadow(0px 1px 2px rgba(0, 0, 0, 0.3));\n",
              "      fill: #FFFFFF;\n",
              "    }\n",
              "  </style>\n",
              "\n",
              "      <script>\n",
              "        const buttonEl =\n",
              "          document.querySelector('#df-b8e2d783-8558-4b0a-8404-679ac101ef59 button.colab-df-convert');\n",
              "        buttonEl.style.display =\n",
              "          google.colab.kernel.accessAllowed ? 'block' : 'none';\n",
              "\n",
              "        async function convertToInteractive(key) {\n",
              "          const element = document.querySelector('#df-b8e2d783-8558-4b0a-8404-679ac101ef59');\n",
              "          const dataTable =\n",
              "            await google.colab.kernel.invokeFunction('convertToInteractive',\n",
              "                                                     [key], {});\n",
              "          if (!dataTable) return;\n",
              "\n",
              "          const docLinkHtml = 'Like what you see? Visit the ' +\n",
              "            '<a target=\"_blank\" href=https://colab.research.google.com/notebooks/data_table.ipynb>data table notebook</a>'\n",
              "            + ' to learn more about interactive tables.';\n",
              "          element.innerHTML = '';\n",
              "          dataTable['output_type'] = 'display_data';\n",
              "          await google.colab.output.renderOutput(dataTable, element);\n",
              "          const docLink = document.createElement('div');\n",
              "          docLink.innerHTML = docLinkHtml;\n",
              "          element.appendChild(docLink);\n",
              "        }\n",
              "      </script>\n",
              "    </div>\n",
              "  </div>\n",
              "  "
            ]
          },
          "metadata": {},
          "execution_count": 2
        }
      ],
      "source": [
        "data = '/content/healthcare-dataset-stroke-data.csv'\n",
        "df = pd.read_csv(data)\n",
        "df.head()"
      ]
    },
    {
      "cell_type": "code",
      "source": [
        "df.columns"
      ],
      "metadata": {
        "colab": {
          "base_uri": "https://localhost:8080/"
        },
        "id": "19dw0YcPrJ79",
        "outputId": "0f74ad39-975a-4ab9-ba8c-c648e236a996"
      },
      "execution_count": 3,
      "outputs": [
        {
          "output_type": "execute_result",
          "data": {
            "text/plain": [
              "Index(['id', 'gender', 'age', 'hypertension', 'heart_disease', 'ever_married',\n",
              "       'work_type', 'Residence_type', 'avg_glucose_level', 'bmi',\n",
              "       'smoking_status', 'stroke'],\n",
              "      dtype='object')"
            ]
          },
          "metadata": {},
          "execution_count": 3
        }
      ]
    },
    {
      "cell_type": "markdown",
      "source": [
        "This is the list of columns that are present in the dataset. In my opinion, the 'id' column is not needed because it is vague and not categorized in a way that can be compared to the other columns.\n",
        "\n",
        "---\n",
        "\n",
        "I will make a copy of the data in order to enact all the changes.\n",
        "\n",
        "### **Data Copy**"
      ],
      "metadata": {
        "id": "BPvpFKPXrOgu"
      }
    },
    {
      "cell_type": "code",
      "source": [
        "# Make a copy of the base dataset that is used for changes.\n",
        "df_ml = df.copy()"
      ],
      "metadata": {
        "id": "AUmStjZHrfnA"
      },
      "execution_count": 4,
      "outputs": []
    },
    {
      "cell_type": "code",
      "source": [
        "# Delete the unnecessary 'id' column\n",
        "df_ml = df_ml.drop(columns='id', axis=1)\n",
        "df_ml.head()"
      ],
      "metadata": {
        "colab": {
          "base_uri": "https://localhost:8080/",
          "height": 221
        },
        "id": "D_xkoqvBrqHT",
        "outputId": "c8e80f6b-ccce-4dbb-cd1c-15111c4f54dd"
      },
      "execution_count": 5,
      "outputs": [
        {
          "output_type": "execute_result",
          "data": {
            "text/plain": [
              "   gender   age  hypertension  heart_disease ever_married      work_type  \\\n",
              "0    Male  67.0             0              1          Yes        Private   \n",
              "1  Female  61.0             0              0          Yes  Self-employed   \n",
              "2    Male  80.0             0              1          Yes        Private   \n",
              "3  Female  49.0             0              0          Yes        Private   \n",
              "4  Female  79.0             1              0          Yes  Self-employed   \n",
              "\n",
              "  Residence_type  avg_glucose_level   bmi   smoking_status  stroke  \n",
              "0          Urban             228.69  36.6  formerly smoked       1  \n",
              "1          Rural             202.21   NaN     never smoked       1  \n",
              "2          Rural             105.92  32.5     never smoked       1  \n",
              "3          Urban             171.23  34.4           smokes       1  \n",
              "4          Rural             174.12  24.0     never smoked       1  "
            ],
            "text/html": [
              "\n",
              "  <div id=\"df-a6e127c5-1f7b-4d49-a352-c39b018a079a\">\n",
              "    <div class=\"colab-df-container\">\n",
              "      <div>\n",
              "<style scoped>\n",
              "    .dataframe tbody tr th:only-of-type {\n",
              "        vertical-align: middle;\n",
              "    }\n",
              "\n",
              "    .dataframe tbody tr th {\n",
              "        vertical-align: top;\n",
              "    }\n",
              "\n",
              "    .dataframe thead th {\n",
              "        text-align: right;\n",
              "    }\n",
              "</style>\n",
              "<table border=\"1\" class=\"dataframe\">\n",
              "  <thead>\n",
              "    <tr style=\"text-align: right;\">\n",
              "      <th></th>\n",
              "      <th>gender</th>\n",
              "      <th>age</th>\n",
              "      <th>hypertension</th>\n",
              "      <th>heart_disease</th>\n",
              "      <th>ever_married</th>\n",
              "      <th>work_type</th>\n",
              "      <th>Residence_type</th>\n",
              "      <th>avg_glucose_level</th>\n",
              "      <th>bmi</th>\n",
              "      <th>smoking_status</th>\n",
              "      <th>stroke</th>\n",
              "    </tr>\n",
              "  </thead>\n",
              "  <tbody>\n",
              "    <tr>\n",
              "      <th>0</th>\n",
              "      <td>Male</td>\n",
              "      <td>67.0</td>\n",
              "      <td>0</td>\n",
              "      <td>1</td>\n",
              "      <td>Yes</td>\n",
              "      <td>Private</td>\n",
              "      <td>Urban</td>\n",
              "      <td>228.69</td>\n",
              "      <td>36.6</td>\n",
              "      <td>formerly smoked</td>\n",
              "      <td>1</td>\n",
              "    </tr>\n",
              "    <tr>\n",
              "      <th>1</th>\n",
              "      <td>Female</td>\n",
              "      <td>61.0</td>\n",
              "      <td>0</td>\n",
              "      <td>0</td>\n",
              "      <td>Yes</td>\n",
              "      <td>Self-employed</td>\n",
              "      <td>Rural</td>\n",
              "      <td>202.21</td>\n",
              "      <td>NaN</td>\n",
              "      <td>never smoked</td>\n",
              "      <td>1</td>\n",
              "    </tr>\n",
              "    <tr>\n",
              "      <th>2</th>\n",
              "      <td>Male</td>\n",
              "      <td>80.0</td>\n",
              "      <td>0</td>\n",
              "      <td>1</td>\n",
              "      <td>Yes</td>\n",
              "      <td>Private</td>\n",
              "      <td>Rural</td>\n",
              "      <td>105.92</td>\n",
              "      <td>32.5</td>\n",
              "      <td>never smoked</td>\n",
              "      <td>1</td>\n",
              "    </tr>\n",
              "    <tr>\n",
              "      <th>3</th>\n",
              "      <td>Female</td>\n",
              "      <td>49.0</td>\n",
              "      <td>0</td>\n",
              "      <td>0</td>\n",
              "      <td>Yes</td>\n",
              "      <td>Private</td>\n",
              "      <td>Urban</td>\n",
              "      <td>171.23</td>\n",
              "      <td>34.4</td>\n",
              "      <td>smokes</td>\n",
              "      <td>1</td>\n",
              "    </tr>\n",
              "    <tr>\n",
              "      <th>4</th>\n",
              "      <td>Female</td>\n",
              "      <td>79.0</td>\n",
              "      <td>1</td>\n",
              "      <td>0</td>\n",
              "      <td>Yes</td>\n",
              "      <td>Self-employed</td>\n",
              "      <td>Rural</td>\n",
              "      <td>174.12</td>\n",
              "      <td>24.0</td>\n",
              "      <td>never smoked</td>\n",
              "      <td>1</td>\n",
              "    </tr>\n",
              "  </tbody>\n",
              "</table>\n",
              "</div>\n",
              "      <button class=\"colab-df-convert\" onclick=\"convertToInteractive('df-a6e127c5-1f7b-4d49-a352-c39b018a079a')\"\n",
              "              title=\"Convert this dataframe to an interactive table.\"\n",
              "              style=\"display:none;\">\n",
              "        \n",
              "  <svg xmlns=\"http://www.w3.org/2000/svg\" height=\"24px\"viewBox=\"0 0 24 24\"\n",
              "       width=\"24px\">\n",
              "    <path d=\"M0 0h24v24H0V0z\" fill=\"none\"/>\n",
              "    <path d=\"M18.56 5.44l.94 2.06.94-2.06 2.06-.94-2.06-.94-.94-2.06-.94 2.06-2.06.94zm-11 1L8.5 8.5l.94-2.06 2.06-.94-2.06-.94L8.5 2.5l-.94 2.06-2.06.94zm10 10l.94 2.06.94-2.06 2.06-.94-2.06-.94-.94-2.06-.94 2.06-2.06.94z\"/><path d=\"M17.41 7.96l-1.37-1.37c-.4-.4-.92-.59-1.43-.59-.52 0-1.04.2-1.43.59L10.3 9.45l-7.72 7.72c-.78.78-.78 2.05 0 2.83L4 21.41c.39.39.9.59 1.41.59.51 0 1.02-.2 1.41-.59l7.78-7.78 2.81-2.81c.8-.78.8-2.07 0-2.86zM5.41 20L4 18.59l7.72-7.72 1.47 1.35L5.41 20z\"/>\n",
              "  </svg>\n",
              "      </button>\n",
              "      \n",
              "  <style>\n",
              "    .colab-df-container {\n",
              "      display:flex;\n",
              "      flex-wrap:wrap;\n",
              "      gap: 12px;\n",
              "    }\n",
              "\n",
              "    .colab-df-convert {\n",
              "      background-color: #E8F0FE;\n",
              "      border: none;\n",
              "      border-radius: 50%;\n",
              "      cursor: pointer;\n",
              "      display: none;\n",
              "      fill: #1967D2;\n",
              "      height: 32px;\n",
              "      padding: 0 0 0 0;\n",
              "      width: 32px;\n",
              "    }\n",
              "\n",
              "    .colab-df-convert:hover {\n",
              "      background-color: #E2EBFA;\n",
              "      box-shadow: 0px 1px 2px rgba(60, 64, 67, 0.3), 0px 1px 3px 1px rgba(60, 64, 67, 0.15);\n",
              "      fill: #174EA6;\n",
              "    }\n",
              "\n",
              "    [theme=dark] .colab-df-convert {\n",
              "      background-color: #3B4455;\n",
              "      fill: #D2E3FC;\n",
              "    }\n",
              "\n",
              "    [theme=dark] .colab-df-convert:hover {\n",
              "      background-color: #434B5C;\n",
              "      box-shadow: 0px 1px 3px 1px rgba(0, 0, 0, 0.15);\n",
              "      filter: drop-shadow(0px 1px 2px rgba(0, 0, 0, 0.3));\n",
              "      fill: #FFFFFF;\n",
              "    }\n",
              "  </style>\n",
              "\n",
              "      <script>\n",
              "        const buttonEl =\n",
              "          document.querySelector('#df-a6e127c5-1f7b-4d49-a352-c39b018a079a button.colab-df-convert');\n",
              "        buttonEl.style.display =\n",
              "          google.colab.kernel.accessAllowed ? 'block' : 'none';\n",
              "\n",
              "        async function convertToInteractive(key) {\n",
              "          const element = document.querySelector('#df-a6e127c5-1f7b-4d49-a352-c39b018a079a');\n",
              "          const dataTable =\n",
              "            await google.colab.kernel.invokeFunction('convertToInteractive',\n",
              "                                                     [key], {});\n",
              "          if (!dataTable) return;\n",
              "\n",
              "          const docLinkHtml = 'Like what you see? Visit the ' +\n",
              "            '<a target=\"_blank\" href=https://colab.research.google.com/notebooks/data_table.ipynb>data table notebook</a>'\n",
              "            + ' to learn more about interactive tables.';\n",
              "          element.innerHTML = '';\n",
              "          dataTable['output_type'] = 'display_data';\n",
              "          await google.colab.output.renderOutput(dataTable, element);\n",
              "          const docLink = document.createElement('div');\n",
              "          docLink.innerHTML = docLinkHtml;\n",
              "          element.appendChild(docLink);\n",
              "        }\n",
              "      </script>\n",
              "    </div>\n",
              "  </div>\n",
              "  "
            ]
          },
          "metadata": {},
          "execution_count": 5
        }
      ]
    },
    {
      "cell_type": "code",
      "source": [
        "# Checking for duplicates in the dataset\n",
        "df_ml.duplicated().sum()"
      ],
      "metadata": {
        "colab": {
          "base_uri": "https://localhost:8080/"
        },
        "id": "Z6LCnTVusbj4",
        "outputId": "61147334-8b08-4a02-ea19-70e6a633be1e"
      },
      "execution_count": 6,
      "outputs": [
        {
          "output_type": "execute_result",
          "data": {
            "text/plain": [
              "0"
            ]
          },
          "metadata": {},
          "execution_count": 6
        }
      ]
    },
    {
      "cell_type": "code",
      "source": [
        "# Checking for missing values in the dataset\n",
        "df_ml.isna().sum()"
      ],
      "metadata": {
        "colab": {
          "base_uri": "https://localhost:8080/"
        },
        "id": "AZm8Pa_Bsuyw",
        "outputId": "f3f789e5-e652-447d-94d0-98979e16b248"
      },
      "execution_count": 7,
      "outputs": [
        {
          "output_type": "execute_result",
          "data": {
            "text/plain": [
              "gender                 0\n",
              "age                    0\n",
              "hypertension           0\n",
              "heart_disease          0\n",
              "ever_married           0\n",
              "work_type              0\n",
              "Residence_type         0\n",
              "avg_glucose_level      0\n",
              "bmi                  201\n",
              "smoking_status         0\n",
              "stroke                 0\n",
              "dtype: int64"
            ]
          },
          "metadata": {},
          "execution_count": 7
        }
      ]
    },
    {
      "cell_type": "markdown",
      "source": [
        "There are **no duplicates** present in the dataset, but there is **201 missing values in the 'bmi'** column."
      ],
      "metadata": {
        "id": "gprqafphsh9m"
      }
    },
    {
      "cell_type": "code",
      "source": [
        "df_ml.info()"
      ],
      "metadata": {
        "colab": {
          "base_uri": "https://localhost:8080/"
        },
        "id": "YIf8JrhauNAX",
        "outputId": "cd7e75c4-d443-4918-fe4e-7fdf0a515a35"
      },
      "execution_count": 8,
      "outputs": [
        {
          "output_type": "stream",
          "name": "stdout",
          "text": [
            "<class 'pandas.core.frame.DataFrame'>\n",
            "RangeIndex: 5110 entries, 0 to 5109\n",
            "Data columns (total 11 columns):\n",
            " #   Column             Non-Null Count  Dtype  \n",
            "---  ------             --------------  -----  \n",
            " 0   gender             5110 non-null   object \n",
            " 1   age                5110 non-null   float64\n",
            " 2   hypertension       5110 non-null   int64  \n",
            " 3   heart_disease      5110 non-null   int64  \n",
            " 4   ever_married       5110 non-null   object \n",
            " 5   work_type          5110 non-null   object \n",
            " 6   Residence_type     5110 non-null   object \n",
            " 7   avg_glucose_level  5110 non-null   float64\n",
            " 8   bmi                4909 non-null   float64\n",
            " 9   smoking_status     5110 non-null   object \n",
            " 10  stroke             5110 non-null   int64  \n",
            "dtypes: float64(3), int64(3), object(5)\n",
            "memory usage: 439.3+ KB\n"
          ]
        }
      ]
    },
    {
      "cell_type": "markdown",
      "source": [
        "There is **3 float datatypes**, **3 integer datatypes**, and **5 object datatypes**.\n",
        "\n",
        "---"
      ],
      "metadata": {
        "id": "JjUZA9h7vyI4"
      }
    },
    {
      "cell_type": "markdown",
      "source": [
        "### **Identify Data Categories**\n",
        "\n",
        "- **Numerical:** 'gender', 'age', 'bmi'\n",
        "- **Ordinal:**\n",
        "- **Nominal:**"
      ],
      "metadata": {
        "id": "ifJQeFPxtNm0"
      }
    },
    {
      "cell_type": "markdown",
      "source": [
        "### **Identify Categorical Values**"
      ],
      "metadata": {
        "id": "IG1w5xZ7sJlJ"
      }
    },
    {
      "cell_type": "code",
      "source": [
        "df_ml['gender'].value_counts()"
      ],
      "metadata": {
        "colab": {
          "base_uri": "https://localhost:8080/"
        },
        "id": "Mrlt9OknsHm6",
        "outputId": "736ea013-7dfa-4bb0-9ef7-8e7d17207bc9"
      },
      "execution_count": 9,
      "outputs": [
        {
          "output_type": "execute_result",
          "data": {
            "text/plain": [
              "Female    2994\n",
              "Male      2115\n",
              "Other        1\n",
              "Name: gender, dtype: int64"
            ]
          },
          "metadata": {},
          "execution_count": 9
        }
      ]
    },
    {
      "cell_type": "markdown",
      "source": [
        "#### **gender Ordinal Encoding**"
      ],
      "metadata": {
        "id": "10N8siVjcPwr"
      }
    },
    {
      "cell_type": "code",
      "source": [
        "df_ml['gender'].replace({'Other':0, 'Female': 1,\n",
        "                         'Male': 2}, inplace=True)"
      ],
      "metadata": {
        "id": "BouapZSyZ3gD"
      },
      "execution_count": 10,
      "outputs": []
    },
    {
      "cell_type": "code",
      "source": [
        "df_ml['gender'].value_counts()"
      ],
      "metadata": {
        "colab": {
          "base_uri": "https://localhost:8080/"
        },
        "id": "A8itAm5Naug-",
        "outputId": "8f810251-e6ff-4f3c-a3d0-cefbda51b73d"
      },
      "execution_count": 11,
      "outputs": [
        {
          "output_type": "execute_result",
          "data": {
            "text/plain": [
              "1    2994\n",
              "2    2115\n",
              "0       1\n",
              "Name: gender, dtype: int64"
            ]
          },
          "metadata": {},
          "execution_count": 11
        }
      ]
    },
    {
      "cell_type": "markdown",
      "source": [
        "There seems to be no inconsistencies with this column.\n",
        "\n",
        "---"
      ],
      "metadata": {
        "id": "KKhMITBisUbV"
      }
    },
    {
      "cell_type": "code",
      "source": [
        "df_ml['age'].value_counts()"
      ],
      "metadata": {
        "colab": {
          "base_uri": "https://localhost:8080/"
        },
        "id": "mTNPnwj_sYW5",
        "outputId": "3343549a-0a39-4836-a9cc-24037b3d808c"
      },
      "execution_count": 12,
      "outputs": [
        {
          "output_type": "execute_result",
          "data": {
            "text/plain": [
              "78.00    102\n",
              "57.00     95\n",
              "52.00     90\n",
              "54.00     87\n",
              "51.00     86\n",
              "        ... \n",
              "1.40       3\n",
              "0.48       3\n",
              "0.16       3\n",
              "0.40       2\n",
              "0.08       2\n",
              "Name: age, Length: 104, dtype: int64"
            ]
          },
          "metadata": {},
          "execution_count": 12
        }
      ]
    },
    {
      "cell_type": "markdown",
      "source": [
        "There is a lot of inconsistencies and outliers in this data column. It can be better visualized in a boxplot.\n",
        "\n",
        "Some values, like **0.08 do not make sense**, this would make sense if it were 8.00 years of age.\n",
        "\n",
        "---"
      ],
      "metadata": {
        "id": "g3h5F9LJsmO_"
      }
    },
    {
      "cell_type": "code",
      "source": [
        "df_ml['hypertension'].value_counts()"
      ],
      "metadata": {
        "colab": {
          "base_uri": "https://localhost:8080/"
        },
        "id": "YjGFXrd5tFxO",
        "outputId": "4fc65ae1-c5e9-4a74-f530-cb23ab3363f6"
      },
      "execution_count": 13,
      "outputs": [
        {
          "output_type": "execute_result",
          "data": {
            "text/plain": [
              "0    4612\n",
              "1     498\n",
              "Name: hypertension, dtype: int64"
            ]
          },
          "metadata": {},
          "execution_count": 13
        }
      ]
    },
    {
      "cell_type": "markdown",
      "source": [
        "There is no visible inconsistencies.\n",
        "- 0 means the patient **does not have** hypertension.\n",
        "- 1 means the patient **has** hypertension.\n",
        "---"
      ],
      "metadata": {
        "id": "E02_uBrRtMvm"
      }
    },
    {
      "cell_type": "code",
      "source": [
        "df_ml['heart_disease'].value_counts()"
      ],
      "metadata": {
        "colab": {
          "base_uri": "https://localhost:8080/"
        },
        "id": "Gy01pI52tWvS",
        "outputId": "dcb250ed-ccb5-4177-f565-79a1e308fd46"
      },
      "execution_count": 14,
      "outputs": [
        {
          "output_type": "execute_result",
          "data": {
            "text/plain": [
              "0    4834\n",
              "1     276\n",
              "Name: heart_disease, dtype: int64"
            ]
          },
          "metadata": {},
          "execution_count": 14
        }
      ]
    },
    {
      "cell_type": "markdown",
      "source": [
        "There is no visible inconsistencies.\n",
        "- 0 means the patient **does not have** heart disease.\n",
        "- 1 means the patient **has** heart disease.\n",
        "---"
      ],
      "metadata": {
        "id": "qQxRKqYotb45"
      }
    },
    {
      "cell_type": "code",
      "source": [
        "df_ml['ever_married'].value_counts()"
      ],
      "metadata": {
        "colab": {
          "base_uri": "https://localhost:8080/"
        },
        "id": "dgPUmUptty_w",
        "outputId": "0a5687f9-e9be-4a6f-fbdd-d8c2af989ded"
      },
      "execution_count": 15,
      "outputs": [
        {
          "output_type": "execute_result",
          "data": {
            "text/plain": [
              "Yes    3353\n",
              "No     1757\n",
              "Name: ever_married, dtype: int64"
            ]
          },
          "metadata": {},
          "execution_count": 15
        }
      ]
    },
    {
      "cell_type": "code",
      "source": [
        "df_ml['ever_married'].replace({'Yes':1, 'No':0}, inplace=True)"
      ],
      "metadata": {
        "id": "2Si3-mj3YNCO"
      },
      "execution_count": 16,
      "outputs": []
    },
    {
      "cell_type": "code",
      "source": [
        "df_ml['ever_married'].value_counts()"
      ],
      "metadata": {
        "colab": {
          "base_uri": "https://localhost:8080/"
        },
        "id": "BM4L1dBkcWn2",
        "outputId": "0aafedd2-9874-470d-9ead-04c08ae4d4d8"
      },
      "execution_count": 17,
      "outputs": [
        {
          "output_type": "execute_result",
          "data": {
            "text/plain": [
              "1    3353\n",
              "0    1757\n",
              "Name: ever_married, dtype: int64"
            ]
          },
          "metadata": {},
          "execution_count": 17
        }
      ]
    },
    {
      "cell_type": "markdown",
      "source": [
        "There is no visible inconsistencies.\n",
        "\n",
        "- This column can be ordinal encoded.\n",
        "---"
      ],
      "metadata": {
        "id": "9ox5ohEwuC5E"
      }
    },
    {
      "cell_type": "code",
      "source": [
        "df_ml['work_type'].value_counts()"
      ],
      "metadata": {
        "colab": {
          "base_uri": "https://localhost:8080/"
        },
        "id": "z6c2D7BvuIEh",
        "outputId": "1572e127-7d09-4d75-95e2-470fed5552c9"
      },
      "execution_count": 18,
      "outputs": [
        {
          "output_type": "execute_result",
          "data": {
            "text/plain": [
              "Private          2925\n",
              "Self-employed     819\n",
              "children          687\n",
              "Govt_job          657\n",
              "Never_worked       22\n",
              "Name: work_type, dtype: int64"
            ]
          },
          "metadata": {},
          "execution_count": 18
        }
      ]
    },
    {
      "cell_type": "markdown",
      "source": [
        "#### **work_type Ordinal Encoding**"
      ],
      "metadata": {
        "id": "PJWw8dEXcKcQ"
      }
    },
    {
      "cell_type": "code",
      "source": [
        "df_ml['work_type'].replace({'Private': 0,\n",
        "                            'Self-employed': 1,\n",
        "                            'children': 2,\n",
        "                            'Govt_job': 3,\n",
        "                            'Never_worked': 4}, inplace=True)"
      ],
      "metadata": {
        "id": "QX3RQIgzcZ7y"
      },
      "execution_count": 19,
      "outputs": []
    },
    {
      "cell_type": "code",
      "source": [
        "df_ml['work_type'].value_counts()"
      ],
      "metadata": {
        "colab": {
          "base_uri": "https://localhost:8080/"
        },
        "id": "R5q3DQJhcq3M",
        "outputId": "82b3839d-41b8-4705-b110-c5e43cb13a0e"
      },
      "execution_count": 20,
      "outputs": [
        {
          "output_type": "execute_result",
          "data": {
            "text/plain": [
              "0    2925\n",
              "1     819\n",
              "2     687\n",
              "3     657\n",
              "4      22\n",
              "Name: work_type, dtype: int64"
            ]
          },
          "metadata": {},
          "execution_count": 20
        }
      ]
    },
    {
      "cell_type": "markdown",
      "source": [
        "There is no visible inconsistencies.\n",
        "\n",
        "- This column can be ordinal encoded.\n",
        "\n",
        "---"
      ],
      "metadata": {
        "id": "DtzpWYXDuMJo"
      }
    },
    {
      "cell_type": "code",
      "source": [
        "df_ml['Residence_type'].value_counts()"
      ],
      "metadata": {
        "colab": {
          "base_uri": "https://localhost:8080/"
        },
        "id": "X_lFtgi1uWRz",
        "outputId": "7fa6788b-ddc3-404f-8f0b-c5f442f08bb2"
      },
      "execution_count": 21,
      "outputs": [
        {
          "output_type": "execute_result",
          "data": {
            "text/plain": [
              "Urban    2596\n",
              "Rural    2514\n",
              "Name: Residence_type, dtype: int64"
            ]
          },
          "metadata": {},
          "execution_count": 21
        }
      ]
    },
    {
      "cell_type": "markdown",
      "source": [
        "#### **Residence_type Ordinal Encoding**"
      ],
      "metadata": {
        "id": "FMTBCXMpcF5_"
      }
    },
    {
      "cell_type": "code",
      "source": [
        "df_ml['Residence_type'].replace({'Urban': 0,\n",
        "                                 'Rural': 1}, inplace=True)"
      ],
      "metadata": {
        "id": "LsqjkHxlc0HE"
      },
      "execution_count": 22,
      "outputs": []
    },
    {
      "cell_type": "code",
      "source": [
        "df_ml['Residence_type'].value_counts()"
      ],
      "metadata": {
        "colab": {
          "base_uri": "https://localhost:8080/"
        },
        "id": "ahauQ6aMcz0x",
        "outputId": "34ba581f-123d-4b69-bc0d-214efaa858b8"
      },
      "execution_count": 23,
      "outputs": [
        {
          "output_type": "execute_result",
          "data": {
            "text/plain": [
              "0    2596\n",
              "1    2514\n",
              "Name: Residence_type, dtype: int64"
            ]
          },
          "metadata": {},
          "execution_count": 23
        }
      ]
    },
    {
      "cell_type": "markdown",
      "source": [
        "There is no visible inconsistencies.\n",
        "\n",
        "- This column can be ordinal encoded.\n",
        "\n",
        "---"
      ],
      "metadata": {
        "id": "BGCLUqbSude2"
      }
    },
    {
      "cell_type": "code",
      "source": [
        "df_ml['avg_glucose_level'].value_counts()"
      ],
      "metadata": {
        "colab": {
          "base_uri": "https://localhost:8080/"
        },
        "id": "WiKnJWwhukMI",
        "outputId": "a2966a04-7e9b-4716-c831-3c62b6b18120"
      },
      "execution_count": 24,
      "outputs": [
        {
          "output_type": "execute_result",
          "data": {
            "text/plain": [
              "93.88     6\n",
              "91.68     5\n",
              "91.85     5\n",
              "83.16     5\n",
              "73.00     5\n",
              "         ..\n",
              "111.93    1\n",
              "94.40     1\n",
              "95.57     1\n",
              "66.29     1\n",
              "85.28     1\n",
              "Name: avg_glucose_level, Length: 3979, dtype: int64"
            ]
          },
          "metadata": {},
          "execution_count": 24
        }
      ]
    },
    {
      "cell_type": "markdown",
      "source": [
        "There are no visible inconsistencies.\n",
        "\n",
        "---"
      ],
      "metadata": {
        "id": "kT50eDNnupnQ"
      }
    },
    {
      "cell_type": "code",
      "source": [
        "df_ml['bmi'].value_counts()"
      ],
      "metadata": {
        "colab": {
          "base_uri": "https://localhost:8080/"
        },
        "id": "m9G5C3Kxuv6B",
        "outputId": "64941335-0ae6-418e-d675-fa74fac2851f"
      },
      "execution_count": 25,
      "outputs": [
        {
          "output_type": "execute_result",
          "data": {
            "text/plain": [
              "28.7    41\n",
              "28.4    38\n",
              "26.7    37\n",
              "27.6    37\n",
              "26.1    37\n",
              "        ..\n",
              "48.7     1\n",
              "49.2     1\n",
              "51.0     1\n",
              "49.4     1\n",
              "14.9     1\n",
              "Name: bmi, Length: 418, dtype: int64"
            ]
          },
          "metadata": {},
          "execution_count": 25
        }
      ]
    },
    {
      "cell_type": "markdown",
      "source": [
        "There is no visible inconsistencies.\n",
        "\n",
        "- But there is still 201 missing values in this column.\n",
        "---"
      ],
      "metadata": {
        "id": "hZVMZYJou4pH"
      }
    },
    {
      "cell_type": "code",
      "source": [
        "df_ml['smoking_status'].value_counts()"
      ],
      "metadata": {
        "colab": {
          "base_uri": "https://localhost:8080/"
        },
        "id": "-wancV3Yu7_z",
        "outputId": "9d751fa5-a0a0-49c6-c49b-90d6b4ad8498"
      },
      "execution_count": 26,
      "outputs": [
        {
          "output_type": "execute_result",
          "data": {
            "text/plain": [
              "never smoked       1892\n",
              "Unknown            1544\n",
              "formerly smoked     885\n",
              "smokes              789\n",
              "Name: smoking_status, dtype: int64"
            ]
          },
          "metadata": {},
          "execution_count": 26
        }
      ]
    },
    {
      "cell_type": "markdown",
      "source": [
        "#### **smoking_status Ordinal Encoding**"
      ],
      "metadata": {
        "id": "SplsGGuGb53n"
      }
    },
    {
      "cell_type": "code",
      "source": [
        "# Ordinal Encoding the 'smoking_status' column\n",
        "df_ml['smoking_status'].replace({'never smoked': 0,\n",
        "                                 'Unknown': 1,\n",
        "                                 'formerly smoked': 2,\n",
        "                                 'smokes': 3}, inplace=True)"
      ],
      "metadata": {
        "id": "wb8jUH7-bgFY"
      },
      "execution_count": 27,
      "outputs": []
    },
    {
      "cell_type": "code",
      "source": [
        "df_ml['smoking_status'].value_counts()"
      ],
      "metadata": {
        "colab": {
          "base_uri": "https://localhost:8080/"
        },
        "id": "4976HdQcieig",
        "outputId": "87aad4fd-cf07-44a6-c5f9-af397b4c0123"
      },
      "execution_count": 28,
      "outputs": [
        {
          "output_type": "execute_result",
          "data": {
            "text/plain": [
              "0    1892\n",
              "1    1544\n",
              "2     885\n",
              "3     789\n",
              "Name: smoking_status, dtype: int64"
            ]
          },
          "metadata": {},
          "execution_count": 28
        }
      ]
    },
    {
      "cell_type": "markdown",
      "source": [
        "No visible inconsistencies.\n",
        "\n",
        "- Can be ordinal encoded.\n",
        "\n",
        "---"
      ],
      "metadata": {
        "id": "lu31jTqQvSKX"
      }
    },
    {
      "cell_type": "code",
      "source": [
        "df_ml['stroke'].value_counts()"
      ],
      "metadata": {
        "colab": {
          "base_uri": "https://localhost:8080/"
        },
        "id": "vSXubJCrvXDX",
        "outputId": "eeb7e49b-ea88-433a-dc87-73c8142d8572"
      },
      "execution_count": 29,
      "outputs": [
        {
          "output_type": "execute_result",
          "data": {
            "text/plain": [
              "0    4861\n",
              "1     249\n",
              "Name: stroke, dtype: int64"
            ]
          },
          "metadata": {},
          "execution_count": 29
        }
      ]
    },
    {
      "cell_type": "markdown",
      "source": [
        "- 0 means the patient has not had a stroke.\n",
        "- 1 means the patient has had a stroke.\n",
        "\n",
        "There is no visible inconsistencies.\n",
        "\n",
        "---"
      ],
      "metadata": {
        "id": "iYZqYPfhvaHN"
      }
    },
    {
      "cell_type": "markdown",
      "source": [
        "# **Univariate Visualizations**\n",
        "\n",
        "For target (y) and features (X)\n",
        "\n",
        "- Target (y) is ['stroke']\n",
        "- Features (X) are everything else.\n",
        "---"
      ],
      "metadata": {
        "id": "EnM65W7fzO9X"
      }
    },
    {
      "cell_type": "markdown",
      "source": [
        "#### **gender**"
      ],
      "metadata": {
        "id": "ysksxlN4et1N"
      }
    },
    {
      "cell_type": "code",
      "source": [
        "sns.boxplot(x='gender', data=df_ml);"
      ],
      "metadata": {
        "colab": {
          "base_uri": "https://localhost:8080/",
          "height": 279
        },
        "id": "I48zpTlgZw8H",
        "outputId": "18aea1ef-7fd1-4601-c678-73bf261c6a53"
      },
      "execution_count": 30,
      "outputs": [
        {
          "output_type": "display_data",
          "data": {
            "text/plain": [
              "<Figure size 432x288 with 1 Axes>"
            ],
            "image/png": "[encoded data removed]"
          },
          "metadata": {
            "needs_background": "light"
          }
        }
      ]
    },
    {
      "cell_type": "code",
      "source": [
        "sns.boxplot(x='gender', y= 'avg_glucose_level', data = df_ml);"
      ],
      "metadata": {
        "colab": {
          "base_uri": "https://localhost:8080/",
          "height": 279
        },
        "id": "puyDLYP_SNIs",
        "outputId": "094f532b-752c-4644-929e-cf8997fa55fa"
      },
      "execution_count": 31,
      "outputs": [
        {
          "output_type": "display_data",
          "data": {
            "text/plain": [
              "<Figure size 432x288 with 1 Axes>"
            ],
            "image/png": "[encoded data removed]"
          },
          "metadata": {
            "needs_background": "light"
          }
        }
      ]
    },
    {
      "cell_type": "markdown",
      "source": [
        "**Base Model**\n",
        "- There is only a minimum line in the base gender boxplot for those whose gender is unknown or \"other\".\n",
        "\n",
        "**Combined Model**\n",
        "- You can see that there are numerous outliers on both the Male/Female genders around the 200 glucose level.\n",
        "\n",
        "---"
      ],
      "metadata": {
        "id": "wwI7ErigTtqD"
      }
    },
    {
      "cell_type": "markdown",
      "source": [
        "#### **age**"
      ],
      "metadata": {
        "id": "GYkLw_QFexGV"
      }
    },
    {
      "cell_type": "code",
      "source": [
        "sns.boxplot(x='age', data = df_ml);"
      ],
      "metadata": {
        "colab": {
          "base_uri": "https://localhost:8080/",
          "height": 279
        },
        "id": "2jH93jNjT3kt",
        "outputId": "bacd6d6e-3aeb-44dc-da72-77763d418860"
      },
      "execution_count": 32,
      "outputs": [
        {
          "output_type": "display_data",
          "data": {
            "text/plain": [
              "<Figure size 432x288 with 1 Axes>"
            ],
            "image/png": "[encoded data removed]"
          },
          "metadata": {
            "needs_background": "light"
          }
        }
      ]
    },
    {
      "cell_type": "code",
      "source": [
        "print(sns.boxplot(x='age', y='smoking_status', data = df));"
      ],
      "metadata": {
        "colab": {
          "base_uri": "https://localhost:8080/",
          "height": 299
        },
        "id": "Y_4u-6txVPQb",
        "outputId": "06596e80-c75e-4095-9348-782854941c7c"
      },
      "execution_count": 33,
      "outputs": [
        {
          "output_type": "stream",
          "name": "stdout",
          "text": [
            "AxesSubplot(0.125,0.125;0.775x0.755)\n"
          ]
        },
        {
          "output_type": "display_data",
          "data": {
            "text/plain": [
              "<Figure size 432x288 with 1 Axes>"
            ],
            "image/png": "[encoded data removed]"
          },
          "metadata": {
            "needs_background": "light"
          }
        }
      ]
    },
    {
      "cell_type": "markdown",
      "source": [
        "**Base Model**\n",
        "- There are no outliers on the age column on it's own. \n",
        "\n",
        "**Combined Model**\n",
        "- When tracking smoking status based on age. There is a larger majority of people that have formerly smoked around the ages of 40-70.\n",
        "\n",
        "---"
      ],
      "metadata": {
        "id": "lvcBsRRQU4Mh"
      }
    },
    {
      "cell_type": "markdown",
      "source": [
        "#### **hypertension**"
      ],
      "metadata": {
        "id": "1teNQk-TezDt"
      }
    },
    {
      "cell_type": "code",
      "source": [
        "sns.boxplot(x='hypertension', data=df_ml);"
      ],
      "metadata": {
        "colab": {
          "base_uri": "https://localhost:8080/",
          "height": 279
        },
        "id": "tGPSg9z3VkDC",
        "outputId": "52f80c17-38f8-430c-886a-af4069c1ecf4"
      },
      "execution_count": 34,
      "outputs": [
        {
          "output_type": "display_data",
          "data": {
            "text/plain": [
              "<Figure size 432x288 with 1 Axes>"
            ],
            "image/png": "[encoded data removed]"
          },
          "metadata": {
            "needs_background": "light"
          }
        }
      ]
    },
    {
      "cell_type": "code",
      "source": [
        "sns.boxplot(x='hypertension', y='bmi', data=df_ml);"
      ],
      "metadata": {
        "colab": {
          "base_uri": "https://localhost:8080/",
          "height": 279
        },
        "id": "ZO6QGygbVs-5",
        "outputId": "0f50f591-873e-4388-a475-4c9abcd73c7c"
      },
      "execution_count": 35,
      "outputs": [
        {
          "output_type": "display_data",
          "data": {
            "text/plain": [
              "<Figure size 432x288 with 1 Axes>"
            ],
            "image/png": "[encoded data removed]"
          },
          "metadata": {
            "needs_background": "light"
          }
        }
      ]
    },
    {
      "cell_type": "markdown",
      "source": [
        "**Base Model**\n",
        "- In the base boxplot, the only outliers in the hypertension column are 1. Which is for patients that **do have hypertension**.\n",
        "\n",
        "**Combined Model**\n",
        "- In the boxplot that **compares 'hypertension' and 'bmi'**, there are bigger outliers for those that **do have hypertension with a BMI between 55-100**.\n",
        "\n",
        "---"
      ],
      "metadata": {
        "id": "mkVzsy4nVwpN"
      }
    },
    {
      "cell_type": "markdown",
      "source": [
        "#### **heart_disease**"
      ],
      "metadata": {
        "id": "XpbxqPmjZexj"
      }
    },
    {
      "cell_type": "code",
      "source": [
        "sns.boxplot(x='heart_disease', data = df_ml);"
      ],
      "metadata": {
        "colab": {
          "base_uri": "https://localhost:8080/",
          "height": 280
        },
        "id": "X6XGNNJ7WyLC",
        "outputId": "49243ead-72d5-48ae-fdc2-815d1bccc858"
      },
      "execution_count": 36,
      "outputs": [
        {
          "output_type": "display_data",
          "data": {
            "text/plain": [
              "<Figure size 432x288 with 1 Axes>"
            ],
            "image/png": "[encoded data removed]"
          },
          "metadata": {
            "needs_background": "light"
          }
        }
      ]
    },
    {
      "cell_type": "code",
      "source": [
        "sns.boxplot(x='heart_disease', y='avg_glucose_level', data=df_ml);"
      ],
      "metadata": {
        "colab": {
          "base_uri": "https://localhost:8080/",
          "height": 280
        },
        "id": "ytH6bbTLW--0",
        "outputId": "caef79c0-c50b-46c7-b961-f7bbbff73646"
      },
      "execution_count": 37,
      "outputs": [
        {
          "output_type": "display_data",
          "data": {
            "text/plain": [
              "<Figure size 432x288 with 1 Axes>"
            ],
            "image/png": "[encoded data removed]"
          },
          "metadata": {
            "needs_background": "light"
          }
        }
      ]
    },
    {
      "cell_type": "markdown",
      "source": [
        "**Base Model**\n",
        "- In the base boxplot model, the only outliers are for those that do have heart disease.\n",
        "\n",
        "**Combined Model**\n",
        "- In the boxplot comparing heart disease and average glucose level. The only outliers are for patients that **did not have heart disease** & **had an avg. glucose level between 175-250**.\n",
        "\n",
        "---"
      ],
      "metadata": {
        "id": "A6-YsQFiXMJf"
      }
    },
    {
      "cell_type": "markdown",
      "source": [
        "#### **ever_married**"
      ],
      "metadata": {
        "id": "rNTW5dq6Zapx"
      }
    },
    {
      "cell_type": "code",
      "source": [
        "sns.boxplot(x='ever_married', data=df_ml);"
      ],
      "metadata": {
        "colab": {
          "base_uri": "https://localhost:8080/",
          "height": 280
        },
        "id": "WsANw9csX4eL",
        "outputId": "c8c75386-cd89-4a5b-da14-8566fc88160a"
      },
      "execution_count": 38,
      "outputs": [
        {
          "output_type": "display_data",
          "data": {
            "text/plain": [
              "<Figure size 432x288 with 1 Axes>"
            ],
            "image/png": "[encoded data removed]"
          },
          "metadata": {
            "needs_background": "light"
          }
        }
      ]
    },
    {
      "cell_type": "code",
      "source": [
        "sns.boxplot(x='ever_married', y='work_type', data=df_ml);"
      ],
      "metadata": {
        "colab": {
          "base_uri": "https://localhost:8080/",
          "height": 280
        },
        "id": "y70DLradY3kE",
        "outputId": "ab8419a0-439e-43c1-e362-44762b65fb85"
      },
      "execution_count": 39,
      "outputs": [
        {
          "output_type": "display_data",
          "data": {
            "text/plain": [
              "<Figure size 432x288 with 1 Axes>"
            ],
            "image/png": "[encoded data removed]"
          },
          "metadata": {
            "needs_background": "light"
          }
        }
      ]
    },
    {
      "cell_type": "markdown",
      "source": [
        "**Base Model**\n",
        "- In the base boxplot model, there is no outliers present.\n",
        "\n",
        "**Combined Model**\n",
        "- In the boxplot comparing whether a patient was ever married and their work type. The only outliers present are those who **were not married, and worked either a government job, or were self-employed.**\n",
        "\n",
        "---"
      ],
      "metadata": {
        "id": "FTMiNFW4YFeJ"
      }
    },
    {
      "cell_type": "markdown",
      "source": [
        "#### **work_type**"
      ],
      "metadata": {
        "id": "D_3ghckje2Py"
      }
    },
    {
      "cell_type": "code",
      "source": [
        "sns.boxplot(x='work_type', data=df_ml);"
      ],
      "metadata": {
        "colab": {
          "base_uri": "https://localhost:8080/",
          "height": 280
        },
        "id": "wcmql4QuZZuf",
        "outputId": "c41d8d74-d0dc-42a0-ceae-5baa0198f232"
      },
      "execution_count": 40,
      "outputs": [
        {
          "output_type": "display_data",
          "data": {
            "text/plain": [
              "<Figure size 432x288 with 1 Axes>"
            ],
            "image/png": "[encoded data removed]"
          },
          "metadata": {
            "needs_background": "light"
          }
        }
      ]
    },
    {
      "cell_type": "code",
      "source": [
        "df['work_type'].value_counts()"
      ],
      "metadata": {
        "colab": {
          "base_uri": "https://localhost:8080/"
        },
        "id": "YVuUinbEdcAN",
        "outputId": "66648c82-7438-46ef-cda9-30748ee82aca"
      },
      "execution_count": 41,
      "outputs": [
        {
          "output_type": "execute_result",
          "data": {
            "text/plain": [
              "Private          2925\n",
              "Self-employed     819\n",
              "children          687\n",
              "Govt_job          657\n",
              "Never_worked       22\n",
              "Name: work_type, dtype: int64"
            ]
          },
          "metadata": {},
          "execution_count": 41
        }
      ]
    },
    {
      "cell_type": "code",
      "source": [
        "sns.boxplot(x='work_type', y='hypertension', data=df_ml);"
      ],
      "metadata": {
        "colab": {
          "base_uri": "https://localhost:8080/",
          "height": 280
        },
        "id": "60q38RL8dCZx",
        "outputId": "d2b07d01-c3b7-4f95-c6a4-8570ca82c3ab"
      },
      "execution_count": 42,
      "outputs": [
        {
          "output_type": "display_data",
          "data": {
            "text/plain": [
              "<Figure size 432x288 with 1 Axes>"
            ],
            "image/png": "[encoded data removed]"
          },
          "metadata": {
            "needs_background": "light"
          }
        }
      ]
    },
    {
      "cell_type": "markdown",
      "source": [
        "**Base Model**\n",
        "- There are no outliers\n",
        "\n",
        "**Combined Model**\n",
        "- There are outliers for people that **have hypertension** that work in either **the Private Sector (0), Self-employed (1), or work a Government Job (3).**\n",
        "\n",
        "---"
      ],
      "metadata": {
        "id": "ufK-iZqhdQcj"
      }
    },
    {
      "cell_type": "markdown",
      "source": [
        "#### **Residence_type**"
      ],
      "metadata": {
        "id": "VkSCLKF4e5V4"
      }
    },
    {
      "cell_type": "code",
      "source": [
        "sns.boxplot(x='Residence_type', data=df_ml);"
      ],
      "metadata": {
        "colab": {
          "base_uri": "https://localhost:8080/",
          "height": 280
        },
        "id": "gPqEjlPmeaMQ",
        "outputId": "de21261b-f869-4066-ddd9-2787d7034ae2"
      },
      "execution_count": 43,
      "outputs": [
        {
          "output_type": "display_data",
          "data": {
            "text/plain": [
              "<Figure size 432x288 with 1 Axes>"
            ],
            "image/png": "[encoded data removed]"
          },
          "metadata": {
            "needs_background": "light"
          }
        }
      ]
    },
    {
      "cell_type": "code",
      "source": [
        "sns.boxplot(x='Residence_type', y='bmi',\n",
        "            data=df);"
      ],
      "metadata": {
        "colab": {
          "base_uri": "https://localhost:8080/",
          "height": 280
        },
        "id": "3tlOJrdue8cS",
        "outputId": "990d2720-fb3c-4983-e056-409fae3f9924"
      },
      "execution_count": 44,
      "outputs": [
        {
          "output_type": "display_data",
          "data": {
            "text/plain": [
              "<Figure size 432x288 with 1 Axes>"
            ],
            "image/png": "[encoded data removed]"
          },
          "metadata": {
            "needs_background": "light"
          }
        }
      ]
    },
    {
      "cell_type": "markdown",
      "source": [
        "**Base Model**\n",
        "- There are no outliers present in the base model.\n",
        "\n",
        "**Combined Model**\n",
        "- In the combined model comparing Residence type and bmi, there are outliers present in both \"Urban\" and \"Rural\" residencies. But there appears to be more in the 'Rural' residence type.\n",
        "\n",
        "---"
      ],
      "metadata": {
        "id": "EoEf1hbKfLII"
      }
    },
    {
      "cell_type": "markdown",
      "source": [
        "#### **avg_glucose_level**"
      ],
      "metadata": {
        "id": "4BOTGyS-gr_A"
      }
    },
    {
      "cell_type": "code",
      "source": [
        "sns.boxplot(x='avg_glucose_level', data=df_ml);"
      ],
      "metadata": {
        "colab": {
          "base_uri": "https://localhost:8080/",
          "height": 280
        },
        "id": "H-GF8nNsfgZ2",
        "outputId": "9d53b4c2-46c9-4151-a09e-5ef35d425889"
      },
      "execution_count": 45,
      "outputs": [
        {
          "output_type": "display_data",
          "data": {
            "text/plain": [
              "<Figure size 432x288 with 1 Axes>"
            ],
            "image/png": "[encoded data removed]"
          },
          "metadata": {
            "needs_background": "light"
          }
        }
      ]
    },
    {
      "cell_type": "markdown",
      "source": [
        "**Base Model**\n",
        "- There is a massive amount of outliers present after the average glucose level reaches around 160, and stretches past 250.\n",
        "\n",
        "**Combined Model**\n",
        "\n",
        "*The cell did not run properly, so I decided not to include a model at the moment.*\n",
        "\n",
        "---"
      ],
      "metadata": {
        "id": "8fJDGNNngQDA"
      }
    },
    {
      "cell_type": "markdown",
      "source": [
        "#### **bmi**"
      ],
      "metadata": {
        "id": "x-mbXi3FgwF1"
      }
    },
    {
      "cell_type": "code",
      "source": [
        "sns.boxplot(x='bmi', data=df_ml);"
      ],
      "metadata": {
        "colab": {
          "base_uri": "https://localhost:8080/",
          "height": 279
        },
        "id": "qVCxvYGugya2",
        "outputId": "39b9db3e-e658-42d1-ace4-226e67ec9a86"
      },
      "execution_count": 46,
      "outputs": [
        {
          "output_type": "display_data",
          "data": {
            "text/plain": [
              "<Figure size 432x288 with 1 Axes>"
            ],
            "image/png": "[encoded data removed]"
          },
          "metadata": {
            "needs_background": "light"
          }
        }
      ]
    },
    {
      "cell_type": "code",
      "source": [
        "sns.boxplot(x='smoking_status', y='bmi', data=df_ml);"
      ],
      "metadata": {
        "colab": {
          "base_uri": "https://localhost:8080/",
          "height": 280
        },
        "id": "KNFveMtmg2_W",
        "outputId": "63cc8b2b-adbe-4803-ec3c-c0dba96e949e"
      },
      "execution_count": 47,
      "outputs": [
        {
          "output_type": "display_data",
          "data": {
            "text/plain": [
              "<Figure size 432x288 with 1 Axes>"
            ],
            "image/png": "[encoded data removed]"
          },
          "metadata": {
            "needs_background": "light"
          }
        }
      ]
    },
    {
      "cell_type": "markdown",
      "source": [
        "**Base Model**\n",
        "- In the base model, there are outliers present around the bmi mark of 45-50 and stretching to a bmi of 100.\n",
        "\n",
        "**Combined Model**\n",
        "- In the combined model of 'bmi' and 'smoking status', there are outliers present in all the different values of smoking status. These outliers all start around the bmi mark of 45-50.\n",
        "\n",
        "---"
      ],
      "metadata": {
        "id": "RXDaknWwhGZr"
      }
    },
    {
      "cell_type": "markdown",
      "source": [
        "#### **smoking_status**"
      ],
      "metadata": {
        "id": "u7xVW7slhgZi"
      }
    },
    {
      "cell_type": "code",
      "source": [
        "sns.boxplot(x='smoking_status', data=df_ml);"
      ],
      "metadata": {
        "colab": {
          "base_uri": "https://localhost:8080/",
          "height": 280
        },
        "id": "2dmXmtYnhgPA",
        "outputId": "2e0f25c4-c01f-4b09-aa11-6cb8ae92ff43"
      },
      "execution_count": 48,
      "outputs": [
        {
          "output_type": "display_data",
          "data": {
            "text/plain": [
              "<Figure size 432x288 with 1 Axes>"
            ],
            "image/png": "[encoded data removed]"
          },
          "metadata": {
            "needs_background": "light"
          }
        }
      ]
    },
    {
      "cell_type": "code",
      "source": [
        "sns.boxplot(x='smoking_status', y='gender', data=df_ml);"
      ],
      "metadata": {
        "colab": {
          "base_uri": "https://localhost:8080/",
          "height": 280
        },
        "id": "KiJ3lctthfa-",
        "outputId": "f4eec498-6692-4d97-e7bb-3efb2239e1c0"
      },
      "execution_count": 49,
      "outputs": [
        {
          "output_type": "display_data",
          "data": {
            "text/plain": [
              "<Figure size 432x288 with 1 Axes>"
            ],
            "image/png": "[encoded data removed]"
          },
          "metadata": {
            "needs_background": "light"
          }
        }
      ]
    },
    {
      "cell_type": "markdown",
      "source": [
        "**Base Model**\n",
        "- In the base model, there are no outliers present.\n",
        "\n",
        "**Combined Model**\n",
        "- In the combined model of 'smoking_status' and 'gender'. There are no outliers present, but there is only whiskers (**black line**) present in the smoking value of 'formerly smoked'.\n",
        "\n",
        "---"
      ],
      "metadata": {
        "id": "slfcy950h-zf"
      }
    },
    {
      "cell_type": "markdown",
      "source": [
        "#### **stroke**"
      ],
      "metadata": {
        "id": "N7PRVj41ipl6"
      }
    },
    {
      "cell_type": "code",
      "source": [
        "sns.boxplot(x='stroke', data=df_ml);"
      ],
      "metadata": {
        "colab": {
          "base_uri": "https://localhost:8080/",
          "height": 279
        },
        "id": "HTVQzlySipIL",
        "outputId": "92344e1c-0c6b-44c4-b58d-c565fae1e891"
      },
      "execution_count": 50,
      "outputs": [
        {
          "output_type": "display_data",
          "data": {
            "text/plain": [
              "<Figure size 432x288 with 1 Axes>"
            ],
            "image/png": "[encoded data removed]"
          },
          "metadata": {
            "needs_background": "light"
          }
        }
      ]
    },
    {
      "cell_type": "code",
      "source": [
        "sns.boxplot(x='stroke', y='age', data=df_ml);"
      ],
      "metadata": {
        "colab": {
          "base_uri": "https://localhost:8080/",
          "height": 279
        },
        "id": "Cp4JsCFOiw1o",
        "outputId": "b31d0b27-3971-4b36-c67a-b62e40bc1244"
      },
      "execution_count": 51,
      "outputs": [
        {
          "output_type": "display_data",
          "data": {
            "text/plain": [
              "<Figure size 432x288 with 1 Axes>"
            ],
            "image/png": "[encoded data removed]"
          },
          "metadata": {
            "needs_background": "light"
          }
        }
      ]
    },
    {
      "cell_type": "markdown",
      "source": [
        "**Base Model**\n",
        "- There are only outliers present in patients that have had a stroke.\n",
        "\n",
        "**Combined Model**\n",
        "- In the combined model of patients that have had a stroke and patients ages. There are only outliers present in patients that **have had a stroke and are between the ages of 20 and 0.**\n",
        "\n",
        "---"
      ],
      "metadata": {
        "id": "ivNLSUyTi9Lb"
      }
    },
    {
      "cell_type": "markdown",
      "source": [
        "#**Correlation Heatmap of Features and Target**"
      ],
      "metadata": {
        "id": "hLUg0BcOXBY1"
      }
    },
    {
      "cell_type": "code",
      "source": [
        "corr = df_ml.corr()"
      ],
      "metadata": {
        "id": "6VE9OGRVXpJ4"
      },
      "execution_count": 52,
      "outputs": []
    },
    {
      "cell_type": "code",
      "source": [
        "fig, ax = plt.subplots(figsize=(10, 6))\n",
        "\n",
        "sns.heatmap(corr, cmap='Greens', annot=True);"
      ],
      "metadata": {
        "colab": {
          "base_uri": "https://localhost:8080/",
          "height": 459
        },
        "id": "8HQuC-B-Y8B8",
        "outputId": "83a58a1c-cf10-4074-879d-2f9fb565f0a2"
      },
      "execution_count": 53,
      "outputs": [
        {
          "output_type": "display_data",
          "data": {
            "text/plain": [
              "<Figure size 720x432 with 2 Axes>"
            ],
            "image/png": "[encoded data removed]"
          },
          "metadata": {
            "needs_background": "light"
          }
        }
      ]
    },
    {
      "cell_type": "markdown",
      "source": [
        "**Medium Correlations** - There is a medium correlation between a patients' age and whether they've ever been married.\n",
        "\n",
        "**Low Correlations** - There is a low correlation between a patients' age and their bmi. As well as a patients' bmi, and whether they've ever been married.\n",
        "\n",
        "**Target and Features** - There is a **LOW** correlation between a patients' age and whether they've had a stroke."
      ],
      "metadata": {
        "id": "j8aJ978tZO1G"
      }
    },
    {
      "cell_type": "markdown",
      "source": [
        "**LinePlot Visualizations**\n",
        "\n",
        "- **LinePlot 1** - Features *('age' & 'ever_married')*\n",
        "\n",
        "- **LinePlot 2** - Target & Feature *('stroke' & 'age')*"
      ],
      "metadata": {
        "id": "n1HiKhWJaEEQ"
      }
    },
    {
      "cell_type": "markdown",
      "source": [
        "# **Correlation Visualizations**"
      ],
      "metadata": {
        "id": "vycoSKfehJPy"
      }
    },
    {
      "cell_type": "code",
      "source": [
        "sns.lineplot(data=df_ml, x='age', y='ever_married', ci=None)\n",
        "plt.title('Mean Correlation Between Age and Marriage')\n",
        "plt.grid();"
      ],
      "metadata": {
        "colab": {
          "base_uri": "https://localhost:8080/",
          "height": 295
        },
        "id": "YBN_U_PAXE4Q",
        "outputId": "367ad3d6-0638-422a-8bd0-ef814fafc264"
      },
      "execution_count": 73,
      "outputs": [
        {
          "output_type": "display_data",
          "data": {
            "text/plain": [
              "<Figure size 432x288 with 1 Axes>"
            ],
            "image/png": "[encoded data removed]"
          },
          "metadata": {
            "needs_background": "light"
          }
        }
      ]
    },
    {
      "cell_type": "markdown",
      "source": [
        "In the lineplot above we can see that:\n",
        "- People begin to get married around the time they reach 18 years of age.\n",
        "- Around Age 22, there is a 20% chance of people being married.\n",
        "- At Age 25, that goes to 40%.\n",
        "- At Age 30, the percentage is 60%\n",
        "- At Age 40, nearly 80% of people are married.\n",
        "\n",
        "- The age where nearly 100% of people are married is around age 65."
      ],
      "metadata": {
        "id": "EJ7pFJQuhS7B"
      }
    },
    {
      "cell_type": "code",
      "source": [
        "sns.lineplot(data=df_ml, x='age', y='stroke', ci=None)\n",
        "plt.title(\"Mean Correlation Between Stroke and Patients' Age\")\n",
        "plt.grid();"
      ],
      "metadata": {
        "colab": {
          "base_uri": "https://localhost:8080/",
          "height": 295
        },
        "id": "zVU2H4CEflKU",
        "outputId": "2dd184da-ff1d-400b-91c3-3852674302c2"
      },
      "execution_count": 74,
      "outputs": [
        {
          "output_type": "display_data",
          "data": {
            "text/plain": [
              "<Figure size 432x288 with 1 Axes>"
            ],
            "image/png": "[encoded data removed]"
          },
          "metadata": {
            "needs_background": "light"
          }
        }
      ]
    },
    {
      "cell_type": "markdown",
      "source": [
        "In this lineplot above that draws a comparison between a patient's age and their risk of stroke. We can see:\n",
        "- There is an interesting note of infantile stroke that reaches around 12.5%.\n",
        "(According to **Chasa.org:** \"***Risk of stroke is highest in the first year of life and peaks during the perinatal period (a few weeks before and after birth***). [SOURCE](https://chasa.org/medical/pediatric-stroke/)\n",
        "\n",
        "- The age where a person is most at risk of having a stroke is around 80 years of age, where there is a 25% chance.\n",
        "- Infantile stroke probabilities seem to match the probabilities in patients' around 60 years of age.\n"
      ],
      "metadata": {
        "id": "vCXBB5PbhSc6"
      }
    }
  ]
}