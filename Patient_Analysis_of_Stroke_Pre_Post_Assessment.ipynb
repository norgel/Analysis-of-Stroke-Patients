{
  "nbformat": 4,
  "nbformat_minor": 0,
  "metadata": {
    "colab": {
      "provenance": [],
      "authorship_tag": "ABX9TyPj1pCULwe1EXzUrASCgJe6",
      "include_colab_link": true
    },
    "kernelspec": {
      "name": "python3",
      "display_name": "Python 3"
    },
    "language_info": {
      "name": "python"
    }
  },
  "cells": [
    {
      "cell_type": "markdown",
      "metadata": {
        "id": "view-in-github",
        "colab_type": "text"
      },
      "source": [
        "<a href=\"https://colab.research.google.com/github/norgel/Analysis-of-Stroke-Patients/blob/main/Patient_Analysis_of_Stroke_Pre_Post_Assessment.ipynb\" target=\"_parent\"><img src=\"https://colab.research.google.com/assets/colab-badge.svg\" alt=\"Open In Colab\"/></a>"
      ]
    },
    {
      "cell_type": "markdown",
      "source": [
        "Author: Nicholas Orgel\n",
        "\n",
        "Date Started: 11/02/2022\n",
        "\n",
        "Last Editorial Date: 11/17/2022"
      ],
      "metadata": {
        "id": "Ohf3A4yrlaaP"
      }
    },
    {
      "cell_type": "markdown",
      "source": [
        "Dataset Aquired from: https://www.kaggle.com/datasets/fedesoriano/stroke-prediction-dataset\n",
        "\n",
        "- This is a classification dataset that has the task of identifying whether or not a person has had a stroke.\n",
        "---\n",
        "## **Description:**\n",
        "- Excerpt from the dataset description: \"According to the World Health Organization (WHO) stroke is the 2nd leading cause of death globally, responsible for approximately 11% of total deaths. This dataset is used to predict whether a patient is likely to get stroke based on the input parameters like gender, age, various diseases, and smoking status. Each row in the data provides relavant information about the patient.\"\n",
        "\n",
        "---\n",
        "\n",
        "## **Tasks:**\n",
        "\n",
        "- Deleted unnecessay columns.\n",
        "- Deleted duplicate rows.\n",
        "- Identified and addressed missing values.\n",
        "- Identified and corrected inconsistencies in data for categorical values (i.e. Cat, cat, cats).\n",
        "- Produced univariate visuals for the target and all features.\n",
        "- Identified outliers.\n",
        "- Clearly commented all of your cleaning steps and described any decisions you made."
      ],
      "metadata": {
        "id": "j-C0VYM4lhBT"
      }
    },
    {
      "cell_type": "markdown",
      "source": [
        "---\n",
        "\n",
        "#**Data Dictionary**\n",
        "\n",
        "\n",
        "Column Name | Description\n",
        "---|---\n",
        "id | Unique identifier\n",
        "gender| 'Male', 'Female', or 'Other'\n",
        "age| Age of the patient\n",
        "hypertension | 0 if patient doesn't have hypertension, 1 if the patient has hypertension\n",
        "ever_married | 'No' or 'Yes'\n",
        "work_type | 'children', 'govt_job', 'never_worked', 'private', or 'self-employed'\n",
        "Residence_type | 'Rural' or 'Urban'\n",
        "avg_glucose_level | average glucose level in blood\n",
        "bmi | body mass index\n",
        "smoking_status | 'formerly smoke', 'never smoked', 'smokes', or 'unknown'\n",
        "stroke | 1 if the patient had a stroke or 0 if not"
      ],
      "metadata": {
        "id": "EIxTBkYNFfT8"
      }
    },
    {
      "cell_type": "markdown",
      "source": [
        "## **Import Libraries**"
      ],
      "metadata": {
        "id": "zujcToepv2-y"
      }
    },
    {
      "cell_type": "code",
      "source": [
        "# Main Libraries\n",
        "import pandas as pd\n",
        "import numpy as np\n",
        "import matplotlib.pyplot as plt\n",
        "import seaborn as sns\n",
        "\n",
        "# sklearn packages\n",
        "from sklearn.model_selection import train_test_split\n",
        "from sklearn.compose import make_column_selector, make_column_transformer\n",
        "from sklearn.pipeline import make_pipeline\n",
        "from sklearn.impute import SimpleImputer\n",
        "from sklearn.preprocessing import StandardScaler, OneHotEncoder\n",
        "from imblearn.over_sampling import SMOTE\n",
        "from imblearn.pipeline import make_pipeline as smote_pipe\n",
        "\n",
        "\n",
        "from sklearn.linear_model import LogisticRegression\n",
        "from sklearn.neighbors import KNeighborsClassifier\n",
        "from sklearn.tree import DecisionTreeClassifier\n",
        "from sklearn.ensemble import RandomForestClassifier, GradientBoostingClassifier\n",
        "from xgboost import XGBClassifier\n",
        "from sklearn.ensemble import AdaBoostClassifier\n",
        "from lightgbm import LGBMClassifier\n",
        "\n",
        "from sklearn.metrics import accuracy_score, ConfusionMatrixDisplay, precision_score, recall_score, f1_score, classification_report\n",
        "\n",
        "from sklearn.model_selection import GridSearchCV\n",
        "from sklearn.decomposition import PCA\n",
        "\n",
        "import warnings\n",
        "warnings.filterwarnings('ignore')\n",
        "\n",
        "# Pipeline Display\n",
        "from sklearn import set_config\n",
        "set_config(display='diagram')"
      ],
      "metadata": {
        "id": "EgLD7x7Gpw6T"
      },
      "execution_count": 1,
      "outputs": []
    },
    {
      "cell_type": "markdown",
      "source": [
        "## **Load Dataset Head**"
      ],
      "metadata": {
        "id": "LYV9dFBAv7oG"
      }
    },
    {
      "cell_type": "code",
      "execution_count": 2,
      "metadata": {
        "colab": {
          "base_uri": "https://localhost:8080/",
          "height": 221
        },
        "id": "6es6Au5alU4x",
        "outputId": "8b658096-f51e-4899-f5fd-24eb1d56a288"
      },
      "outputs": [
        {
          "output_type": "execute_result",
          "data": {
            "text/plain": [
              "      id  gender   age  hypertension  heart_disease ever_married  \\\n",
              "0   9046    Male  67.0             0              1          Yes   \n",
              "1  51676  Female  61.0             0              0          Yes   \n",
              "2  31112    Male  80.0             0              1          Yes   \n",
              "3  60182  Female  49.0             0              0          Yes   \n",
              "4   1665  Female  79.0             1              0          Yes   \n",
              "\n",
              "       work_type Residence_type  avg_glucose_level   bmi   smoking_status  \\\n",
              "0        Private          Urban             228.69  36.6  formerly smoked   \n",
              "1  Self-employed          Rural             202.21   NaN     never smoked   \n",
              "2        Private          Rural             105.92  32.5     never smoked   \n",
              "3        Private          Urban             171.23  34.4           smokes   \n",
              "4  Self-employed          Rural             174.12  24.0     never smoked   \n",
              "\n",
              "   stroke  \n",
              "0       1  \n",
              "1       1  \n",
              "2       1  \n",
              "3       1  \n",
              "4       1  "
            ],
            "text/html": [
              "\n",
              "  <div id=\"df-07b530e9-6d9b-4886-9e98-88965e45e718\">\n",
              "    <div class=\"colab-df-container\">\n",
              "      <div>\n",
              "<style scoped>\n",
              "    .dataframe tbody tr th:only-of-type {\n",
              "        vertical-align: middle;\n",
              "    }\n",
              "\n",
              "    .dataframe tbody tr th {\n",
              "        vertical-align: top;\n",
              "    }\n",
              "\n",
              "    .dataframe thead th {\n",
              "        text-align: right;\n",
              "    }\n",
              "</style>\n",
              "<table border=\"1\" class=\"dataframe\">\n",
              "  <thead>\n",
              "    <tr style=\"text-align: right;\">\n",
              "      <th></th>\n",
              "      <th>id</th>\n",
              "      <th>gender</th>\n",
              "      <th>age</th>\n",
              "      <th>hypertension</th>\n",
              "      <th>heart_disease</th>\n",
              "      <th>ever_married</th>\n",
              "      <th>work_type</th>\n",
              "      <th>Residence_type</th>\n",
              "      <th>avg_glucose_level</th>\n",
              "      <th>bmi</th>\n",
              "      <th>smoking_status</th>\n",
              "      <th>stroke</th>\n",
              "    </tr>\n",
              "  </thead>\n",
              "  <tbody>\n",
              "    <tr>\n",
              "      <th>0</th>\n",
              "      <td>9046</td>\n",
              "      <td>Male</td>\n",
              "      <td>67.0</td>\n",
              "      <td>0</td>\n",
              "      <td>1</td>\n",
              "      <td>Yes</td>\n",
              "      <td>Private</td>\n",
              "      <td>Urban</td>\n",
              "      <td>228.69</td>\n",
              "      <td>36.6</td>\n",
              "      <td>formerly smoked</td>\n",
              "      <td>1</td>\n",
              "    </tr>\n",
              "    <tr>\n",
              "      <th>1</th>\n",
              "      <td>51676</td>\n",
              "      <td>Female</td>\n",
              "      <td>61.0</td>\n",
              "      <td>0</td>\n",
              "      <td>0</td>\n",
              "      <td>Yes</td>\n",
              "      <td>Self-employed</td>\n",
              "      <td>Rural</td>\n",
              "      <td>202.21</td>\n",
              "      <td>NaN</td>\n",
              "      <td>never smoked</td>\n",
              "      <td>1</td>\n",
              "    </tr>\n",
              "    <tr>\n",
              "      <th>2</th>\n",
              "      <td>31112</td>\n",
              "      <td>Male</td>\n",
              "      <td>80.0</td>\n",
              "      <td>0</td>\n",
              "      <td>1</td>\n",
              "      <td>Yes</td>\n",
              "      <td>Private</td>\n",
              "      <td>Rural</td>\n",
              "      <td>105.92</td>\n",
              "      <td>32.5</td>\n",
              "      <td>never smoked</td>\n",
              "      <td>1</td>\n",
              "    </tr>\n",
              "    <tr>\n",
              "      <th>3</th>\n",
              "      <td>60182</td>\n",
              "      <td>Female</td>\n",
              "      <td>49.0</td>\n",
              "      <td>0</td>\n",
              "      <td>0</td>\n",
              "      <td>Yes</td>\n",
              "      <td>Private</td>\n",
              "      <td>Urban</td>\n",
              "      <td>171.23</td>\n",
              "      <td>34.4</td>\n",
              "      <td>smokes</td>\n",
              "      <td>1</td>\n",
              "    </tr>\n",
              "    <tr>\n",
              "      <th>4</th>\n",
              "      <td>1665</td>\n",
              "      <td>Female</td>\n",
              "      <td>79.0</td>\n",
              "      <td>1</td>\n",
              "      <td>0</td>\n",
              "      <td>Yes</td>\n",
              "      <td>Self-employed</td>\n",
              "      <td>Rural</td>\n",
              "      <td>174.12</td>\n",
              "      <td>24.0</td>\n",
              "      <td>never smoked</td>\n",
              "      <td>1</td>\n",
              "    </tr>\n",
              "  </tbody>\n",
              "</table>\n",
              "</div>\n",
              "      <button class=\"colab-df-convert\" onclick=\"convertToInteractive('df-07b530e9-6d9b-4886-9e98-88965e45e718')\"\n",
              "              title=\"Convert this dataframe to an interactive table.\"\n",
              "              style=\"display:none;\">\n",
              "        \n",
              "  <svg xmlns=\"http://www.w3.org/2000/svg\" height=\"24px\"viewBox=\"0 0 24 24\"\n",
              "       width=\"24px\">\n",
              "    <path d=\"M0 0h24v24H0V0z\" fill=\"none\"/>\n",
              "    <path d=\"M18.56 5.44l.94 2.06.94-2.06 2.06-.94-2.06-.94-.94-2.06-.94 2.06-2.06.94zm-11 1L8.5 8.5l.94-2.06 2.06-.94-2.06-.94L8.5 2.5l-.94 2.06-2.06.94zm10 10l.94 2.06.94-2.06 2.06-.94-2.06-.94-.94-2.06-.94 2.06-2.06.94z\"/><path d=\"M17.41 7.96l-1.37-1.37c-.4-.4-.92-.59-1.43-.59-.52 0-1.04.2-1.43.59L10.3 9.45l-7.72 7.72c-.78.78-.78 2.05 0 2.83L4 21.41c.39.39.9.59 1.41.59.51 0 1.02-.2 1.41-.59l7.78-7.78 2.81-2.81c.8-.78.8-2.07 0-2.86zM5.41 20L4 18.59l7.72-7.72 1.47 1.35L5.41 20z\"/>\n",
              "  </svg>\n",
              "      </button>\n",
              "      \n",
              "  <style>\n",
              "    .colab-df-container {\n",
              "      display:flex;\n",
              "      flex-wrap:wrap;\n",
              "      gap: 12px;\n",
              "    }\n",
              "\n",
              "    .colab-df-convert {\n",
              "      background-color: #E8F0FE;\n",
              "      border: none;\n",
              "      border-radius: 50%;\n",
              "      cursor: pointer;\n",
              "      display: none;\n",
              "      fill: #1967D2;\n",
              "      height: 32px;\n",
              "      padding: 0 0 0 0;\n",
              "      width: 32px;\n",
              "    }\n",
              "\n",
              "    .colab-df-convert:hover {\n",
              "      background-color: #E2EBFA;\n",
              "      box-shadow: 0px 1px 2px rgba(60, 64, 67, 0.3), 0px 1px 3px 1px rgba(60, 64, 67, 0.15);\n",
              "      fill: #174EA6;\n",
              "    }\n",
              "\n",
              "    [theme=dark] .colab-df-convert {\n",
              "      background-color: #3B4455;\n",
              "      fill: #D2E3FC;\n",
              "    }\n",
              "\n",
              "    [theme=dark] .colab-df-convert:hover {\n",
              "      background-color: #434B5C;\n",
              "      box-shadow: 0px 1px 3px 1px rgba(0, 0, 0, 0.15);\n",
              "      filter: drop-shadow(0px 1px 2px rgba(0, 0, 0, 0.3));\n",
              "      fill: #FFFFFF;\n",
              "    }\n",
              "  </style>\n",
              "\n",
              "      <script>\n",
              "        const buttonEl =\n",
              "          document.querySelector('#df-07b530e9-6d9b-4886-9e98-88965e45e718 button.colab-df-convert');\n",
              "        buttonEl.style.display =\n",
              "          google.colab.kernel.accessAllowed ? 'block' : 'none';\n",
              "\n",
              "        async function convertToInteractive(key) {\n",
              "          const element = document.querySelector('#df-07b530e9-6d9b-4886-9e98-88965e45e718');\n",
              "          const dataTable =\n",
              "            await google.colab.kernel.invokeFunction('convertToInteractive',\n",
              "                                                     [key], {});\n",
              "          if (!dataTable) return;\n",
              "\n",
              "          const docLinkHtml = 'Like what you see? Visit the ' +\n",
              "            '<a target=\"_blank\" href=https://colab.research.google.com/notebooks/data_table.ipynb>data table notebook</a>'\n",
              "            + ' to learn more about interactive tables.';\n",
              "          element.innerHTML = '';\n",
              "          dataTable['output_type'] = 'display_data';\n",
              "          await google.colab.output.renderOutput(dataTable, element);\n",
              "          const docLink = document.createElement('div');\n",
              "          docLink.innerHTML = docLinkHtml;\n",
              "          element.appendChild(docLink);\n",
              "        }\n",
              "      </script>\n",
              "    </div>\n",
              "  </div>\n",
              "  "
            ]
          },
          "metadata": {},
          "execution_count": 2
        }
      ],
      "source": [
        "# Load the baseline dataset\n",
        "data = '/content/healthcare-dataset-stroke-data.csv'\n",
        "df = pd.read_csv(data)\n",
        "df.head()"
      ]
    },
    {
      "cell_type": "code",
      "source": [
        "# Showing names of columns and shape of dataset\n",
        "display(df.columns)\n",
        "print(df.shape)"
      ],
      "metadata": {
        "colab": {
          "base_uri": "https://localhost:8080/",
          "height": 116
        },
        "id": "19dw0YcPrJ79",
        "outputId": "ccaf285e-2c3a-4f09-a742-dc5586c072c6"
      },
      "execution_count": 3,
      "outputs": [
        {
          "output_type": "display_data",
          "data": {
            "text/plain": [
              "Index(['id', 'gender', 'age', 'hypertension', 'heart_disease', 'ever_married',\n",
              "       'work_type', 'Residence_type', 'avg_glucose_level', 'bmi',\n",
              "       'smoking_status', 'stroke'],\n",
              "      dtype='object')"
            ]
          },
          "metadata": {}
        },
        {
          "output_type": "stream",
          "name": "stdout",
          "text": [
            "(5110, 12)\n"
          ]
        }
      ]
    },
    {
      "cell_type": "markdown",
      "source": [
        "This is the list of columns that are present in the dataset. In my opinion, the 'id' column is not needed because it is vague and not categorized in a way that can be compared to the other columns.\n",
        "\n",
        "In the current dataset that is present, there is `5,110 rows and 12 columns`. This will be reduced to 11 columns because `'id'` is an unnecessary column.\n",
        "\n",
        "---\n",
        "\n",
        "I will make a copy of the data in order to enact all the changes.\n",
        "\n",
        "### **Data Copy**"
      ],
      "metadata": {
        "id": "BPvpFKPXrOgu"
      }
    },
    {
      "cell_type": "code",
      "source": [
        "# Make a copy of the base dataset that is used for changes.\n",
        "exp_df = df.copy()\n",
        "ml_df = df.copy()"
      ],
      "metadata": {
        "id": "AUmStjZHrfnA"
      },
      "execution_count": 4,
      "outputs": []
    },
    {
      "cell_type": "code",
      "source": [
        "# Delete the unnecessary 'id' column from both copies of the original dataset (exp_df & ml_df)\n",
        "exp_df = exp_df.drop(columns='id', axis=1)\n",
        "ml_df = ml_df.drop(columns='id', axis=1)\n",
        "exp_df.head()"
      ],
      "metadata": {
        "colab": {
          "base_uri": "https://localhost:8080/",
          "height": 221
        },
        "id": "D_xkoqvBrqHT",
        "outputId": "203277c9-e4f9-4547-bd9a-04daf368b9f9"
      },
      "execution_count": 5,
      "outputs": [
        {
          "output_type": "execute_result",
          "data": {
            "text/plain": [
              "   gender   age  hypertension  heart_disease ever_married      work_type  \\\n",
              "0    Male  67.0             0              1          Yes        Private   \n",
              "1  Female  61.0             0              0          Yes  Self-employed   \n",
              "2    Male  80.0             0              1          Yes        Private   \n",
              "3  Female  49.0             0              0          Yes        Private   \n",
              "4  Female  79.0             1              0          Yes  Self-employed   \n",
              "\n",
              "  Residence_type  avg_glucose_level   bmi   smoking_status  stroke  \n",
              "0          Urban             228.69  36.6  formerly smoked       1  \n",
              "1          Rural             202.21   NaN     never smoked       1  \n",
              "2          Rural             105.92  32.5     never smoked       1  \n",
              "3          Urban             171.23  34.4           smokes       1  \n",
              "4          Rural             174.12  24.0     never smoked       1  "
            ],
            "text/html": [
              "\n",
              "  <div id=\"df-d2609459-5202-4b6d-9361-285f85e3c6e0\">\n",
              "    <div class=\"colab-df-container\">\n",
              "      <div>\n",
              "<style scoped>\n",
              "    .dataframe tbody tr th:only-of-type {\n",
              "        vertical-align: middle;\n",
              "    }\n",
              "\n",
              "    .dataframe tbody tr th {\n",
              "        vertical-align: top;\n",
              "    }\n",
              "\n",
              "    .dataframe thead th {\n",
              "        text-align: right;\n",
              "    }\n",
              "</style>\n",
              "<table border=\"1\" class=\"dataframe\">\n",
              "  <thead>\n",
              "    <tr style=\"text-align: right;\">\n",
              "      <th></th>\n",
              "      <th>gender</th>\n",
              "      <th>age</th>\n",
              "      <th>hypertension</th>\n",
              "      <th>heart_disease</th>\n",
              "      <th>ever_married</th>\n",
              "      <th>work_type</th>\n",
              "      <th>Residence_type</th>\n",
              "      <th>avg_glucose_level</th>\n",
              "      <th>bmi</th>\n",
              "      <th>smoking_status</th>\n",
              "      <th>stroke</th>\n",
              "    </tr>\n",
              "  </thead>\n",
              "  <tbody>\n",
              "    <tr>\n",
              "      <th>0</th>\n",
              "      <td>Male</td>\n",
              "      <td>67.0</td>\n",
              "      <td>0</td>\n",
              "      <td>1</td>\n",
              "      <td>Yes</td>\n",
              "      <td>Private</td>\n",
              "      <td>Urban</td>\n",
              "      <td>228.69</td>\n",
              "      <td>36.6</td>\n",
              "      <td>formerly smoked</td>\n",
              "      <td>1</td>\n",
              "    </tr>\n",
              "    <tr>\n",
              "      <th>1</th>\n",
              "      <td>Female</td>\n",
              "      <td>61.0</td>\n",
              "      <td>0</td>\n",
              "      <td>0</td>\n",
              "      <td>Yes</td>\n",
              "      <td>Self-employed</td>\n",
              "      <td>Rural</td>\n",
              "      <td>202.21</td>\n",
              "      <td>NaN</td>\n",
              "      <td>never smoked</td>\n",
              "      <td>1</td>\n",
              "    </tr>\n",
              "    <tr>\n",
              "      <th>2</th>\n",
              "      <td>Male</td>\n",
              "      <td>80.0</td>\n",
              "      <td>0</td>\n",
              "      <td>1</td>\n",
              "      <td>Yes</td>\n",
              "      <td>Private</td>\n",
              "      <td>Rural</td>\n",
              "      <td>105.92</td>\n",
              "      <td>32.5</td>\n",
              "      <td>never smoked</td>\n",
              "      <td>1</td>\n",
              "    </tr>\n",
              "    <tr>\n",
              "      <th>3</th>\n",
              "      <td>Female</td>\n",
              "      <td>49.0</td>\n",
              "      <td>0</td>\n",
              "      <td>0</td>\n",
              "      <td>Yes</td>\n",
              "      <td>Private</td>\n",
              "      <td>Urban</td>\n",
              "      <td>171.23</td>\n",
              "      <td>34.4</td>\n",
              "      <td>smokes</td>\n",
              "      <td>1</td>\n",
              "    </tr>\n",
              "    <tr>\n",
              "      <th>4</th>\n",
              "      <td>Female</td>\n",
              "      <td>79.0</td>\n",
              "      <td>1</td>\n",
              "      <td>0</td>\n",
              "      <td>Yes</td>\n",
              "      <td>Self-employed</td>\n",
              "      <td>Rural</td>\n",
              "      <td>174.12</td>\n",
              "      <td>24.0</td>\n",
              "      <td>never smoked</td>\n",
              "      <td>1</td>\n",
              "    </tr>\n",
              "  </tbody>\n",
              "</table>\n",
              "</div>\n",
              "      <button class=\"colab-df-convert\" onclick=\"convertToInteractive('df-d2609459-5202-4b6d-9361-285f85e3c6e0')\"\n",
              "              title=\"Convert this dataframe to an interactive table.\"\n",
              "              style=\"display:none;\">\n",
              "        \n",
              "  <svg xmlns=\"http://www.w3.org/2000/svg\" height=\"24px\"viewBox=\"0 0 24 24\"\n",
              "       width=\"24px\">\n",
              "    <path d=\"M0 0h24v24H0V0z\" fill=\"none\"/>\n",
              "    <path d=\"M18.56 5.44l.94 2.06.94-2.06 2.06-.94-2.06-.94-.94-2.06-.94 2.06-2.06.94zm-11 1L8.5 8.5l.94-2.06 2.06-.94-2.06-.94L8.5 2.5l-.94 2.06-2.06.94zm10 10l.94 2.06.94-2.06 2.06-.94-2.06-.94-.94-2.06-.94 2.06-2.06.94z\"/><path d=\"M17.41 7.96l-1.37-1.37c-.4-.4-.92-.59-1.43-.59-.52 0-1.04.2-1.43.59L10.3 9.45l-7.72 7.72c-.78.78-.78 2.05 0 2.83L4 21.41c.39.39.9.59 1.41.59.51 0 1.02-.2 1.41-.59l7.78-7.78 2.81-2.81c.8-.78.8-2.07 0-2.86zM5.41 20L4 18.59l7.72-7.72 1.47 1.35L5.41 20z\"/>\n",
              "  </svg>\n",
              "      </button>\n",
              "      \n",
              "  <style>\n",
              "    .colab-df-container {\n",
              "      display:flex;\n",
              "      flex-wrap:wrap;\n",
              "      gap: 12px;\n",
              "    }\n",
              "\n",
              "    .colab-df-convert {\n",
              "      background-color: #E8F0FE;\n",
              "      border: none;\n",
              "      border-radius: 50%;\n",
              "      cursor: pointer;\n",
              "      display: none;\n",
              "      fill: #1967D2;\n",
              "      height: 32px;\n",
              "      padding: 0 0 0 0;\n",
              "      width: 32px;\n",
              "    }\n",
              "\n",
              "    .colab-df-convert:hover {\n",
              "      background-color: #E2EBFA;\n",
              "      box-shadow: 0px 1px 2px rgba(60, 64, 67, 0.3), 0px 1px 3px 1px rgba(60, 64, 67, 0.15);\n",
              "      fill: #174EA6;\n",
              "    }\n",
              "\n",
              "    [theme=dark] .colab-df-convert {\n",
              "      background-color: #3B4455;\n",
              "      fill: #D2E3FC;\n",
              "    }\n",
              "\n",
              "    [theme=dark] .colab-df-convert:hover {\n",
              "      background-color: #434B5C;\n",
              "      box-shadow: 0px 1px 3px 1px rgba(0, 0, 0, 0.15);\n",
              "      filter: drop-shadow(0px 1px 2px rgba(0, 0, 0, 0.3));\n",
              "      fill: #FFFFFF;\n",
              "    }\n",
              "  </style>\n",
              "\n",
              "      <script>\n",
              "        const buttonEl =\n",
              "          document.querySelector('#df-d2609459-5202-4b6d-9361-285f85e3c6e0 button.colab-df-convert');\n",
              "        buttonEl.style.display =\n",
              "          google.colab.kernel.accessAllowed ? 'block' : 'none';\n",
              "\n",
              "        async function convertToInteractive(key) {\n",
              "          const element = document.querySelector('#df-d2609459-5202-4b6d-9361-285f85e3c6e0');\n",
              "          const dataTable =\n",
              "            await google.colab.kernel.invokeFunction('convertToInteractive',\n",
              "                                                     [key], {});\n",
              "          if (!dataTable) return;\n",
              "\n",
              "          const docLinkHtml = 'Like what you see? Visit the ' +\n",
              "            '<a target=\"_blank\" href=https://colab.research.google.com/notebooks/data_table.ipynb>data table notebook</a>'\n",
              "            + ' to learn more about interactive tables.';\n",
              "          element.innerHTML = '';\n",
              "          dataTable['output_type'] = 'display_data';\n",
              "          await google.colab.output.renderOutput(dataTable, element);\n",
              "          const docLink = document.createElement('div');\n",
              "          docLink.innerHTML = docLinkHtml;\n",
              "          element.appendChild(docLink);\n",
              "        }\n",
              "      </script>\n",
              "    </div>\n",
              "  </div>\n",
              "  "
            ]
          },
          "metadata": {},
          "execution_count": 5
        }
      ]
    },
    {
      "cell_type": "code",
      "source": [
        "# Checking for duplicates in the dataset\n",
        "exp_df.duplicated().sum()"
      ],
      "metadata": {
        "colab": {
          "base_uri": "https://localhost:8080/"
        },
        "id": "Z6LCnTVusbj4",
        "outputId": "03f90a46-c0fc-4d2b-e5bd-3383ffc4f4b3"
      },
      "execution_count": 6,
      "outputs": [
        {
          "output_type": "execute_result",
          "data": {
            "text/plain": [
              "0"
            ]
          },
          "metadata": {},
          "execution_count": 6
        }
      ]
    },
    {
      "cell_type": "code",
      "source": [
        "# Checking for missing values in the dataset\n",
        "exp_df.isna().sum()"
      ],
      "metadata": {
        "colab": {
          "base_uri": "https://localhost:8080/"
        },
        "id": "AZm8Pa_Bsuyw",
        "outputId": "a7347f1f-96bd-4713-92fc-bb909b79502d"
      },
      "execution_count": 7,
      "outputs": [
        {
          "output_type": "execute_result",
          "data": {
            "text/plain": [
              "gender                 0\n",
              "age                    0\n",
              "hypertension           0\n",
              "heart_disease          0\n",
              "ever_married           0\n",
              "work_type              0\n",
              "Residence_type         0\n",
              "avg_glucose_level      0\n",
              "bmi                  201\n",
              "smoking_status         0\n",
              "stroke                 0\n",
              "dtype: int64"
            ]
          },
          "metadata": {},
          "execution_count": 7
        }
      ]
    },
    {
      "cell_type": "markdown",
      "source": [
        "There are **no duplicates** present in the dataset, but there is **201 missing values in the 'bmi'** column."
      ],
      "metadata": {
        "id": "gprqafphsh9m"
      }
    },
    {
      "cell_type": "code",
      "source": [
        "# Checking the datatypes present\n",
        "exp_df.info()"
      ],
      "metadata": {
        "colab": {
          "base_uri": "https://localhost:8080/"
        },
        "id": "YIf8JrhauNAX",
        "outputId": "1cc09cbc-95d0-4cd4-d891-3c33e485ed15"
      },
      "execution_count": 8,
      "outputs": [
        {
          "output_type": "stream",
          "name": "stdout",
          "text": [
            "<class 'pandas.core.frame.DataFrame'>\n",
            "RangeIndex: 5110 entries, 0 to 5109\n",
            "Data columns (total 11 columns):\n",
            " #   Column             Non-Null Count  Dtype  \n",
            "---  ------             --------------  -----  \n",
            " 0   gender             5110 non-null   object \n",
            " 1   age                5110 non-null   float64\n",
            " 2   hypertension       5110 non-null   int64  \n",
            " 3   heart_disease      5110 non-null   int64  \n",
            " 4   ever_married       5110 non-null   object \n",
            " 5   work_type          5110 non-null   object \n",
            " 6   Residence_type     5110 non-null   object \n",
            " 7   avg_glucose_level  5110 non-null   float64\n",
            " 8   bmi                4909 non-null   float64\n",
            " 9   smoking_status     5110 non-null   object \n",
            " 10  stroke             5110 non-null   int64  \n",
            "dtypes: float64(3), int64(3), object(5)\n",
            "memory usage: 439.3+ KB\n"
          ]
        }
      ]
    },
    {
      "cell_type": "markdown",
      "source": [
        "There is **3 float datatypes**, **3 integer datatypes**, and **5 object datatypes**.\n",
        "\n",
        "---"
      ],
      "metadata": {
        "id": "JjUZA9h7vyI4"
      }
    },
    {
      "cell_type": "markdown",
      "source": [
        "### **Identify Categorical Values**"
      ],
      "metadata": {
        "id": "IG1w5xZ7sJlJ"
      }
    },
    {
      "cell_type": "code",
      "source": [
        "# Identifying values for gender column\n",
        "exp_df['gender'].value_counts()"
      ],
      "metadata": {
        "colab": {
          "base_uri": "https://localhost:8080/"
        },
        "id": "Mrlt9OknsHm6",
        "outputId": "066b97a2-077d-4e84-b7b4-a254f550a993"
      },
      "execution_count": 9,
      "outputs": [
        {
          "output_type": "execute_result",
          "data": {
            "text/plain": [
              "Female    2994\n",
              "Male      2115\n",
              "Other        1\n",
              "Name: gender, dtype: int64"
            ]
          },
          "metadata": {},
          "execution_count": 9
        }
      ]
    },
    {
      "cell_type": "code",
      "source": [
        "# Removing 'Other' from gender column\n",
        "exp_df = exp_df[~(exp_df['gender']=='Other')]"
      ],
      "metadata": {
        "id": "eq-kfArTZ0iP"
      },
      "execution_count": 10,
      "outputs": []
    },
    {
      "cell_type": "code",
      "source": [
        "# Ordinal Encoding\n",
        "exp_df['gender'].replace({'Female': 0,\n",
        "                         'Male': 1}, inplace=True)"
      ],
      "metadata": {
        "id": "BouapZSyZ3gD"
      },
      "execution_count": 11,
      "outputs": []
    },
    {
      "cell_type": "code",
      "source": [
        "exp_df['gender'].value_counts()"
      ],
      "metadata": {
        "colab": {
          "base_uri": "https://localhost:8080/"
        },
        "id": "A8itAm5Naug-",
        "outputId": "2b6d1825-555d-4b68-a699-b0ce86edc2ea"
      },
      "execution_count": 12,
      "outputs": [
        {
          "output_type": "execute_result",
          "data": {
            "text/plain": [
              "0    2994\n",
              "1    2115\n",
              "Name: gender, dtype: int64"
            ]
          },
          "metadata": {},
          "execution_count": 12
        }
      ]
    },
    {
      "cell_type": "markdown",
      "source": [
        "There seems to be no inconsistencies with this column.\n",
        "\n",
        "---"
      ],
      "metadata": {
        "id": "KKhMITBisUbV"
      }
    },
    {
      "cell_type": "code",
      "source": [
        "exp_df['age'].value_counts()"
      ],
      "metadata": {
        "colab": {
          "base_uri": "https://localhost:8080/"
        },
        "id": "mTNPnwj_sYW5",
        "outputId": "d48ac8a0-b460-4d98-9cbe-fbee727829db"
      },
      "execution_count": 13,
      "outputs": [
        {
          "output_type": "execute_result",
          "data": {
            "text/plain": [
              "78.00    102\n",
              "57.00     95\n",
              "52.00     90\n",
              "54.00     87\n",
              "51.00     86\n",
              "        ... \n",
              "1.40       3\n",
              "0.48       3\n",
              "0.16       3\n",
              "0.40       2\n",
              "0.08       2\n",
              "Name: age, Length: 104, dtype: int64"
            ]
          },
          "metadata": {},
          "execution_count": 13
        }
      ]
    },
    {
      "cell_type": "markdown",
      "source": [
        "There is a lot of inconsistencies and outliers in this data column. It can be better visualized in a boxplot.\n",
        "\n",
        "Some values, like **0.08 do not make sense**, this would make sense if it were 8.00 years of age.\n",
        "\n",
        "---"
      ],
      "metadata": {
        "id": "g3h5F9LJsmO_"
      }
    },
    {
      "cell_type": "code",
      "source": [
        "exp_df['hypertension'].value_counts()"
      ],
      "metadata": {
        "colab": {
          "base_uri": "https://localhost:8080/"
        },
        "id": "YjGFXrd5tFxO",
        "outputId": "fd2108e0-75cb-4ab8-a7ab-b392a93334d1"
      },
      "execution_count": 14,
      "outputs": [
        {
          "output_type": "execute_result",
          "data": {
            "text/plain": [
              "0    4611\n",
              "1     498\n",
              "Name: hypertension, dtype: int64"
            ]
          },
          "metadata": {},
          "execution_count": 14
        }
      ]
    },
    {
      "cell_type": "markdown",
      "source": [
        "There is no visible inconsistencies.\n",
        "- 0 means the patient **does not have** hypertension.\n",
        "- 1 means the patient **has** hypertension.\n",
        "---"
      ],
      "metadata": {
        "id": "E02_uBrRtMvm"
      }
    },
    {
      "cell_type": "code",
      "source": [
        "exp_df['heart_disease'].value_counts()"
      ],
      "metadata": {
        "colab": {
          "base_uri": "https://localhost:8080/"
        },
        "id": "Gy01pI52tWvS",
        "outputId": "15ff867e-881f-40fb-ac5a-921274bcc056"
      },
      "execution_count": 15,
      "outputs": [
        {
          "output_type": "execute_result",
          "data": {
            "text/plain": [
              "0    4833\n",
              "1     276\n",
              "Name: heart_disease, dtype: int64"
            ]
          },
          "metadata": {},
          "execution_count": 15
        }
      ]
    },
    {
      "cell_type": "markdown",
      "source": [
        "There is no visible inconsistencies.\n",
        "- 0 means the patient **does not have** heart disease.\n",
        "- 1 means the patient **has** heart disease.\n",
        "---"
      ],
      "metadata": {
        "id": "qQxRKqYotb45"
      }
    },
    {
      "cell_type": "code",
      "source": [
        "exp_df['ever_married'].value_counts()"
      ],
      "metadata": {
        "colab": {
          "base_uri": "https://localhost:8080/"
        },
        "id": "dgPUmUptty_w",
        "outputId": "631947e8-ba46-4275-a16c-665fe7547b5c"
      },
      "execution_count": 16,
      "outputs": [
        {
          "output_type": "execute_result",
          "data": {
            "text/plain": [
              "Yes    3353\n",
              "No     1756\n",
              "Name: ever_married, dtype: int64"
            ]
          },
          "metadata": {},
          "execution_count": 16
        }
      ]
    },
    {
      "cell_type": "code",
      "source": [
        "exp_df['ever_married'].replace({'Yes':1, 'No':0}, inplace=True)"
      ],
      "metadata": {
        "id": "2Si3-mj3YNCO"
      },
      "execution_count": 17,
      "outputs": []
    },
    {
      "cell_type": "code",
      "source": [
        "exp_df['ever_married'].value_counts()"
      ],
      "metadata": {
        "colab": {
          "base_uri": "https://localhost:8080/"
        },
        "id": "BM4L1dBkcWn2",
        "outputId": "9b200d8b-c938-4d2a-dab5-63b8af308d48"
      },
      "execution_count": 18,
      "outputs": [
        {
          "output_type": "execute_result",
          "data": {
            "text/plain": [
              "1    3353\n",
              "0    1756\n",
              "Name: ever_married, dtype: int64"
            ]
          },
          "metadata": {},
          "execution_count": 18
        }
      ]
    },
    {
      "cell_type": "markdown",
      "source": [
        "There is no visible inconsistencies.\n",
        "\n",
        "- This column can be ordinal encoded.\n",
        "---"
      ],
      "metadata": {
        "id": "9ox5ohEwuC5E"
      }
    },
    {
      "cell_type": "code",
      "source": [
        "exp_df['work_type'].value_counts()"
      ],
      "metadata": {
        "colab": {
          "base_uri": "https://localhost:8080/"
        },
        "id": "z6c2D7BvuIEh",
        "outputId": "eb38bb05-ce69-4d11-c740-c17ae72f45cc"
      },
      "execution_count": 19,
      "outputs": [
        {
          "output_type": "execute_result",
          "data": {
            "text/plain": [
              "Private          2924\n",
              "Self-employed     819\n",
              "children          687\n",
              "Govt_job          657\n",
              "Never_worked       22\n",
              "Name: work_type, dtype: int64"
            ]
          },
          "metadata": {},
          "execution_count": 19
        }
      ]
    },
    {
      "cell_type": "code",
      "source": [
        "exp_df['work_type'].value_counts()"
      ],
      "metadata": {
        "colab": {
          "base_uri": "https://localhost:8080/"
        },
        "id": "R5q3DQJhcq3M",
        "outputId": "84c8e908-9c8a-43e2-eceb-c40312112144"
      },
      "execution_count": 20,
      "outputs": [
        {
          "output_type": "execute_result",
          "data": {
            "text/plain": [
              "Private          2924\n",
              "Self-employed     819\n",
              "children          687\n",
              "Govt_job          657\n",
              "Never_worked       22\n",
              "Name: work_type, dtype: int64"
            ]
          },
          "metadata": {},
          "execution_count": 20
        }
      ]
    },
    {
      "cell_type": "code",
      "source": [
        "exp_df['Residence_type'].value_counts()"
      ],
      "metadata": {
        "colab": {
          "base_uri": "https://localhost:8080/"
        },
        "id": "X_lFtgi1uWRz",
        "outputId": "f04eadaf-3d1b-4dbe-f52b-9aaf8fdcb153"
      },
      "execution_count": 21,
      "outputs": [
        {
          "output_type": "execute_result",
          "data": {
            "text/plain": [
              "Urban    2596\n",
              "Rural    2513\n",
              "Name: Residence_type, dtype: int64"
            ]
          },
          "metadata": {},
          "execution_count": 21
        }
      ]
    },
    {
      "cell_type": "code",
      "source": [
        "exp_df['avg_glucose_level'].value_counts()"
      ],
      "metadata": {
        "colab": {
          "base_uri": "https://localhost:8080/"
        },
        "id": "WiKnJWwhukMI",
        "outputId": "a82126fb-cff8-460a-eff9-ad00b6955ef0"
      },
      "execution_count": 22,
      "outputs": [
        {
          "output_type": "execute_result",
          "data": {
            "text/plain": [
              "93.88     6\n",
              "91.68     5\n",
              "91.85     5\n",
              "83.16     5\n",
              "73.00     5\n",
              "         ..\n",
              "94.07     1\n",
              "111.93    1\n",
              "94.40     1\n",
              "95.57     1\n",
              "85.28     1\n",
              "Name: avg_glucose_level, Length: 3978, dtype: int64"
            ]
          },
          "metadata": {},
          "execution_count": 22
        }
      ]
    },
    {
      "cell_type": "code",
      "source": [
        "exp_df['bmi'].value_counts()"
      ],
      "metadata": {
        "colab": {
          "base_uri": "https://localhost:8080/"
        },
        "id": "m9G5C3Kxuv6B",
        "outputId": "e7efecd4-b6ff-4f38-cb86-a2fd14b4a58d"
      },
      "execution_count": 23,
      "outputs": [
        {
          "output_type": "execute_result",
          "data": {
            "text/plain": [
              "28.7    41\n",
              "28.4    38\n",
              "26.7    37\n",
              "27.6    37\n",
              "26.1    37\n",
              "        ..\n",
              "48.7     1\n",
              "49.2     1\n",
              "51.0     1\n",
              "49.4     1\n",
              "14.9     1\n",
              "Name: bmi, Length: 418, dtype: int64"
            ]
          },
          "metadata": {},
          "execution_count": 23
        }
      ]
    },
    {
      "cell_type": "code",
      "source": [
        "exp_df['smoking_status'].value_counts()"
      ],
      "metadata": {
        "colab": {
          "base_uri": "https://localhost:8080/"
        },
        "id": "-wancV3Yu7_z",
        "outputId": "8fc369ec-ba18-4cc3-84b8-d124bfb90544"
      },
      "execution_count": 24,
      "outputs": [
        {
          "output_type": "execute_result",
          "data": {
            "text/plain": [
              "never smoked       1892\n",
              "Unknown            1544\n",
              "formerly smoked     884\n",
              "smokes              789\n",
              "Name: smoking_status, dtype: int64"
            ]
          },
          "metadata": {},
          "execution_count": 24
        }
      ]
    },
    {
      "cell_type": "code",
      "source": [
        "exp_df['stroke'].value_counts()"
      ],
      "metadata": {
        "colab": {
          "base_uri": "https://localhost:8080/"
        },
        "id": "vSXubJCrvXDX",
        "outputId": "74ea8522-19b0-4b0b-f974-4df9bd63ed53"
      },
      "execution_count": 25,
      "outputs": [
        {
          "output_type": "execute_result",
          "data": {
            "text/plain": [
              "0    4860\n",
              "1     249\n",
              "Name: stroke, dtype: int64"
            ]
          },
          "metadata": {},
          "execution_count": 25
        }
      ]
    },
    {
      "cell_type": "markdown",
      "source": [
        "- 0 means the patient has not had a stroke.\n",
        "- 1 means the patient has had a stroke.\n",
        "\n",
        "There is no visible inconsistencies.\n",
        "\n",
        "---"
      ],
      "metadata": {
        "id": "iYZqYPfhvaHN"
      }
    },
    {
      "cell_type": "markdown",
      "source": [
        "# **Univariate Visualizations**\n",
        "\n",
        "For target (y) and features (X)\n",
        "\n",
        "- Target (y) is ['stroke']\n",
        "- Features (X) are everything else.\n",
        "---"
      ],
      "metadata": {
        "id": "EnM65W7fzO9X"
      }
    },
    {
      "cell_type": "markdown",
      "source": [
        "#### **gender**"
      ],
      "metadata": {
        "id": "ysksxlN4et1N"
      }
    },
    {
      "cell_type": "code",
      "source": [
        "sns.countplot(x='gender', data=exp_df, hue='stroke');"
      ],
      "metadata": {
        "colab": {
          "base_uri": "https://localhost:8080/",
          "height": 279
        },
        "id": "I48zpTlgZw8H",
        "outputId": "275eb8d7-f306-450c-e836-1910541d7b66"
      },
      "execution_count": 26,
      "outputs": [
        {
          "output_type": "display_data",
          "data": {
            "text/plain": [
              "<Figure size 432x288 with 1 Axes>"
            ],
            "image/png": "[encoded data removed]"
          },
          "metadata": {
            "needs_background": "light"
          }
        }
      ]
    },
    {
      "cell_type": "code",
      "source": [
        "sns.histplot(x='gender', y= 'avg_glucose_level', data = exp_df, hue='stroke');"
      ],
      "metadata": {
        "colab": {
          "base_uri": "https://localhost:8080/",
          "height": 279
        },
        "id": "puyDLYP_SNIs",
        "outputId": "7f61b263-b343-487e-d382-e0b24d4d7868"
      },
      "execution_count": 27,
      "outputs": [
        {
          "output_type": "display_data",
          "data": {
            "text/plain": [
              "<Figure size 432x288 with 1 Axes>"
            ],
            "image/png": "[encoded data removed]"
          },
          "metadata": {
            "needs_background": "light"
          }
        }
      ]
    },
    {
      "cell_type": "markdown",
      "source": [
        "**Base Model**\n",
        "- There is only a minimum line in the base gender boxplot for those whose gender is unknown or \"other\".\n",
        "\n",
        "**Combined Model**\n",
        "- You can see that there are numerous outliers on both the Male/Female genders around the 200 glucose level.\n",
        "\n",
        "---"
      ],
      "metadata": {
        "id": "wwI7ErigTtqD"
      }
    },
    {
      "cell_type": "markdown",
      "source": [
        "#### **age**"
      ],
      "metadata": {
        "id": "GYkLw_QFexGV"
      }
    },
    {
      "cell_type": "code",
      "source": [
        "\n",
        "sns.histplot(x='age', data = exp_df, hue='stroke');"
      ],
      "metadata": {
        "colab": {
          "base_uri": "https://localhost:8080/",
          "height": 279
        },
        "id": "2jH93jNjT3kt",
        "outputId": "c9ae7a6f-5e09-47f8-c3ce-22b65d758ed9"
      },
      "execution_count": 28,
      "outputs": [
        {
          "output_type": "display_data",
          "data": {
            "text/plain": [
              "<Figure size 432x288 with 1 Axes>"
            ],
            "image/png": "[encoded data removed]"
          },
          "metadata": {
            "needs_background": "light"
          }
        }
      ]
    },
    {
      "cell_type": "code",
      "source": [
        "print(sns.boxplot(x='age', y='smoking_status', data = exp_df));"
      ],
      "metadata": {
        "colab": {
          "base_uri": "https://localhost:8080/",
          "height": 299
        },
        "id": "Y_4u-6txVPQb",
        "outputId": "2dc28e0f-95fd-4fee-9ce2-0185c2cf639c"
      },
      "execution_count": 29,
      "outputs": [
        {
          "output_type": "stream",
          "name": "stdout",
          "text": [
            "AxesSubplot(0.125,0.125;0.775x0.755)\n"
          ]
        },
        {
          "output_type": "display_data",
          "data": {
            "text/plain": [
              "<Figure size 432x288 with 1 Axes>"
            ],
            "image/png": "[encoded data removed]"
          },
          "metadata": {
            "needs_background": "light"
          }
        }
      ]
    },
    {
      "cell_type": "markdown",
      "source": [
        "**Base Model**\n",
        "- There are no outliers on the age column on it's own. \n",
        "\n",
        "**Combined Model**\n",
        "- When tracking smoking status based on age. There is a larger majority of people that have formerly smoked around the ages of 40-70.\n",
        "\n",
        "---"
      ],
      "metadata": {
        "id": "lvcBsRRQU4Mh"
      }
    },
    {
      "cell_type": "markdown",
      "source": [
        "#### **hypertension**"
      ],
      "metadata": {
        "id": "1teNQk-TezDt"
      }
    },
    {
      "cell_type": "code",
      "source": [
        "sns.countplot(x='hypertension', data=exp_df, hue='stroke');"
      ],
      "metadata": {
        "colab": {
          "base_uri": "https://localhost:8080/",
          "height": 279
        },
        "id": "tGPSg9z3VkDC",
        "outputId": "debd6f01-2da8-4a23-cdf1-99d4e640aee3"
      },
      "execution_count": 30,
      "outputs": [
        {
          "output_type": "display_data",
          "data": {
            "text/plain": [
              "<Figure size 432x288 with 1 Axes>"
            ],
            "image/png": "[encoded data removed]"
          },
          "metadata": {
            "needs_background": "light"
          }
        }
      ]
    },
    {
      "cell_type": "code",
      "source": [
        "sns.boxplot(x='hypertension', y='bmi', data=exp_df);"
      ],
      "metadata": {
        "colab": {
          "base_uri": "https://localhost:8080/",
          "height": 279
        },
        "id": "ZO6QGygbVs-5",
        "outputId": "e997d917-82b4-4896-83f1-a70891075375"
      },
      "execution_count": 31,
      "outputs": [
        {
          "output_type": "display_data",
          "data": {
            "text/plain": [
              "<Figure size 432x288 with 1 Axes>"
            ],
            "image/png": "[encoded data removed]"
          },
          "metadata": {
            "needs_background": "light"
          }
        }
      ]
    },
    {
      "cell_type": "markdown",
      "source": [
        "**Base Model**\n",
        "- In the base boxplot, the only outliers in the hypertension column are 1. Which is for patients that **do have hypertension**.\n",
        "\n",
        "**Combined Model**\n",
        "- In the boxplot that **compares 'hypertension' and 'bmi'**, there are bigger outliers for those that **do have hypertension with a BMI between 55-100**.\n",
        "\n",
        "---"
      ],
      "metadata": {
        "id": "mkVzsy4nVwpN"
      }
    },
    {
      "cell_type": "markdown",
      "source": [
        "#### **heart_disease**"
      ],
      "metadata": {
        "id": "XpbxqPmjZexj"
      }
    },
    {
      "cell_type": "code",
      "source": [
        "sns.countplot(x='heart_disease', data=exp_df);"
      ],
      "metadata": {
        "colab": {
          "base_uri": "https://localhost:8080/",
          "height": 281
        },
        "id": "X6XGNNJ7WyLC",
        "outputId": "764fdb79-6cc2-4aae-d888-d3d38ffa3888"
      },
      "execution_count": 32,
      "outputs": [
        {
          "output_type": "display_data",
          "data": {
            "text/plain": [
              "<Figure size 432x288 with 1 Axes>"
            ],
            "image/png": "[encoded data removed]"
          },
          "metadata": {
            "needs_background": "light"
          }
        }
      ]
    },
    {
      "cell_type": "code",
      "source": [
        "exp_df['heart_disease'].value_counts()"
      ],
      "metadata": {
        "colab": {
          "base_uri": "https://localhost:8080/"
        },
        "id": "1T9qdWW6N--h",
        "outputId": "61875b53-5b10-4b35-958c-8c06ce0146cb"
      },
      "execution_count": 33,
      "outputs": [
        {
          "output_type": "execute_result",
          "data": {
            "text/plain": [
              "0    4833\n",
              "1     276\n",
              "Name: heart_disease, dtype: int64"
            ]
          },
          "metadata": {},
          "execution_count": 33
        }
      ]
    },
    {
      "cell_type": "code",
      "source": [
        "sns.boxplot(x='heart_disease', y='avg_glucose_level', data=exp_df);"
      ],
      "metadata": {
        "colab": {
          "base_uri": "https://localhost:8080/",
          "height": 280
        },
        "id": "ytH6bbTLW--0",
        "outputId": "d897865c-022e-41aa-dfea-c1e0192f6a7c"
      },
      "execution_count": 34,
      "outputs": [
        {
          "output_type": "display_data",
          "data": {
            "text/plain": [
              "<Figure size 432x288 with 1 Axes>"
            ],
            "image/png": "[encoded data removed]"
          },
          "metadata": {
            "needs_background": "light"
          }
        }
      ]
    },
    {
      "cell_type": "markdown",
      "source": [
        "**Base Model**\n",
        "- In the base boxplot model, the only outliers are for those that do have heart disease.\n",
        "\n",
        "**Combined Model**\n",
        "- In the boxplot comparing heart disease and average glucose level. The only outliers are for patients that **did not have heart disease** & **had an avg. glucose level between 175-250**.\n",
        "\n",
        "---"
      ],
      "metadata": {
        "id": "A6-YsQFiXMJf"
      }
    },
    {
      "cell_type": "markdown",
      "source": [
        "#### **ever_married**"
      ],
      "metadata": {
        "id": "rNTW5dq6Zapx"
      }
    },
    {
      "cell_type": "code",
      "source": [
        "sns.histplot(x='ever_married', data=exp_df, hue='stroke');"
      ],
      "metadata": {
        "colab": {
          "base_uri": "https://localhost:8080/",
          "height": 280
        },
        "id": "WsANw9csX4eL",
        "outputId": "f344a47a-3942-41d1-dd73-9273d5323e5d"
      },
      "execution_count": 35,
      "outputs": [
        {
          "output_type": "display_data",
          "data": {
            "text/plain": [
              "<Figure size 432x288 with 1 Axes>"
            ],
            "image/png": "[encoded data removed]"
          },
          "metadata": {
            "needs_background": "light"
          }
        }
      ]
    },
    {
      "cell_type": "markdown",
      "source": [
        "**Base Model**\n",
        "- In the base boxplot model, there is no outliers present.\n",
        "---"
      ],
      "metadata": {
        "id": "FTMiNFW4YFeJ"
      }
    },
    {
      "cell_type": "markdown",
      "source": [
        "#### **work_type**"
      ],
      "metadata": {
        "id": "D_3ghckje2Py"
      }
    },
    {
      "cell_type": "code",
      "source": [
        "sns.histplot(x='work_type', data=exp_df, hue='stroke');"
      ],
      "metadata": {
        "colab": {
          "base_uri": "https://localhost:8080/",
          "height": 281
        },
        "id": "wcmql4QuZZuf",
        "outputId": "0f7a4e8c-9893-4238-ecde-ce7adb01b4c1"
      },
      "execution_count": 36,
      "outputs": [
        {
          "output_type": "display_data",
          "data": {
            "text/plain": [
              "<Figure size 432x288 with 1 Axes>"
            ],
            "image/png": "[encoded data removed]"
          },
          "metadata": {
            "needs_background": "light"
          }
        }
      ]
    },
    {
      "cell_type": "code",
      "source": [
        "exp_df['work_type'].value_counts()"
      ],
      "metadata": {
        "colab": {
          "base_uri": "https://localhost:8080/"
        },
        "id": "YVuUinbEdcAN",
        "outputId": "50959fd7-9a7e-4239-8ef5-ab92569c7dd8"
      },
      "execution_count": 37,
      "outputs": [
        {
          "output_type": "execute_result",
          "data": {
            "text/plain": [
              "Private          2924\n",
              "Self-employed     819\n",
              "children          687\n",
              "Govt_job          657\n",
              "Never_worked       22\n",
              "Name: work_type, dtype: int64"
            ]
          },
          "metadata": {},
          "execution_count": 37
        }
      ]
    },
    {
      "cell_type": "code",
      "source": [
        "sns.histplot(x='work_type', y='hypertension', data=exp_df, hue='stroke');"
      ],
      "metadata": {
        "colab": {
          "base_uri": "https://localhost:8080/",
          "height": 281
        },
        "id": "60q38RL8dCZx",
        "outputId": "af4dae94-4d3e-469c-afd7-821a5314055c"
      },
      "execution_count": 38,
      "outputs": [
        {
          "output_type": "display_data",
          "data": {
            "text/plain": [
              "<Figure size 432x288 with 1 Axes>"
            ],
            "image/png": "[encoded data removed]"
          },
          "metadata": {
            "needs_background": "light"
          }
        }
      ]
    },
    {
      "cell_type": "markdown",
      "source": [
        "**Base Model**\n",
        "- There are no outliers\n",
        "\n",
        "**Combined Model**\n",
        "- There are outliers for people that **have hypertension** that work in either **the Private Sector (0), Self-employed (1), or work a Government Job (3).**\n",
        "\n",
        "---"
      ],
      "metadata": {
        "id": "ufK-iZqhdQcj"
      }
    },
    {
      "cell_type": "markdown",
      "source": [
        "#### **Residence_type**"
      ],
      "metadata": {
        "id": "VkSCLKF4e5V4"
      }
    },
    {
      "cell_type": "code",
      "source": [
        "sns.countplot(x='Residence_type', data=exp_df, hue='stroke');"
      ],
      "metadata": {
        "colab": {
          "base_uri": "https://localhost:8080/",
          "height": 280
        },
        "id": "gPqEjlPmeaMQ",
        "outputId": "23f56d7a-e785-4841-f157-40324e1101d5"
      },
      "execution_count": 39,
      "outputs": [
        {
          "output_type": "display_data",
          "data": {
            "text/plain": [
              "<Figure size 432x288 with 1 Axes>"
            ],
            "image/png": "[encoded data removed]"
          },
          "metadata": {
            "needs_background": "light"
          }
        }
      ]
    },
    {
      "cell_type": "code",
      "source": [
        "sns.boxplot(x='Residence_type', y='bmi',\n",
        "            data=exp_df, hue='stroke');"
      ],
      "metadata": {
        "colab": {
          "base_uri": "https://localhost:8080/",
          "height": 280
        },
        "id": "3tlOJrdue8cS",
        "outputId": "4f1887c4-187e-4601-ee80-f0d770be4c18"
      },
      "execution_count": 40,
      "outputs": [
        {
          "output_type": "display_data",
          "data": {
            "text/plain": [
              "<Figure size 432x288 with 1 Axes>"
            ],
            "image/png": "[encoded data removed]"
          },
          "metadata": {
            "needs_background": "light"
          }
        }
      ]
    },
    {
      "cell_type": "markdown",
      "source": [
        "**Base Model**\n",
        "- There are no outliers present in the base model.\n",
        "\n",
        "**Combined Model**\n",
        "- In the combined model comparing Residence type and bmi, there are outliers present in both \"Urban\" and \"Rural\" residencies. But there appears to be more in the 'Rural' residence type.\n",
        "\n",
        "---"
      ],
      "metadata": {
        "id": "EoEf1hbKfLII"
      }
    },
    {
      "cell_type": "markdown",
      "source": [
        "#### **avg_glucose_level**"
      ],
      "metadata": {
        "id": "4BOTGyS-gr_A"
      }
    },
    {
      "cell_type": "code",
      "source": [
        "sns.histplot(x='avg_glucose_level', data=exp_df, hue='stroke');"
      ],
      "metadata": {
        "colab": {
          "base_uri": "https://localhost:8080/",
          "height": 280
        },
        "id": "H-GF8nNsfgZ2",
        "outputId": "05b94416-a5b4-47bd-f18e-6cb8b7b26085"
      },
      "execution_count": 41,
      "outputs": [
        {
          "output_type": "display_data",
          "data": {
            "text/plain": [
              "<Figure size 432x288 with 1 Axes>"
            ],
            "image/png": "[encoded data removed]"
          },
          "metadata": {
            "needs_background": "light"
          }
        }
      ]
    },
    {
      "cell_type": "markdown",
      "source": [
        "**Base Model**\n",
        "- There is a massive amount of outliers present after the average glucose level reaches around 160, and stretches past 250.\n",
        "\n",
        "---"
      ],
      "metadata": {
        "id": "8fJDGNNngQDA"
      }
    },
    {
      "cell_type": "markdown",
      "source": [
        "#### **bmi**"
      ],
      "metadata": {
        "id": "x-mbXi3FgwF1"
      }
    },
    {
      "cell_type": "code",
      "source": [
        "sns.boxplot(x='bmi', data=exp_df);"
      ],
      "metadata": {
        "colab": {
          "base_uri": "https://localhost:8080/",
          "height": 279
        },
        "id": "qVCxvYGugya2",
        "outputId": "ea24b273-c229-4174-f309-a0a03248c5ef"
      },
      "execution_count": 42,
      "outputs": [
        {
          "output_type": "display_data",
          "data": {
            "text/plain": [
              "<Figure size 432x288 with 1 Axes>"
            ],
            "image/png": "[encoded data removed]"
          },
          "metadata": {
            "needs_background": "light"
          }
        }
      ]
    },
    {
      "cell_type": "code",
      "source": [
        "sns.barplot(x='smoking_status', y='bmi', data=exp_df, hue='stroke')\n",
        "plt.title('Correlation Between Smoking & BMI');"
      ],
      "metadata": {
        "colab": {
          "base_uri": "https://localhost:8080/",
          "height": 296
        },
        "id": "KNFveMtmg2_W",
        "outputId": "3ef97c07-ffe8-48cc-f044-c7d3bb0ef1a6"
      },
      "execution_count": 43,
      "outputs": [
        {
          "output_type": "display_data",
          "data": {
            "text/plain": [
              "<Figure size 432x288 with 1 Axes>"
            ],
            "image/png": "[encoded data removed]"
          },
          "metadata": {
            "needs_background": "light"
          }
        }
      ]
    },
    {
      "cell_type": "markdown",
      "source": [
        "**Base Model**\n",
        "- In the base model, there are outliers present around the bmi mark of 45-50 and stretching to a bmi of 100.\n",
        "\n",
        "**Combined Model**\n",
        "- In the combined model of 'bmi' and 'smoking status', there are outliers present in all the different values of smoking status. These outliers all start around the bmi mark of 45-50.\n",
        "\n",
        "---"
      ],
      "metadata": {
        "id": "RXDaknWwhGZr"
      }
    },
    {
      "cell_type": "markdown",
      "source": [
        "#### **smoking_status**"
      ],
      "metadata": {
        "id": "u7xVW7slhgZi"
      }
    },
    {
      "cell_type": "code",
      "source": [
        "sns.countplot(x='smoking_status', data=exp_df, hue='stroke');"
      ],
      "metadata": {
        "colab": {
          "base_uri": "https://localhost:8080/",
          "height": 280
        },
        "id": "2dmXmtYnhgPA",
        "outputId": "cbff759a-84ec-414c-8a7b-d35f16cff7ec"
      },
      "execution_count": 44,
      "outputs": [
        {
          "output_type": "display_data",
          "data": {
            "text/plain": [
              "<Figure size 432x288 with 1 Axes>"
            ],
            "image/png": "[encoded data removed]"
          },
          "metadata": {
            "needs_background": "light"
          }
        }
      ]
    },
    {
      "cell_type": "markdown",
      "source": [
        "**Base Model**\n",
        "- In the base model, there are no outliers present.\n",
        "\n",
        "**Combined Model**\n",
        "- In the combined model of 'smoking_status' and 'gender'. There are no outliers present, but there is only whiskers (**black line**) present in the smoking value of 'formerly smoked'.\n",
        "\n",
        "---"
      ],
      "metadata": {
        "id": "slfcy950h-zf"
      }
    },
    {
      "cell_type": "code",
      "source": [
        "plt.title('Correlation Between Smoking and Age and Stroke likelyhood')\n",
        "sns.barplot(x='smoking_status', y='age', data=exp_df, hue='stroke');"
      ],
      "metadata": {
        "colab": {
          "base_uri": "https://localhost:8080/",
          "height": 296
        },
        "id": "pFsqiSKnQxGD",
        "outputId": "1b61fe68-49cd-4607-ccf1-df220b4f4d4b"
      },
      "execution_count": 45,
      "outputs": [
        {
          "output_type": "display_data",
          "data": {
            "text/plain": [
              "<Figure size 432x288 with 1 Axes>"
            ],
            "image/png": "[encoded data removed]"
          },
          "metadata": {
            "needs_background": "light"
          }
        }
      ]
    },
    {
      "cell_type": "markdown",
      "source": [
        "#### **stroke**"
      ],
      "metadata": {
        "id": "N7PRVj41ipl6"
      }
    },
    {
      "cell_type": "code",
      "source": [
        "sns.countplot(x='stroke', data=exp_df);"
      ],
      "metadata": {
        "colab": {
          "base_uri": "https://localhost:8080/",
          "height": 279
        },
        "id": "HTVQzlySipIL",
        "outputId": "7618aee8-27d7-4dc6-cc93-bde3f2d8daf9"
      },
      "execution_count": 46,
      "outputs": [
        {
          "output_type": "display_data",
          "data": {
            "text/plain": [
              "<Figure size 432x288 with 1 Axes>"
            ],
            "image/png": "[encoded data removed]"
          },
          "metadata": {
            "needs_background": "light"
          }
        }
      ]
    },
    {
      "cell_type": "code",
      "source": [
        "sns.boxplot(x='stroke', y='age', data=exp_df);"
      ],
      "metadata": {
        "colab": {
          "base_uri": "https://localhost:8080/",
          "height": 279
        },
        "id": "Cp4JsCFOiw1o",
        "outputId": "063f2fc7-fc05-4fff-90f1-d93788913d49"
      },
      "execution_count": 47,
      "outputs": [
        {
          "output_type": "display_data",
          "data": {
            "text/plain": [
              "<Figure size 432x288 with 1 Axes>"
            ],
            "image/png": "[encoded data removed]"
          },
          "metadata": {
            "needs_background": "light"
          }
        }
      ]
    },
    {
      "cell_type": "markdown",
      "source": [
        "**Base Model**\n",
        "- There are only outliers present in patients that have had a stroke.\n",
        "\n",
        "**Combined Model**\n",
        "- In the combined model of patients that have had a stroke and patients ages. There are only outliers present in patients that **have had a stroke and are between the ages of 20 and 0.**\n",
        "\n",
        "---"
      ],
      "metadata": {
        "id": "ivNLSUyTi9Lb"
      }
    },
    {
      "cell_type": "markdown",
      "source": [
        "#**Correlation Heatmap of Features and Target**"
      ],
      "metadata": {
        "id": "hLUg0BcOXBY1"
      }
    },
    {
      "cell_type": "code",
      "source": [
        "corr = exp_df.corr()"
      ],
      "metadata": {
        "id": "6VE9OGRVXpJ4"
      },
      "execution_count": 48,
      "outputs": []
    },
    {
      "cell_type": "code",
      "source": [
        "fig, ax = plt.subplots(figsize=(10, 6))\n",
        "\n",
        "sns.heatmap(corr, cmap='Greens', annot=True);"
      ],
      "metadata": {
        "colab": {
          "base_uri": "https://localhost:8080/",
          "height": 459
        },
        "id": "8HQuC-B-Y8B8",
        "outputId": "93e0a370-e30d-411f-91df-d3c59fc52c75"
      },
      "execution_count": 49,
      "outputs": [
        {
          "output_type": "display_data",
          "data": {
            "text/plain": [
              "<Figure size 720x432 with 2 Axes>"
            ],
            "image/png": "[encoded data removed]"
          },
          "metadata": {
            "needs_background": "light"
          }
        }
      ]
    },
    {
      "cell_type": "markdown",
      "source": [
        "**Medium Correlations** - There is a medium correlation between a patients' age and whether they've ever been married.\n",
        "\n",
        "**Low Correlations** - There is a low correlation between a patients' age and their bmi. As well as a patients' bmi, and whether they've ever been married.\n",
        "\n",
        "**Target and Features** - There is a **LOW** correlation between a patients' age and whether they've had a stroke."
      ],
      "metadata": {
        "id": "j8aJ978tZO1G"
      }
    },
    {
      "cell_type": "markdown",
      "source": [
        "**LinePlot Visualizations**\n",
        "\n",
        "- **LinePlot 1** - Features *('age' & 'ever_married')*\n",
        "\n",
        "- **LinePlot 2** - Target & Feature *('stroke' & 'age')*"
      ],
      "metadata": {
        "id": "n1HiKhWJaEEQ"
      }
    },
    {
      "cell_type": "markdown",
      "source": [
        "#**Correlation/Multivariate Visualizations**"
      ],
      "metadata": {
        "id": "vycoSKfehJPy"
      }
    },
    {
      "cell_type": "code",
      "source": [
        "sns.lineplot(data=exp_df, x='age', y='ever_married', ci=None)\n",
        "plt.title('Mean Correlation Between Age and Marriage')\n",
        "plt.grid();"
      ],
      "metadata": {
        "colab": {
          "base_uri": "https://localhost:8080/",
          "height": 295
        },
        "id": "YBN_U_PAXE4Q",
        "outputId": "2c3a22b3-1ffb-453c-83d7-404301700ebf"
      },
      "execution_count": 50,
      "outputs": [
        {
          "output_type": "display_data",
          "data": {
            "text/plain": [
              "<Figure size 432x288 with 1 Axes>"
            ],
            "image/png": "[encoded data removed]"
          },
          "metadata": {
            "needs_background": "light"
          }
        }
      ]
    },
    {
      "cell_type": "markdown",
      "source": [
        "- People normally start to get married around 30 years of age.\n",
        "- At around 65, nearly 100% of people are married.\n",
        "- Many patients started to get married in their 20's and 30's with a larger number getting married as they got older."
      ],
      "metadata": {
        "id": "nZErBQQH-KwR"
      }
    },
    {
      "cell_type": "code",
      "source": [
        "sns.lineplot(data=exp_df, x='age', y='stroke', ci=None)\n",
        "plt.title(\"Mean Correlation Between Stroke and Patients' Age\")\n",
        "plt.grid();"
      ],
      "metadata": {
        "colab": {
          "base_uri": "https://localhost:8080/",
          "height": 295
        },
        "id": "zVU2H4CEflKU",
        "outputId": "f9ff1987-08c3-44e7-f4f8-8628a730cc9a"
      },
      "execution_count": 51,
      "outputs": [
        {
          "output_type": "display_data",
          "data": {
            "text/plain": [
              "<Figure size 432x288 with 1 Axes>"
            ],
            "image/png": "[encoded data removed]"
          },
          "metadata": {
            "needs_background": "light"
          }
        }
      ]
    },
    {
      "cell_type": "markdown",
      "source": [
        "- As the older a person gets their likelyhood of having a stroke increases.\n",
        "- The most significant age where someone is likely to have a stroke is around age 80 with a 25% chance probability.\n",
        "- While the lineplot gives the interpretation that infants are at high risk of a stroke, this is only from 13 values that are present in the age column that are less than 20 years of age. It has no significant impact on the risk at early developmental stages."
      ],
      "metadata": {
        "id": "kRKEmVPJChiK"
      }
    },
    {
      "cell_type": "code",
      "source": [
        "# Replacing numerical values in stroke column so visualizations are more clear.\n",
        "string_dict = {0: 'No Stroke', 1: 'Stroke'}\n",
        "exp_df['stroke'].replace(string_dict, inplace=True)"
      ],
      "metadata": {
        "id": "3HJ0qChG4fBe"
      },
      "execution_count": 52,
      "outputs": []
    },
    {
      "cell_type": "code",
      "source": [
        "sns.lineplot(data = exp_df, x='age', y='bmi', ci=None, hue='stroke')\n",
        "plt.title('Age and BMI Correlation')\n",
        "plt.grid();"
      ],
      "metadata": {
        "colab": {
          "base_uri": "https://localhost:8080/",
          "height": 301
        },
        "id": "0twh6Rw5rzeq",
        "outputId": "23d47fad-893c-4878-c77a-322e1428a893"
      },
      "execution_count": 92,
      "outputs": [
        {
          "output_type": "display_data",
          "data": {
            "text/plain": [
              "<Figure size 432x288 with 1 Axes>"
            ],
            "image/png": "[encoded data removed]"
          },
          "metadata": {}
        }
      ]
    },
    {
      "cell_type": "markdown",
      "source": [
        "- The lineplot above shows that when comparing patient's age and bmi and the likelyhood of having a stroke; there seems to be no major significance as only a small minority of patients the age groups of 60-80 have had a stroke."
      ],
      "metadata": {
        "id": "uV4LPWJn1tVm"
      }
    },
    {
      "cell_type": "code",
      "source": [
        "sns.set(style='whitegrid')\n",
        "\n",
        "sns.scatterplot(x='age',\n",
        "                y='heart_disease',\n",
        "                hue='stroke',\n",
        "                data=exp_df);"
      ],
      "metadata": {
        "colab": {
          "base_uri": "https://localhost:8080/",
          "height": 285
        },
        "id": "WiNL7RlbAmSn",
        "outputId": "c35d73af-cbf6-4c6e-e23e-7e6c1a6ad13b"
      },
      "execution_count": 54,
      "outputs": [
        {
          "output_type": "display_data",
          "data": {
            "text/plain": [
              "<Figure size 432x288 with 1 Axes>"
            ],
            "image/png": "[encoded data removed]"
          },
          "metadata": {}
        }
      ]
    },
    {
      "cell_type": "markdown",
      "source": [
        "- There seems to be no major impact that heart disease has on a patients' age and their likelyhood of having a stroke."
      ],
      "metadata": {
        "id": "GxDotk6oCE0Y"
      }
    },
    {
      "cell_type": "code",
      "source": [
        "# Checking number of patients that have a small age group to address in the lineplot\n",
        "exp_df['age'].value_counts()"
      ],
      "metadata": {
        "colab": {
          "base_uri": "https://localhost:8080/"
        },
        "id": "4nlZRkW796Lt",
        "outputId": "6b5c5798-5b81-4d4a-f83b-5fc0afa3ea1e"
      },
      "execution_count": 55,
      "outputs": [
        {
          "output_type": "execute_result",
          "data": {
            "text/plain": [
              "78.00    102\n",
              "57.00     95\n",
              "52.00     90\n",
              "54.00     87\n",
              "51.00     86\n",
              "        ... \n",
              "1.40       3\n",
              "0.48       3\n",
              "0.16       3\n",
              "0.40       2\n",
              "0.08       2\n",
              "Name: age, Length: 104, dtype: int64"
            ]
          },
          "metadata": {},
          "execution_count": 55
        }
      ]
    },
    {
      "cell_type": "code",
      "source": [
        "# Checking if change worked\n",
        "exp_df['stroke'].value_counts()"
      ],
      "metadata": {
        "colab": {
          "base_uri": "https://localhost:8080/"
        },
        "id": "GvkFjzLF4wxl",
        "outputId": "9e0e73b9-e011-4521-adbf-44563ecc4e52"
      },
      "execution_count": 56,
      "outputs": [
        {
          "output_type": "execute_result",
          "data": {
            "text/plain": [
              "No Stroke    4860\n",
              "Stroke        249\n",
              "Name: stroke, dtype: int64"
            ]
          },
          "metadata": {},
          "execution_count": 56
        }
      ]
    },
    {
      "cell_type": "markdown",
      "source": [
        "---\n",
        "#**Data PreProcessing**\n",
        "\n"
      ],
      "metadata": {
        "id": "f5ZEwSc9iaq2"
      }
    },
    {
      "cell_type": "markdown",
      "source": [
        "For Data Preprocessing / Machine Learning we will use the machine learning copy of the dataset provided labeled `ml_df`."
      ],
      "metadata": {
        "id": "9GYlByWWIlDB"
      }
    },
    {
      "cell_type": "code",
      "source": [
        "ml_df.info()"
      ],
      "metadata": {
        "colab": {
          "base_uri": "https://localhost:8080/"
        },
        "id": "5Rw0YMPaX3HQ",
        "outputId": "89b710d9-8893-4f98-d90f-454061ab2126"
      },
      "execution_count": 57,
      "outputs": [
        {
          "output_type": "stream",
          "name": "stdout",
          "text": [
            "<class 'pandas.core.frame.DataFrame'>\n",
            "RangeIndex: 5110 entries, 0 to 5109\n",
            "Data columns (total 11 columns):\n",
            " #   Column             Non-Null Count  Dtype  \n",
            "---  ------             --------------  -----  \n",
            " 0   gender             5110 non-null   object \n",
            " 1   age                5110 non-null   float64\n",
            " 2   hypertension       5110 non-null   int64  \n",
            " 3   heart_disease      5110 non-null   int64  \n",
            " 4   ever_married       5110 non-null   object \n",
            " 5   work_type          5110 non-null   object \n",
            " 6   Residence_type     5110 non-null   object \n",
            " 7   avg_glucose_level  5110 non-null   float64\n",
            " 8   bmi                4909 non-null   float64\n",
            " 9   smoking_status     5110 non-null   object \n",
            " 10  stroke             5110 non-null   int64  \n",
            "dtypes: float64(3), int64(3), object(5)\n",
            "memory usage: 439.3+ KB\n"
          ]
        }
      ]
    },
    {
      "cell_type": "markdown",
      "source": [
        "##**ID Vector & Features**"
      ],
      "metadata": {
        "id": "da_V1JA4I2M_"
      }
    },
    {
      "cell_type": "code",
      "source": [
        "# The target for this dataset is stroke so that is dropped from X and assigned to y.\n",
        "X = ml_df.drop(('stroke'), axis=1)\n",
        "y = ml_df['stroke']"
      ],
      "metadata": {
        "id": "m8cr2xiTYTeP"
      },
      "execution_count": 58,
      "outputs": []
    },
    {
      "cell_type": "markdown",
      "source": [
        "##**Validation Split**"
      ],
      "metadata": {
        "id": "rDwT1lUCIzB8"
      }
    },
    {
      "cell_type": "code",
      "source": [
        "# A validation split is made to prevent data leakage.\n",
        "X_train, X_test, y_train, y_test = train_test_split(X, y, random_state=42, stratify=y)"
      ],
      "metadata": {
        "id": "cn1K1QOiWmqj"
      },
      "execution_count": 59,
      "outputs": []
    },
    {
      "cell_type": "markdown",
      "source": [
        "##**Data Type Analysis**"
      ],
      "metadata": {
        "id": "WbyTets4o8ED"
      }
    },
    {
      "cell_type": "code",
      "source": [
        "#Datatype analysis\n",
        "ml_df.info()"
      ],
      "metadata": {
        "colab": {
          "base_uri": "https://localhost:8080/"
        },
        "id": "VoPe2VPCigfy",
        "outputId": "f185543e-6166-46af-ba38-05f0fd40aedc"
      },
      "execution_count": 60,
      "outputs": [
        {
          "output_type": "stream",
          "name": "stdout",
          "text": [
            "<class 'pandas.core.frame.DataFrame'>\n",
            "RangeIndex: 5110 entries, 0 to 5109\n",
            "Data columns (total 11 columns):\n",
            " #   Column             Non-Null Count  Dtype  \n",
            "---  ------             --------------  -----  \n",
            " 0   gender             5110 non-null   object \n",
            " 1   age                5110 non-null   float64\n",
            " 2   hypertension       5110 non-null   int64  \n",
            " 3   heart_disease      5110 non-null   int64  \n",
            " 4   ever_married       5110 non-null   object \n",
            " 5   work_type          5110 non-null   object \n",
            " 6   Residence_type     5110 non-null   object \n",
            " 7   avg_glucose_level  5110 non-null   float64\n",
            " 8   bmi                4909 non-null   float64\n",
            " 9   smoking_status     5110 non-null   object \n",
            " 10  stroke             5110 non-null   int64  \n",
            "dtypes: float64(3), int64(3), object(5)\n",
            "memory usage: 439.3+ KB\n"
          ]
        }
      ]
    },
    {
      "cell_type": "markdown",
      "source": [
        "---\n",
        "**Nominal Features**\n",
        "- gender (object)\n",
        "- hypertension (int64)\n",
        "- heart_disease (int64)\n",
        "- ever_married (object)\n",
        "- work_type (object)\n",
        "- Residence_type (object)\n",
        "- smoking_status (object)\n",
        "\n",
        "**Nominal Target**\n",
        "- stroke (int64)\n",
        "\n",
        "**Numerical Features**\n",
        "- age (float64)\n",
        "- avg_glucose_level (float64)\n",
        "- bmi (float64)\n",
        "\n",
        "---\n",
        "In order to make column selectors, the nominal features that are currently labeled as `'int64'` will need to be changed to `'object'`\n",
        "\n",
        "- hypertension\n",
        "- heart_disease\n",
        "- stroke"
      ],
      "metadata": {
        "id": "Z486TGIwmRw8"
      }
    },
    {
      "cell_type": "code",
      "source": [
        "# Changing int64 nominal features to object datatypes\n",
        "ml_df['hypertension'] = ml_df['hypertension'].astype(object)\n",
        "ml_df['heart_disease'] = ml_df['heart_disease'].astype(object)\n",
        "ml_df['stroke'] = ml_df['stroke'].astype(object)\n",
        "\n",
        "display(ml_df.info())"
      ],
      "metadata": {
        "colab": {
          "base_uri": "https://localhost:8080/",
          "height": 394
        },
        "id": "K_wHz6qui0fU",
        "outputId": "a6c47fd6-82f7-4ff0-fc20-0c23f50e9481"
      },
      "execution_count": 61,
      "outputs": [
        {
          "output_type": "stream",
          "name": "stdout",
          "text": [
            "<class 'pandas.core.frame.DataFrame'>\n",
            "RangeIndex: 5110 entries, 0 to 5109\n",
            "Data columns (total 11 columns):\n",
            " #   Column             Non-Null Count  Dtype  \n",
            "---  ------             --------------  -----  \n",
            " 0   gender             5110 non-null   object \n",
            " 1   age                5110 non-null   float64\n",
            " 2   hypertension       5110 non-null   object \n",
            " 3   heart_disease      5110 non-null   object \n",
            " 4   ever_married       5110 non-null   object \n",
            " 5   work_type          5110 non-null   object \n",
            " 6   Residence_type     5110 non-null   object \n",
            " 7   avg_glucose_level  5110 non-null   float64\n",
            " 8   bmi                4909 non-null   float64\n",
            " 9   smoking_status     5110 non-null   object \n",
            " 10  stroke             5110 non-null   object \n",
            "dtypes: float64(3), object(8)\n",
            "memory usage: 439.3+ KB\n"
          ]
        },
        {
          "output_type": "display_data",
          "data": {
            "text/plain": [
              "None"
            ]
          },
          "metadata": {}
        }
      ]
    },
    {
      "cell_type": "markdown",
      "source": [
        "---\n",
        "# **Column Selector**"
      ],
      "metadata": {
        "id": "vgff9_rrpIwO"
      }
    },
    {
      "cell_type": "code",
      "source": [
        "# Create Column Selectors for categorical and numerical data\n",
        "cat_selector = make_column_selector(dtype_include='object')\n",
        "num_selector = make_column_selector(dtype_include='number')"
      ],
      "metadata": {
        "id": "RK_Zd77fpPgU"
      },
      "execution_count": 62,
      "outputs": []
    },
    {
      "cell_type": "markdown",
      "source": [
        "##**Instantiate Imputer, Scaler, OHE**"
      ],
      "metadata": {
        "id": "j6hZ-1A1pxSi"
      }
    },
    {
      "cell_type": "code",
      "source": [
        "# Instantiate SimpleImputer, StandardScaler, and One Hot Encoder\n",
        "median_imputer = SimpleImputer(strategy='median')\n",
        "scaler = StandardScaler()\n",
        "ohe = OneHotEncoder(handle_unknown = 'ignore', sparse = False)"
      ],
      "metadata": {
        "id": "2Z2k1LkVpsZm"
      },
      "execution_count": 63,
      "outputs": []
    },
    {
      "cell_type": "markdown",
      "source": [
        "##Pipelines and Column Transformer"
      ],
      "metadata": {
        "id": "q71WeG68qDx7"
      }
    },
    {
      "cell_type": "code",
      "source": [
        "# Checking missing values\n",
        "ml_df.isna().sum()"
      ],
      "metadata": {
        "colab": {
          "base_uri": "https://localhost:8080/"
        },
        "id": "jUH61iuAqcwL",
        "outputId": "c9db4cbc-de25-43e7-974d-627bfd9b64d8"
      },
      "execution_count": 64,
      "outputs": [
        {
          "output_type": "execute_result",
          "data": {
            "text/plain": [
              "gender                 0\n",
              "age                    0\n",
              "hypertension           0\n",
              "heart_disease          0\n",
              "ever_married           0\n",
              "work_type              0\n",
              "Residence_type         0\n",
              "avg_glucose_level      0\n",
              "bmi                  201\n",
              "smoking_status         0\n",
              "stroke                 0\n",
              "dtype: int64"
            ]
          },
          "metadata": {},
          "execution_count": 64
        }
      ]
    },
    {
      "cell_type": "markdown",
      "source": [
        "There are 201 missing values in the bmi column, this will be dealt with when using SimpleImputer"
      ],
      "metadata": {
        "id": "U8CsEGqAqhv-"
      }
    },
    {
      "cell_type": "code",
      "source": [
        "# Impute num pipeline to deal with missing values in bmi column\n",
        "num_pipe = make_pipeline(median_imputer, scaler)\n",
        "num_pipe"
      ],
      "metadata": {
        "colab": {
          "base_uri": "https://localhost:8080/",
          "height": 131
        },
        "id": "-BOBvYe3qBMB",
        "outputId": "7a701626-faf6-4898-c1e7-c43a297ed7f7"
      },
      "execution_count": 65,
      "outputs": [
        {
          "output_type": "execute_result",
          "data": {
            "text/plain": [
              "Pipeline(steps=[('simpleimputer', SimpleImputer(strategy='median')),\n",
              "                ('standardscaler', StandardScaler())])"
            ],
            "text/html": [
              "<style>#sk-9db3779f-7394-44a2-bedb-defaf24e6100 {color: black;background-color: white;}#sk-9db3779f-7394-44a2-bedb-defaf24e6100 pre{padding: 0;}#sk-9db3779f-7394-44a2-bedb-defaf24e6100 div.sk-toggleable {background-color: white;}#sk-9db3779f-7394-44a2-bedb-defaf24e6100 label.sk-toggleable__label {cursor: pointer;display: block;width: 100%;margin-bottom: 0;padding: 0.3em;box-sizing: border-box;text-align: center;}#sk-9db3779f-7394-44a2-bedb-defaf24e6100 label.sk-toggleable__label-arrow:before {content: \"▸\";float: left;margin-right: 0.25em;color: #696969;}#sk-9db3779f-7394-44a2-bedb-defaf24e6100 label.sk-toggleable__label-arrow:hover:before {color: black;}#sk-9db3779f-7394-44a2-bedb-defaf24e6100 div.sk-estimator:hover label.sk-toggleable__label-arrow:before {color: black;}#sk-9db3779f-7394-44a2-bedb-defaf24e6100 div.sk-toggleable__content {max-height: 0;max-width: 0;overflow: hidden;text-align: left;background-color: #f0f8ff;}#sk-9db3779f-7394-44a2-bedb-defaf24e6100 div.sk-toggleable__content pre {margin: 0.2em;color: black;border-radius: 0.25em;background-color: #f0f8ff;}#sk-9db3779f-7394-44a2-bedb-defaf24e6100 input.sk-toggleable__control:checked~div.sk-toggleable__content {max-height: 200px;max-width: 100%;overflow: auto;}#sk-9db3779f-7394-44a2-bedb-defaf24e6100 input.sk-toggleable__control:checked~label.sk-toggleable__label-arrow:before {content: \"▾\";}#sk-9db3779f-7394-44a2-bedb-defaf24e6100 div.sk-estimator input.sk-toggleable__control:checked~label.sk-toggleable__label {background-color: #d4ebff;}#sk-9db3779f-7394-44a2-bedb-defaf24e6100 div.sk-label input.sk-toggleable__control:checked~label.sk-toggleable__label {background-color: #d4ebff;}#sk-9db3779f-7394-44a2-bedb-defaf24e6100 input.sk-hidden--visually {border: 0;clip: rect(1px 1px 1px 1px);clip: rect(1px, 1px, 1px, 1px);height: 1px;margin: -1px;overflow: hidden;padding: 0;position: absolute;width: 1px;}#sk-9db3779f-7394-44a2-bedb-defaf24e6100 div.sk-estimator {font-family: monospace;background-color: #f0f8ff;border: 1px dotted black;border-radius: 0.25em;box-sizing: border-box;margin-bottom: 0.5em;}#sk-9db3779f-7394-44a2-bedb-defaf24e6100 div.sk-estimator:hover {background-color: #d4ebff;}#sk-9db3779f-7394-44a2-bedb-defaf24e6100 div.sk-parallel-item::after {content: \"\";width: 100%;border-bottom: 1px solid gray;flex-grow: 1;}#sk-9db3779f-7394-44a2-bedb-defaf24e6100 div.sk-label:hover label.sk-toggleable__label {background-color: #d4ebff;}#sk-9db3779f-7394-44a2-bedb-defaf24e6100 div.sk-serial::before {content: \"\";position: absolute;border-left: 1px solid gray;box-sizing: border-box;top: 2em;bottom: 0;left: 50%;}#sk-9db3779f-7394-44a2-bedb-defaf24e6100 div.sk-serial {display: flex;flex-direction: column;align-items: center;background-color: white;padding-right: 0.2em;padding-left: 0.2em;}#sk-9db3779f-7394-44a2-bedb-defaf24e6100 div.sk-item {z-index: 1;}#sk-9db3779f-7394-44a2-bedb-defaf24e6100 div.sk-parallel {display: flex;align-items: stretch;justify-content: center;background-color: white;}#sk-9db3779f-7394-44a2-bedb-defaf24e6100 div.sk-parallel::before {content: \"\";position: absolute;border-left: 1px solid gray;box-sizing: border-box;top: 2em;bottom: 0;left: 50%;}#sk-9db3779f-7394-44a2-bedb-defaf24e6100 div.sk-parallel-item {display: flex;flex-direction: column;position: relative;background-color: white;}#sk-9db3779f-7394-44a2-bedb-defaf24e6100 div.sk-parallel-item:first-child::after {align-self: flex-end;width: 50%;}#sk-9db3779f-7394-44a2-bedb-defaf24e6100 div.sk-parallel-item:last-child::after {align-self: flex-start;width: 50%;}#sk-9db3779f-7394-44a2-bedb-defaf24e6100 div.sk-parallel-item:only-child::after {width: 0;}#sk-9db3779f-7394-44a2-bedb-defaf24e6100 div.sk-dashed-wrapped {border: 1px dashed gray;margin: 0 0.4em 0.5em 0.4em;box-sizing: border-box;padding-bottom: 0.4em;background-color: white;position: relative;}#sk-9db3779f-7394-44a2-bedb-defaf24e6100 div.sk-label label {font-family: monospace;font-weight: bold;background-color: white;display: inline-block;line-height: 1.2em;}#sk-9db3779f-7394-44a2-bedb-defaf24e6100 div.sk-label-container {position: relative;z-index: 2;text-align: center;}#sk-9db3779f-7394-44a2-bedb-defaf24e6100 div.sk-container {/* jupyter's `normalize.less` sets `[hidden] { display: none; }` but bootstrap.min.css set `[hidden] { display: none !important; }` so we also need the `!important` here to be able to override the default hidden behavior on the sphinx rendered scikit-learn.org. See: https://github.com/scikit-learn/scikit-learn/issues/21755 */display: inline-block !important;position: relative;}#sk-9db3779f-7394-44a2-bedb-defaf24e6100 div.sk-text-repr-fallback {display: none;}</style><div id=\"sk-9db3779f-7394-44a2-bedb-defaf24e6100\" class=\"sk-top-container\"><div class=\"sk-text-repr-fallback\"><pre>Pipeline(steps=[(&#x27;simpleimputer&#x27;, SimpleImputer(strategy=&#x27;median&#x27;)),\n",
              "                (&#x27;standardscaler&#x27;, StandardScaler())])</pre><b>Please rerun this cell to show the HTML repr or trust the notebook.</b></div><div class=\"sk-container\" hidden><div class=\"sk-item sk-dashed-wrapped\"><div class=\"sk-label-container\"><div class=\"sk-label sk-toggleable\"><input class=\"sk-toggleable__control sk-hidden--visually\" id=\"05cad171-7ba6-4d81-915c-bfe626691e76\" type=\"checkbox\" ><label for=\"05cad171-7ba6-4d81-915c-bfe626691e76\" class=\"sk-toggleable__label sk-toggleable__label-arrow\">Pipeline</label><div class=\"sk-toggleable__content\"><pre>Pipeline(steps=[(&#x27;simpleimputer&#x27;, SimpleImputer(strategy=&#x27;median&#x27;)),\n",
              "                (&#x27;standardscaler&#x27;, StandardScaler())])</pre></div></div></div><div class=\"sk-serial\"><div class=\"sk-item\"><div class=\"sk-estimator sk-toggleable\"><input class=\"sk-toggleable__control sk-hidden--visually\" id=\"155090aa-aa85-4692-bd8f-02c86a73ddcd\" type=\"checkbox\" ><label for=\"155090aa-aa85-4692-bd8f-02c86a73ddcd\" class=\"sk-toggleable__label sk-toggleable__label-arrow\">SimpleImputer</label><div class=\"sk-toggleable__content\"><pre>SimpleImputer(strategy=&#x27;median&#x27;)</pre></div></div></div><div class=\"sk-item\"><div class=\"sk-estimator sk-toggleable\"><input class=\"sk-toggleable__control sk-hidden--visually\" id=\"14055b44-a887-48b0-99c5-bd8c6dc755bb\" type=\"checkbox\" ><label for=\"14055b44-a887-48b0-99c5-bd8c6dc755bb\" class=\"sk-toggleable__label sk-toggleable__label-arrow\">StandardScaler</label><div class=\"sk-toggleable__content\"><pre>StandardScaler()</pre></div></div></div></div></div></div></div>"
            ]
          },
          "metadata": {},
          "execution_count": 65
        }
      ]
    },
    {
      "cell_type": "markdown",
      "source": [
        "- OHE is used in categorical data because not all of the 'object' columns have ordered variables.\n",
        "- **Ex:** '`gender`' has '`Female`', '`Male`', '`Other`'"
      ],
      "metadata": {
        "id": "4LDFqDOArcK-"
      }
    },
    {
      "cell_type": "code",
      "source": [
        "# Creating pipeline for categorical data\n",
        "cat_pipe = make_pipeline(ohe, scaler)\n",
        "cat_pipe"
      ],
      "metadata": {
        "colab": {
          "base_uri": "https://localhost:8080/",
          "height": 131
        },
        "id": "hapRjmH1qyVQ",
        "outputId": "135b7e8c-23f4-4035-de38-a5e9a56e4852"
      },
      "execution_count": 66,
      "outputs": [
        {
          "output_type": "execute_result",
          "data": {
            "text/plain": [
              "Pipeline(steps=[('onehotencoder',\n",
              "                 OneHotEncoder(handle_unknown='ignore', sparse=False)),\n",
              "                ('standardscaler', StandardScaler())])"
            ],
            "text/html": [
              "<style>#sk-0cf4b425-1ab5-4398-805e-325af9c10fc1 {color: black;background-color: white;}#sk-0cf4b425-1ab5-4398-805e-325af9c10fc1 pre{padding: 0;}#sk-0cf4b425-1ab5-4398-805e-325af9c10fc1 div.sk-toggleable {background-color: white;}#sk-0cf4b425-1ab5-4398-805e-325af9c10fc1 label.sk-toggleable__label {cursor: pointer;display: block;width: 100%;margin-bottom: 0;padding: 0.3em;box-sizing: border-box;text-align: center;}#sk-0cf4b425-1ab5-4398-805e-325af9c10fc1 label.sk-toggleable__label-arrow:before {content: \"▸\";float: left;margin-right: 0.25em;color: #696969;}#sk-0cf4b425-1ab5-4398-805e-325af9c10fc1 label.sk-toggleable__label-arrow:hover:before {color: black;}#sk-0cf4b425-1ab5-4398-805e-325af9c10fc1 div.sk-estimator:hover label.sk-toggleable__label-arrow:before {color: black;}#sk-0cf4b425-1ab5-4398-805e-325af9c10fc1 div.sk-toggleable__content {max-height: 0;max-width: 0;overflow: hidden;text-align: left;background-color: #f0f8ff;}#sk-0cf4b425-1ab5-4398-805e-325af9c10fc1 div.sk-toggleable__content pre {margin: 0.2em;color: black;border-radius: 0.25em;background-color: #f0f8ff;}#sk-0cf4b425-1ab5-4398-805e-325af9c10fc1 input.sk-toggleable__control:checked~div.sk-toggleable__content {max-height: 200px;max-width: 100%;overflow: auto;}#sk-0cf4b425-1ab5-4398-805e-325af9c10fc1 input.sk-toggleable__control:checked~label.sk-toggleable__label-arrow:before {content: \"▾\";}#sk-0cf4b425-1ab5-4398-805e-325af9c10fc1 div.sk-estimator input.sk-toggleable__control:checked~label.sk-toggleable__label {background-color: #d4ebff;}#sk-0cf4b425-1ab5-4398-805e-325af9c10fc1 div.sk-label input.sk-toggleable__control:checked~label.sk-toggleable__label {background-color: #d4ebff;}#sk-0cf4b425-1ab5-4398-805e-325af9c10fc1 input.sk-hidden--visually {border: 0;clip: rect(1px 1px 1px 1px);clip: rect(1px, 1px, 1px, 1px);height: 1px;margin: -1px;overflow: hidden;padding: 0;position: absolute;width: 1px;}#sk-0cf4b425-1ab5-4398-805e-325af9c10fc1 div.sk-estimator {font-family: monospace;background-color: #f0f8ff;border: 1px dotted black;border-radius: 0.25em;box-sizing: border-box;margin-bottom: 0.5em;}#sk-0cf4b425-1ab5-4398-805e-325af9c10fc1 div.sk-estimator:hover {background-color: #d4ebff;}#sk-0cf4b425-1ab5-4398-805e-325af9c10fc1 div.sk-parallel-item::after {content: \"\";width: 100%;border-bottom: 1px solid gray;flex-grow: 1;}#sk-0cf4b425-1ab5-4398-805e-325af9c10fc1 div.sk-label:hover label.sk-toggleable__label {background-color: #d4ebff;}#sk-0cf4b425-1ab5-4398-805e-325af9c10fc1 div.sk-serial::before {content: \"\";position: absolute;border-left: 1px solid gray;box-sizing: border-box;top: 2em;bottom: 0;left: 50%;}#sk-0cf4b425-1ab5-4398-805e-325af9c10fc1 div.sk-serial {display: flex;flex-direction: column;align-items: center;background-color: white;padding-right: 0.2em;padding-left: 0.2em;}#sk-0cf4b425-1ab5-4398-805e-325af9c10fc1 div.sk-item {z-index: 1;}#sk-0cf4b425-1ab5-4398-805e-325af9c10fc1 div.sk-parallel {display: flex;align-items: stretch;justify-content: center;background-color: white;}#sk-0cf4b425-1ab5-4398-805e-325af9c10fc1 div.sk-parallel::before {content: \"\";position: absolute;border-left: 1px solid gray;box-sizing: border-box;top: 2em;bottom: 0;left: 50%;}#sk-0cf4b425-1ab5-4398-805e-325af9c10fc1 div.sk-parallel-item {display: flex;flex-direction: column;position: relative;background-color: white;}#sk-0cf4b425-1ab5-4398-805e-325af9c10fc1 div.sk-parallel-item:first-child::after {align-self: flex-end;width: 50%;}#sk-0cf4b425-1ab5-4398-805e-325af9c10fc1 div.sk-parallel-item:last-child::after {align-self: flex-start;width: 50%;}#sk-0cf4b425-1ab5-4398-805e-325af9c10fc1 div.sk-parallel-item:only-child::after {width: 0;}#sk-0cf4b425-1ab5-4398-805e-325af9c10fc1 div.sk-dashed-wrapped {border: 1px dashed gray;margin: 0 0.4em 0.5em 0.4em;box-sizing: border-box;padding-bottom: 0.4em;background-color: white;position: relative;}#sk-0cf4b425-1ab5-4398-805e-325af9c10fc1 div.sk-label label {font-family: monospace;font-weight: bold;background-color: white;display: inline-block;line-height: 1.2em;}#sk-0cf4b425-1ab5-4398-805e-325af9c10fc1 div.sk-label-container {position: relative;z-index: 2;text-align: center;}#sk-0cf4b425-1ab5-4398-805e-325af9c10fc1 div.sk-container {/* jupyter's `normalize.less` sets `[hidden] { display: none; }` but bootstrap.min.css set `[hidden] { display: none !important; }` so we also need the `!important` here to be able to override the default hidden behavior on the sphinx rendered scikit-learn.org. See: https://github.com/scikit-learn/scikit-learn/issues/21755 */display: inline-block !important;position: relative;}#sk-0cf4b425-1ab5-4398-805e-325af9c10fc1 div.sk-text-repr-fallback {display: none;}</style><div id=\"sk-0cf4b425-1ab5-4398-805e-325af9c10fc1\" class=\"sk-top-container\"><div class=\"sk-text-repr-fallback\"><pre>Pipeline(steps=[(&#x27;onehotencoder&#x27;,\n",
              "                 OneHotEncoder(handle_unknown=&#x27;ignore&#x27;, sparse=False)),\n",
              "                (&#x27;standardscaler&#x27;, StandardScaler())])</pre><b>Please rerun this cell to show the HTML repr or trust the notebook.</b></div><div class=\"sk-container\" hidden><div class=\"sk-item sk-dashed-wrapped\"><div class=\"sk-label-container\"><div class=\"sk-label sk-toggleable\"><input class=\"sk-toggleable__control sk-hidden--visually\" id=\"6daf5a6c-ce28-44ca-96c5-4e0cb936b526\" type=\"checkbox\" ><label for=\"6daf5a6c-ce28-44ca-96c5-4e0cb936b526\" class=\"sk-toggleable__label sk-toggleable__label-arrow\">Pipeline</label><div class=\"sk-toggleable__content\"><pre>Pipeline(steps=[(&#x27;onehotencoder&#x27;,\n",
              "                 OneHotEncoder(handle_unknown=&#x27;ignore&#x27;, sparse=False)),\n",
              "                (&#x27;standardscaler&#x27;, StandardScaler())])</pre></div></div></div><div class=\"sk-serial\"><div class=\"sk-item\"><div class=\"sk-estimator sk-toggleable\"><input class=\"sk-toggleable__control sk-hidden--visually\" id=\"b1c95bd4-a5fe-4dce-b8e9-99ad5d1477c3\" type=\"checkbox\" ><label for=\"b1c95bd4-a5fe-4dce-b8e9-99ad5d1477c3\" class=\"sk-toggleable__label sk-toggleable__label-arrow\">OneHotEncoder</label><div class=\"sk-toggleable__content\"><pre>OneHotEncoder(handle_unknown=&#x27;ignore&#x27;, sparse=False)</pre></div></div></div><div class=\"sk-item\"><div class=\"sk-estimator sk-toggleable\"><input class=\"sk-toggleable__control sk-hidden--visually\" id=\"cfcd710f-e8af-40b6-a617-8c30478543d3\" type=\"checkbox\" ><label for=\"cfcd710f-e8af-40b6-a617-8c30478543d3\" class=\"sk-toggleable__label sk-toggleable__label-arrow\">StandardScaler</label><div class=\"sk-toggleable__content\"><pre>StandardScaler()</pre></div></div></div></div></div></div></div>"
            ]
          },
          "metadata": {},
          "execution_count": 66
        }
      ]
    },
    {
      "cell_type": "markdown",
      "source": [
        "## Tuple Creation & Preprocessor"
      ],
      "metadata": {
        "id": "AO-E8XsTrAYK"
      }
    },
    {
      "cell_type": "code",
      "source": [
        "# Creating tuples for num & categorical data\n",
        "num_tuple = (num_pipe, num_selector)\n",
        "cat_tuple = (cat_pipe, cat_selector)"
      ],
      "metadata": {
        "id": "_RnwsfpgrGCV"
      },
      "execution_count": 67,
      "outputs": []
    },
    {
      "cell_type": "code",
      "source": [
        "#Creating Preprocessor that combines everything\n",
        "preprocessor = make_column_transformer(num_tuple, cat_tuple, remainder='passthrough')\n",
        "preprocessor"
      ],
      "metadata": {
        "colab": {
          "base_uri": "https://localhost:8080/",
          "height": 157
        },
        "id": "gOLXirfJrRkU",
        "outputId": "25a3b76d-a4a8-42aa-9a81-d637748a0dc1"
      },
      "execution_count": 68,
      "outputs": [
        {
          "output_type": "execute_result",
          "data": {
            "text/plain": [
              "ColumnTransformer(remainder='passthrough',\n",
              "                  transformers=[('pipeline-1',\n",
              "                                 Pipeline(steps=[('simpleimputer',\n",
              "                                                  SimpleImputer(strategy='median')),\n",
              "                                                 ('standardscaler',\n",
              "                                                  StandardScaler())]),\n",
              "                                 <sklearn.compose._column_transformer.make_column_selector object at 0x7f75655d7880>),\n",
              "                                ('pipeline-2',\n",
              "                                 Pipeline(steps=[('onehotencoder',\n",
              "                                                  OneHotEncoder(handle_unknown='ignore',\n",
              "                                                                sparse=False)),\n",
              "                                                 ('standardscaler',\n",
              "                                                  StandardScaler())]),\n",
              "                                 <sklearn.compose._column_transformer.make_column_selector object at 0x7f75655d79d0>)])"
            ],
            "text/html": [
              "<style>#sk-d696d1f5-d0c0-4008-b8d0-c857e9ee6d8a {color: black;background-color: white;}#sk-d696d1f5-d0c0-4008-b8d0-c857e9ee6d8a pre{padding: 0;}#sk-d696d1f5-d0c0-4008-b8d0-c857e9ee6d8a div.sk-toggleable {background-color: white;}#sk-d696d1f5-d0c0-4008-b8d0-c857e9ee6d8a label.sk-toggleable__label {cursor: pointer;display: block;width: 100%;margin-bottom: 0;padding: 0.3em;box-sizing: border-box;text-align: center;}#sk-d696d1f5-d0c0-4008-b8d0-c857e9ee6d8a label.sk-toggleable__label-arrow:before {content: \"▸\";float: left;margin-right: 0.25em;color: #696969;}#sk-d696d1f5-d0c0-4008-b8d0-c857e9ee6d8a label.sk-toggleable__label-arrow:hover:before {color: black;}#sk-d696d1f5-d0c0-4008-b8d0-c857e9ee6d8a div.sk-estimator:hover label.sk-toggleable__label-arrow:before {color: black;}#sk-d696d1f5-d0c0-4008-b8d0-c857e9ee6d8a div.sk-toggleable__content {max-height: 0;max-width: 0;overflow: hidden;text-align: left;background-color: #f0f8ff;}#sk-d696d1f5-d0c0-4008-b8d0-c857e9ee6d8a div.sk-toggleable__content pre {margin: 0.2em;color: black;border-radius: 0.25em;background-color: #f0f8ff;}#sk-d696d1f5-d0c0-4008-b8d0-c857e9ee6d8a input.sk-toggleable__control:checked~div.sk-toggleable__content {max-height: 200px;max-width: 100%;overflow: auto;}#sk-d696d1f5-d0c0-4008-b8d0-c857e9ee6d8a input.sk-toggleable__control:checked~label.sk-toggleable__label-arrow:before {content: \"▾\";}#sk-d696d1f5-d0c0-4008-b8d0-c857e9ee6d8a div.sk-estimator input.sk-toggleable__control:checked~label.sk-toggleable__label {background-color: #d4ebff;}#sk-d696d1f5-d0c0-4008-b8d0-c857e9ee6d8a div.sk-label input.sk-toggleable__control:checked~label.sk-toggleable__label {background-color: #d4ebff;}#sk-d696d1f5-d0c0-4008-b8d0-c857e9ee6d8a input.sk-hidden--visually {border: 0;clip: rect(1px 1px 1px 1px);clip: rect(1px, 1px, 1px, 1px);height: 1px;margin: -1px;overflow: hidden;padding: 0;position: absolute;width: 1px;}#sk-d696d1f5-d0c0-4008-b8d0-c857e9ee6d8a div.sk-estimator {font-family: monospace;background-color: #f0f8ff;border: 1px dotted black;border-radius: 0.25em;box-sizing: border-box;margin-bottom: 0.5em;}#sk-d696d1f5-d0c0-4008-b8d0-c857e9ee6d8a div.sk-estimator:hover {background-color: #d4ebff;}#sk-d696d1f5-d0c0-4008-b8d0-c857e9ee6d8a div.sk-parallel-item::after {content: \"\";width: 100%;border-bottom: 1px solid gray;flex-grow: 1;}#sk-d696d1f5-d0c0-4008-b8d0-c857e9ee6d8a div.sk-label:hover label.sk-toggleable__label {background-color: #d4ebff;}#sk-d696d1f5-d0c0-4008-b8d0-c857e9ee6d8a div.sk-serial::before {content: \"\";position: absolute;border-left: 1px solid gray;box-sizing: border-box;top: 2em;bottom: 0;left: 50%;}#sk-d696d1f5-d0c0-4008-b8d0-c857e9ee6d8a div.sk-serial {display: flex;flex-direction: column;align-items: center;background-color: white;padding-right: 0.2em;padding-left: 0.2em;}#sk-d696d1f5-d0c0-4008-b8d0-c857e9ee6d8a div.sk-item {z-index: 1;}#sk-d696d1f5-d0c0-4008-b8d0-c857e9ee6d8a div.sk-parallel {display: flex;align-items: stretch;justify-content: center;background-color: white;}#sk-d696d1f5-d0c0-4008-b8d0-c857e9ee6d8a div.sk-parallel::before {content: \"\";position: absolute;border-left: 1px solid gray;box-sizing: border-box;top: 2em;bottom: 0;left: 50%;}#sk-d696d1f5-d0c0-4008-b8d0-c857e9ee6d8a div.sk-parallel-item {display: flex;flex-direction: column;position: relative;background-color: white;}#sk-d696d1f5-d0c0-4008-b8d0-c857e9ee6d8a div.sk-parallel-item:first-child::after {align-self: flex-end;width: 50%;}#sk-d696d1f5-d0c0-4008-b8d0-c857e9ee6d8a div.sk-parallel-item:last-child::after {align-self: flex-start;width: 50%;}#sk-d696d1f5-d0c0-4008-b8d0-c857e9ee6d8a div.sk-parallel-item:only-child::after {width: 0;}#sk-d696d1f5-d0c0-4008-b8d0-c857e9ee6d8a div.sk-dashed-wrapped {border: 1px dashed gray;margin: 0 0.4em 0.5em 0.4em;box-sizing: border-box;padding-bottom: 0.4em;background-color: white;position: relative;}#sk-d696d1f5-d0c0-4008-b8d0-c857e9ee6d8a div.sk-label label {font-family: monospace;font-weight: bold;background-color: white;display: inline-block;line-height: 1.2em;}#sk-d696d1f5-d0c0-4008-b8d0-c857e9ee6d8a div.sk-label-container {position: relative;z-index: 2;text-align: center;}#sk-d696d1f5-d0c0-4008-b8d0-c857e9ee6d8a div.sk-container {/* jupyter's `normalize.less` sets `[hidden] { display: none; }` but bootstrap.min.css set `[hidden] { display: none !important; }` so we also need the `!important` here to be able to override the default hidden behavior on the sphinx rendered scikit-learn.org. See: https://github.com/scikit-learn/scikit-learn/issues/21755 */display: inline-block !important;position: relative;}#sk-d696d1f5-d0c0-4008-b8d0-c857e9ee6d8a div.sk-text-repr-fallback {display: none;}</style><div id=\"sk-d696d1f5-d0c0-4008-b8d0-c857e9ee6d8a\" class=\"sk-top-container\"><div class=\"sk-text-repr-fallback\"><pre>ColumnTransformer(remainder=&#x27;passthrough&#x27;,\n",
              "                  transformers=[(&#x27;pipeline-1&#x27;,\n",
              "                                 Pipeline(steps=[(&#x27;simpleimputer&#x27;,\n",
              "                                                  SimpleImputer(strategy=&#x27;median&#x27;)),\n",
              "                                                 (&#x27;standardscaler&#x27;,\n",
              "                                                  StandardScaler())]),\n",
              "                                 &lt;sklearn.compose._column_transformer.make_column_selector object at 0x7f75655d7880&gt;),\n",
              "                                (&#x27;pipeline-2&#x27;,\n",
              "                                 Pipeline(steps=[(&#x27;onehotencoder&#x27;,\n",
              "                                                  OneHotEncoder(handle_unknown=&#x27;ignore&#x27;,\n",
              "                                                                sparse=False)),\n",
              "                                                 (&#x27;standardscaler&#x27;,\n",
              "                                                  StandardScaler())]),\n",
              "                                 &lt;sklearn.compose._column_transformer.make_column_selector object at 0x7f75655d79d0&gt;)])</pre><b>Please rerun this cell to show the HTML repr or trust the notebook.</b></div><div class=\"sk-container\" hidden><div class=\"sk-item sk-dashed-wrapped\"><div class=\"sk-label-container\"><div class=\"sk-label sk-toggleable\"><input class=\"sk-toggleable__control sk-hidden--visually\" id=\"f2ddc5e4-7c14-4953-9222-5caa81200a03\" type=\"checkbox\" ><label for=\"f2ddc5e4-7c14-4953-9222-5caa81200a03\" class=\"sk-toggleable__label sk-toggleable__label-arrow\">ColumnTransformer</label><div class=\"sk-toggleable__content\"><pre>ColumnTransformer(remainder=&#x27;passthrough&#x27;,\n",
              "                  transformers=[(&#x27;pipeline-1&#x27;,\n",
              "                                 Pipeline(steps=[(&#x27;simpleimputer&#x27;,\n",
              "                                                  SimpleImputer(strategy=&#x27;median&#x27;)),\n",
              "                                                 (&#x27;standardscaler&#x27;,\n",
              "                                                  StandardScaler())]),\n",
              "                                 &lt;sklearn.compose._column_transformer.make_column_selector object at 0x7f75655d7880&gt;),\n",
              "                                (&#x27;pipeline-2&#x27;,\n",
              "                                 Pipeline(steps=[(&#x27;onehotencoder&#x27;,\n",
              "                                                  OneHotEncoder(handle_unknown=&#x27;ignore&#x27;,\n",
              "                                                                sparse=False)),\n",
              "                                                 (&#x27;standardscaler&#x27;,\n",
              "                                                  StandardScaler())]),\n",
              "                                 &lt;sklearn.compose._column_transformer.make_column_selector object at 0x7f75655d79d0&gt;)])</pre></div></div></div><div class=\"sk-parallel\"><div class=\"sk-parallel-item\"><div class=\"sk-item\"><div class=\"sk-label-container\"><div class=\"sk-label sk-toggleable\"><input class=\"sk-toggleable__control sk-hidden--visually\" id=\"0db392eb-3970-4503-8ae8-efc874800cea\" type=\"checkbox\" ><label for=\"0db392eb-3970-4503-8ae8-efc874800cea\" class=\"sk-toggleable__label sk-toggleable__label-arrow\">pipeline-1</label><div class=\"sk-toggleable__content\"><pre>&lt;sklearn.compose._column_transformer.make_column_selector object at 0x7f75655d7880&gt;</pre></div></div></div><div class=\"sk-serial\"><div class=\"sk-item\"><div class=\"sk-serial\"><div class=\"sk-item\"><div class=\"sk-estimator sk-toggleable\"><input class=\"sk-toggleable__control sk-hidden--visually\" id=\"317ba1f1-14c8-45c4-a9e5-d97f1666db6e\" type=\"checkbox\" ><label for=\"317ba1f1-14c8-45c4-a9e5-d97f1666db6e\" class=\"sk-toggleable__label sk-toggleable__label-arrow\">SimpleImputer</label><div class=\"sk-toggleable__content\"><pre>SimpleImputer(strategy=&#x27;median&#x27;)</pre></div></div></div><div class=\"sk-item\"><div class=\"sk-estimator sk-toggleable\"><input class=\"sk-toggleable__control sk-hidden--visually\" id=\"07ae907d-5e96-4c56-843d-bcc4c889d6aa\" type=\"checkbox\" ><label for=\"07ae907d-5e96-4c56-843d-bcc4c889d6aa\" class=\"sk-toggleable__label sk-toggleable__label-arrow\">StandardScaler</label><div class=\"sk-toggleable__content\"><pre>StandardScaler()</pre></div></div></div></div></div></div></div></div><div class=\"sk-parallel-item\"><div class=\"sk-item\"><div class=\"sk-label-container\"><div class=\"sk-label sk-toggleable\"><input class=\"sk-toggleable__control sk-hidden--visually\" id=\"08ddb7a0-da6b-4291-ae73-27f8a9b76e75\" type=\"checkbox\" ><label for=\"08ddb7a0-da6b-4291-ae73-27f8a9b76e75\" class=\"sk-toggleable__label sk-toggleable__label-arrow\">pipeline-2</label><div class=\"sk-toggleable__content\"><pre>&lt;sklearn.compose._column_transformer.make_column_selector object at 0x7f75655d79d0&gt;</pre></div></div></div><div class=\"sk-serial\"><div class=\"sk-item\"><div class=\"sk-serial\"><div class=\"sk-item\"><div class=\"sk-estimator sk-toggleable\"><input class=\"sk-toggleable__control sk-hidden--visually\" id=\"16be40d1-216f-40fb-a927-605f13b35980\" type=\"checkbox\" ><label for=\"16be40d1-216f-40fb-a927-605f13b35980\" class=\"sk-toggleable__label sk-toggleable__label-arrow\">OneHotEncoder</label><div class=\"sk-toggleable__content\"><pre>OneHotEncoder(handle_unknown=&#x27;ignore&#x27;, sparse=False)</pre></div></div></div><div class=\"sk-item\"><div class=\"sk-estimator sk-toggleable\"><input class=\"sk-toggleable__control sk-hidden--visually\" id=\"a2c7b8cb-b757-486f-be82-60c1a50b94c0\" type=\"checkbox\" ><label for=\"a2c7b8cb-b757-486f-be82-60c1a50b94c0\" class=\"sk-toggleable__label sk-toggleable__label-arrow\">StandardScaler</label><div class=\"sk-toggleable__content\"><pre>StandardScaler()</pre></div></div></div></div></div></div></div></div><div class=\"sk-parallel-item\"><div class=\"sk-item\"><div class=\"sk-label-container\"><div class=\"sk-label sk-toggleable\"><input class=\"sk-toggleable__control sk-hidden--visually\" id=\"343afcb3-300b-4295-986c-557fc95a052d\" type=\"checkbox\" ><label for=\"343afcb3-300b-4295-986c-557fc95a052d\" class=\"sk-toggleable__label sk-toggleable__label-arrow\">remainder</label><div class=\"sk-toggleable__content\"><pre></pre></div></div></div><div class=\"sk-serial\"><div class=\"sk-item\"><div class=\"sk-estimator sk-toggleable\"><input class=\"sk-toggleable__control sk-hidden--visually\" id=\"cecbcf56-fbbb-40ac-9aff-0a408a6f61bf\" type=\"checkbox\" ><label for=\"cecbcf56-fbbb-40ac-9aff-0a408a6f61bf\" class=\"sk-toggleable__label sk-toggleable__label-arrow\">passthrough</label><div class=\"sk-toggleable__content\"><pre>passthrough</pre></div></div></div></div></div></div></div></div></div></div>"
            ]
          },
          "metadata": {},
          "execution_count": 68
        }
      ]
    },
    {
      "cell_type": "markdown",
      "source": [
        "##Fit Preprocessor & Transform Training Data"
      ],
      "metadata": {
        "id": "mkt6LhAIshjO"
      }
    },
    {
      "cell_type": "code",
      "source": [
        "#Fit preprocessor onto X_train\n",
        "preprocessor.fit(X_train)"
      ],
      "metadata": {
        "colab": {
          "base_uri": "https://localhost:8080/",
          "height": 157
        },
        "id": "m6BPM-GMs3Aw",
        "outputId": "72d6e5d9-8755-44f3-a62a-b2dd6a3b458a"
      },
      "execution_count": 69,
      "outputs": [
        {
          "output_type": "execute_result",
          "data": {
            "text/plain": [
              "ColumnTransformer(remainder='passthrough',\n",
              "                  transformers=[('pipeline-1',\n",
              "                                 Pipeline(steps=[('simpleimputer',\n",
              "                                                  SimpleImputer(strategy='median')),\n",
              "                                                 ('standardscaler',\n",
              "                                                  StandardScaler())]),\n",
              "                                 <sklearn.compose._column_transformer.make_column_selector object at 0x7f75655d7880>),\n",
              "                                ('pipeline-2',\n",
              "                                 Pipeline(steps=[('onehotencoder',\n",
              "                                                  OneHotEncoder(handle_unknown='ignore',\n",
              "                                                                sparse=False)),\n",
              "                                                 ('standardscaler',\n",
              "                                                  StandardScaler())]),\n",
              "                                 <sklearn.compose._column_transformer.make_column_selector object at 0x7f75655d79d0>)])"
            ],
            "text/html": [
              "<style>#sk-da462050-5b12-418f-acc2-753ea7b0a962 {color: black;background-color: white;}#sk-da462050-5b12-418f-acc2-753ea7b0a962 pre{padding: 0;}#sk-da462050-5b12-418f-acc2-753ea7b0a962 div.sk-toggleable {background-color: white;}#sk-da462050-5b12-418f-acc2-753ea7b0a962 label.sk-toggleable__label {cursor: pointer;display: block;width: 100%;margin-bottom: 0;padding: 0.3em;box-sizing: border-box;text-align: center;}#sk-da462050-5b12-418f-acc2-753ea7b0a962 label.sk-toggleable__label-arrow:before {content: \"▸\";float: left;margin-right: 0.25em;color: #696969;}#sk-da462050-5b12-418f-acc2-753ea7b0a962 label.sk-toggleable__label-arrow:hover:before {color: black;}#sk-da462050-5b12-418f-acc2-753ea7b0a962 div.sk-estimator:hover label.sk-toggleable__label-arrow:before {color: black;}#sk-da462050-5b12-418f-acc2-753ea7b0a962 div.sk-toggleable__content {max-height: 0;max-width: 0;overflow: hidden;text-align: left;background-color: #f0f8ff;}#sk-da462050-5b12-418f-acc2-753ea7b0a962 div.sk-toggleable__content pre {margin: 0.2em;color: black;border-radius: 0.25em;background-color: #f0f8ff;}#sk-da462050-5b12-418f-acc2-753ea7b0a962 input.sk-toggleable__control:checked~div.sk-toggleable__content {max-height: 200px;max-width: 100%;overflow: auto;}#sk-da462050-5b12-418f-acc2-753ea7b0a962 input.sk-toggleable__control:checked~label.sk-toggleable__label-arrow:before {content: \"▾\";}#sk-da462050-5b12-418f-acc2-753ea7b0a962 div.sk-estimator input.sk-toggleable__control:checked~label.sk-toggleable__label {background-color: #d4ebff;}#sk-da462050-5b12-418f-acc2-753ea7b0a962 div.sk-label input.sk-toggleable__control:checked~label.sk-toggleable__label {background-color: #d4ebff;}#sk-da462050-5b12-418f-acc2-753ea7b0a962 input.sk-hidden--visually {border: 0;clip: rect(1px 1px 1px 1px);clip: rect(1px, 1px, 1px, 1px);height: 1px;margin: -1px;overflow: hidden;padding: 0;position: absolute;width: 1px;}#sk-da462050-5b12-418f-acc2-753ea7b0a962 div.sk-estimator {font-family: monospace;background-color: #f0f8ff;border: 1px dotted black;border-radius: 0.25em;box-sizing: border-box;margin-bottom: 0.5em;}#sk-da462050-5b12-418f-acc2-753ea7b0a962 div.sk-estimator:hover {background-color: #d4ebff;}#sk-da462050-5b12-418f-acc2-753ea7b0a962 div.sk-parallel-item::after {content: \"\";width: 100%;border-bottom: 1px solid gray;flex-grow: 1;}#sk-da462050-5b12-418f-acc2-753ea7b0a962 div.sk-label:hover label.sk-toggleable__label {background-color: #d4ebff;}#sk-da462050-5b12-418f-acc2-753ea7b0a962 div.sk-serial::before {content: \"\";position: absolute;border-left: 1px solid gray;box-sizing: border-box;top: 2em;bottom: 0;left: 50%;}#sk-da462050-5b12-418f-acc2-753ea7b0a962 div.sk-serial {display: flex;flex-direction: column;align-items: center;background-color: white;padding-right: 0.2em;padding-left: 0.2em;}#sk-da462050-5b12-418f-acc2-753ea7b0a962 div.sk-item {z-index: 1;}#sk-da462050-5b12-418f-acc2-753ea7b0a962 div.sk-parallel {display: flex;align-items: stretch;justify-content: center;background-color: white;}#sk-da462050-5b12-418f-acc2-753ea7b0a962 div.sk-parallel::before {content: \"\";position: absolute;border-left: 1px solid gray;box-sizing: border-box;top: 2em;bottom: 0;left: 50%;}#sk-da462050-5b12-418f-acc2-753ea7b0a962 div.sk-parallel-item {display: flex;flex-direction: column;position: relative;background-color: white;}#sk-da462050-5b12-418f-acc2-753ea7b0a962 div.sk-parallel-item:first-child::after {align-self: flex-end;width: 50%;}#sk-da462050-5b12-418f-acc2-753ea7b0a962 div.sk-parallel-item:last-child::after {align-self: flex-start;width: 50%;}#sk-da462050-5b12-418f-acc2-753ea7b0a962 div.sk-parallel-item:only-child::after {width: 0;}#sk-da462050-5b12-418f-acc2-753ea7b0a962 div.sk-dashed-wrapped {border: 1px dashed gray;margin: 0 0.4em 0.5em 0.4em;box-sizing: border-box;padding-bottom: 0.4em;background-color: white;position: relative;}#sk-da462050-5b12-418f-acc2-753ea7b0a962 div.sk-label label {font-family: monospace;font-weight: bold;background-color: white;display: inline-block;line-height: 1.2em;}#sk-da462050-5b12-418f-acc2-753ea7b0a962 div.sk-label-container {position: relative;z-index: 2;text-align: center;}#sk-da462050-5b12-418f-acc2-753ea7b0a962 div.sk-container {/* jupyter's `normalize.less` sets `[hidden] { display: none; }` but bootstrap.min.css set `[hidden] { display: none !important; }` so we also need the `!important` here to be able to override the default hidden behavior on the sphinx rendered scikit-learn.org. See: https://github.com/scikit-learn/scikit-learn/issues/21755 */display: inline-block !important;position: relative;}#sk-da462050-5b12-418f-acc2-753ea7b0a962 div.sk-text-repr-fallback {display: none;}</style><div id=\"sk-da462050-5b12-418f-acc2-753ea7b0a962\" class=\"sk-top-container\"><div class=\"sk-text-repr-fallback\"><pre>ColumnTransformer(remainder=&#x27;passthrough&#x27;,\n",
              "                  transformers=[(&#x27;pipeline-1&#x27;,\n",
              "                                 Pipeline(steps=[(&#x27;simpleimputer&#x27;,\n",
              "                                                  SimpleImputer(strategy=&#x27;median&#x27;)),\n",
              "                                                 (&#x27;standardscaler&#x27;,\n",
              "                                                  StandardScaler())]),\n",
              "                                 &lt;sklearn.compose._column_transformer.make_column_selector object at 0x7f75655d7880&gt;),\n",
              "                                (&#x27;pipeline-2&#x27;,\n",
              "                                 Pipeline(steps=[(&#x27;onehotencoder&#x27;,\n",
              "                                                  OneHotEncoder(handle_unknown=&#x27;ignore&#x27;,\n",
              "                                                                sparse=False)),\n",
              "                                                 (&#x27;standardscaler&#x27;,\n",
              "                                                  StandardScaler())]),\n",
              "                                 &lt;sklearn.compose._column_transformer.make_column_selector object at 0x7f75655d79d0&gt;)])</pre><b>Please rerun this cell to show the HTML repr or trust the notebook.</b></div><div class=\"sk-container\" hidden><div class=\"sk-item sk-dashed-wrapped\"><div class=\"sk-label-container\"><div class=\"sk-label sk-toggleable\"><input class=\"sk-toggleable__control sk-hidden--visually\" id=\"01b0e7f8-4c3e-4662-ae3e-3ecb95549c8d\" type=\"checkbox\" ><label for=\"01b0e7f8-4c3e-4662-ae3e-3ecb95549c8d\" class=\"sk-toggleable__label sk-toggleable__label-arrow\">ColumnTransformer</label><div class=\"sk-toggleable__content\"><pre>ColumnTransformer(remainder=&#x27;passthrough&#x27;,\n",
              "                  transformers=[(&#x27;pipeline-1&#x27;,\n",
              "                                 Pipeline(steps=[(&#x27;simpleimputer&#x27;,\n",
              "                                                  SimpleImputer(strategy=&#x27;median&#x27;)),\n",
              "                                                 (&#x27;standardscaler&#x27;,\n",
              "                                                  StandardScaler())]),\n",
              "                                 &lt;sklearn.compose._column_transformer.make_column_selector object at 0x7f75655d7880&gt;),\n",
              "                                (&#x27;pipeline-2&#x27;,\n",
              "                                 Pipeline(steps=[(&#x27;onehotencoder&#x27;,\n",
              "                                                  OneHotEncoder(handle_unknown=&#x27;ignore&#x27;,\n",
              "                                                                sparse=False)),\n",
              "                                                 (&#x27;standardscaler&#x27;,\n",
              "                                                  StandardScaler())]),\n",
              "                                 &lt;sklearn.compose._column_transformer.make_column_selector object at 0x7f75655d79d0&gt;)])</pre></div></div></div><div class=\"sk-parallel\"><div class=\"sk-parallel-item\"><div class=\"sk-item\"><div class=\"sk-label-container\"><div class=\"sk-label sk-toggleable\"><input class=\"sk-toggleable__control sk-hidden--visually\" id=\"08e9814e-138f-4014-8cb4-c99c1dda2097\" type=\"checkbox\" ><label for=\"08e9814e-138f-4014-8cb4-c99c1dda2097\" class=\"sk-toggleable__label sk-toggleable__label-arrow\">pipeline-1</label><div class=\"sk-toggleable__content\"><pre>&lt;sklearn.compose._column_transformer.make_column_selector object at 0x7f75655d7880&gt;</pre></div></div></div><div class=\"sk-serial\"><div class=\"sk-item\"><div class=\"sk-serial\"><div class=\"sk-item\"><div class=\"sk-estimator sk-toggleable\"><input class=\"sk-toggleable__control sk-hidden--visually\" id=\"5539b453-db6f-4c92-9fe6-cc266a0931bb\" type=\"checkbox\" ><label for=\"5539b453-db6f-4c92-9fe6-cc266a0931bb\" class=\"sk-toggleable__label sk-toggleable__label-arrow\">SimpleImputer</label><div class=\"sk-toggleable__content\"><pre>SimpleImputer(strategy=&#x27;median&#x27;)</pre></div></div></div><div class=\"sk-item\"><div class=\"sk-estimator sk-toggleable\"><input class=\"sk-toggleable__control sk-hidden--visually\" id=\"5a7d3f29-550a-4ab9-8b1b-a28bb058444f\" type=\"checkbox\" ><label for=\"5a7d3f29-550a-4ab9-8b1b-a28bb058444f\" class=\"sk-toggleable__label sk-toggleable__label-arrow\">StandardScaler</label><div class=\"sk-toggleable__content\"><pre>StandardScaler()</pre></div></div></div></div></div></div></div></div><div class=\"sk-parallel-item\"><div class=\"sk-item\"><div class=\"sk-label-container\"><div class=\"sk-label sk-toggleable\"><input class=\"sk-toggleable__control sk-hidden--visually\" id=\"ae493494-f5ac-4e13-b953-81653ef6cda7\" type=\"checkbox\" ><label for=\"ae493494-f5ac-4e13-b953-81653ef6cda7\" class=\"sk-toggleable__label sk-toggleable__label-arrow\">pipeline-2</label><div class=\"sk-toggleable__content\"><pre>&lt;sklearn.compose._column_transformer.make_column_selector object at 0x7f75655d79d0&gt;</pre></div></div></div><div class=\"sk-serial\"><div class=\"sk-item\"><div class=\"sk-serial\"><div class=\"sk-item\"><div class=\"sk-estimator sk-toggleable\"><input class=\"sk-toggleable__control sk-hidden--visually\" id=\"4b84bcf6-f326-4d77-8ba7-bc91887a28f9\" type=\"checkbox\" ><label for=\"4b84bcf6-f326-4d77-8ba7-bc91887a28f9\" class=\"sk-toggleable__label sk-toggleable__label-arrow\">OneHotEncoder</label><div class=\"sk-toggleable__content\"><pre>OneHotEncoder(handle_unknown=&#x27;ignore&#x27;, sparse=False)</pre></div></div></div><div class=\"sk-item\"><div class=\"sk-estimator sk-toggleable\"><input class=\"sk-toggleable__control sk-hidden--visually\" id=\"ab39ec93-7127-4085-9f34-8514d54ec51f\" type=\"checkbox\" ><label for=\"ab39ec93-7127-4085-9f34-8514d54ec51f\" class=\"sk-toggleable__label sk-toggleable__label-arrow\">StandardScaler</label><div class=\"sk-toggleable__content\"><pre>StandardScaler()</pre></div></div></div></div></div></div></div></div><div class=\"sk-parallel-item\"><div class=\"sk-item\"><div class=\"sk-label-container\"><div class=\"sk-label sk-toggleable\"><input class=\"sk-toggleable__control sk-hidden--visually\" id=\"48c81658-85b2-4841-8d68-d63044240bb9\" type=\"checkbox\" ><label for=\"48c81658-85b2-4841-8d68-d63044240bb9\" class=\"sk-toggleable__label sk-toggleable__label-arrow\">remainder</label><div class=\"sk-toggleable__content\"><pre>[]</pre></div></div></div><div class=\"sk-serial\"><div class=\"sk-item\"><div class=\"sk-estimator sk-toggleable\"><input class=\"sk-toggleable__control sk-hidden--visually\" id=\"b32b39bc-e33b-42d7-a6b7-98b2e03e1067\" type=\"checkbox\" ><label for=\"b32b39bc-e33b-42d7-a6b7-98b2e03e1067\" class=\"sk-toggleable__label sk-toggleable__label-arrow\">passthrough</label><div class=\"sk-toggleable__content\"><pre>passthrough</pre></div></div></div></div></div></div></div></div></div></div>"
            ]
          },
          "metadata": {},
          "execution_count": 69
        }
      ]
    },
    {
      "cell_type": "code",
      "source": [
        "# Transform preprocessed train/test data\n",
        "X_train_preprocessed = preprocessor.transform(X_train)\n",
        "X_test_preprocessed = preprocessor.transform(X_test)"
      ],
      "metadata": {
        "id": "VvfOjbXKslEf"
      },
      "execution_count": 70,
      "outputs": []
    },
    {
      "cell_type": "markdown",
      "source": [
        "## Sanity Check for Missing Values and Proper Shape"
      ],
      "metadata": {
        "id": "2hPlyLRctpNY"
      }
    },
    {
      "cell_type": "code",
      "source": [
        "print(f'There are {np.isnan(X_train_preprocessed).sum()} missing values in the training data')\n",
        "print(f'There are {np.isnan(X_test_preprocessed).sum()} missing values in the testing data')\n",
        "print(f'All data in X_train_processed are {X_train_preprocessed.dtype} and X_test are {X_test_preprocessed.dtype}.')\n",
        "print(f'There are {X_train_preprocessed.shape[0]} rows and {X_train_preprocessed.shape[1]} columns in the train dataset.')"
      ],
      "metadata": {
        "colab": {
          "base_uri": "https://localhost:8080/"
        },
        "id": "Zw2Bu8I0tGe9",
        "outputId": "0a9833a5-3996-430b-b738-a2a16bc1be87"
      },
      "execution_count": 71,
      "outputs": [
        {
          "output_type": "stream",
          "name": "stdout",
          "text": [
            "There are 0 missing values in the training data\n",
            "There are 0 missing values in the testing data\n",
            "All data in X_train_processed are float64 and X_test are float64.\n",
            "There are 3832 rows and 21 columns in the train dataset.\n"
          ]
        }
      ]
    },
    {
      "cell_type": "markdown",
      "source": [
        "# Check data balance"
      ],
      "metadata": {
        "id": "tQ8bx2aP-yba"
      }
    },
    {
      "cell_type": "code",
      "source": [
        "# Checking data balance\n",
        "ml_df['stroke'].value_counts(normalize=True)"
      ],
      "metadata": {
        "colab": {
          "base_uri": "https://localhost:8080/"
        },
        "id": "WQjypuEQ-w1W",
        "outputId": "8b68e0ae-071c-444f-e43c-f79e2b397a12"
      },
      "execution_count": 72,
      "outputs": [
        {
          "output_type": "execute_result",
          "data": {
            "text/plain": [
              "0    0.951272\n",
              "1    0.048728\n",
              "Name: stroke, dtype: float64"
            ]
          },
          "metadata": {},
          "execution_count": 72
        }
      ]
    },
    {
      "cell_type": "markdown",
      "source": [
        "# Instantiate SMOTE"
      ],
      "metadata": {
        "id": "MakLs1sQ_LkW"
      }
    },
    {
      "cell_type": "markdown",
      "source": [
        "Smote will be used to balance the dataset for proper machine learning."
      ],
      "metadata": {
        "id": "-FXv7opI_Sma"
      }
    },
    {
      "cell_type": "code",
      "source": [
        "# Instantiate SMOTE so the dataset is balanced\n",
        "smote = SMOTE(random_state=42)"
      ],
      "metadata": {
        "id": "60vP6RTCC5Eb"
      },
      "execution_count": 73,
      "outputs": []
    },
    {
      "cell_type": "code",
      "source": [
        "models = [['Logistic Regression', LogisticRegression(random_state=42)],\n",
        "          ['Random Forest', RandomForestClassifier(random_state=42)],\n",
        "          ['Decision Tree', DecisionTreeClassifier(random_state=42)],\n",
        "          ['KNeighbors', KNeighborsClassifier()],\n",
        "          ['ADA Boost', AdaBoostClassifier(random_state=42)],\n",
        "          ['LightGBM', LGBMClassifier(random_state=42)],\n",
        "          ['XGBoost', XGBClassifier(random_state=42)],\n",
        "          ['Gradient Boosting', GradientBoostingClassifier(random_state=42)]]"
      ],
      "metadata": {
        "id": "ttjs-49F_QgG"
      },
      "execution_count": 74,
      "outputs": []
    },
    {
      "cell_type": "code",
      "source": [
        "for model in range(len(models)):\n",
        "  current_model = models[model][1]\n",
        "  smote_model = smote_pipe(preprocessor, smote, current_model)\n",
        "  smote_model.fit(X_train, y_train)\n",
        "  y_pred = smote_model.predict(X_test)\n",
        "  cm = ConfusionMatrixDisplay.from_predictions(y_test, y_pred, cmap='Greens');\n",
        "  accuracy = accuracy_score(y_test, y_pred)\n",
        "  precision = precision_score(y_test, y_pred)\n",
        "  recall = recall_score(y_test, y_pred)\n",
        "  f1 = f1_score(y_test, y_pred)\n",
        "\n",
        "\n",
        "  print(models[model][0], ':\\n')\n",
        "  print(classification_report(y_test, y_pred))\n",
        "  cm\n",
        "  plt.show();\n",
        "  print('\\n')"
      ],
      "metadata": {
        "colab": {
          "base_uri": "https://localhost:8080/",
          "height": 1000
        },
        "id": "if-hLOsNF-cU",
        "outputId": "6f0da825-1378-45e7-f798-9d54d74b84ef"
      },
      "execution_count": 75,
      "outputs": [
        {
          "output_type": "stream",
          "name": "stdout",
          "text": [
            "Logistic Regression :\n",
            "\n",
            "              precision    recall  f1-score   support\n",
            "\n",
            "           0       0.98      0.74      0.84      1216\n",
            "           1       0.13      0.76      0.22        62\n",
            "\n",
            "    accuracy                           0.74      1278\n",
            "   macro avg       0.56      0.75      0.53      1278\n",
            "weighted avg       0.94      0.74      0.81      1278\n",
            "\n"
          ]
        },
        {
          "output_type": "display_data",
          "data": {
            "text/plain": [
              "<Figure size 432x288 with 2 Axes>"
            ],
            "image/png": "[encoded data removed]"
          },
          "metadata": {}
        },
        {
          "output_type": "stream",
          "name": "stdout",
          "text": [
            "\n",
            "\n",
            "Random Forest :\n",
            "\n",
            "              precision    recall  f1-score   support\n",
            "\n",
            "           0       0.96      0.94      0.95      1216\n",
            "           1       0.12      0.16      0.14        62\n",
            "\n",
            "    accuracy                           0.90      1278\n",
            "   macro avg       0.54      0.55      0.54      1278\n",
            "weighted avg       0.92      0.90      0.91      1278\n",
            "\n"
          ]
        },
        {
          "output_type": "display_data",
          "data": {
            "text/plain": [
              "<Figure size 432x288 with 2 Axes>"
            ],
            "image/png": "[encoded data removed]"
          },
          "metadata": {}
        },
        {
          "output_type": "stream",
          "name": "stdout",
          "text": [
            "\n",
            "\n",
            "Decision Tree :\n",
            "\n",
            "              precision    recall  f1-score   support\n",
            "\n",
            "           0       0.96      0.92      0.94      1216\n",
            "           1       0.12      0.23      0.16        62\n",
            "\n",
            "    accuracy                           0.88      1278\n",
            "   macro avg       0.54      0.57      0.55      1278\n",
            "weighted avg       0.92      0.88      0.90      1278\n",
            "\n"
          ]
        },
        {
          "output_type": "display_data",
          "data": {
            "text/plain": [
              "<Figure size 432x288 with 2 Axes>"
            ],
            "image/png": "[encoded data removed]"
          },
          "metadata": {}
        },
        {
          "output_type": "stream",
          "name": "stdout",
          "text": [
            "\n",
            "\n",
            "KNeighbors :\n",
            "\n",
            "              precision    recall  f1-score   support\n",
            "\n",
            "           0       0.96      0.84      0.90      1216\n",
            "           1       0.09      0.32      0.15        62\n",
            "\n",
            "    accuracy                           0.82      1278\n",
            "   macro avg       0.53      0.58      0.52      1278\n",
            "weighted avg       0.92      0.82      0.86      1278\n",
            "\n"
          ]
        },
        {
          "output_type": "display_data",
          "data": {
            "text/plain": [
              "<Figure size 432x288 with 2 Axes>"
            ],
            "image/png": "[encoded data removed]"
          },
          "metadata": {}
        },
        {
          "output_type": "stream",
          "name": "stdout",
          "text": [
            "\n",
            "\n",
            "ADA Boost :\n",
            "\n",
            "              precision    recall  f1-score   support\n",
            "\n",
            "           0       0.98      0.76      0.86      1216\n",
            "           1       0.13      0.68      0.21        62\n",
            "\n",
            "    accuracy                           0.76      1278\n",
            "   macro avg       0.55      0.72      0.54      1278\n",
            "weighted avg       0.94      0.76      0.83      1278\n",
            "\n"
          ]
        },
        {
          "output_type": "display_data",
          "data": {
            "text/plain": [
              "<Figure size 432x288 with 2 Axes>"
            ],
            "image/png": "[encoded data removed]"
          },
          "metadata": {}
        },
        {
          "output_type": "stream",
          "name": "stdout",
          "text": [
            "\n",
            "\n",
            "LightGBM :\n",
            "\n",
            "              precision    recall  f1-score   support\n",
            "\n",
            "           0       0.95      0.96      0.96      1216\n",
            "           1       0.12      0.11      0.12        62\n",
            "\n",
            "    accuracy                           0.92      1278\n",
            "   macro avg       0.54      0.54      0.54      1278\n",
            "weighted avg       0.91      0.92      0.92      1278\n",
            "\n"
          ]
        },
        {
          "output_type": "display_data",
          "data": {
            "text/plain": [
              "<Figure size 432x288 with 2 Axes>"
            ],
            "image/png": "[encoded data removed]"
          },
          "metadata": {}
        },
        {
          "output_type": "stream",
          "name": "stdout",
          "text": [
            "\n",
            "\n",
            "XGBoost :\n",
            "\n",
            "              precision    recall  f1-score   support\n",
            "\n",
            "           0       0.98      0.83      0.90      1216\n",
            "           1       0.15      0.60      0.24        62\n",
            "\n",
            "    accuracy                           0.82      1278\n",
            "   macro avg       0.56      0.71      0.57      1278\n",
            "weighted avg       0.94      0.82      0.87      1278\n",
            "\n"
          ]
        },
        {
          "output_type": "display_data",
          "data": {
            "text/plain": [
              "<Figure size 432x288 with 2 Axes>"
            ],
            "image/png": "[encoded data removed]"
          },
          "metadata": {}
        },
        {
          "output_type": "stream",
          "name": "stdout",
          "text": [
            "\n",
            "\n",
            "Gradient Boosting :\n",
            "\n",
            "              precision    recall  f1-score   support\n",
            "\n",
            "           0       0.97      0.85      0.91      1216\n",
            "           1       0.16      0.56      0.25        62\n",
            "\n",
            "    accuracy                           0.83      1278\n",
            "   macro avg       0.57      0.71      0.58      1278\n",
            "weighted avg       0.93      0.83      0.87      1278\n",
            "\n"
          ]
        },
        {
          "output_type": "display_data",
          "data": {
            "text/plain": [
              "<Figure size 432x288 with 2 Axes>"
            ],
            "image/png": "[encoded data removed]"
          },
          "metadata": {}
        },
        {
          "output_type": "stream",
          "name": "stdout",
          "text": [
            "\n",
            "\n"
          ]
        }
      ]
    },
    {
      "cell_type": "markdown",
      "source": [
        "# Model Tuning"
      ],
      "metadata": {
        "id": "i7Q3UunON4p2"
      }
    },
    {
      "cell_type": "markdown",
      "source": [
        "- With the confusion matrixes that are displayed: I'm looking to see which models have the highest true positive and the best recall for true positve.\n",
        "- Logistic Regression has the highest number of True Positives (47) and the best recall score for true postives.\n",
        "- The next model that has those qualities is ADABoost with 42 True Postives and a Postive Recall Score of 68%.\n",
        "---\n"
      ],
      "metadata": {
        "id": "dkWeKV3BMrr_"
      }
    },
    {
      "cell_type": "code",
      "source": [
        "#Creating a copy that model tuning will be used for\n",
        "mt_df = ml_df.copy()"
      ],
      "metadata": {
        "id": "iqV5SG8QpNyD"
      },
      "execution_count": 76,
      "outputs": []
    },
    {
      "cell_type": "code",
      "source": [
        "mt_df.head()"
      ],
      "metadata": {
        "colab": {
          "base_uri": "https://localhost:8080/",
          "height": 221
        },
        "id": "zwtv6XKS4R-P",
        "outputId": "aeb5d3a9-eddb-42a1-cc30-5f74ddbec106"
      },
      "execution_count": 77,
      "outputs": [
        {
          "output_type": "execute_result",
          "data": {
            "text/plain": [
              "   gender   age hypertension heart_disease ever_married      work_type  \\\n",
              "0    Male  67.0            0             1          Yes        Private   \n",
              "1  Female  61.0            0             0          Yes  Self-employed   \n",
              "2    Male  80.0            0             1          Yes        Private   \n",
              "3  Female  49.0            0             0          Yes        Private   \n",
              "4  Female  79.0            1             0          Yes  Self-employed   \n",
              "\n",
              "  Residence_type  avg_glucose_level   bmi   smoking_status stroke  \n",
              "0          Urban             228.69  36.6  formerly smoked      1  \n",
              "1          Rural             202.21   NaN     never smoked      1  \n",
              "2          Rural             105.92  32.5     never smoked      1  \n",
              "3          Urban             171.23  34.4           smokes      1  \n",
              "4          Rural             174.12  24.0     never smoked      1  "
            ],
            "text/html": [
              "\n",
              "  <div id=\"df-3c2952ea-553d-41ed-b572-975734004d3d\">\n",
              "    <div class=\"colab-df-container\">\n",
              "      <div>\n",
              "<style scoped>\n",
              "    .dataframe tbody tr th:only-of-type {\n",
              "        vertical-align: middle;\n",
              "    }\n",
              "\n",
              "    .dataframe tbody tr th {\n",
              "        vertical-align: top;\n",
              "    }\n",
              "\n",
              "    .dataframe thead th {\n",
              "        text-align: right;\n",
              "    }\n",
              "</style>\n",
              "<table border=\"1\" class=\"dataframe\">\n",
              "  <thead>\n",
              "    <tr style=\"text-align: right;\">\n",
              "      <th></th>\n",
              "      <th>gender</th>\n",
              "      <th>age</th>\n",
              "      <th>hypertension</th>\n",
              "      <th>heart_disease</th>\n",
              "      <th>ever_married</th>\n",
              "      <th>work_type</th>\n",
              "      <th>Residence_type</th>\n",
              "      <th>avg_glucose_level</th>\n",
              "      <th>bmi</th>\n",
              "      <th>smoking_status</th>\n",
              "      <th>stroke</th>\n",
              "    </tr>\n",
              "  </thead>\n",
              "  <tbody>\n",
              "    <tr>\n",
              "      <th>0</th>\n",
              "      <td>Male</td>\n",
              "      <td>67.0</td>\n",
              "      <td>0</td>\n",
              "      <td>1</td>\n",
              "      <td>Yes</td>\n",
              "      <td>Private</td>\n",
              "      <td>Urban</td>\n",
              "      <td>228.69</td>\n",
              "      <td>36.6</td>\n",
              "      <td>formerly smoked</td>\n",
              "      <td>1</td>\n",
              "    </tr>\n",
              "    <tr>\n",
              "      <th>1</th>\n",
              "      <td>Female</td>\n",
              "      <td>61.0</td>\n",
              "      <td>0</td>\n",
              "      <td>0</td>\n",
              "      <td>Yes</td>\n",
              "      <td>Self-employed</td>\n",
              "      <td>Rural</td>\n",
              "      <td>202.21</td>\n",
              "      <td>NaN</td>\n",
              "      <td>never smoked</td>\n",
              "      <td>1</td>\n",
              "    </tr>\n",
              "    <tr>\n",
              "      <th>2</th>\n",
              "      <td>Male</td>\n",
              "      <td>80.0</td>\n",
              "      <td>0</td>\n",
              "      <td>1</td>\n",
              "      <td>Yes</td>\n",
              "      <td>Private</td>\n",
              "      <td>Rural</td>\n",
              "      <td>105.92</td>\n",
              "      <td>32.5</td>\n",
              "      <td>never smoked</td>\n",
              "      <td>1</td>\n",
              "    </tr>\n",
              "    <tr>\n",
              "      <th>3</th>\n",
              "      <td>Female</td>\n",
              "      <td>49.0</td>\n",
              "      <td>0</td>\n",
              "      <td>0</td>\n",
              "      <td>Yes</td>\n",
              "      <td>Private</td>\n",
              "      <td>Urban</td>\n",
              "      <td>171.23</td>\n",
              "      <td>34.4</td>\n",
              "      <td>smokes</td>\n",
              "      <td>1</td>\n",
              "    </tr>\n",
              "    <tr>\n",
              "      <th>4</th>\n",
              "      <td>Female</td>\n",
              "      <td>79.0</td>\n",
              "      <td>1</td>\n",
              "      <td>0</td>\n",
              "      <td>Yes</td>\n",
              "      <td>Self-employed</td>\n",
              "      <td>Rural</td>\n",
              "      <td>174.12</td>\n",
              "      <td>24.0</td>\n",
              "      <td>never smoked</td>\n",
              "      <td>1</td>\n",
              "    </tr>\n",
              "  </tbody>\n",
              "</table>\n",
              "</div>\n",
              "      <button class=\"colab-df-convert\" onclick=\"convertToInteractive('df-3c2952ea-553d-41ed-b572-975734004d3d')\"\n",
              "              title=\"Convert this dataframe to an interactive table.\"\n",
              "              style=\"display:none;\">\n",
              "        \n",
              "  <svg xmlns=\"http://www.w3.org/2000/svg\" height=\"24px\"viewBox=\"0 0 24 24\"\n",
              "       width=\"24px\">\n",
              "    <path d=\"M0 0h24v24H0V0z\" fill=\"none\"/>\n",
              "    <path d=\"M18.56 5.44l.94 2.06.94-2.06 2.06-.94-2.06-.94-.94-2.06-.94 2.06-2.06.94zm-11 1L8.5 8.5l.94-2.06 2.06-.94-2.06-.94L8.5 2.5l-.94 2.06-2.06.94zm10 10l.94 2.06.94-2.06 2.06-.94-2.06-.94-.94-2.06-.94 2.06-2.06.94z\"/><path d=\"M17.41 7.96l-1.37-1.37c-.4-.4-.92-.59-1.43-.59-.52 0-1.04.2-1.43.59L10.3 9.45l-7.72 7.72c-.78.78-.78 2.05 0 2.83L4 21.41c.39.39.9.59 1.41.59.51 0 1.02-.2 1.41-.59l7.78-7.78 2.81-2.81c.8-.78.8-2.07 0-2.86zM5.41 20L4 18.59l7.72-7.72 1.47 1.35L5.41 20z\"/>\n",
              "  </svg>\n",
              "      </button>\n",
              "      \n",
              "  <style>\n",
              "    .colab-df-container {\n",
              "      display:flex;\n",
              "      flex-wrap:wrap;\n",
              "      gap: 12px;\n",
              "    }\n",
              "\n",
              "    .colab-df-convert {\n",
              "      background-color: #E8F0FE;\n",
              "      border: none;\n",
              "      border-radius: 50%;\n",
              "      cursor: pointer;\n",
              "      display: none;\n",
              "      fill: #1967D2;\n",
              "      height: 32px;\n",
              "      padding: 0 0 0 0;\n",
              "      width: 32px;\n",
              "    }\n",
              "\n",
              "    .colab-df-convert:hover {\n",
              "      background-color: #E2EBFA;\n",
              "      box-shadow: 0px 1px 2px rgba(60, 64, 67, 0.3), 0px 1px 3px 1px rgba(60, 64, 67, 0.15);\n",
              "      fill: #174EA6;\n",
              "    }\n",
              "\n",
              "    [theme=dark] .colab-df-convert {\n",
              "      background-color: #3B4455;\n",
              "      fill: #D2E3FC;\n",
              "    }\n",
              "\n",
              "    [theme=dark] .colab-df-convert:hover {\n",
              "      background-color: #434B5C;\n",
              "      box-shadow: 0px 1px 3px 1px rgba(0, 0, 0, 0.15);\n",
              "      filter: drop-shadow(0px 1px 2px rgba(0, 0, 0, 0.3));\n",
              "      fill: #FFFFFF;\n",
              "    }\n",
              "  </style>\n",
              "\n",
              "      <script>\n",
              "        const buttonEl =\n",
              "          document.querySelector('#df-3c2952ea-553d-41ed-b572-975734004d3d button.colab-df-convert');\n",
              "        buttonEl.style.display =\n",
              "          google.colab.kernel.accessAllowed ? 'block' : 'none';\n",
              "\n",
              "        async function convertToInteractive(key) {\n",
              "          const element = document.querySelector('#df-3c2952ea-553d-41ed-b572-975734004d3d');\n",
              "          const dataTable =\n",
              "            await google.colab.kernel.invokeFunction('convertToInteractive',\n",
              "                                                     [key], {});\n",
              "          if (!dataTable) return;\n",
              "\n",
              "          const docLinkHtml = 'Like what you see? Visit the ' +\n",
              "            '<a target=\"_blank\" href=https://colab.research.google.com/notebooks/data_table.ipynb>data table notebook</a>'\n",
              "            + ' to learn more about interactive tables.';\n",
              "          element.innerHTML = '';\n",
              "          dataTable['output_type'] = 'display_data';\n",
              "          await google.colab.output.renderOutput(dataTable, element);\n",
              "          const docLink = document.createElement('div');\n",
              "          docLink.innerHTML = docLinkHtml;\n",
              "          element.appendChild(docLink);\n",
              "        }\n",
              "      </script>\n",
              "    </div>\n",
              "  </div>\n",
              "  "
            ]
          },
          "metadata": {},
          "execution_count": 77
        }
      ]
    },
    {
      "cell_type": "markdown",
      "source": [
        "##**Set Up Param Grids**"
      ],
      "metadata": {
        "id": "KzFGc4jT9uiJ"
      }
    },
    {
      "cell_type": "code",
      "source": [
        "logreg = LogisticRegression()\n",
        "adaboost = AdaBoostClassifier()"
      ],
      "metadata": {
        "id": "m6gy5viT9uB_"
      },
      "execution_count": 78,
      "outputs": []
    },
    {
      "cell_type": "markdown",
      "source": [
        "##**Logistic Regression Tuning**"
      ],
      "metadata": {
        "id": "llumJ88c3Fjw"
      }
    },
    {
      "cell_type": "code",
      "source": [
        "logreg_pipe = make_pipeline(StandardScaler(), LogisticRegression())\n",
        "logreg_pipe.get_params()"
      ],
      "metadata": {
        "colab": {
          "base_uri": "https://localhost:8080/"
        },
        "id": "cu-AtspwyOax",
        "outputId": "9043f2d8-bcb9-4e89-bea1-9bb565904139"
      },
      "execution_count": 79,
      "outputs": [
        {
          "output_type": "execute_result",
          "data": {
            "text/plain": [
              "{'memory': None,\n",
              " 'steps': [('standardscaler', StandardScaler()),\n",
              "  ('logisticregression', LogisticRegression())],\n",
              " 'verbose': False,\n",
              " 'standardscaler': StandardScaler(),\n",
              " 'logisticregression': LogisticRegression(),\n",
              " 'standardscaler__copy': True,\n",
              " 'standardscaler__with_mean': True,\n",
              " 'standardscaler__with_std': True,\n",
              " 'logisticregression__C': 1.0,\n",
              " 'logisticregression__class_weight': None,\n",
              " 'logisticregression__dual': False,\n",
              " 'logisticregression__fit_intercept': True,\n",
              " 'logisticregression__intercept_scaling': 1,\n",
              " 'logisticregression__l1_ratio': None,\n",
              " 'logisticregression__max_iter': 100,\n",
              " 'logisticregression__multi_class': 'auto',\n",
              " 'logisticregression__n_jobs': None,\n",
              " 'logisticregression__penalty': 'l2',\n",
              " 'logisticregression__random_state': None,\n",
              " 'logisticregression__solver': 'lbfgs',\n",
              " 'logisticregression__tol': 0.0001,\n",
              " 'logisticregression__verbose': 0,\n",
              " 'logisticregression__warm_start': False}"
            ]
          },
          "metadata": {},
          "execution_count": 79
        }
      ]
    },
    {
      "cell_type": "code",
      "source": [
        "# Assigning parameters for Logistic Regression\n",
        "lr_param_grid = {'logisticregression__solver': ['lbfgs'],\n",
        "                 'logisticregression__class_weight': ['balanced']}"
      ],
      "metadata": {
        "id": "MvZmsOP2Bb7K"
      },
      "execution_count": 80,
      "outputs": []
    },
    {
      "cell_type": "code",
      "source": [
        "# Combined GridSearchCV and Pipelines\n",
        "lr_pipe_gs = GridSearchCV(logreg_pipe, lr_param_grid)\n",
        "\n",
        "lr_pipe_gs.fit(X_train_preprocessed, y_train)\n",
        "print('Best Logistic Regression Parameters:')\n",
        "best_lr_pipe = lr_pipe_gs.best_estimator_\n",
        "print(f'Accuracy of Best LogReg Model is: {best_lr_pipe.score(X_test_preprocessed, y_test)}')"
      ],
      "metadata": {
        "colab": {
          "base_uri": "https://localhost:8080/"
        },
        "id": "eEf2kGawDBIg",
        "outputId": "1759888a-9ffd-4b90-f39f-bd32f17d644f"
      },
      "execution_count": 81,
      "outputs": [
        {
          "output_type": "stream",
          "name": "stdout",
          "text": [
            "Best Logistic Regression Parameters:\n",
            "Accuracy of Best LogReg Model is: 0.7323943661971831\n"
          ]
        }
      ]
    },
    {
      "cell_type": "markdown",
      "source": [
        "##**Print Tuned LR Model**"
      ],
      "metadata": {
        "id": "jZKXAG1hwAvT"
      }
    },
    {
      "cell_type": "code",
      "source": [
        "print(accuracy_score(y_test, y_pred))"
      ],
      "metadata": {
        "colab": {
          "base_uri": "https://localhost:8080/"
        },
        "id": "9nffcF-awPBd",
        "outputId": "707d6fa1-fd49-4e27-88e5-ed223e236b29"
      },
      "execution_count": 82,
      "outputs": [
        {
          "output_type": "stream",
          "name": "stdout",
          "text": [
            "0.8333333333333334\n"
          ]
        }
      ]
    },
    {
      "cell_type": "markdown",
      "source": [
        "---\n",
        "##**AdaBoost Tuning**"
      ],
      "metadata": {
        "id": "fqrJXIlVzCh5"
      }
    },
    {
      "cell_type": "code",
      "source": [
        "ada_pipe = make_pipeline(AdaBoostClassifier(n_estimators = 100))\n",
        "ada = AdaBoostClassifier(n_estimators = 100)\n",
        "ada.fit(X_train_preprocessed,y_train)"
      ],
      "metadata": {
        "colab": {
          "base_uri": "https://localhost:8080/",
          "height": 80
        },
        "id": "f4mxSXed_TO9",
        "outputId": "3ba9e22d-d61d-4705-d58f-530ac868b461"
      },
      "execution_count": 83,
      "outputs": [
        {
          "output_type": "execute_result",
          "data": {
            "text/plain": [
              "AdaBoostClassifier(n_estimators=100)"
            ],
            "text/html": [
              "<style>#sk-c4745b21-ac96-426e-8093-49cc3077aed3 {color: black;background-color: white;}#sk-c4745b21-ac96-426e-8093-49cc3077aed3 pre{padding: 0;}#sk-c4745b21-ac96-426e-8093-49cc3077aed3 div.sk-toggleable {background-color: white;}#sk-c4745b21-ac96-426e-8093-49cc3077aed3 label.sk-toggleable__label {cursor: pointer;display: block;width: 100%;margin-bottom: 0;padding: 0.3em;box-sizing: border-box;text-align: center;}#sk-c4745b21-ac96-426e-8093-49cc3077aed3 label.sk-toggleable__label-arrow:before {content: \"▸\";float: left;margin-right: 0.25em;color: #696969;}#sk-c4745b21-ac96-426e-8093-49cc3077aed3 label.sk-toggleable__label-arrow:hover:before {color: black;}#sk-c4745b21-ac96-426e-8093-49cc3077aed3 div.sk-estimator:hover label.sk-toggleable__label-arrow:before {color: black;}#sk-c4745b21-ac96-426e-8093-49cc3077aed3 div.sk-toggleable__content {max-height: 0;max-width: 0;overflow: hidden;text-align: left;background-color: #f0f8ff;}#sk-c4745b21-ac96-426e-8093-49cc3077aed3 div.sk-toggleable__content pre {margin: 0.2em;color: black;border-radius: 0.25em;background-color: #f0f8ff;}#sk-c4745b21-ac96-426e-8093-49cc3077aed3 input.sk-toggleable__control:checked~div.sk-toggleable__content {max-height: 200px;max-width: 100%;overflow: auto;}#sk-c4745b21-ac96-426e-8093-49cc3077aed3 input.sk-toggleable__control:checked~label.sk-toggleable__label-arrow:before {content: \"▾\";}#sk-c4745b21-ac96-426e-8093-49cc3077aed3 div.sk-estimator input.sk-toggleable__control:checked~label.sk-toggleable__label {background-color: #d4ebff;}#sk-c4745b21-ac96-426e-8093-49cc3077aed3 div.sk-label input.sk-toggleable__control:checked~label.sk-toggleable__label {background-color: #d4ebff;}#sk-c4745b21-ac96-426e-8093-49cc3077aed3 input.sk-hidden--visually {border: 0;clip: rect(1px 1px 1px 1px);clip: rect(1px, 1px, 1px, 1px);height: 1px;margin: -1px;overflow: hidden;padding: 0;position: absolute;width: 1px;}#sk-c4745b21-ac96-426e-8093-49cc3077aed3 div.sk-estimator {font-family: monospace;background-color: #f0f8ff;border: 1px dotted black;border-radius: 0.25em;box-sizing: border-box;margin-bottom: 0.5em;}#sk-c4745b21-ac96-426e-8093-49cc3077aed3 div.sk-estimator:hover {background-color: #d4ebff;}#sk-c4745b21-ac96-426e-8093-49cc3077aed3 div.sk-parallel-item::after {content: \"\";width: 100%;border-bottom: 1px solid gray;flex-grow: 1;}#sk-c4745b21-ac96-426e-8093-49cc3077aed3 div.sk-label:hover label.sk-toggleable__label {background-color: #d4ebff;}#sk-c4745b21-ac96-426e-8093-49cc3077aed3 div.sk-serial::before {content: \"\";position: absolute;border-left: 1px solid gray;box-sizing: border-box;top: 2em;bottom: 0;left: 50%;}#sk-c4745b21-ac96-426e-8093-49cc3077aed3 div.sk-serial {display: flex;flex-direction: column;align-items: center;background-color: white;padding-right: 0.2em;padding-left: 0.2em;}#sk-c4745b21-ac96-426e-8093-49cc3077aed3 div.sk-item {z-index: 1;}#sk-c4745b21-ac96-426e-8093-49cc3077aed3 div.sk-parallel {display: flex;align-items: stretch;justify-content: center;background-color: white;}#sk-c4745b21-ac96-426e-8093-49cc3077aed3 div.sk-parallel::before {content: \"\";position: absolute;border-left: 1px solid gray;box-sizing: border-box;top: 2em;bottom: 0;left: 50%;}#sk-c4745b21-ac96-426e-8093-49cc3077aed3 div.sk-parallel-item {display: flex;flex-direction: column;position: relative;background-color: white;}#sk-c4745b21-ac96-426e-8093-49cc3077aed3 div.sk-parallel-item:first-child::after {align-self: flex-end;width: 50%;}#sk-c4745b21-ac96-426e-8093-49cc3077aed3 div.sk-parallel-item:last-child::after {align-self: flex-start;width: 50%;}#sk-c4745b21-ac96-426e-8093-49cc3077aed3 div.sk-parallel-item:only-child::after {width: 0;}#sk-c4745b21-ac96-426e-8093-49cc3077aed3 div.sk-dashed-wrapped {border: 1px dashed gray;margin: 0 0.4em 0.5em 0.4em;box-sizing: border-box;padding-bottom: 0.4em;background-color: white;position: relative;}#sk-c4745b21-ac96-426e-8093-49cc3077aed3 div.sk-label label {font-family: monospace;font-weight: bold;background-color: white;display: inline-block;line-height: 1.2em;}#sk-c4745b21-ac96-426e-8093-49cc3077aed3 div.sk-label-container {position: relative;z-index: 2;text-align: center;}#sk-c4745b21-ac96-426e-8093-49cc3077aed3 div.sk-container {/* jupyter's `normalize.less` sets `[hidden] { display: none; }` but bootstrap.min.css set `[hidden] { display: none !important; }` so we also need the `!important` here to be able to override the default hidden behavior on the sphinx rendered scikit-learn.org. See: https://github.com/scikit-learn/scikit-learn/issues/21755 */display: inline-block !important;position: relative;}#sk-c4745b21-ac96-426e-8093-49cc3077aed3 div.sk-text-repr-fallback {display: none;}</style><div id=\"sk-c4745b21-ac96-426e-8093-49cc3077aed3\" class=\"sk-top-container\"><div class=\"sk-text-repr-fallback\"><pre>AdaBoostClassifier(n_estimators=100)</pre><b>Please rerun this cell to show the HTML repr or trust the notebook.</b></div><div class=\"sk-container\" hidden><div class=\"sk-item\"><div class=\"sk-estimator sk-toggleable\"><input class=\"sk-toggleable__control sk-hidden--visually\" id=\"b5f199e9-2115-4c76-a81c-51fb7efb5df1\" type=\"checkbox\" checked><label for=\"b5f199e9-2115-4c76-a81c-51fb7efb5df1\" class=\"sk-toggleable__label sk-toggleable__label-arrow\">AdaBoostClassifier</label><div class=\"sk-toggleable__content\"><pre>AdaBoostClassifier(n_estimators=100)</pre></div></div></div></div></div>"
            ]
          },
          "metadata": {},
          "execution_count": 83
        }
      ]
    },
    {
      "cell_type": "markdown",
      "source": [
        "##**Print Tuned AdaBoost Model**"
      ],
      "metadata": {
        "id": "CrWMyEv1wG9K"
      }
    },
    {
      "cell_type": "code",
      "source": [
        "# Tuned AdaBoost train score\n",
        "ada.score(X_train_preprocessed, y_train)"
      ],
      "metadata": {
        "colab": {
          "base_uri": "https://localhost:8080/"
        },
        "id": "r7a-sKOMF5Z3",
        "outputId": "06f713ec-8c93-44ab-b22c-8d2b0caf9146"
      },
      "execution_count": 84,
      "outputs": [
        {
          "output_type": "execute_result",
          "data": {
            "text/plain": [
              "0.9525052192066806"
            ]
          },
          "metadata": {},
          "execution_count": 84
        }
      ]
    },
    {
      "cell_type": "code",
      "source": [
        "# Tuned Adaboost test score\n",
        "ada.score(X_test_preprocessed, y_test)"
      ],
      "metadata": {
        "colab": {
          "base_uri": "https://localhost:8080/"
        },
        "id": "dXt4-zFcH0J-",
        "outputId": "e6eca1df-c6b6-48bb-f6dd-e469fb110e10"
      },
      "execution_count": 85,
      "outputs": [
        {
          "output_type": "execute_result",
          "data": {
            "text/plain": [
              "0.9475743348982786"
            ]
          },
          "metadata": {},
          "execution_count": 85
        }
      ]
    },
    {
      "cell_type": "markdown",
      "source": [
        "---\n",
        "##**Results**\n",
        "\n",
        "- From this assessment, the final model I will be using is the **tuned AdaBoost Model** because it has a accuracy score of .95 for the training data and .94 for the testing data."
      ],
      "metadata": {
        "id": "oyMZ8LKdIgyc"
      }
    },
    {
      "cell_type": "markdown",
      "source": [
        "---\n",
        "##**Input PCA Into Best Model**"
      ],
      "metadata": {
        "id": "an1MEcCEwcdv"
      }
    },
    {
      "cell_type": "code",
      "source": [
        "# Instantiate PCA\n",
        "pca_model_transformer = PCA(n_components=.95)"
      ],
      "metadata": {
        "id": "KnGc4J8bwfys"
      },
      "execution_count": 86,
      "outputs": []
    },
    {
      "cell_type": "code",
      "source": [
        "# Make pipeline that includes PCA & fit onto preprocessed training data\n",
        "ada_pca_pipe = make_pipeline(pca_model_transformer, ada)\n",
        "ada_pca_pipe.fit(X_train_preprocessed, y_train)"
      ],
      "metadata": {
        "colab": {
          "base_uri": "https://localhost:8080/",
          "height": 131
        },
        "id": "KRnDBZqZMGWT",
        "outputId": "5b9eff9a-44e9-44c7-815f-1bfd8ae40dcf"
      },
      "execution_count": 87,
      "outputs": [
        {
          "output_type": "execute_result",
          "data": {
            "text/plain": [
              "Pipeline(steps=[('pca', PCA(n_components=0.95)),\n",
              "                ('adaboostclassifier', AdaBoostClassifier(n_estimators=100))])"
            ],
            "text/html": [
              "<style>#sk-e420da60-f821-43e0-b1fe-9340673f122d {color: black;background-color: white;}#sk-e420da60-f821-43e0-b1fe-9340673f122d pre{padding: 0;}#sk-e420da60-f821-43e0-b1fe-9340673f122d div.sk-toggleable {background-color: white;}#sk-e420da60-f821-43e0-b1fe-9340673f122d label.sk-toggleable__label {cursor: pointer;display: block;width: 100%;margin-bottom: 0;padding: 0.3em;box-sizing: border-box;text-align: center;}#sk-e420da60-f821-43e0-b1fe-9340673f122d label.sk-toggleable__label-arrow:before {content: \"▸\";float: left;margin-right: 0.25em;color: #696969;}#sk-e420da60-f821-43e0-b1fe-9340673f122d label.sk-toggleable__label-arrow:hover:before {color: black;}#sk-e420da60-f821-43e0-b1fe-9340673f122d div.sk-estimator:hover label.sk-toggleable__label-arrow:before {color: black;}#sk-e420da60-f821-43e0-b1fe-9340673f122d div.sk-toggleable__content {max-height: 0;max-width: 0;overflow: hidden;text-align: left;background-color: #f0f8ff;}#sk-e420da60-f821-43e0-b1fe-9340673f122d div.sk-toggleable__content pre {margin: 0.2em;color: black;border-radius: 0.25em;background-color: #f0f8ff;}#sk-e420da60-f821-43e0-b1fe-9340673f122d input.sk-toggleable__control:checked~div.sk-toggleable__content {max-height: 200px;max-width: 100%;overflow: auto;}#sk-e420da60-f821-43e0-b1fe-9340673f122d input.sk-toggleable__control:checked~label.sk-toggleable__label-arrow:before {content: \"▾\";}#sk-e420da60-f821-43e0-b1fe-9340673f122d div.sk-estimator input.sk-toggleable__control:checked~label.sk-toggleable__label {background-color: #d4ebff;}#sk-e420da60-f821-43e0-b1fe-9340673f122d div.sk-label input.sk-toggleable__control:checked~label.sk-toggleable__label {background-color: #d4ebff;}#sk-e420da60-f821-43e0-b1fe-9340673f122d input.sk-hidden--visually {border: 0;clip: rect(1px 1px 1px 1px);clip: rect(1px, 1px, 1px, 1px);height: 1px;margin: -1px;overflow: hidden;padding: 0;position: absolute;width: 1px;}#sk-e420da60-f821-43e0-b1fe-9340673f122d div.sk-estimator {font-family: monospace;background-color: #f0f8ff;border: 1px dotted black;border-radius: 0.25em;box-sizing: border-box;margin-bottom: 0.5em;}#sk-e420da60-f821-43e0-b1fe-9340673f122d div.sk-estimator:hover {background-color: #d4ebff;}#sk-e420da60-f821-43e0-b1fe-9340673f122d div.sk-parallel-item::after {content: \"\";width: 100%;border-bottom: 1px solid gray;flex-grow: 1;}#sk-e420da60-f821-43e0-b1fe-9340673f122d div.sk-label:hover label.sk-toggleable__label {background-color: #d4ebff;}#sk-e420da60-f821-43e0-b1fe-9340673f122d div.sk-serial::before {content: \"\";position: absolute;border-left: 1px solid gray;box-sizing: border-box;top: 2em;bottom: 0;left: 50%;}#sk-e420da60-f821-43e0-b1fe-9340673f122d div.sk-serial {display: flex;flex-direction: column;align-items: center;background-color: white;padding-right: 0.2em;padding-left: 0.2em;}#sk-e420da60-f821-43e0-b1fe-9340673f122d div.sk-item {z-index: 1;}#sk-e420da60-f821-43e0-b1fe-9340673f122d div.sk-parallel {display: flex;align-items: stretch;justify-content: center;background-color: white;}#sk-e420da60-f821-43e0-b1fe-9340673f122d div.sk-parallel::before {content: \"\";position: absolute;border-left: 1px solid gray;box-sizing: border-box;top: 2em;bottom: 0;left: 50%;}#sk-e420da60-f821-43e0-b1fe-9340673f122d div.sk-parallel-item {display: flex;flex-direction: column;position: relative;background-color: white;}#sk-e420da60-f821-43e0-b1fe-9340673f122d div.sk-parallel-item:first-child::after {align-self: flex-end;width: 50%;}#sk-e420da60-f821-43e0-b1fe-9340673f122d div.sk-parallel-item:last-child::after {align-self: flex-start;width: 50%;}#sk-e420da60-f821-43e0-b1fe-9340673f122d div.sk-parallel-item:only-child::after {width: 0;}#sk-e420da60-f821-43e0-b1fe-9340673f122d div.sk-dashed-wrapped {border: 1px dashed gray;margin: 0 0.4em 0.5em 0.4em;box-sizing: border-box;padding-bottom: 0.4em;background-color: white;position: relative;}#sk-e420da60-f821-43e0-b1fe-9340673f122d div.sk-label label {font-family: monospace;font-weight: bold;background-color: white;display: inline-block;line-height: 1.2em;}#sk-e420da60-f821-43e0-b1fe-9340673f122d div.sk-label-container {position: relative;z-index: 2;text-align: center;}#sk-e420da60-f821-43e0-b1fe-9340673f122d div.sk-container {/* jupyter's `normalize.less` sets `[hidden] { display: none; }` but bootstrap.min.css set `[hidden] { display: none !important; }` so we also need the `!important` here to be able to override the default hidden behavior on the sphinx rendered scikit-learn.org. See: https://github.com/scikit-learn/scikit-learn/issues/21755 */display: inline-block !important;position: relative;}#sk-e420da60-f821-43e0-b1fe-9340673f122d div.sk-text-repr-fallback {display: none;}</style><div id=\"sk-e420da60-f821-43e0-b1fe-9340673f122d\" class=\"sk-top-container\"><div class=\"sk-text-repr-fallback\"><pre>Pipeline(steps=[(&#x27;pca&#x27;, PCA(n_components=0.95)),\n",
              "                (&#x27;adaboostclassifier&#x27;, AdaBoostClassifier(n_estimators=100))])</pre><b>Please rerun this cell to show the HTML repr or trust the notebook.</b></div><div class=\"sk-container\" hidden><div class=\"sk-item sk-dashed-wrapped\"><div class=\"sk-label-container\"><div class=\"sk-label sk-toggleable\"><input class=\"sk-toggleable__control sk-hidden--visually\" id=\"55bce341-5b2c-453a-bad3-8734af9db005\" type=\"checkbox\" ><label for=\"55bce341-5b2c-453a-bad3-8734af9db005\" class=\"sk-toggleable__label sk-toggleable__label-arrow\">Pipeline</label><div class=\"sk-toggleable__content\"><pre>Pipeline(steps=[(&#x27;pca&#x27;, PCA(n_components=0.95)),\n",
              "                (&#x27;adaboostclassifier&#x27;, AdaBoostClassifier(n_estimators=100))])</pre></div></div></div><div class=\"sk-serial\"><div class=\"sk-item\"><div class=\"sk-estimator sk-toggleable\"><input class=\"sk-toggleable__control sk-hidden--visually\" id=\"cc42a810-0c12-42ad-ba03-8aa3fc91420a\" type=\"checkbox\" ><label for=\"cc42a810-0c12-42ad-ba03-8aa3fc91420a\" class=\"sk-toggleable__label sk-toggleable__label-arrow\">PCA</label><div class=\"sk-toggleable__content\"><pre>PCA(n_components=0.95)</pre></div></div></div><div class=\"sk-item\"><div class=\"sk-estimator sk-toggleable\"><input class=\"sk-toggleable__control sk-hidden--visually\" id=\"293d7efd-5be2-44eb-b7da-6a74a50729b3\" type=\"checkbox\" ><label for=\"293d7efd-5be2-44eb-b7da-6a74a50729b3\" class=\"sk-toggleable__label sk-toggleable__label-arrow\">AdaBoostClassifier</label><div class=\"sk-toggleable__content\"><pre>AdaBoostClassifier(n_estimators=100)</pre></div></div></div></div></div></div></div>"
            ]
          },
          "metadata": {},
          "execution_count": 87
        }
      ]
    },
    {
      "cell_type": "code",
      "source": [
        "pred_ada_pca = ada_pca_pipe.predict(X_test_preprocessed)\n",
        "print(classification_report(y_test, pred_ada_pca))"
      ],
      "metadata": {
        "colab": {
          "base_uri": "https://localhost:8080/"
        },
        "id": "zr418PsQMtZE",
        "outputId": "5c17ff4d-bfe1-4209-c34c-8f1ecb8dd9d2"
      },
      "execution_count": 88,
      "outputs": [
        {
          "output_type": "stream",
          "name": "stdout",
          "text": [
            "              precision    recall  f1-score   support\n",
            "\n",
            "           0       0.95      0.99      0.97      1216\n",
            "           1       0.33      0.08      0.13        62\n",
            "\n",
            "    accuracy                           0.95      1278\n",
            "   macro avg       0.64      0.54      0.55      1278\n",
            "weighted avg       0.92      0.95      0.93      1278\n",
            "\n"
          ]
        }
      ]
    },
    {
      "cell_type": "markdown",
      "source": [
        "- When the tuned AdaBoost Model uses PCA, the model is much worse because the recall score for the true postive labels is staggeringly low at 0.08."
      ],
      "metadata": {
        "id": "TExnxtjWM84B"
      }
    },
    {
      "cell_type": "markdown",
      "source": [
        "---\n",
        "#**Final Model & Justification**\n",
        "\n",
        "- The final model that is chosen for this dataset and I would suggest for \"production\" is the **Tuned AdaBoost Classifier** because after changing some of the hyperparameters it made the model better by giving an overall better accuracy for both the true negatives and true positives.\n",
        "- The accuracy when the model was tuned was almost 100% accurate with the tuned training data being 95% accurate and the testing data being 94% accurate.\n",
        "- While in every model that was tested, there was going to be false negatives and false postives, but after careful consideration and evaluation the AdaBoost Model showed it could produce with the lowest rate for both."
      ],
      "metadata": {
        "id": "uCOpROkKNT7v"
      }
    }
  ]
}