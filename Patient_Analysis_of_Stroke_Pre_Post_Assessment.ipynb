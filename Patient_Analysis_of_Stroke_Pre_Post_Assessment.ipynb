{
  "nbformat": 4,
  "nbformat_minor": 0,
  "metadata": {
    "colab": {
      "provenance": [],
      "collapsed_sections": [
        "10N8siVjcPwr"
      ],
      "authorship_tag": "ABX9TyP57KVZz+MY1J3jBHsWMvPP",
      "include_colab_link": true
    },
    "kernelspec": {
      "name": "python3",
      "display_name": "Python 3"
    },
    "language_info": {
      "name": "python"
    }
  },
  "cells": [
    {
      "cell_type": "markdown",
      "metadata": {
        "id": "view-in-github",
        "colab_type": "text"
      },
      "source": [
        "<a href=\"https://colab.research.google.com/github/norgel/Analysis-of-Stroke-Patients/blob/main/Patient_Analysis_of_Stroke_Pre_Post_Assessment.ipynb\" target=\"_parent\"><img src=\"https://colab.research.google.com/assets/colab-badge.svg\" alt=\"Open In Colab\"/></a>"
      ]
    },
    {
      "cell_type": "markdown",
      "source": [
        "Author: Nicholas Orgel\n",
        "\n",
        "Date Started: 11/02/2022\n",
        "\n",
        "Last Editorial Date: 11/17/2022"
      ],
      "metadata": {
        "id": "Ohf3A4yrlaaP"
      }
    },
    {
      "cell_type": "markdown",
      "source": [
        "Dataset Aquired from: https://www.kaggle.com/datasets/fedesoriano/stroke-prediction-dataset\n",
        "\n",
        "- This is a classification dataset that has the task of identifying whether or not a person has had a stroke.\n",
        "---\n",
        "## **Description:**\n",
        "- Excerpt from the dataset description: \"According to the World Health Organization (WHO) stroke is the 2nd leading cause of death globally, responsible for approximately 11% of total deaths. This dataset is used to predict whether a patient is likely to get stroke based on the input parameters like gender, age, various diseases, and smoking status. Each row in the data provides relavant information about the patient.\"\n",
        "\n",
        "---\n",
        "\n",
        "## **Tasks:**\n",
        "\n",
        "- Deleted unnecessay columns.\n",
        "- Deleted duplicate rows.\n",
        "- Identified and addressed missing values.\n",
        "- Identified and corrected inconsistencies in data for categorical values (i.e. Cat, cat, cats).\n",
        "- Produced univariate visuals for the target and all features.\n",
        "- Identified outliers.\n",
        "- Clearly commented all of your cleaning steps and described any decisions you made."
      ],
      "metadata": {
        "id": "j-C0VYM4lhBT"
      }
    },
    {
      "cell_type": "markdown",
      "source": [
        "---\n",
        "\n",
        "#**Data Dictionary**\n",
        "\n",
        "\n",
        "Column Name | Description\n",
        "---|---\n",
        "id | Unique identifier\n",
        "gender| 'Male', 'Female', or 'Other'\n",
        "age| Age of the patient\n",
        "hypertension | 0 if patient doesn't have hypertension, 1 if the patient has hypertension\n",
        "ever_married | 'No' or 'Yes'\n",
        "work_type | 'children', 'govt_job', 'never_worked', 'private', or 'self-employed'\n",
        "Residence_type | 'Rural' or 'Urban'\n",
        "avg_glucose_level | average glucose level in blood\n",
        "bmi | body mass index\n",
        "smoking_status | 'formerly smoke', 'never smoked', 'smokes', or 'unknown'\n",
        "stroke | 1 if the patient had a stroke or 0 if not"
      ],
      "metadata": {
        "id": "EIxTBkYNFfT8"
      }
    },
    {
      "cell_type": "markdown",
      "source": [
        "## **Import Libraries**"
      ],
      "metadata": {
        "id": "zujcToepv2-y"
      }
    },
    {
      "cell_type": "code",
      "source": [
        "# Main Libraries\n",
        "import pandas as pd\n",
        "import numpy as np\n",
        "import matplotlib.pyplot as plt\n",
        "import seaborn as sns\n",
        "\n",
        "# sklearn packages\n",
        "from sklearn.model_selection import train_test_split\n",
        "from sklearn.compose import make_column_selector, make_column_transformer\n",
        "from sklearn.pipeline import make_pipeline\n",
        "from sklearn.impute import SimpleImputer\n",
        "from sklearn.preprocessing import StandardScaler, OneHotEncoder\n",
        "\n",
        "\n",
        "from sklearn.linear_model import LogisticRegression\n",
        "from sklearn.ensemble import RandomForestClassifier\n",
        "\n",
        "from sklearn.metrics import accuracy_score, confusion_matrix, ConfusionMatrixDisplay, precision_score, recall_score, f1_score, classification_report\n",
        "\n",
        "# Pipeline Display\n",
        "from sklearn import set_config\n",
        "set_config(display='diagram')"
      ],
      "metadata": {
        "id": "EgLD7x7Gpw6T"
      },
      "execution_count": 156,
      "outputs": []
    },
    {
      "cell_type": "markdown",
      "source": [
        "## **Load Dataset Head**"
      ],
      "metadata": {
        "id": "LYV9dFBAv7oG"
      }
    },
    {
      "cell_type": "code",
      "execution_count": 157,
      "metadata": {
        "colab": {
          "base_uri": "https://localhost:8080/",
          "height": 221
        },
        "id": "6es6Au5alU4x",
        "outputId": "826cc29c-37e3-436f-9894-36295c578eb6"
      },
      "outputs": [
        {
          "output_type": "execute_result",
          "data": {
            "text/plain": [
              "      id  gender   age  hypertension  heart_disease ever_married  \\\n",
              "0   9046    Male  67.0             0              1          Yes   \n",
              "1  51676  Female  61.0             0              0          Yes   \n",
              "2  31112    Male  80.0             0              1          Yes   \n",
              "3  60182  Female  49.0             0              0          Yes   \n",
              "4   1665  Female  79.0             1              0          Yes   \n",
              "\n",
              "       work_type Residence_type  avg_glucose_level   bmi   smoking_status  \\\n",
              "0        Private          Urban             228.69  36.6  formerly smoked   \n",
              "1  Self-employed          Rural             202.21   NaN     never smoked   \n",
              "2        Private          Rural             105.92  32.5     never smoked   \n",
              "3        Private          Urban             171.23  34.4           smokes   \n",
              "4  Self-employed          Rural             174.12  24.0     never smoked   \n",
              "\n",
              "   stroke  \n",
              "0       1  \n",
              "1       1  \n",
              "2       1  \n",
              "3       1  \n",
              "4       1  "
            ],
            "text/html": [
              "\n",
              "  <div id=\"df-128964f6-0465-4afe-bf39-900103321ce2\">\n",
              "    <div class=\"colab-df-container\">\n",
              "      <div>\n",
              "<style scoped>\n",
              "    .dataframe tbody tr th:only-of-type {\n",
              "        vertical-align: middle;\n",
              "    }\n",
              "\n",
              "    .dataframe tbody tr th {\n",
              "        vertical-align: top;\n",
              "    }\n",
              "\n",
              "    .dataframe thead th {\n",
              "        text-align: right;\n",
              "    }\n",
              "</style>\n",
              "<table border=\"1\" class=\"dataframe\">\n",
              "  <thead>\n",
              "    <tr style=\"text-align: right;\">\n",
              "      <th></th>\n",
              "      <th>id</th>\n",
              "      <th>gender</th>\n",
              "      <th>age</th>\n",
              "      <th>hypertension</th>\n",
              "      <th>heart_disease</th>\n",
              "      <th>ever_married</th>\n",
              "      <th>work_type</th>\n",
              "      <th>Residence_type</th>\n",
              "      <th>avg_glucose_level</th>\n",
              "      <th>bmi</th>\n",
              "      <th>smoking_status</th>\n",
              "      <th>stroke</th>\n",
              "    </tr>\n",
              "  </thead>\n",
              "  <tbody>\n",
              "    <tr>\n",
              "      <th>0</th>\n",
              "      <td>9046</td>\n",
              "      <td>Male</td>\n",
              "      <td>67.0</td>\n",
              "      <td>0</td>\n",
              "      <td>1</td>\n",
              "      <td>Yes</td>\n",
              "      <td>Private</td>\n",
              "      <td>Urban</td>\n",
              "      <td>228.69</td>\n",
              "      <td>36.6</td>\n",
              "      <td>formerly smoked</td>\n",
              "      <td>1</td>\n",
              "    </tr>\n",
              "    <tr>\n",
              "      <th>1</th>\n",
              "      <td>51676</td>\n",
              "      <td>Female</td>\n",
              "      <td>61.0</td>\n",
              "      <td>0</td>\n",
              "      <td>0</td>\n",
              "      <td>Yes</td>\n",
              "      <td>Self-employed</td>\n",
              "      <td>Rural</td>\n",
              "      <td>202.21</td>\n",
              "      <td>NaN</td>\n",
              "      <td>never smoked</td>\n",
              "      <td>1</td>\n",
              "    </tr>\n",
              "    <tr>\n",
              "      <th>2</th>\n",
              "      <td>31112</td>\n",
              "      <td>Male</td>\n",
              "      <td>80.0</td>\n",
              "      <td>0</td>\n",
              "      <td>1</td>\n",
              "      <td>Yes</td>\n",
              "      <td>Private</td>\n",
              "      <td>Rural</td>\n",
              "      <td>105.92</td>\n",
              "      <td>32.5</td>\n",
              "      <td>never smoked</td>\n",
              "      <td>1</td>\n",
              "    </tr>\n",
              "    <tr>\n",
              "      <th>3</th>\n",
              "      <td>60182</td>\n",
              "      <td>Female</td>\n",
              "      <td>49.0</td>\n",
              "      <td>0</td>\n",
              "      <td>0</td>\n",
              "      <td>Yes</td>\n",
              "      <td>Private</td>\n",
              "      <td>Urban</td>\n",
              "      <td>171.23</td>\n",
              "      <td>34.4</td>\n",
              "      <td>smokes</td>\n",
              "      <td>1</td>\n",
              "    </tr>\n",
              "    <tr>\n",
              "      <th>4</th>\n",
              "      <td>1665</td>\n",
              "      <td>Female</td>\n",
              "      <td>79.0</td>\n",
              "      <td>1</td>\n",
              "      <td>0</td>\n",
              "      <td>Yes</td>\n",
              "      <td>Self-employed</td>\n",
              "      <td>Rural</td>\n",
              "      <td>174.12</td>\n",
              "      <td>24.0</td>\n",
              "      <td>never smoked</td>\n",
              "      <td>1</td>\n",
              "    </tr>\n",
              "  </tbody>\n",
              "</table>\n",
              "</div>\n",
              "      <button class=\"colab-df-convert\" onclick=\"convertToInteractive('df-128964f6-0465-4afe-bf39-900103321ce2')\"\n",
              "              title=\"Convert this dataframe to an interactive table.\"\n",
              "              style=\"display:none;\">\n",
              "        \n",
              "  <svg xmlns=\"http://www.w3.org/2000/svg\" height=\"24px\"viewBox=\"0 0 24 24\"\n",
              "       width=\"24px\">\n",
              "    <path d=\"M0 0h24v24H0V0z\" fill=\"none\"/>\n",
              "    <path d=\"M18.56 5.44l.94 2.06.94-2.06 2.06-.94-2.06-.94-.94-2.06-.94 2.06-2.06.94zm-11 1L8.5 8.5l.94-2.06 2.06-.94-2.06-.94L8.5 2.5l-.94 2.06-2.06.94zm10 10l.94 2.06.94-2.06 2.06-.94-2.06-.94-.94-2.06-.94 2.06-2.06.94z\"/><path d=\"M17.41 7.96l-1.37-1.37c-.4-.4-.92-.59-1.43-.59-.52 0-1.04.2-1.43.59L10.3 9.45l-7.72 7.72c-.78.78-.78 2.05 0 2.83L4 21.41c.39.39.9.59 1.41.59.51 0 1.02-.2 1.41-.59l7.78-7.78 2.81-2.81c.8-.78.8-2.07 0-2.86zM5.41 20L4 18.59l7.72-7.72 1.47 1.35L5.41 20z\"/>\n",
              "  </svg>\n",
              "      </button>\n",
              "      \n",
              "  <style>\n",
              "    .colab-df-container {\n",
              "      display:flex;\n",
              "      flex-wrap:wrap;\n",
              "      gap: 12px;\n",
              "    }\n",
              "\n",
              "    .colab-df-convert {\n",
              "      background-color: #E8F0FE;\n",
              "      border: none;\n",
              "      border-radius: 50%;\n",
              "      cursor: pointer;\n",
              "      display: none;\n",
              "      fill: #1967D2;\n",
              "      height: 32px;\n",
              "      padding: 0 0 0 0;\n",
              "      width: 32px;\n",
              "    }\n",
              "\n",
              "    .colab-df-convert:hover {\n",
              "      background-color: #E2EBFA;\n",
              "      box-shadow: 0px 1px 2px rgba(60, 64, 67, 0.3), 0px 1px 3px 1px rgba(60, 64, 67, 0.15);\n",
              "      fill: #174EA6;\n",
              "    }\n",
              "\n",
              "    [theme=dark] .colab-df-convert {\n",
              "      background-color: #3B4455;\n",
              "      fill: #D2E3FC;\n",
              "    }\n",
              "\n",
              "    [theme=dark] .colab-df-convert:hover {\n",
              "      background-color: #434B5C;\n",
              "      box-shadow: 0px 1px 3px 1px rgba(0, 0, 0, 0.15);\n",
              "      filter: drop-shadow(0px 1px 2px rgba(0, 0, 0, 0.3));\n",
              "      fill: #FFFFFF;\n",
              "    }\n",
              "  </style>\n",
              "\n",
              "      <script>\n",
              "        const buttonEl =\n",
              "          document.querySelector('#df-128964f6-0465-4afe-bf39-900103321ce2 button.colab-df-convert');\n",
              "        buttonEl.style.display =\n",
              "          google.colab.kernel.accessAllowed ? 'block' : 'none';\n",
              "\n",
              "        async function convertToInteractive(key) {\n",
              "          const element = document.querySelector('#df-128964f6-0465-4afe-bf39-900103321ce2');\n",
              "          const dataTable =\n",
              "            await google.colab.kernel.invokeFunction('convertToInteractive',\n",
              "                                                     [key], {});\n",
              "          if (!dataTable) return;\n",
              "\n",
              "          const docLinkHtml = 'Like what you see? Visit the ' +\n",
              "            '<a target=\"_blank\" href=https://colab.research.google.com/notebooks/data_table.ipynb>data table notebook</a>'\n",
              "            + ' to learn more about interactive tables.';\n",
              "          element.innerHTML = '';\n",
              "          dataTable['output_type'] = 'display_data';\n",
              "          await google.colab.output.renderOutput(dataTable, element);\n",
              "          const docLink = document.createElement('div');\n",
              "          docLink.innerHTML = docLinkHtml;\n",
              "          element.appendChild(docLink);\n",
              "        }\n",
              "      </script>\n",
              "    </div>\n",
              "  </div>\n",
              "  "
            ]
          },
          "metadata": {},
          "execution_count": 157
        }
      ],
      "source": [
        "data = '/content/healthcare-dataset-stroke-data.csv'\n",
        "df = pd.read_csv(data)\n",
        "df.head()"
      ]
    },
    {
      "cell_type": "code",
      "source": [
        "display(df.columns)\n",
        "print(df.shape)"
      ],
      "metadata": {
        "colab": {
          "base_uri": "https://localhost:8080/",
          "height": 116
        },
        "id": "19dw0YcPrJ79",
        "outputId": "630476ba-933d-454c-a6ed-f7d71a43144d"
      },
      "execution_count": 158,
      "outputs": [
        {
          "output_type": "display_data",
          "data": {
            "text/plain": [
              "Index(['id', 'gender', 'age', 'hypertension', 'heart_disease', 'ever_married',\n",
              "       'work_type', 'Residence_type', 'avg_glucose_level', 'bmi',\n",
              "       'smoking_status', 'stroke'],\n",
              "      dtype='object')"
            ]
          },
          "metadata": {}
        },
        {
          "output_type": "stream",
          "name": "stdout",
          "text": [
            "(5110, 12)\n"
          ]
        }
      ]
    },
    {
      "cell_type": "markdown",
      "source": [
        "This is the list of columns that are present in the dataset. In my opinion, the 'id' column is not needed because it is vague and not categorized in a way that can be compared to the other columns.\n",
        "\n",
        "In the current dataset that is present, there is `5,110 rows and 12 columns`. This will be reduced to 11 columns because `'id'` is an unnecessary column.\n",
        "\n",
        "---\n",
        "\n",
        "I will make a copy of the data in order to enact all the changes.\n",
        "\n",
        "### **Data Copy**"
      ],
      "metadata": {
        "id": "BPvpFKPXrOgu"
      }
    },
    {
      "cell_type": "code",
      "source": [
        "# Make a copy of the base dataset that is used for changes.\n",
        "exp_df = df.copy()\n",
        "ml_df = df.copy()"
      ],
      "metadata": {
        "id": "AUmStjZHrfnA"
      },
      "execution_count": 159,
      "outputs": []
    },
    {
      "cell_type": "code",
      "source": [
        "# Delete the unnecessary 'id' column from both copies of the original dataset (exp_df & ml_df)\n",
        "exp_df = exp_df.drop(columns='id', axis=1)\n",
        "ml_df = ml_df.drop(columns='id', axis=1)\n",
        "exp_df.head()"
      ],
      "metadata": {
        "colab": {
          "base_uri": "https://localhost:8080/",
          "height": 221
        },
        "id": "D_xkoqvBrqHT",
        "outputId": "5e10e295-53c7-494b-f22d-e09829aac85c"
      },
      "execution_count": 160,
      "outputs": [
        {
          "output_type": "execute_result",
          "data": {
            "text/plain": [
              "   gender   age  hypertension  heart_disease ever_married      work_type  \\\n",
              "0    Male  67.0             0              1          Yes        Private   \n",
              "1  Female  61.0             0              0          Yes  Self-employed   \n",
              "2    Male  80.0             0              1          Yes        Private   \n",
              "3  Female  49.0             0              0          Yes        Private   \n",
              "4  Female  79.0             1              0          Yes  Self-employed   \n",
              "\n",
              "  Residence_type  avg_glucose_level   bmi   smoking_status  stroke  \n",
              "0          Urban             228.69  36.6  formerly smoked       1  \n",
              "1          Rural             202.21   NaN     never smoked       1  \n",
              "2          Rural             105.92  32.5     never smoked       1  \n",
              "3          Urban             171.23  34.4           smokes       1  \n",
              "4          Rural             174.12  24.0     never smoked       1  "
            ],
            "text/html": [
              "\n",
              "  <div id=\"df-744fb2bd-551f-45f4-af7b-5bf99bdb1bbd\">\n",
              "    <div class=\"colab-df-container\">\n",
              "      <div>\n",
              "<style scoped>\n",
              "    .dataframe tbody tr th:only-of-type {\n",
              "        vertical-align: middle;\n",
              "    }\n",
              "\n",
              "    .dataframe tbody tr th {\n",
              "        vertical-align: top;\n",
              "    }\n",
              "\n",
              "    .dataframe thead th {\n",
              "        text-align: right;\n",
              "    }\n",
              "</style>\n",
              "<table border=\"1\" class=\"dataframe\">\n",
              "  <thead>\n",
              "    <tr style=\"text-align: right;\">\n",
              "      <th></th>\n",
              "      <th>gender</th>\n",
              "      <th>age</th>\n",
              "      <th>hypertension</th>\n",
              "      <th>heart_disease</th>\n",
              "      <th>ever_married</th>\n",
              "      <th>work_type</th>\n",
              "      <th>Residence_type</th>\n",
              "      <th>avg_glucose_level</th>\n",
              "      <th>bmi</th>\n",
              "      <th>smoking_status</th>\n",
              "      <th>stroke</th>\n",
              "    </tr>\n",
              "  </thead>\n",
              "  <tbody>\n",
              "    <tr>\n",
              "      <th>0</th>\n",
              "      <td>Male</td>\n",
              "      <td>67.0</td>\n",
              "      <td>0</td>\n",
              "      <td>1</td>\n",
              "      <td>Yes</td>\n",
              "      <td>Private</td>\n",
              "      <td>Urban</td>\n",
              "      <td>228.69</td>\n",
              "      <td>36.6</td>\n",
              "      <td>formerly smoked</td>\n",
              "      <td>1</td>\n",
              "    </tr>\n",
              "    <tr>\n",
              "      <th>1</th>\n",
              "      <td>Female</td>\n",
              "      <td>61.0</td>\n",
              "      <td>0</td>\n",
              "      <td>0</td>\n",
              "      <td>Yes</td>\n",
              "      <td>Self-employed</td>\n",
              "      <td>Rural</td>\n",
              "      <td>202.21</td>\n",
              "      <td>NaN</td>\n",
              "      <td>never smoked</td>\n",
              "      <td>1</td>\n",
              "    </tr>\n",
              "    <tr>\n",
              "      <th>2</th>\n",
              "      <td>Male</td>\n",
              "      <td>80.0</td>\n",
              "      <td>0</td>\n",
              "      <td>1</td>\n",
              "      <td>Yes</td>\n",
              "      <td>Private</td>\n",
              "      <td>Rural</td>\n",
              "      <td>105.92</td>\n",
              "      <td>32.5</td>\n",
              "      <td>never smoked</td>\n",
              "      <td>1</td>\n",
              "    </tr>\n",
              "    <tr>\n",
              "      <th>3</th>\n",
              "      <td>Female</td>\n",
              "      <td>49.0</td>\n",
              "      <td>0</td>\n",
              "      <td>0</td>\n",
              "      <td>Yes</td>\n",
              "      <td>Private</td>\n",
              "      <td>Urban</td>\n",
              "      <td>171.23</td>\n",
              "      <td>34.4</td>\n",
              "      <td>smokes</td>\n",
              "      <td>1</td>\n",
              "    </tr>\n",
              "    <tr>\n",
              "      <th>4</th>\n",
              "      <td>Female</td>\n",
              "      <td>79.0</td>\n",
              "      <td>1</td>\n",
              "      <td>0</td>\n",
              "      <td>Yes</td>\n",
              "      <td>Self-employed</td>\n",
              "      <td>Rural</td>\n",
              "      <td>174.12</td>\n",
              "      <td>24.0</td>\n",
              "      <td>never smoked</td>\n",
              "      <td>1</td>\n",
              "    </tr>\n",
              "  </tbody>\n",
              "</table>\n",
              "</div>\n",
              "      <button class=\"colab-df-convert\" onclick=\"convertToInteractive('df-744fb2bd-551f-45f4-af7b-5bf99bdb1bbd')\"\n",
              "              title=\"Convert this dataframe to an interactive table.\"\n",
              "              style=\"display:none;\">\n",
              "        \n",
              "  <svg xmlns=\"http://www.w3.org/2000/svg\" height=\"24px\"viewBox=\"0 0 24 24\"\n",
              "       width=\"24px\">\n",
              "    <path d=\"M0 0h24v24H0V0z\" fill=\"none\"/>\n",
              "    <path d=\"M18.56 5.44l.94 2.06.94-2.06 2.06-.94-2.06-.94-.94-2.06-.94 2.06-2.06.94zm-11 1L8.5 8.5l.94-2.06 2.06-.94-2.06-.94L8.5 2.5l-.94 2.06-2.06.94zm10 10l.94 2.06.94-2.06 2.06-.94-2.06-.94-.94-2.06-.94 2.06-2.06.94z\"/><path d=\"M17.41 7.96l-1.37-1.37c-.4-.4-.92-.59-1.43-.59-.52 0-1.04.2-1.43.59L10.3 9.45l-7.72 7.72c-.78.78-.78 2.05 0 2.83L4 21.41c.39.39.9.59 1.41.59.51 0 1.02-.2 1.41-.59l7.78-7.78 2.81-2.81c.8-.78.8-2.07 0-2.86zM5.41 20L4 18.59l7.72-7.72 1.47 1.35L5.41 20z\"/>\n",
              "  </svg>\n",
              "      </button>\n",
              "      \n",
              "  <style>\n",
              "    .colab-df-container {\n",
              "      display:flex;\n",
              "      flex-wrap:wrap;\n",
              "      gap: 12px;\n",
              "    }\n",
              "\n",
              "    .colab-df-convert {\n",
              "      background-color: #E8F0FE;\n",
              "      border: none;\n",
              "      border-radius: 50%;\n",
              "      cursor: pointer;\n",
              "      display: none;\n",
              "      fill: #1967D2;\n",
              "      height: 32px;\n",
              "      padding: 0 0 0 0;\n",
              "      width: 32px;\n",
              "    }\n",
              "\n",
              "    .colab-df-convert:hover {\n",
              "      background-color: #E2EBFA;\n",
              "      box-shadow: 0px 1px 2px rgba(60, 64, 67, 0.3), 0px 1px 3px 1px rgba(60, 64, 67, 0.15);\n",
              "      fill: #174EA6;\n",
              "    }\n",
              "\n",
              "    [theme=dark] .colab-df-convert {\n",
              "      background-color: #3B4455;\n",
              "      fill: #D2E3FC;\n",
              "    }\n",
              "\n",
              "    [theme=dark] .colab-df-convert:hover {\n",
              "      background-color: #434B5C;\n",
              "      box-shadow: 0px 1px 3px 1px rgba(0, 0, 0, 0.15);\n",
              "      filter: drop-shadow(0px 1px 2px rgba(0, 0, 0, 0.3));\n",
              "      fill: #FFFFFF;\n",
              "    }\n",
              "  </style>\n",
              "\n",
              "      <script>\n",
              "        const buttonEl =\n",
              "          document.querySelector('#df-744fb2bd-551f-45f4-af7b-5bf99bdb1bbd button.colab-df-convert');\n",
              "        buttonEl.style.display =\n",
              "          google.colab.kernel.accessAllowed ? 'block' : 'none';\n",
              "\n",
              "        async function convertToInteractive(key) {\n",
              "          const element = document.querySelector('#df-744fb2bd-551f-45f4-af7b-5bf99bdb1bbd');\n",
              "          const dataTable =\n",
              "            await google.colab.kernel.invokeFunction('convertToInteractive',\n",
              "                                                     [key], {});\n",
              "          if (!dataTable) return;\n",
              "\n",
              "          const docLinkHtml = 'Like what you see? Visit the ' +\n",
              "            '<a target=\"_blank\" href=https://colab.research.google.com/notebooks/data_table.ipynb>data table notebook</a>'\n",
              "            + ' to learn more about interactive tables.';\n",
              "          element.innerHTML = '';\n",
              "          dataTable['output_type'] = 'display_data';\n",
              "          await google.colab.output.renderOutput(dataTable, element);\n",
              "          const docLink = document.createElement('div');\n",
              "          docLink.innerHTML = docLinkHtml;\n",
              "          element.appendChild(docLink);\n",
              "        }\n",
              "      </script>\n",
              "    </div>\n",
              "  </div>\n",
              "  "
            ]
          },
          "metadata": {},
          "execution_count": 160
        }
      ]
    },
    {
      "cell_type": "code",
      "source": [
        "# Checking for duplicates in the dataset\n",
        "exp_df.duplicated().sum()"
      ],
      "metadata": {
        "colab": {
          "base_uri": "https://localhost:8080/"
        },
        "id": "Z6LCnTVusbj4",
        "outputId": "8bb36495-ecb6-43ec-fe91-37f5867fc276"
      },
      "execution_count": 161,
      "outputs": [
        {
          "output_type": "execute_result",
          "data": {
            "text/plain": [
              "0"
            ]
          },
          "metadata": {},
          "execution_count": 161
        }
      ]
    },
    {
      "cell_type": "code",
      "source": [
        "# Checking for missing values in the dataset\n",
        "exp_df.isna().sum()"
      ],
      "metadata": {
        "colab": {
          "base_uri": "https://localhost:8080/"
        },
        "id": "AZm8Pa_Bsuyw",
        "outputId": "e7d0d470-eb96-485b-9cd1-4611db80be79"
      },
      "execution_count": 162,
      "outputs": [
        {
          "output_type": "execute_result",
          "data": {
            "text/plain": [
              "gender                 0\n",
              "age                    0\n",
              "hypertension           0\n",
              "heart_disease          0\n",
              "ever_married           0\n",
              "work_type              0\n",
              "Residence_type         0\n",
              "avg_glucose_level      0\n",
              "bmi                  201\n",
              "smoking_status         0\n",
              "stroke                 0\n",
              "dtype: int64"
            ]
          },
          "metadata": {},
          "execution_count": 162
        }
      ]
    },
    {
      "cell_type": "markdown",
      "source": [
        "There are **no duplicates** present in the dataset, but there is **201 missing values in the 'bmi'** column."
      ],
      "metadata": {
        "id": "gprqafphsh9m"
      }
    },
    {
      "cell_type": "code",
      "source": [
        "exp_df.info()"
      ],
      "metadata": {
        "colab": {
          "base_uri": "https://localhost:8080/"
        },
        "id": "YIf8JrhauNAX",
        "outputId": "71536315-2a66-4a32-955e-d118f1397aa3"
      },
      "execution_count": 163,
      "outputs": [
        {
          "output_type": "stream",
          "name": "stdout",
          "text": [
            "<class 'pandas.core.frame.DataFrame'>\n",
            "RangeIndex: 5110 entries, 0 to 5109\n",
            "Data columns (total 11 columns):\n",
            " #   Column             Non-Null Count  Dtype  \n",
            "---  ------             --------------  -----  \n",
            " 0   gender             5110 non-null   object \n",
            " 1   age                5110 non-null   float64\n",
            " 2   hypertension       5110 non-null   int64  \n",
            " 3   heart_disease      5110 non-null   int64  \n",
            " 4   ever_married       5110 non-null   object \n",
            " 5   work_type          5110 non-null   object \n",
            " 6   Residence_type     5110 non-null   object \n",
            " 7   avg_glucose_level  5110 non-null   float64\n",
            " 8   bmi                4909 non-null   float64\n",
            " 9   smoking_status     5110 non-null   object \n",
            " 10  stroke             5110 non-null   int64  \n",
            "dtypes: float64(3), int64(3), object(5)\n",
            "memory usage: 439.3+ KB\n"
          ]
        }
      ]
    },
    {
      "cell_type": "markdown",
      "source": [
        "There is **3 float datatypes**, **3 integer datatypes**, and **5 object datatypes**.\n",
        "\n",
        "---"
      ],
      "metadata": {
        "id": "JjUZA9h7vyI4"
      }
    },
    {
      "cell_type": "markdown",
      "source": [
        "### **Identify Categorical Values**"
      ],
      "metadata": {
        "id": "IG1w5xZ7sJlJ"
      }
    },
    {
      "cell_type": "code",
      "source": [
        "exp_df['gender'].value_counts()"
      ],
      "metadata": {
        "colab": {
          "base_uri": "https://localhost:8080/"
        },
        "id": "Mrlt9OknsHm6",
        "outputId": "df0d99b3-67da-4445-a47d-bff9703a7fd2"
      },
      "execution_count": 164,
      "outputs": [
        {
          "output_type": "execute_result",
          "data": {
            "text/plain": [
              "Female    2994\n",
              "Male      2115\n",
              "Other        1\n",
              "Name: gender, dtype: int64"
            ]
          },
          "metadata": {},
          "execution_count": 164
        }
      ]
    },
    {
      "cell_type": "code",
      "source": [
        "exp_df = exp_df[~(exp_df['gender']=='Other')]"
      ],
      "metadata": {
        "id": "eq-kfArTZ0iP"
      },
      "execution_count": 165,
      "outputs": []
    },
    {
      "cell_type": "markdown",
      "source": [
        "#### **gender Ordinal Encoding**"
      ],
      "metadata": {
        "id": "10N8siVjcPwr"
      }
    },
    {
      "cell_type": "code",
      "source": [
        "exp_df['gender'].replace({'Female': 0,\n",
        "                         'Male': 1}, inplace=True)"
      ],
      "metadata": {
        "id": "BouapZSyZ3gD"
      },
      "execution_count": 211,
      "outputs": []
    },
    {
      "cell_type": "code",
      "source": [
        "exp_df['gender'].value_counts()"
      ],
      "metadata": {
        "colab": {
          "base_uri": "https://localhost:8080/"
        },
        "id": "A8itAm5Naug-",
        "outputId": "eb25e8bf-5340-4388-b973-dfa043f74063"
      },
      "execution_count": 212,
      "outputs": [
        {
          "output_type": "execute_result",
          "data": {
            "text/plain": [
              "0    2994\n",
              "1    2115\n",
              "Name: gender, dtype: int64"
            ]
          },
          "metadata": {},
          "execution_count": 212
        }
      ]
    },
    {
      "cell_type": "markdown",
      "source": [
        "There seems to be no inconsistencies with this column.\n",
        "\n",
        "---"
      ],
      "metadata": {
        "id": "KKhMITBisUbV"
      }
    },
    {
      "cell_type": "code",
      "source": [
        "exp_df['age'].value_counts()"
      ],
      "metadata": {
        "colab": {
          "base_uri": "https://localhost:8080/"
        },
        "id": "mTNPnwj_sYW5",
        "outputId": "637b4209-b108-4b27-8267-11565d297aa3"
      },
      "execution_count": 213,
      "outputs": [
        {
          "output_type": "execute_result",
          "data": {
            "text/plain": [
              "78.00    102\n",
              "57.00     95\n",
              "52.00     90\n",
              "54.00     87\n",
              "51.00     86\n",
              "        ... \n",
              "1.40       3\n",
              "0.48       3\n",
              "0.16       3\n",
              "0.40       2\n",
              "0.08       2\n",
              "Name: age, Length: 104, dtype: int64"
            ]
          },
          "metadata": {},
          "execution_count": 213
        }
      ]
    },
    {
      "cell_type": "markdown",
      "source": [
        "There is a lot of inconsistencies and outliers in this data column. It can be better visualized in a boxplot.\n",
        "\n",
        "Some values, like **0.08 do not make sense**, this would make sense if it were 8.00 years of age.\n",
        "\n",
        "---"
      ],
      "metadata": {
        "id": "g3h5F9LJsmO_"
      }
    },
    {
      "cell_type": "code",
      "source": [
        "exp_df['hypertension'].value_counts()"
      ],
      "metadata": {
        "colab": {
          "base_uri": "https://localhost:8080/"
        },
        "id": "YjGFXrd5tFxO",
        "outputId": "e5c62983-aeab-47b9-8eae-21034a164703"
      },
      "execution_count": 214,
      "outputs": [
        {
          "output_type": "execute_result",
          "data": {
            "text/plain": [
              "0    4611\n",
              "1     498\n",
              "Name: hypertension, dtype: int64"
            ]
          },
          "metadata": {},
          "execution_count": 214
        }
      ]
    },
    {
      "cell_type": "markdown",
      "source": [
        "There is no visible inconsistencies.\n",
        "- 0 means the patient **does not have** hypertension.\n",
        "- 1 means the patient **has** hypertension.\n",
        "---"
      ],
      "metadata": {
        "id": "E02_uBrRtMvm"
      }
    },
    {
      "cell_type": "code",
      "source": [
        "exp_df['heart_disease'].value_counts()"
      ],
      "metadata": {
        "colab": {
          "base_uri": "https://localhost:8080/"
        },
        "id": "Gy01pI52tWvS",
        "outputId": "0b172ada-7b1e-461a-fa82-30e874a0053f"
      },
      "execution_count": 215,
      "outputs": [
        {
          "output_type": "execute_result",
          "data": {
            "text/plain": [
              "0    4833\n",
              "1     276\n",
              "Name: heart_disease, dtype: int64"
            ]
          },
          "metadata": {},
          "execution_count": 215
        }
      ]
    },
    {
      "cell_type": "markdown",
      "source": [
        "There is no visible inconsistencies.\n",
        "- 0 means the patient **does not have** heart disease.\n",
        "- 1 means the patient **has** heart disease.\n",
        "---"
      ],
      "metadata": {
        "id": "qQxRKqYotb45"
      }
    },
    {
      "cell_type": "code",
      "source": [
        "exp_df['ever_married'].value_counts()"
      ],
      "metadata": {
        "colab": {
          "base_uri": "https://localhost:8080/"
        },
        "id": "dgPUmUptty_w",
        "outputId": "d204baad-1370-4d45-9bc5-71d642afe5e6"
      },
      "execution_count": 216,
      "outputs": [
        {
          "output_type": "execute_result",
          "data": {
            "text/plain": [
              "1    3353\n",
              "0    1756\n",
              "Name: ever_married, dtype: int64"
            ]
          },
          "metadata": {},
          "execution_count": 216
        }
      ]
    },
    {
      "cell_type": "code",
      "source": [
        "exp_df['ever_married'].replace({'Yes':1, 'No':0}, inplace=True)"
      ],
      "metadata": {
        "id": "2Si3-mj3YNCO"
      },
      "execution_count": 217,
      "outputs": []
    },
    {
      "cell_type": "code",
      "source": [
        "exp_df['ever_married'].value_counts()"
      ],
      "metadata": {
        "colab": {
          "base_uri": "https://localhost:8080/"
        },
        "id": "BM4L1dBkcWn2",
        "outputId": "b90b7f49-598b-4411-f9da-b2fc433714e9"
      },
      "execution_count": 218,
      "outputs": [
        {
          "output_type": "execute_result",
          "data": {
            "text/plain": [
              "1    3353\n",
              "0    1756\n",
              "Name: ever_married, dtype: int64"
            ]
          },
          "metadata": {},
          "execution_count": 218
        }
      ]
    },
    {
      "cell_type": "markdown",
      "source": [
        "There is no visible inconsistencies.\n",
        "\n",
        "- This column can be ordinal encoded.\n",
        "---"
      ],
      "metadata": {
        "id": "9ox5ohEwuC5E"
      }
    },
    {
      "cell_type": "code",
      "source": [
        "exp_df['work_type'].value_counts()"
      ],
      "metadata": {
        "colab": {
          "base_uri": "https://localhost:8080/"
        },
        "id": "z6c2D7BvuIEh",
        "outputId": "51924250-9b7a-478b-8f96-fba3f83fe6de"
      },
      "execution_count": 219,
      "outputs": [
        {
          "output_type": "execute_result",
          "data": {
            "text/plain": [
              "Private          2924\n",
              "Self-employed     819\n",
              "children          687\n",
              "Govt_job          657\n",
              "Never_worked       22\n",
              "Name: work_type, dtype: int64"
            ]
          },
          "metadata": {},
          "execution_count": 219
        }
      ]
    },
    {
      "cell_type": "code",
      "source": [
        "exp_df['work_type'].value_counts()"
      ],
      "metadata": {
        "colab": {
          "base_uri": "https://localhost:8080/"
        },
        "id": "R5q3DQJhcq3M",
        "outputId": "30e12ff6-2481-4f2c-dc66-e6822913d924"
      },
      "execution_count": 220,
      "outputs": [
        {
          "output_type": "execute_result",
          "data": {
            "text/plain": [
              "Private          2924\n",
              "Self-employed     819\n",
              "children          687\n",
              "Govt_job          657\n",
              "Never_worked       22\n",
              "Name: work_type, dtype: int64"
            ]
          },
          "metadata": {},
          "execution_count": 220
        }
      ]
    },
    {
      "cell_type": "markdown",
      "source": [
        "There is no visible inconsistencies.\n",
        "\n",
        "- This column can be ordinal encoded.\n",
        "\n",
        "---"
      ],
      "metadata": {
        "id": "DtzpWYXDuMJo"
      }
    },
    {
      "cell_type": "code",
      "source": [
        "exp_df['Residence_type'].value_counts()"
      ],
      "metadata": {
        "colab": {
          "base_uri": "https://localhost:8080/"
        },
        "id": "X_lFtgi1uWRz",
        "outputId": "775a5456-5fdb-4b3c-8c1c-5fe26b96ac24"
      },
      "execution_count": 221,
      "outputs": [
        {
          "output_type": "execute_result",
          "data": {
            "text/plain": [
              "Urban    2596\n",
              "Rural    2513\n",
              "Name: Residence_type, dtype: int64"
            ]
          },
          "metadata": {},
          "execution_count": 221
        }
      ]
    },
    {
      "cell_type": "markdown",
      "source": [
        "There is no visible inconsistencies.\n",
        "\n",
        "- This column can be ordinal encoded.\n",
        "\n",
        "---"
      ],
      "metadata": {
        "id": "BGCLUqbSude2"
      }
    },
    {
      "cell_type": "code",
      "source": [
        "exp_df['avg_glucose_level'].value_counts()"
      ],
      "metadata": {
        "colab": {
          "base_uri": "https://localhost:8080/"
        },
        "id": "WiKnJWwhukMI",
        "outputId": "f7e28291-066a-421f-ac74-7db025784e62"
      },
      "execution_count": 222,
      "outputs": [
        {
          "output_type": "execute_result",
          "data": {
            "text/plain": [
              "93.88     6\n",
              "91.68     5\n",
              "91.85     5\n",
              "83.16     5\n",
              "73.00     5\n",
              "         ..\n",
              "94.07     1\n",
              "111.93    1\n",
              "94.40     1\n",
              "95.57     1\n",
              "85.28     1\n",
              "Name: avg_glucose_level, Length: 3978, dtype: int64"
            ]
          },
          "metadata": {},
          "execution_count": 222
        }
      ]
    },
    {
      "cell_type": "markdown",
      "source": [
        "There are no visible inconsistencies.\n",
        "\n",
        "---"
      ],
      "metadata": {
        "id": "kT50eDNnupnQ"
      }
    },
    {
      "cell_type": "code",
      "source": [
        "exp_df['bmi'].value_counts()"
      ],
      "metadata": {
        "colab": {
          "base_uri": "https://localhost:8080/"
        },
        "id": "m9G5C3Kxuv6B",
        "outputId": "1ffab832-5512-45c5-8953-bfe16df895b0"
      },
      "execution_count": 223,
      "outputs": [
        {
          "output_type": "execute_result",
          "data": {
            "text/plain": [
              "28.7    41\n",
              "28.4    38\n",
              "26.7    37\n",
              "27.6    37\n",
              "26.1    37\n",
              "        ..\n",
              "48.7     1\n",
              "49.2     1\n",
              "51.0     1\n",
              "49.4     1\n",
              "14.9     1\n",
              "Name: bmi, Length: 418, dtype: int64"
            ]
          },
          "metadata": {},
          "execution_count": 223
        }
      ]
    },
    {
      "cell_type": "markdown",
      "source": [
        "There is no visible inconsistencies.\n",
        "\n",
        "- But there is still 201 missing values in this column.\n",
        "---"
      ],
      "metadata": {
        "id": "hZVMZYJou4pH"
      }
    },
    {
      "cell_type": "code",
      "source": [
        "exp_df['smoking_status'].value_counts()"
      ],
      "metadata": {
        "colab": {
          "base_uri": "https://localhost:8080/"
        },
        "id": "-wancV3Yu7_z",
        "outputId": "e0b85e47-7cf3-4757-8a73-9a1797abd7b7"
      },
      "execution_count": 224,
      "outputs": [
        {
          "output_type": "execute_result",
          "data": {
            "text/plain": [
              "never smoked       1892\n",
              "Unknown            1544\n",
              "formerly smoked     884\n",
              "smokes              789\n",
              "Name: smoking_status, dtype: int64"
            ]
          },
          "metadata": {},
          "execution_count": 224
        }
      ]
    },
    {
      "cell_type": "markdown",
      "source": [
        "No visible inconsistencies.\n",
        "\n",
        "- Can be ordinal encoded.\n",
        "\n",
        "---"
      ],
      "metadata": {
        "id": "lu31jTqQvSKX"
      }
    },
    {
      "cell_type": "code",
      "source": [
        "exp_df['stroke'].value_counts()"
      ],
      "metadata": {
        "colab": {
          "base_uri": "https://localhost:8080/"
        },
        "id": "vSXubJCrvXDX",
        "outputId": "a3d90443-bb56-45e2-e7d2-c9805977a195"
      },
      "execution_count": 225,
      "outputs": [
        {
          "output_type": "execute_result",
          "data": {
            "text/plain": [
              "0    4860\n",
              "1     249\n",
              "Name: stroke, dtype: int64"
            ]
          },
          "metadata": {},
          "execution_count": 225
        }
      ]
    },
    {
      "cell_type": "markdown",
      "source": [
        "- 0 means the patient has not had a stroke.\n",
        "- 1 means the patient has had a stroke.\n",
        "\n",
        "There is no visible inconsistencies.\n",
        "\n",
        "---"
      ],
      "metadata": {
        "id": "iYZqYPfhvaHN"
      }
    },
    {
      "cell_type": "markdown",
      "source": [
        "# **Univariate Visualizations**\n",
        "\n",
        "For target (y) and features (X)\n",
        "\n",
        "- Target (y) is ['stroke']\n",
        "- Features (X) are everything else.\n",
        "---"
      ],
      "metadata": {
        "id": "EnM65W7fzO9X"
      }
    },
    {
      "cell_type": "markdown",
      "source": [
        "#### **gender**"
      ],
      "metadata": {
        "id": "ysksxlN4et1N"
      }
    },
    {
      "cell_type": "code",
      "source": [
        "sns.countplot(x='gender', data=exp_df, hue='stroke');"
      ],
      "metadata": {
        "colab": {
          "base_uri": "https://localhost:8080/",
          "height": 279
        },
        "id": "I48zpTlgZw8H",
        "outputId": "e03bd529-f8ec-4205-ac25-168e16979875"
      },
      "execution_count": 181,
      "outputs": [
        {
          "output_type": "display_data",
          "data": {
            "text/plain": [
              "<Figure size 432x288 with 1 Axes>"
            ],
            "image/png": "[encoded data removed]"
          },
          "metadata": {
            "needs_background": "light"
          }
        }
      ]
    },
    {
      "cell_type": "code",
      "source": [
        "sns.histplot(x='gender', y= 'avg_glucose_level', data = exp_df, hue='stroke');"
      ],
      "metadata": {
        "colab": {
          "base_uri": "https://localhost:8080/",
          "height": 279
        },
        "id": "puyDLYP_SNIs",
        "outputId": "0fbd17cf-3d9f-4663-fec5-6b2a83bc9275"
      },
      "execution_count": 182,
      "outputs": [
        {
          "output_type": "display_data",
          "data": {
            "text/plain": [
              "<Figure size 432x288 with 1 Axes>"
            ],
            "image/png": "[encoded data removed]"
          },
          "metadata": {
            "needs_background": "light"
          }
        }
      ]
    },
    {
      "cell_type": "markdown",
      "source": [
        "**Base Model**\n",
        "- There is only a minimum line in the base gender boxplot for those whose gender is unknown or \"other\".\n",
        "\n",
        "**Combined Model**\n",
        "- You can see that there are numerous outliers on both the Male/Female genders around the 200 glucose level.\n",
        "\n",
        "---"
      ],
      "metadata": {
        "id": "wwI7ErigTtqD"
      }
    },
    {
      "cell_type": "markdown",
      "source": [
        "#### **age**"
      ],
      "metadata": {
        "id": "GYkLw_QFexGV"
      }
    },
    {
      "cell_type": "code",
      "source": [
        "\n",
        "sns.histplot(x='age', data = exp_df, hue='stroke');"
      ],
      "metadata": {
        "colab": {
          "base_uri": "https://localhost:8080/",
          "height": 279
        },
        "id": "2jH93jNjT3kt",
        "outputId": "46deee6a-41f8-4616-f138-fcc352e57b58"
      },
      "execution_count": 183,
      "outputs": [
        {
          "output_type": "display_data",
          "data": {
            "text/plain": [
              "<Figure size 432x288 with 1 Axes>"
            ],
            "image/png": "[encoded data removed]"
          },
          "metadata": {
            "needs_background": "light"
          }
        }
      ]
    },
    {
      "cell_type": "code",
      "source": [
        "print(sns.boxplot(x='age', y='smoking_status', data = exp_df));"
      ],
      "metadata": {
        "colab": {
          "base_uri": "https://localhost:8080/",
          "height": 299
        },
        "id": "Y_4u-6txVPQb",
        "outputId": "fb167012-7a2f-4f94-a117-09f909ff6221"
      },
      "execution_count": 184,
      "outputs": [
        {
          "output_type": "stream",
          "name": "stdout",
          "text": [
            "AxesSubplot(0.125,0.125;0.775x0.755)\n"
          ]
        },
        {
          "output_type": "display_data",
          "data": {
            "text/plain": [
              "<Figure size 432x288 with 1 Axes>"
            ],
            "image/png": "[encoded data removed]"
          },
          "metadata": {
            "needs_background": "light"
          }
        }
      ]
    },
    {
      "cell_type": "markdown",
      "source": [
        "**Base Model**\n",
        "- There are no outliers on the age column on it's own. \n",
        "\n",
        "**Combined Model**\n",
        "- When tracking smoking status based on age. There is a larger majority of people that have formerly smoked around the ages of 40-70.\n",
        "\n",
        "---"
      ],
      "metadata": {
        "id": "lvcBsRRQU4Mh"
      }
    },
    {
      "cell_type": "markdown",
      "source": [
        "#### **hypertension**"
      ],
      "metadata": {
        "id": "1teNQk-TezDt"
      }
    },
    {
      "cell_type": "code",
      "source": [
        "sns.countplot(x='hypertension', data=exp_df, hue='stroke');"
      ],
      "metadata": {
        "colab": {
          "base_uri": "https://localhost:8080/",
          "height": 279
        },
        "id": "tGPSg9z3VkDC",
        "outputId": "035cc243-d636-41a6-cf87-6ce31f7c783b"
      },
      "execution_count": 185,
      "outputs": [
        {
          "output_type": "display_data",
          "data": {
            "text/plain": [
              "<Figure size 432x288 with 1 Axes>"
            ],
            "image/png": "[encoded data removed]"
          },
          "metadata": {
            "needs_background": "light"
          }
        }
      ]
    },
    {
      "cell_type": "code",
      "source": [
        "sns.boxplot(x='hypertension', y='bmi', data=exp_df);"
      ],
      "metadata": {
        "colab": {
          "base_uri": "https://localhost:8080/",
          "height": 279
        },
        "id": "ZO6QGygbVs-5",
        "outputId": "e95ee168-81c9-4c3f-9499-24a683e0dc1b"
      },
      "execution_count": 186,
      "outputs": [
        {
          "output_type": "display_data",
          "data": {
            "text/plain": [
              "<Figure size 432x288 with 1 Axes>"
            ],
            "image/png": "[encoded data removed]"
          },
          "metadata": {
            "needs_background": "light"
          }
        }
      ]
    },
    {
      "cell_type": "markdown",
      "source": [
        "**Base Model**\n",
        "- In the base boxplot, the only outliers in the hypertension column are 1. Which is for patients that **do have hypertension**.\n",
        "\n",
        "**Combined Model**\n",
        "- In the boxplot that **compares 'hypertension' and 'bmi'**, there are bigger outliers for those that **do have hypertension with a BMI between 55-100**.\n",
        "\n",
        "---"
      ],
      "metadata": {
        "id": "mkVzsy4nVwpN"
      }
    },
    {
      "cell_type": "markdown",
      "source": [
        "#### **heart_disease**"
      ],
      "metadata": {
        "id": "XpbxqPmjZexj"
      }
    },
    {
      "cell_type": "code",
      "source": [
        "sns.countplot(x='heart_disease', data=exp_df);"
      ],
      "metadata": {
        "colab": {
          "base_uri": "https://localhost:8080/",
          "height": 281
        },
        "id": "X6XGNNJ7WyLC",
        "outputId": "511a46c1-91c4-43f6-f02f-bdba2b5755f6"
      },
      "execution_count": 187,
      "outputs": [
        {
          "output_type": "display_data",
          "data": {
            "text/plain": [
              "<Figure size 432x288 with 1 Axes>"
            ],
            "image/png": "[encoded data removed]"
          },
          "metadata": {
            "needs_background": "light"
          }
        }
      ]
    },
    {
      "cell_type": "code",
      "source": [
        "exp_df['heart_disease'].value_counts()"
      ],
      "metadata": {
        "colab": {
          "base_uri": "https://localhost:8080/"
        },
        "id": "1T9qdWW6N--h",
        "outputId": "1009e699-1521-4375-82d1-a3ff761a4601"
      },
      "execution_count": 188,
      "outputs": [
        {
          "output_type": "execute_result",
          "data": {
            "text/plain": [
              "0    4833\n",
              "1     276\n",
              "Name: heart_disease, dtype: int64"
            ]
          },
          "metadata": {},
          "execution_count": 188
        }
      ]
    },
    {
      "cell_type": "code",
      "source": [
        "sns.boxplot(x='heart_disease', y='avg_glucose_level', data=exp_df);"
      ],
      "metadata": {
        "colab": {
          "base_uri": "https://localhost:8080/",
          "height": 280
        },
        "id": "ytH6bbTLW--0",
        "outputId": "e3bb7c99-70f4-48dc-99e9-9a13f4d9a47c"
      },
      "execution_count": 189,
      "outputs": [
        {
          "output_type": "display_data",
          "data": {
            "text/plain": [
              "<Figure size 432x288 with 1 Axes>"
            ],
            "image/png": "[encoded data removed]"
          },
          "metadata": {
            "needs_background": "light"
          }
        }
      ]
    },
    {
      "cell_type": "markdown",
      "source": [
        "**Base Model**\n",
        "- In the base boxplot model, the only outliers are for those that do have heart disease.\n",
        "\n",
        "**Combined Model**\n",
        "- In the boxplot comparing heart disease and average glucose level. The only outliers are for patients that **did not have heart disease** & **had an avg. glucose level between 175-250**.\n",
        "\n",
        "---"
      ],
      "metadata": {
        "id": "A6-YsQFiXMJf"
      }
    },
    {
      "cell_type": "markdown",
      "source": [
        "#### **ever_married**"
      ],
      "metadata": {
        "id": "rNTW5dq6Zapx"
      }
    },
    {
      "cell_type": "code",
      "source": [
        "sns.histplot(x='ever_married', data=exp_df, hue='stroke')\n",
        "plt.title(f'{');"
      ],
      "metadata": {
        "colab": {
          "base_uri": "https://localhost:8080/",
          "height": 280
        },
        "id": "WsANw9csX4eL",
        "outputId": "31485800-59c4-424e-8d20-add991f16758"
      },
      "execution_count": 253,
      "outputs": [
        {
          "output_type": "display_data",
          "data": {
            "text/plain": [
              "<Figure size 432x288 with 1 Axes>"
            ],
            "image/png": "[encoded data removed]"
          },
          "metadata": {
            "needs_background": "light"
          }
        }
      ]
    },
    {
      "cell_type": "markdown",
      "source": [
        "**Base Model**\n",
        "- In the base boxplot model, there is no outliers present.\n",
        "---"
      ],
      "metadata": {
        "id": "FTMiNFW4YFeJ"
      }
    },
    {
      "cell_type": "markdown",
      "source": [
        "#### **work_type**"
      ],
      "metadata": {
        "id": "D_3ghckje2Py"
      }
    },
    {
      "cell_type": "code",
      "source": [
        "sns.histplot(x='work_type', data=exp_df, hue='stroke');"
      ],
      "metadata": {
        "colab": {
          "base_uri": "https://localhost:8080/",
          "height": 281
        },
        "id": "wcmql4QuZZuf",
        "outputId": "04def7bd-99cf-4ddb-fe70-6bee5b7d4622"
      },
      "execution_count": 191,
      "outputs": [
        {
          "output_type": "display_data",
          "data": {
            "text/plain": [
              "<Figure size 432x288 with 1 Axes>"
            ],
            "image/png": "[encoded data removed]"
          },
          "metadata": {
            "needs_background": "light"
          }
        }
      ]
    },
    {
      "cell_type": "code",
      "source": [
        "exp_df['work_type'].value_counts()"
      ],
      "metadata": {
        "colab": {
          "base_uri": "https://localhost:8080/"
        },
        "id": "YVuUinbEdcAN",
        "outputId": "4630e845-fc44-40b3-b0f4-b6fb3b91d034"
      },
      "execution_count": 192,
      "outputs": [
        {
          "output_type": "execute_result",
          "data": {
            "text/plain": [
              "Private          2924\n",
              "Self-employed     819\n",
              "children          687\n",
              "Govt_job          657\n",
              "Never_worked       22\n",
              "Name: work_type, dtype: int64"
            ]
          },
          "metadata": {},
          "execution_count": 192
        }
      ]
    },
    {
      "cell_type": "code",
      "source": [
        "sns.histplot(x='work_type', y='hypertension', data=exp_df, hue='stroke');"
      ],
      "metadata": {
        "colab": {
          "base_uri": "https://localhost:8080/",
          "height": 281
        },
        "id": "60q38RL8dCZx",
        "outputId": "c5eeaf71-e117-4b35-832a-93ea18a780bb"
      },
      "execution_count": 193,
      "outputs": [
        {
          "output_type": "display_data",
          "data": {
            "text/plain": [
              "<Figure size 432x288 with 1 Axes>"
            ],
            "image/png": "[encoded data removed]"
          },
          "metadata": {
            "needs_background": "light"
          }
        }
      ]
    },
    {
      "cell_type": "markdown",
      "source": [
        "**Base Model**\n",
        "- There are no outliers\n",
        "\n",
        "**Combined Model**\n",
        "- There are outliers for people that **have hypertension** that work in either **the Private Sector (0), Self-employed (1), or work a Government Job (3).**\n",
        "\n",
        "---"
      ],
      "metadata": {
        "id": "ufK-iZqhdQcj"
      }
    },
    {
      "cell_type": "markdown",
      "source": [
        "#### **Residence_type**"
      ],
      "metadata": {
        "id": "VkSCLKF4e5V4"
      }
    },
    {
      "cell_type": "code",
      "source": [
        "sns.countplot(x='Residence_type', data=exp_df, hue='stroke');"
      ],
      "metadata": {
        "colab": {
          "base_uri": "https://localhost:8080/",
          "height": 280
        },
        "id": "gPqEjlPmeaMQ",
        "outputId": "baf2d753-a320-431a-db9d-cf475b9be1b8"
      },
      "execution_count": 194,
      "outputs": [
        {
          "output_type": "display_data",
          "data": {
            "text/plain": [
              "<Figure size 432x288 with 1 Axes>"
            ],
            "image/png": "[encoded data removed]"
          },
          "metadata": {
            "needs_background": "light"
          }
        }
      ]
    },
    {
      "cell_type": "code",
      "source": [
        "sns.boxplot(x='Residence_type', y='bmi',\n",
        "            data=exp_df, hue='stroke');"
      ],
      "metadata": {
        "colab": {
          "base_uri": "https://localhost:8080/",
          "height": 280
        },
        "id": "3tlOJrdue8cS",
        "outputId": "1cd03099-dec3-4b1f-8b9e-5125b6bdaeef"
      },
      "execution_count": 195,
      "outputs": [
        {
          "output_type": "display_data",
          "data": {
            "text/plain": [
              "<Figure size 432x288 with 1 Axes>"
            ],
            "image/png": "[encoded data removed]"
          },
          "metadata": {
            "needs_background": "light"
          }
        }
      ]
    },
    {
      "cell_type": "markdown",
      "source": [
        "**Base Model**\n",
        "- There are no outliers present in the base model.\n",
        "\n",
        "**Combined Model**\n",
        "- In the combined model comparing Residence type and bmi, there are outliers present in both \"Urban\" and \"Rural\" residencies. But there appears to be more in the 'Rural' residence type.\n",
        "\n",
        "---"
      ],
      "metadata": {
        "id": "EoEf1hbKfLII"
      }
    },
    {
      "cell_type": "markdown",
      "source": [
        "#### **avg_glucose_level**"
      ],
      "metadata": {
        "id": "4BOTGyS-gr_A"
      }
    },
    {
      "cell_type": "code",
      "source": [
        "sns.histplot(x='avg_glucose_level', data=exp_df, hue='stroke');"
      ],
      "metadata": {
        "colab": {
          "base_uri": "https://localhost:8080/",
          "height": 280
        },
        "id": "H-GF8nNsfgZ2",
        "outputId": "52184fb7-16a9-40ed-b828-af139c405257"
      },
      "execution_count": 196,
      "outputs": [
        {
          "output_type": "display_data",
          "data": {
            "text/plain": [
              "<Figure size 432x288 with 1 Axes>"
            ],
            "image/png": "[encoded data removed]"
          },
          "metadata": {
            "needs_background": "light"
          }
        }
      ]
    },
    {
      "cell_type": "markdown",
      "source": [
        "**Base Model**\n",
        "- There is a massive amount of outliers present after the average glucose level reaches around 160, and stretches past 250.\n",
        "\n",
        "---"
      ],
      "metadata": {
        "id": "8fJDGNNngQDA"
      }
    },
    {
      "cell_type": "markdown",
      "source": [
        "#### **bmi**"
      ],
      "metadata": {
        "id": "x-mbXi3FgwF1"
      }
    },
    {
      "cell_type": "code",
      "source": [
        "sns.boxplot(x='bmi', data=exp_df);"
      ],
      "metadata": {
        "colab": {
          "base_uri": "https://localhost:8080/",
          "height": 279
        },
        "id": "qVCxvYGugya2",
        "outputId": "3144671f-e930-4452-8f80-0d1d08fbd29d"
      },
      "execution_count": 197,
      "outputs": [
        {
          "output_type": "display_data",
          "data": {
            "text/plain": [
              "<Figure size 432x288 with 1 Axes>"
            ],
            "image/png": "[encoded data removed]"
          },
          "metadata": {
            "needs_background": "light"
          }
        }
      ]
    },
    {
      "cell_type": "code",
      "source": [
        "sns.barplot(x='smoking_status', y='bmi', data=exp_df, hue='stroke')\n",
        "plt.title('Correlation Between Smoking & BMI');"
      ],
      "metadata": {
        "colab": {
          "base_uri": "https://localhost:8080/",
          "height": 296
        },
        "id": "KNFveMtmg2_W",
        "outputId": "64bd19f9-1939-4ff8-92d3-883928e48fa4"
      },
      "execution_count": 258,
      "outputs": [
        {
          "output_type": "display_data",
          "data": {
            "text/plain": [
              "<Figure size 432x288 with 1 Axes>"
            ],
            "image/png": "[encoded data removed]"
          },
          "metadata": {
            "needs_background": "light"
          }
        }
      ]
    },
    {
      "cell_type": "markdown",
      "source": [
        "**Base Model**\n",
        "- In the base model, there are outliers present around the bmi mark of 45-50 and stretching to a bmi of 100.\n",
        "\n",
        "**Combined Model**\n",
        "- In the combined model of 'bmi' and 'smoking status', there are outliers present in all the different values of smoking status. These outliers all start around the bmi mark of 45-50.\n",
        "\n",
        "---"
      ],
      "metadata": {
        "id": "RXDaknWwhGZr"
      }
    },
    {
      "cell_type": "markdown",
      "source": [
        "#### **smoking_status**"
      ],
      "metadata": {
        "id": "u7xVW7slhgZi"
      }
    },
    {
      "cell_type": "code",
      "source": [
        "sns.countplot(x='smoking_status', data=exp_df, hue='stroke');"
      ],
      "metadata": {
        "colab": {
          "base_uri": "https://localhost:8080/",
          "height": 280
        },
        "id": "2dmXmtYnhgPA",
        "outputId": "047286f6-66e6-4bd8-defd-9a55217a1ccb"
      },
      "execution_count": 199,
      "outputs": [
        {
          "output_type": "display_data",
          "data": {
            "text/plain": [
              "<Figure size 432x288 with 1 Axes>"
            ],
            "image/png": "[encoded data removed]"
          },
          "metadata": {
            "needs_background": "light"
          }
        }
      ]
    },
    {
      "cell_type": "markdown",
      "source": [
        "**Base Model**\n",
        "- In the base model, there are no outliers present.\n",
        "\n",
        "**Combined Model**\n",
        "- In the combined model of 'smoking_status' and 'gender'. There are no outliers present, but there is only whiskers (**black line**) present in the smoking value of 'formerly smoked'.\n",
        "\n",
        "---"
      ],
      "metadata": {
        "id": "slfcy950h-zf"
      }
    },
    {
      "cell_type": "markdown",
      "source": [
        "#### **stroke**"
      ],
      "metadata": {
        "id": "N7PRVj41ipl6"
      }
    },
    {
      "cell_type": "code",
      "source": [
        "sns.countplot(x='stroke', data=exp_df);"
      ],
      "metadata": {
        "colab": {
          "base_uri": "https://localhost:8080/",
          "height": 279
        },
        "id": "HTVQzlySipIL",
        "outputId": "2f9f8d91-325a-4f23-ce9e-e56d529de583"
      },
      "execution_count": 200,
      "outputs": [
        {
          "output_type": "display_data",
          "data": {
            "text/plain": [
              "<Figure size 432x288 with 1 Axes>"
            ],
            "image/png": "[encoded data removed]"
          },
          "metadata": {
            "needs_background": "light"
          }
        }
      ]
    },
    {
      "cell_type": "code",
      "source": [
        "sns.boxplot(x='stroke', y='age', data=exp_df);"
      ],
      "metadata": {
        "colab": {
          "base_uri": "https://localhost:8080/",
          "height": 279
        },
        "id": "Cp4JsCFOiw1o",
        "outputId": "57a2aa71-152f-43e2-afeb-4bd228f3d68b"
      },
      "execution_count": 201,
      "outputs": [
        {
          "output_type": "display_data",
          "data": {
            "text/plain": [
              "<Figure size 432x288 with 1 Axes>"
            ],
            "image/png": "[encoded data removed]"
          },
          "metadata": {
            "needs_background": "light"
          }
        }
      ]
    },
    {
      "cell_type": "markdown",
      "source": [
        "**Base Model**\n",
        "- There are only outliers present in patients that have had a stroke.\n",
        "\n",
        "**Combined Model**\n",
        "- In the combined model of patients that have had a stroke and patients ages. There are only outliers present in patients that **have had a stroke and are between the ages of 20 and 0.**\n",
        "\n",
        "---"
      ],
      "metadata": {
        "id": "ivNLSUyTi9Lb"
      }
    },
    {
      "cell_type": "markdown",
      "source": [
        "#**Correlation Heatmap of Features and Target**"
      ],
      "metadata": {
        "id": "hLUg0BcOXBY1"
      }
    },
    {
      "cell_type": "code",
      "source": [
        "corr = exp_df.corr()"
      ],
      "metadata": {
        "id": "6VE9OGRVXpJ4"
      },
      "execution_count": 202,
      "outputs": []
    },
    {
      "cell_type": "code",
      "source": [
        "fig, ax = plt.subplots(figsize=(10, 6))\n",
        "\n",
        "sns.heatmap(corr, cmap='Greens', annot=True);"
      ],
      "metadata": {
        "colab": {
          "base_uri": "https://localhost:8080/",
          "height": 459
        },
        "id": "8HQuC-B-Y8B8",
        "outputId": "f19cc8a5-08e5-4fd4-aba5-a5b42a9fbba2"
      },
      "execution_count": 203,
      "outputs": [
        {
          "output_type": "display_data",
          "data": {
            "text/plain": [
              "<Figure size 720x432 with 2 Axes>"
            ],
            "image/png": "[encoded data removed]"
          },
          "metadata": {
            "needs_background": "light"
          }
        }
      ]
    },
    {
      "cell_type": "markdown",
      "source": [
        "**Medium Correlations** - There is a medium correlation between a patients' age and whether they've ever been married.\n",
        "\n",
        "**Low Correlations** - There is a low correlation between a patients' age and their bmi. As well as a patients' bmi, and whether they've ever been married.\n",
        "\n",
        "**Target and Features** - There is a **LOW** correlation between a patients' age and whether they've had a stroke."
      ],
      "metadata": {
        "id": "j8aJ978tZO1G"
      }
    },
    {
      "cell_type": "markdown",
      "source": [
        "**LinePlot Visualizations**\n",
        "\n",
        "- **LinePlot 1** - Features *('age' & 'ever_married')*\n",
        "\n",
        "- **LinePlot 2** - Target & Feature *('stroke' & 'age')*"
      ],
      "metadata": {
        "id": "n1HiKhWJaEEQ"
      }
    },
    {
      "cell_type": "markdown",
      "source": [
        "# **Correlation Visualizations**"
      ],
      "metadata": {
        "id": "vycoSKfehJPy"
      }
    },
    {
      "cell_type": "code",
      "source": [
        "sns.lineplot(data=exp_df, x='age', y='ever_married', ci=None)\n",
        "plt.title('Mean Correlation Between Age and Marriage')\n",
        "plt.grid();"
      ],
      "metadata": {
        "colab": {
          "base_uri": "https://localhost:8080/",
          "height": 295
        },
        "id": "YBN_U_PAXE4Q",
        "outputId": "6b522363-49e0-4498-cb43-93e8282d6b7b"
      },
      "execution_count": 204,
      "outputs": [
        {
          "output_type": "display_data",
          "data": {
            "text/plain": [
              "<Figure size 432x288 with 1 Axes>"
            ],
            "image/png": "[encoded data removed]"
          },
          "metadata": {
            "needs_background": "light"
          }
        }
      ]
    },
    {
      "cell_type": "markdown",
      "source": [
        "In the lineplot above we can see that:\n",
        "- People begin to get married around the time they reach 18 years of age.\n",
        "- Around Age 22, there is a 20% chance of people being married.\n",
        "- At Age 25, that goes to 40%.\n",
        "- At Age 30, the percentage is 60%\n",
        "- At Age 40, nearly 80% of people are married.\n",
        "\n",
        "- The age where nearly 100% of people are married is around age 65."
      ],
      "metadata": {
        "id": "EJ7pFJQuhS7B"
      }
    },
    {
      "cell_type": "code",
      "source": [
        "sns.lineplot(data=exp_df, x='age', y='stroke', ci=None)\n",
        "plt.title(\"Mean Correlation Between Stroke and Patients' Age\")\n",
        "plt.grid();"
      ],
      "metadata": {
        "colab": {
          "base_uri": "https://localhost:8080/",
          "height": 295
        },
        "id": "zVU2H4CEflKU",
        "outputId": "208ff1fc-aa5b-46bc-cba0-ef490421f4b2"
      },
      "execution_count": 205,
      "outputs": [
        {
          "output_type": "display_data",
          "data": {
            "text/plain": [
              "<Figure size 432x288 with 1 Axes>"
            ],
            "image/png": "[encoded data removed]"
          },
          "metadata": {
            "needs_background": "light"
          }
        }
      ]
    },
    {
      "cell_type": "markdown",
      "source": [
        "In this lineplot above that draws a comparison between a patient's age and their risk of stroke. We can see:\n",
        "- There is an interesting note of infantile stroke that reaches around 12.5%.\n",
        "(According to **Chasa.org:** \"***Risk of stroke is highest in the first year of life and peaks during the perinatal period (a few weeks before and after birth***). [SOURCE](https://chasa.org/medical/pediatric-stroke/)\n",
        "\n",
        "- The age where a person is most at risk of having a stroke is around 80 years of age, where there is a 25% chance.\n",
        "- Infantile stroke probabilities seem to match the probabilities in patients' around 60 years of age.\n"
      ],
      "metadata": {
        "id": "vCXBB5PbhSc6"
      }
    },
    {
      "cell_type": "markdown",
      "source": [
        "#**PreProcessing**\n",
        "\n"
      ],
      "metadata": {
        "id": "f5ZEwSc9iaq2"
      }
    },
    {
      "cell_type": "markdown",
      "source": [
        "For Data Preprocessing / Machine Learning we will use the machine learning copy of the dataset provided labeled `ml_df`."
      ],
      "metadata": {
        "id": "9GYlByWWIlDB"
      }
    },
    {
      "cell_type": "code",
      "source": [
        "ml_df.info()"
      ],
      "metadata": {
        "colab": {
          "base_uri": "https://localhost:8080/"
        },
        "id": "5Rw0YMPaX3HQ",
        "outputId": "fa8ea02a-c4c7-4490-b68d-113975a451a4"
      },
      "execution_count": 206,
      "outputs": [
        {
          "output_type": "stream",
          "name": "stdout",
          "text": [
            "<class 'pandas.core.frame.DataFrame'>\n",
            "RangeIndex: 5110 entries, 0 to 5109\n",
            "Data columns (total 11 columns):\n",
            " #   Column             Non-Null Count  Dtype  \n",
            "---  ------             --------------  -----  \n",
            " 0   gender             5110 non-null   object \n",
            " 1   age                5110 non-null   float64\n",
            " 2   hypertension       5110 non-null   int64  \n",
            " 3   heart_disease      5110 non-null   int64  \n",
            " 4   ever_married       5110 non-null   object \n",
            " 5   work_type          5110 non-null   object \n",
            " 6   Residence_type     5110 non-null   object \n",
            " 7   avg_glucose_level  5110 non-null   float64\n",
            " 8   bmi                4909 non-null   float64\n",
            " 9   smoking_status     5110 non-null   object \n",
            " 10  stroke             5110 non-null   int64  \n",
            "dtypes: float64(3), int64(3), object(5)\n",
            "memory usage: 439.3+ KB\n"
          ]
        }
      ]
    },
    {
      "cell_type": "markdown",
      "source": [],
      "metadata": {
        "id": "MRv9yEoIKvw5"
      }
    },
    {
      "cell_type": "markdown",
      "source": [
        "##**ID Vector & Features**"
      ],
      "metadata": {
        "id": "da_V1JA4I2M_"
      }
    },
    {
      "cell_type": "code",
      "source": [
        "# The target for this dataset is stroke so that is dropped from X and assigned to y.\n",
        "X = ml_df.drop(('stroke'), axis=1)\n",
        "y = ml_df['stroke']"
      ],
      "metadata": {
        "id": "m8cr2xiTYTeP"
      },
      "execution_count": 207,
      "outputs": []
    },
    {
      "cell_type": "markdown",
      "source": [
        "##**Validation Split**"
      ],
      "metadata": {
        "id": "rDwT1lUCIzB8"
      }
    },
    {
      "cell_type": "code",
      "source": [
        "# A validation split is made to prevent data leakage.\n",
        "X_train, X_test, y_train, y_test = train_test_split(X, y, random_state=42, stratify=y)"
      ],
      "metadata": {
        "id": "cn1K1QOiWmqj"
      },
      "execution_count": 208,
      "outputs": []
    },
    {
      "cell_type": "markdown",
      "source": [
        "##**Data Type Analysis**"
      ],
      "metadata": {
        "id": "WbyTets4o8ED"
      }
    },
    {
      "cell_type": "code",
      "source": [
        "ml_df.info()"
      ],
      "metadata": {
        "colab": {
          "base_uri": "https://localhost:8080/"
        },
        "id": "VoPe2VPCigfy",
        "outputId": "4fb81eba-9a39-4b3b-b537-5024f0c06f07"
      },
      "execution_count": 209,
      "outputs": [
        {
          "output_type": "stream",
          "name": "stdout",
          "text": [
            "<class 'pandas.core.frame.DataFrame'>\n",
            "RangeIndex: 5110 entries, 0 to 5109\n",
            "Data columns (total 11 columns):\n",
            " #   Column             Non-Null Count  Dtype  \n",
            "---  ------             --------------  -----  \n",
            " 0   gender             5110 non-null   object \n",
            " 1   age                5110 non-null   float64\n",
            " 2   hypertension       5110 non-null   int64  \n",
            " 3   heart_disease      5110 non-null   int64  \n",
            " 4   ever_married       5110 non-null   object \n",
            " 5   work_type          5110 non-null   object \n",
            " 6   Residence_type     5110 non-null   object \n",
            " 7   avg_glucose_level  5110 non-null   float64\n",
            " 8   bmi                4909 non-null   float64\n",
            " 9   smoking_status     5110 non-null   object \n",
            " 10  stroke             5110 non-null   int64  \n",
            "dtypes: float64(3), int64(3), object(5)\n",
            "memory usage: 439.3+ KB\n"
          ]
        }
      ]
    },
    {
      "cell_type": "markdown",
      "source": [
        "---\n",
        "**Nominal Features**\n",
        "- gender (object)\n",
        "- hypertension (int64)\n",
        "- heart_disease (int64)\n",
        "- ever_married (object)\n",
        "- work_type (object)\n",
        "- Residence_type (object)\n",
        "- smoking_status (object)\n",
        "\n",
        "**Nominal Target**\n",
        "- stroke (int64)\n",
        "\n",
        "**Numerical Features**\n",
        "- age (float64)\n",
        "- avg_glucose_level (float64)\n",
        "- bmi (float64)\n",
        "\n",
        "---\n",
        "In order to make column selectors, the nominal features that are currently labeled as `'int64'` will need to be changed to `'object'`\n",
        "\n",
        "- hypertension\n",
        "- heart_disease\n",
        "- stroke"
      ],
      "metadata": {
        "id": "Z486TGIwmRw8"
      }
    },
    {
      "cell_type": "code",
      "source": [
        "# Changing int64 nominal features to object datatypes\n",
        "ml_df['hypertension'] = ml_df['hypertension'].astype(object)\n",
        "ml_df['heart_disease'] = ml_df['heart_disease'].astype(object)\n",
        "ml_df['stroke'] = ml_df['stroke'].astype(object)\n",
        "\n",
        "display(ml_df.info())"
      ],
      "metadata": {
        "colab": {
          "base_uri": "https://localhost:8080/",
          "height": 394
        },
        "id": "K_wHz6qui0fU",
        "outputId": "157186aa-d98b-40c9-b652-89c5e3c8d533"
      },
      "execution_count": 210,
      "outputs": [
        {
          "output_type": "stream",
          "name": "stdout",
          "text": [
            "<class 'pandas.core.frame.DataFrame'>\n",
            "RangeIndex: 5110 entries, 0 to 5109\n",
            "Data columns (total 11 columns):\n",
            " #   Column             Non-Null Count  Dtype  \n",
            "---  ------             --------------  -----  \n",
            " 0   gender             5110 non-null   object \n",
            " 1   age                5110 non-null   float64\n",
            " 2   hypertension       5110 non-null   object \n",
            " 3   heart_disease      5110 non-null   object \n",
            " 4   ever_married       5110 non-null   object \n",
            " 5   work_type          5110 non-null   object \n",
            " 6   Residence_type     5110 non-null   object \n",
            " 7   avg_glucose_level  5110 non-null   float64\n",
            " 8   bmi                4909 non-null   float64\n",
            " 9   smoking_status     5110 non-null   object \n",
            " 10  stroke             5110 non-null   object \n",
            "dtypes: float64(3), object(8)\n",
            "memory usage: 439.3+ KB\n"
          ]
        },
        {
          "output_type": "display_data",
          "data": {
            "text/plain": [
              "None"
            ]
          },
          "metadata": {}
        }
      ]
    },
    {
      "cell_type": "markdown",
      "source": [
        "---\n",
        "# **Column Selector**"
      ],
      "metadata": {
        "id": "vgff9_rrpIwO"
      }
    },
    {
      "cell_type": "code",
      "source": [
        "# Create Column Selectors for categorical and numerical data\n",
        "cat_selector = make_column_selector(dtype_include='object')\n",
        "num_selector = make_column_selector(dtype_include='number')"
      ],
      "metadata": {
        "id": "RK_Zd77fpPgU"
      },
      "execution_count": 226,
      "outputs": []
    },
    {
      "cell_type": "markdown",
      "source": [
        "##**Instantiate Imputer, Scaler, OHE**"
      ],
      "metadata": {
        "id": "j6hZ-1A1pxSi"
      }
    },
    {
      "cell_type": "code",
      "source": [
        "median_imputer = SimpleImputer(strategy='median')\n",
        "scaler = StandardScaler()\n",
        "ohe = OneHotEncoder(handle_unknown = 'ignore', sparse = False)"
      ],
      "metadata": {
        "id": "2Z2k1LkVpsZm"
      },
      "execution_count": 227,
      "outputs": []
    },
    {
      "cell_type": "markdown",
      "source": [
        "##Pipelines and Column Transformer"
      ],
      "metadata": {
        "id": "q71WeG68qDx7"
      }
    },
    {
      "cell_type": "code",
      "source": [
        "ml_df.isna().sum()"
      ],
      "metadata": {
        "colab": {
          "base_uri": "https://localhost:8080/"
        },
        "id": "jUH61iuAqcwL",
        "outputId": "de7ab8ee-c806-4ffa-8841-30d12a1976fd"
      },
      "execution_count": 228,
      "outputs": [
        {
          "output_type": "execute_result",
          "data": {
            "text/plain": [
              "gender                 0\n",
              "age                    0\n",
              "hypertension           0\n",
              "heart_disease          0\n",
              "ever_married           0\n",
              "work_type              0\n",
              "Residence_type         0\n",
              "avg_glucose_level      0\n",
              "bmi                  201\n",
              "smoking_status         0\n",
              "stroke                 0\n",
              "dtype: int64"
            ]
          },
          "metadata": {},
          "execution_count": 228
        }
      ]
    },
    {
      "cell_type": "markdown",
      "source": [
        "There are 201 missing values in the bmi column, this will be dealt with when using SimpleImputer"
      ],
      "metadata": {
        "id": "U8CsEGqAqhv-"
      }
    },
    {
      "cell_type": "code",
      "source": [
        "# Impute num pipeline to deal with missing values in bmi column\n",
        "num_pipe = make_pipeline(median_imputer, scaler)\n",
        "num_pipe"
      ],
      "metadata": {
        "colab": {
          "base_uri": "https://localhost:8080/",
          "height": 131
        },
        "id": "-BOBvYe3qBMB",
        "outputId": "7f38bd9c-b550-4b9c-86b9-2fe8bff0434d"
      },
      "execution_count": 230,
      "outputs": [
        {
          "output_type": "execute_result",
          "data": {
            "text/plain": [
              "Pipeline(steps=[('simpleimputer', SimpleImputer(strategy='median')),\n",
              "                ('standardscaler', StandardScaler())])"
            ],
            "text/html": [
              "<style>#sk-57eb5a9b-45c7-4707-8c46-f6b7d1b137fc {color: black;background-color: white;}#sk-57eb5a9b-45c7-4707-8c46-f6b7d1b137fc pre{padding: 0;}#sk-57eb5a9b-45c7-4707-8c46-f6b7d1b137fc div.sk-toggleable {background-color: white;}#sk-57eb5a9b-45c7-4707-8c46-f6b7d1b137fc label.sk-toggleable__label {cursor: pointer;display: block;width: 100%;margin-bottom: 0;padding: 0.3em;box-sizing: border-box;text-align: center;}#sk-57eb5a9b-45c7-4707-8c46-f6b7d1b137fc label.sk-toggleable__label-arrow:before {content: \"▸\";float: left;margin-right: 0.25em;color: #696969;}#sk-57eb5a9b-45c7-4707-8c46-f6b7d1b137fc label.sk-toggleable__label-arrow:hover:before {color: black;}#sk-57eb5a9b-45c7-4707-8c46-f6b7d1b137fc div.sk-estimator:hover label.sk-toggleable__label-arrow:before {color: black;}#sk-57eb5a9b-45c7-4707-8c46-f6b7d1b137fc div.sk-toggleable__content {max-height: 0;max-width: 0;overflow: hidden;text-align: left;background-color: #f0f8ff;}#sk-57eb5a9b-45c7-4707-8c46-f6b7d1b137fc div.sk-toggleable__content pre {margin: 0.2em;color: black;border-radius: 0.25em;background-color: #f0f8ff;}#sk-57eb5a9b-45c7-4707-8c46-f6b7d1b137fc input.sk-toggleable__control:checked~div.sk-toggleable__content {max-height: 200px;max-width: 100%;overflow: auto;}#sk-57eb5a9b-45c7-4707-8c46-f6b7d1b137fc input.sk-toggleable__control:checked~label.sk-toggleable__label-arrow:before {content: \"▾\";}#sk-57eb5a9b-45c7-4707-8c46-f6b7d1b137fc div.sk-estimator input.sk-toggleable__control:checked~label.sk-toggleable__label {background-color: #d4ebff;}#sk-57eb5a9b-45c7-4707-8c46-f6b7d1b137fc div.sk-label input.sk-toggleable__control:checked~label.sk-toggleable__label {background-color: #d4ebff;}#sk-57eb5a9b-45c7-4707-8c46-f6b7d1b137fc input.sk-hidden--visually {border: 0;clip: rect(1px 1px 1px 1px);clip: rect(1px, 1px, 1px, 1px);height: 1px;margin: -1px;overflow: hidden;padding: 0;position: absolute;width: 1px;}#sk-57eb5a9b-45c7-4707-8c46-f6b7d1b137fc div.sk-estimator {font-family: monospace;background-color: #f0f8ff;border: 1px dotted black;border-radius: 0.25em;box-sizing: border-box;margin-bottom: 0.5em;}#sk-57eb5a9b-45c7-4707-8c46-f6b7d1b137fc div.sk-estimator:hover {background-color: #d4ebff;}#sk-57eb5a9b-45c7-4707-8c46-f6b7d1b137fc div.sk-parallel-item::after {content: \"\";width: 100%;border-bottom: 1px solid gray;flex-grow: 1;}#sk-57eb5a9b-45c7-4707-8c46-f6b7d1b137fc div.sk-label:hover label.sk-toggleable__label {background-color: #d4ebff;}#sk-57eb5a9b-45c7-4707-8c46-f6b7d1b137fc div.sk-serial::before {content: \"\";position: absolute;border-left: 1px solid gray;box-sizing: border-box;top: 2em;bottom: 0;left: 50%;}#sk-57eb5a9b-45c7-4707-8c46-f6b7d1b137fc div.sk-serial {display: flex;flex-direction: column;align-items: center;background-color: white;padding-right: 0.2em;padding-left: 0.2em;}#sk-57eb5a9b-45c7-4707-8c46-f6b7d1b137fc div.sk-item {z-index: 1;}#sk-57eb5a9b-45c7-4707-8c46-f6b7d1b137fc div.sk-parallel {display: flex;align-items: stretch;justify-content: center;background-color: white;}#sk-57eb5a9b-45c7-4707-8c46-f6b7d1b137fc div.sk-parallel::before {content: \"\";position: absolute;border-left: 1px solid gray;box-sizing: border-box;top: 2em;bottom: 0;left: 50%;}#sk-57eb5a9b-45c7-4707-8c46-f6b7d1b137fc div.sk-parallel-item {display: flex;flex-direction: column;position: relative;background-color: white;}#sk-57eb5a9b-45c7-4707-8c46-f6b7d1b137fc div.sk-parallel-item:first-child::after {align-self: flex-end;width: 50%;}#sk-57eb5a9b-45c7-4707-8c46-f6b7d1b137fc div.sk-parallel-item:last-child::after {align-self: flex-start;width: 50%;}#sk-57eb5a9b-45c7-4707-8c46-f6b7d1b137fc div.sk-parallel-item:only-child::after {width: 0;}#sk-57eb5a9b-45c7-4707-8c46-f6b7d1b137fc div.sk-dashed-wrapped {border: 1px dashed gray;margin: 0 0.4em 0.5em 0.4em;box-sizing: border-box;padding-bottom: 0.4em;background-color: white;position: relative;}#sk-57eb5a9b-45c7-4707-8c46-f6b7d1b137fc div.sk-label label {font-family: monospace;font-weight: bold;background-color: white;display: inline-block;line-height: 1.2em;}#sk-57eb5a9b-45c7-4707-8c46-f6b7d1b137fc div.sk-label-container {position: relative;z-index: 2;text-align: center;}#sk-57eb5a9b-45c7-4707-8c46-f6b7d1b137fc div.sk-container {/* jupyter's `normalize.less` sets `[hidden] { display: none; }` but bootstrap.min.css set `[hidden] { display: none !important; }` so we also need the `!important` here to be able to override the default hidden behavior on the sphinx rendered scikit-learn.org. See: https://github.com/scikit-learn/scikit-learn/issues/21755 */display: inline-block !important;position: relative;}#sk-57eb5a9b-45c7-4707-8c46-f6b7d1b137fc div.sk-text-repr-fallback {display: none;}</style><div id=\"sk-57eb5a9b-45c7-4707-8c46-f6b7d1b137fc\" class=\"sk-top-container\"><div class=\"sk-text-repr-fallback\"><pre>Pipeline(steps=[(&#x27;simpleimputer&#x27;, SimpleImputer(strategy=&#x27;median&#x27;)),\n",
              "                (&#x27;standardscaler&#x27;, StandardScaler())])</pre><b>Please rerun this cell to show the HTML repr or trust the notebook.</b></div><div class=\"sk-container\" hidden><div class=\"sk-item sk-dashed-wrapped\"><div class=\"sk-label-container\"><div class=\"sk-label sk-toggleable\"><input class=\"sk-toggleable__control sk-hidden--visually\" id=\"c709fdf7-622d-4940-8f3d-204864848b15\" type=\"checkbox\" ><label for=\"c709fdf7-622d-4940-8f3d-204864848b15\" class=\"sk-toggleable__label sk-toggleable__label-arrow\">Pipeline</label><div class=\"sk-toggleable__content\"><pre>Pipeline(steps=[(&#x27;simpleimputer&#x27;, SimpleImputer(strategy=&#x27;median&#x27;)),\n",
              "                (&#x27;standardscaler&#x27;, StandardScaler())])</pre></div></div></div><div class=\"sk-serial\"><div class=\"sk-item\"><div class=\"sk-estimator sk-toggleable\"><input class=\"sk-toggleable__control sk-hidden--visually\" id=\"ef80d6f6-bae3-414a-b31a-be40252d5df3\" type=\"checkbox\" ><label for=\"ef80d6f6-bae3-414a-b31a-be40252d5df3\" class=\"sk-toggleable__label sk-toggleable__label-arrow\">SimpleImputer</label><div class=\"sk-toggleable__content\"><pre>SimpleImputer(strategy=&#x27;median&#x27;)</pre></div></div></div><div class=\"sk-item\"><div class=\"sk-estimator sk-toggleable\"><input class=\"sk-toggleable__control sk-hidden--visually\" id=\"21bdcabd-c5bb-41f4-9cab-a805b2baa6a9\" type=\"checkbox\" ><label for=\"21bdcabd-c5bb-41f4-9cab-a805b2baa6a9\" class=\"sk-toggleable__label sk-toggleable__label-arrow\">StandardScaler</label><div class=\"sk-toggleable__content\"><pre>StandardScaler()</pre></div></div></div></div></div></div></div>"
            ]
          },
          "metadata": {},
          "execution_count": 230
        }
      ]
    },
    {
      "cell_type": "markdown",
      "source": [
        "- OHE is used in categorical data because not all of the 'object' columns have ordered variables.\n",
        "- **Ex:** '`gender`' has '`Female`', '`Male`', '`Other`'"
      ],
      "metadata": {
        "id": "4LDFqDOArcK-"
      }
    },
    {
      "cell_type": "code",
      "source": [
        "cat_pipe = make_pipeline(ohe, scaler)\n",
        "cat_pipe"
      ],
      "metadata": {
        "colab": {
          "base_uri": "https://localhost:8080/",
          "height": 131
        },
        "id": "hapRjmH1qyVQ",
        "outputId": "c003e350-bb6b-4c47-b0e6-c5444a5ba66c"
      },
      "execution_count": 235,
      "outputs": [
        {
          "output_type": "execute_result",
          "data": {
            "text/plain": [
              "Pipeline(steps=[('onehotencoder',\n",
              "                 OneHotEncoder(handle_unknown='ignore', sparse=False)),\n",
              "                ('standardscaler', StandardScaler())])"
            ],
            "text/html": [
              "<style>#sk-4e523221-0564-4b63-b20a-525c2d4d95f3 {color: black;background-color: white;}#sk-4e523221-0564-4b63-b20a-525c2d4d95f3 pre{padding: 0;}#sk-4e523221-0564-4b63-b20a-525c2d4d95f3 div.sk-toggleable {background-color: white;}#sk-4e523221-0564-4b63-b20a-525c2d4d95f3 label.sk-toggleable__label {cursor: pointer;display: block;width: 100%;margin-bottom: 0;padding: 0.3em;box-sizing: border-box;text-align: center;}#sk-4e523221-0564-4b63-b20a-525c2d4d95f3 label.sk-toggleable__label-arrow:before {content: \"▸\";float: left;margin-right: 0.25em;color: #696969;}#sk-4e523221-0564-4b63-b20a-525c2d4d95f3 label.sk-toggleable__label-arrow:hover:before {color: black;}#sk-4e523221-0564-4b63-b20a-525c2d4d95f3 div.sk-estimator:hover label.sk-toggleable__label-arrow:before {color: black;}#sk-4e523221-0564-4b63-b20a-525c2d4d95f3 div.sk-toggleable__content {max-height: 0;max-width: 0;overflow: hidden;text-align: left;background-color: #f0f8ff;}#sk-4e523221-0564-4b63-b20a-525c2d4d95f3 div.sk-toggleable__content pre {margin: 0.2em;color: black;border-radius: 0.25em;background-color: #f0f8ff;}#sk-4e523221-0564-4b63-b20a-525c2d4d95f3 input.sk-toggleable__control:checked~div.sk-toggleable__content {max-height: 200px;max-width: 100%;overflow: auto;}#sk-4e523221-0564-4b63-b20a-525c2d4d95f3 input.sk-toggleable__control:checked~label.sk-toggleable__label-arrow:before {content: \"▾\";}#sk-4e523221-0564-4b63-b20a-525c2d4d95f3 div.sk-estimator input.sk-toggleable__control:checked~label.sk-toggleable__label {background-color: #d4ebff;}#sk-4e523221-0564-4b63-b20a-525c2d4d95f3 div.sk-label input.sk-toggleable__control:checked~label.sk-toggleable__label {background-color: #d4ebff;}#sk-4e523221-0564-4b63-b20a-525c2d4d95f3 input.sk-hidden--visually {border: 0;clip: rect(1px 1px 1px 1px);clip: rect(1px, 1px, 1px, 1px);height: 1px;margin: -1px;overflow: hidden;padding: 0;position: absolute;width: 1px;}#sk-4e523221-0564-4b63-b20a-525c2d4d95f3 div.sk-estimator {font-family: monospace;background-color: #f0f8ff;border: 1px dotted black;border-radius: 0.25em;box-sizing: border-box;margin-bottom: 0.5em;}#sk-4e523221-0564-4b63-b20a-525c2d4d95f3 div.sk-estimator:hover {background-color: #d4ebff;}#sk-4e523221-0564-4b63-b20a-525c2d4d95f3 div.sk-parallel-item::after {content: \"\";width: 100%;border-bottom: 1px solid gray;flex-grow: 1;}#sk-4e523221-0564-4b63-b20a-525c2d4d95f3 div.sk-label:hover label.sk-toggleable__label {background-color: #d4ebff;}#sk-4e523221-0564-4b63-b20a-525c2d4d95f3 div.sk-serial::before {content: \"\";position: absolute;border-left: 1px solid gray;box-sizing: border-box;top: 2em;bottom: 0;left: 50%;}#sk-4e523221-0564-4b63-b20a-525c2d4d95f3 div.sk-serial {display: flex;flex-direction: column;align-items: center;background-color: white;padding-right: 0.2em;padding-left: 0.2em;}#sk-4e523221-0564-4b63-b20a-525c2d4d95f3 div.sk-item {z-index: 1;}#sk-4e523221-0564-4b63-b20a-525c2d4d95f3 div.sk-parallel {display: flex;align-items: stretch;justify-content: center;background-color: white;}#sk-4e523221-0564-4b63-b20a-525c2d4d95f3 div.sk-parallel::before {content: \"\";position: absolute;border-left: 1px solid gray;box-sizing: border-box;top: 2em;bottom: 0;left: 50%;}#sk-4e523221-0564-4b63-b20a-525c2d4d95f3 div.sk-parallel-item {display: flex;flex-direction: column;position: relative;background-color: white;}#sk-4e523221-0564-4b63-b20a-525c2d4d95f3 div.sk-parallel-item:first-child::after {align-self: flex-end;width: 50%;}#sk-4e523221-0564-4b63-b20a-525c2d4d95f3 div.sk-parallel-item:last-child::after {align-self: flex-start;width: 50%;}#sk-4e523221-0564-4b63-b20a-525c2d4d95f3 div.sk-parallel-item:only-child::after {width: 0;}#sk-4e523221-0564-4b63-b20a-525c2d4d95f3 div.sk-dashed-wrapped {border: 1px dashed gray;margin: 0 0.4em 0.5em 0.4em;box-sizing: border-box;padding-bottom: 0.4em;background-color: white;position: relative;}#sk-4e523221-0564-4b63-b20a-525c2d4d95f3 div.sk-label label {font-family: monospace;font-weight: bold;background-color: white;display: inline-block;line-height: 1.2em;}#sk-4e523221-0564-4b63-b20a-525c2d4d95f3 div.sk-label-container {position: relative;z-index: 2;text-align: center;}#sk-4e523221-0564-4b63-b20a-525c2d4d95f3 div.sk-container {/* jupyter's `normalize.less` sets `[hidden] { display: none; }` but bootstrap.min.css set `[hidden] { display: none !important; }` so we also need the `!important` here to be able to override the default hidden behavior on the sphinx rendered scikit-learn.org. See: https://github.com/scikit-learn/scikit-learn/issues/21755 */display: inline-block !important;position: relative;}#sk-4e523221-0564-4b63-b20a-525c2d4d95f3 div.sk-text-repr-fallback {display: none;}</style><div id=\"sk-4e523221-0564-4b63-b20a-525c2d4d95f3\" class=\"sk-top-container\"><div class=\"sk-text-repr-fallback\"><pre>Pipeline(steps=[(&#x27;onehotencoder&#x27;,\n",
              "                 OneHotEncoder(handle_unknown=&#x27;ignore&#x27;, sparse=False)),\n",
              "                (&#x27;standardscaler&#x27;, StandardScaler())])</pre><b>Please rerun this cell to show the HTML repr or trust the notebook.</b></div><div class=\"sk-container\" hidden><div class=\"sk-item sk-dashed-wrapped\"><div class=\"sk-label-container\"><div class=\"sk-label sk-toggleable\"><input class=\"sk-toggleable__control sk-hidden--visually\" id=\"d07c4bf9-6a7d-47bd-8f5a-d8451efbc1f6\" type=\"checkbox\" ><label for=\"d07c4bf9-6a7d-47bd-8f5a-d8451efbc1f6\" class=\"sk-toggleable__label sk-toggleable__label-arrow\">Pipeline</label><div class=\"sk-toggleable__content\"><pre>Pipeline(steps=[(&#x27;onehotencoder&#x27;,\n",
              "                 OneHotEncoder(handle_unknown=&#x27;ignore&#x27;, sparse=False)),\n",
              "                (&#x27;standardscaler&#x27;, StandardScaler())])</pre></div></div></div><div class=\"sk-serial\"><div class=\"sk-item\"><div class=\"sk-estimator sk-toggleable\"><input class=\"sk-toggleable__control sk-hidden--visually\" id=\"53e9d566-1c5f-4e8c-ba57-93eebbb2eec8\" type=\"checkbox\" ><label for=\"53e9d566-1c5f-4e8c-ba57-93eebbb2eec8\" class=\"sk-toggleable__label sk-toggleable__label-arrow\">OneHotEncoder</label><div class=\"sk-toggleable__content\"><pre>OneHotEncoder(handle_unknown=&#x27;ignore&#x27;, sparse=False)</pre></div></div></div><div class=\"sk-item\"><div class=\"sk-estimator sk-toggleable\"><input class=\"sk-toggleable__control sk-hidden--visually\" id=\"59880f31-a684-41e8-8caa-317cb4325076\" type=\"checkbox\" ><label for=\"59880f31-a684-41e8-8caa-317cb4325076\" class=\"sk-toggleable__label sk-toggleable__label-arrow\">StandardScaler</label><div class=\"sk-toggleable__content\"><pre>StandardScaler()</pre></div></div></div></div></div></div></div>"
            ]
          },
          "metadata": {},
          "execution_count": 235
        }
      ]
    },
    {
      "cell_type": "markdown",
      "source": [
        "## Tuple Creation & Preprocessor"
      ],
      "metadata": {
        "id": "AO-E8XsTrAYK"
      }
    },
    {
      "cell_type": "code",
      "source": [
        "# Creating tuples for num & categorical data\n",
        "num_tuple = (num_pipe, num_selector)\n",
        "cat_tuple = (cat_pipe, cat_selector)"
      ],
      "metadata": {
        "id": "_RnwsfpgrGCV"
      },
      "execution_count": 234,
      "outputs": []
    },
    {
      "cell_type": "code",
      "source": [
        "#Creating Preprocessor that combines everything\n",
        "preprocessor = make_column_transformer(num_tuple, cat_tuple, remainder='passthrough')\n",
        "preprocessor"
      ],
      "metadata": {
        "colab": {
          "base_uri": "https://localhost:8080/",
          "height": 157
        },
        "id": "gOLXirfJrRkU",
        "outputId": "7fe83c1c-bc46-44b1-9e83-ca8c2bc6ebdf"
      },
      "execution_count": 236,
      "outputs": [
        {
          "output_type": "execute_result",
          "data": {
            "text/plain": [
              "ColumnTransformer(remainder='passthrough',\n",
              "                  transformers=[('pipeline-1',\n",
              "                                 Pipeline(steps=[('simpleimputer',\n",
              "                                                  SimpleImputer(strategy='median')),\n",
              "                                                 ('standardscaler',\n",
              "                                                  StandardScaler())]),\n",
              "                                 <sklearn.compose._column_transformer.make_column_selector object at 0x7f8b6f335a90>),\n",
              "                                ('pipeline-2',\n",
              "                                 Pipeline(steps=[('onehotencoder',\n",
              "                                                  OneHotEncoder(handle_unknown='ignore',\n",
              "                                                                sparse=False)),\n",
              "                                                 ('standardscaler',\n",
              "                                                  StandardScaler())]),\n",
              "                                 <sklearn.compose._column_transformer.make_column_selector object at 0x7f8b6f335850>)])"
            ],
            "text/html": [
              "<style>#sk-730b8ceb-437a-4490-980a-9c6ef4c14d52 {color: black;background-color: white;}#sk-730b8ceb-437a-4490-980a-9c6ef4c14d52 pre{padding: 0;}#sk-730b8ceb-437a-4490-980a-9c6ef4c14d52 div.sk-toggleable {background-color: white;}#sk-730b8ceb-437a-4490-980a-9c6ef4c14d52 label.sk-toggleable__label {cursor: pointer;display: block;width: 100%;margin-bottom: 0;padding: 0.3em;box-sizing: border-box;text-align: center;}#sk-730b8ceb-437a-4490-980a-9c6ef4c14d52 label.sk-toggleable__label-arrow:before {content: \"▸\";float: left;margin-right: 0.25em;color: #696969;}#sk-730b8ceb-437a-4490-980a-9c6ef4c14d52 label.sk-toggleable__label-arrow:hover:before {color: black;}#sk-730b8ceb-437a-4490-980a-9c6ef4c14d52 div.sk-estimator:hover label.sk-toggleable__label-arrow:before {color: black;}#sk-730b8ceb-437a-4490-980a-9c6ef4c14d52 div.sk-toggleable__content {max-height: 0;max-width: 0;overflow: hidden;text-align: left;background-color: #f0f8ff;}#sk-730b8ceb-437a-4490-980a-9c6ef4c14d52 div.sk-toggleable__content pre {margin: 0.2em;color: black;border-radius: 0.25em;background-color: #f0f8ff;}#sk-730b8ceb-437a-4490-980a-9c6ef4c14d52 input.sk-toggleable__control:checked~div.sk-toggleable__content {max-height: 200px;max-width: 100%;overflow: auto;}#sk-730b8ceb-437a-4490-980a-9c6ef4c14d52 input.sk-toggleable__control:checked~label.sk-toggleable__label-arrow:before {content: \"▾\";}#sk-730b8ceb-437a-4490-980a-9c6ef4c14d52 div.sk-estimator input.sk-toggleable__control:checked~label.sk-toggleable__label {background-color: #d4ebff;}#sk-730b8ceb-437a-4490-980a-9c6ef4c14d52 div.sk-label input.sk-toggleable__control:checked~label.sk-toggleable__label {background-color: #d4ebff;}#sk-730b8ceb-437a-4490-980a-9c6ef4c14d52 input.sk-hidden--visually {border: 0;clip: rect(1px 1px 1px 1px);clip: rect(1px, 1px, 1px, 1px);height: 1px;margin: -1px;overflow: hidden;padding: 0;position: absolute;width: 1px;}#sk-730b8ceb-437a-4490-980a-9c6ef4c14d52 div.sk-estimator {font-family: monospace;background-color: #f0f8ff;border: 1px dotted black;border-radius: 0.25em;box-sizing: border-box;margin-bottom: 0.5em;}#sk-730b8ceb-437a-4490-980a-9c6ef4c14d52 div.sk-estimator:hover {background-color: #d4ebff;}#sk-730b8ceb-437a-4490-980a-9c6ef4c14d52 div.sk-parallel-item::after {content: \"\";width: 100%;border-bottom: 1px solid gray;flex-grow: 1;}#sk-730b8ceb-437a-4490-980a-9c6ef4c14d52 div.sk-label:hover label.sk-toggleable__label {background-color: #d4ebff;}#sk-730b8ceb-437a-4490-980a-9c6ef4c14d52 div.sk-serial::before {content: \"\";position: absolute;border-left: 1px solid gray;box-sizing: border-box;top: 2em;bottom: 0;left: 50%;}#sk-730b8ceb-437a-4490-980a-9c6ef4c14d52 div.sk-serial {display: flex;flex-direction: column;align-items: center;background-color: white;padding-right: 0.2em;padding-left: 0.2em;}#sk-730b8ceb-437a-4490-980a-9c6ef4c14d52 div.sk-item {z-index: 1;}#sk-730b8ceb-437a-4490-980a-9c6ef4c14d52 div.sk-parallel {display: flex;align-items: stretch;justify-content: center;background-color: white;}#sk-730b8ceb-437a-4490-980a-9c6ef4c14d52 div.sk-parallel::before {content: \"\";position: absolute;border-left: 1px solid gray;box-sizing: border-box;top: 2em;bottom: 0;left: 50%;}#sk-730b8ceb-437a-4490-980a-9c6ef4c14d52 div.sk-parallel-item {display: flex;flex-direction: column;position: relative;background-color: white;}#sk-730b8ceb-437a-4490-980a-9c6ef4c14d52 div.sk-parallel-item:first-child::after {align-self: flex-end;width: 50%;}#sk-730b8ceb-437a-4490-980a-9c6ef4c14d52 div.sk-parallel-item:last-child::after {align-self: flex-start;width: 50%;}#sk-730b8ceb-437a-4490-980a-9c6ef4c14d52 div.sk-parallel-item:only-child::after {width: 0;}#sk-730b8ceb-437a-4490-980a-9c6ef4c14d52 div.sk-dashed-wrapped {border: 1px dashed gray;margin: 0 0.4em 0.5em 0.4em;box-sizing: border-box;padding-bottom: 0.4em;background-color: white;position: relative;}#sk-730b8ceb-437a-4490-980a-9c6ef4c14d52 div.sk-label label {font-family: monospace;font-weight: bold;background-color: white;display: inline-block;line-height: 1.2em;}#sk-730b8ceb-437a-4490-980a-9c6ef4c14d52 div.sk-label-container {position: relative;z-index: 2;text-align: center;}#sk-730b8ceb-437a-4490-980a-9c6ef4c14d52 div.sk-container {/* jupyter's `normalize.less` sets `[hidden] { display: none; }` but bootstrap.min.css set `[hidden] { display: none !important; }` so we also need the `!important` here to be able to override the default hidden behavior on the sphinx rendered scikit-learn.org. See: https://github.com/scikit-learn/scikit-learn/issues/21755 */display: inline-block !important;position: relative;}#sk-730b8ceb-437a-4490-980a-9c6ef4c14d52 div.sk-text-repr-fallback {display: none;}</style><div id=\"sk-730b8ceb-437a-4490-980a-9c6ef4c14d52\" class=\"sk-top-container\"><div class=\"sk-text-repr-fallback\"><pre>ColumnTransformer(remainder=&#x27;passthrough&#x27;,\n",
              "                  transformers=[(&#x27;pipeline-1&#x27;,\n",
              "                                 Pipeline(steps=[(&#x27;simpleimputer&#x27;,\n",
              "                                                  SimpleImputer(strategy=&#x27;median&#x27;)),\n",
              "                                                 (&#x27;standardscaler&#x27;,\n",
              "                                                  StandardScaler())]),\n",
              "                                 &lt;sklearn.compose._column_transformer.make_column_selector object at 0x7f8b6f335a90&gt;),\n",
              "                                (&#x27;pipeline-2&#x27;,\n",
              "                                 Pipeline(steps=[(&#x27;onehotencoder&#x27;,\n",
              "                                                  OneHotEncoder(handle_unknown=&#x27;ignore&#x27;,\n",
              "                                                                sparse=False)),\n",
              "                                                 (&#x27;standardscaler&#x27;,\n",
              "                                                  StandardScaler())]),\n",
              "                                 &lt;sklearn.compose._column_transformer.make_column_selector object at 0x7f8b6f335850&gt;)])</pre><b>Please rerun this cell to show the HTML repr or trust the notebook.</b></div><div class=\"sk-container\" hidden><div class=\"sk-item sk-dashed-wrapped\"><div class=\"sk-label-container\"><div class=\"sk-label sk-toggleable\"><input class=\"sk-toggleable__control sk-hidden--visually\" id=\"c74c0a5b-ffea-4fd6-a0cb-024cf5696649\" type=\"checkbox\" ><label for=\"c74c0a5b-ffea-4fd6-a0cb-024cf5696649\" class=\"sk-toggleable__label sk-toggleable__label-arrow\">ColumnTransformer</label><div class=\"sk-toggleable__content\"><pre>ColumnTransformer(remainder=&#x27;passthrough&#x27;,\n",
              "                  transformers=[(&#x27;pipeline-1&#x27;,\n",
              "                                 Pipeline(steps=[(&#x27;simpleimputer&#x27;,\n",
              "                                                  SimpleImputer(strategy=&#x27;median&#x27;)),\n",
              "                                                 (&#x27;standardscaler&#x27;,\n",
              "                                                  StandardScaler())]),\n",
              "                                 &lt;sklearn.compose._column_transformer.make_column_selector object at 0x7f8b6f335a90&gt;),\n",
              "                                (&#x27;pipeline-2&#x27;,\n",
              "                                 Pipeline(steps=[(&#x27;onehotencoder&#x27;,\n",
              "                                                  OneHotEncoder(handle_unknown=&#x27;ignore&#x27;,\n",
              "                                                                sparse=False)),\n",
              "                                                 (&#x27;standardscaler&#x27;,\n",
              "                                                  StandardScaler())]),\n",
              "                                 &lt;sklearn.compose._column_transformer.make_column_selector object at 0x7f8b6f335850&gt;)])</pre></div></div></div><div class=\"sk-parallel\"><div class=\"sk-parallel-item\"><div class=\"sk-item\"><div class=\"sk-label-container\"><div class=\"sk-label sk-toggleable\"><input class=\"sk-toggleable__control sk-hidden--visually\" id=\"b22c10a5-c76a-436a-9323-76b83f582ccb\" type=\"checkbox\" ><label for=\"b22c10a5-c76a-436a-9323-76b83f582ccb\" class=\"sk-toggleable__label sk-toggleable__label-arrow\">pipeline-1</label><div class=\"sk-toggleable__content\"><pre>&lt;sklearn.compose._column_transformer.make_column_selector object at 0x7f8b6f335a90&gt;</pre></div></div></div><div class=\"sk-serial\"><div class=\"sk-item\"><div class=\"sk-serial\"><div class=\"sk-item\"><div class=\"sk-estimator sk-toggleable\"><input class=\"sk-toggleable__control sk-hidden--visually\" id=\"2cb450e3-4503-4664-a5ae-722a524c331b\" type=\"checkbox\" ><label for=\"2cb450e3-4503-4664-a5ae-722a524c331b\" class=\"sk-toggleable__label sk-toggleable__label-arrow\">SimpleImputer</label><div class=\"sk-toggleable__content\"><pre>SimpleImputer(strategy=&#x27;median&#x27;)</pre></div></div></div><div class=\"sk-item\"><div class=\"sk-estimator sk-toggleable\"><input class=\"sk-toggleable__control sk-hidden--visually\" id=\"9260fce4-72e6-4cf2-89de-03c845fd900a\" type=\"checkbox\" ><label for=\"9260fce4-72e6-4cf2-89de-03c845fd900a\" class=\"sk-toggleable__label sk-toggleable__label-arrow\">StandardScaler</label><div class=\"sk-toggleable__content\"><pre>StandardScaler()</pre></div></div></div></div></div></div></div></div><div class=\"sk-parallel-item\"><div class=\"sk-item\"><div class=\"sk-label-container\"><div class=\"sk-label sk-toggleable\"><input class=\"sk-toggleable__control sk-hidden--visually\" id=\"32f6713b-2be9-4696-bfc3-ac2216b516af\" type=\"checkbox\" ><label for=\"32f6713b-2be9-4696-bfc3-ac2216b516af\" class=\"sk-toggleable__label sk-toggleable__label-arrow\">pipeline-2</label><div class=\"sk-toggleable__content\"><pre>&lt;sklearn.compose._column_transformer.make_column_selector object at 0x7f8b6f335850&gt;</pre></div></div></div><div class=\"sk-serial\"><div class=\"sk-item\"><div class=\"sk-serial\"><div class=\"sk-item\"><div class=\"sk-estimator sk-toggleable\"><input class=\"sk-toggleable__control sk-hidden--visually\" id=\"ba6983b5-3f14-4001-8690-78ae874d8ddc\" type=\"checkbox\" ><label for=\"ba6983b5-3f14-4001-8690-78ae874d8ddc\" class=\"sk-toggleable__label sk-toggleable__label-arrow\">OneHotEncoder</label><div class=\"sk-toggleable__content\"><pre>OneHotEncoder(handle_unknown=&#x27;ignore&#x27;, sparse=False)</pre></div></div></div><div class=\"sk-item\"><div class=\"sk-estimator sk-toggleable\"><input class=\"sk-toggleable__control sk-hidden--visually\" id=\"d2fb00a1-fbd6-4c9b-9713-dcfa48df00da\" type=\"checkbox\" ><label for=\"d2fb00a1-fbd6-4c9b-9713-dcfa48df00da\" class=\"sk-toggleable__label sk-toggleable__label-arrow\">StandardScaler</label><div class=\"sk-toggleable__content\"><pre>StandardScaler()</pre></div></div></div></div></div></div></div></div><div class=\"sk-parallel-item\"><div class=\"sk-item\"><div class=\"sk-label-container\"><div class=\"sk-label sk-toggleable\"><input class=\"sk-toggleable__control sk-hidden--visually\" id=\"c3070c59-e6eb-4249-9efb-db0218dcdd1b\" type=\"checkbox\" ><label for=\"c3070c59-e6eb-4249-9efb-db0218dcdd1b\" class=\"sk-toggleable__label sk-toggleable__label-arrow\">remainder</label><div class=\"sk-toggleable__content\"><pre></pre></div></div></div><div class=\"sk-serial\"><div class=\"sk-item\"><div class=\"sk-estimator sk-toggleable\"><input class=\"sk-toggleable__control sk-hidden--visually\" id=\"b47eb19b-47d5-4ded-994a-cc6a58ce5219\" type=\"checkbox\" ><label for=\"b47eb19b-47d5-4ded-994a-cc6a58ce5219\" class=\"sk-toggleable__label sk-toggleable__label-arrow\">passthrough</label><div class=\"sk-toggleable__content\"><pre>passthrough</pre></div></div></div></div></div></div></div></div></div></div>"
            ]
          },
          "metadata": {},
          "execution_count": 236
        }
      ]
    },
    {
      "cell_type": "markdown",
      "source": [
        "##Fit Preprocessor & Transform Training Data"
      ],
      "metadata": {
        "id": "mkt6LhAIshjO"
      }
    },
    {
      "cell_type": "code",
      "source": [
        "preprocessor.fit(X_train)"
      ],
      "metadata": {
        "colab": {
          "base_uri": "https://localhost:8080/",
          "height": 157
        },
        "id": "m6BPM-GMs3Aw",
        "outputId": "62f74a8f-b0ca-44bf-f1f6-cee0dc9569e7"
      },
      "execution_count": 238,
      "outputs": [
        {
          "output_type": "execute_result",
          "data": {
            "text/plain": [
              "ColumnTransformer(remainder='passthrough',\n",
              "                  transformers=[('pipeline-1',\n",
              "                                 Pipeline(steps=[('simpleimputer',\n",
              "                                                  SimpleImputer(strategy='median')),\n",
              "                                                 ('standardscaler',\n",
              "                                                  StandardScaler())]),\n",
              "                                 <sklearn.compose._column_transformer.make_column_selector object at 0x7f8b6f335a90>),\n",
              "                                ('pipeline-2',\n",
              "                                 Pipeline(steps=[('onehotencoder',\n",
              "                                                  OneHotEncoder(handle_unknown='ignore',\n",
              "                                                                sparse=False)),\n",
              "                                                 ('standardscaler',\n",
              "                                                  StandardScaler())]),\n",
              "                                 <sklearn.compose._column_transformer.make_column_selector object at 0x7f8b6f335850>)])"
            ],
            "text/html": [
              "<style>#sk-4f41ea76-1513-4c91-a47a-fb6eb4e1ee19 {color: black;background-color: white;}#sk-4f41ea76-1513-4c91-a47a-fb6eb4e1ee19 pre{padding: 0;}#sk-4f41ea76-1513-4c91-a47a-fb6eb4e1ee19 div.sk-toggleable {background-color: white;}#sk-4f41ea76-1513-4c91-a47a-fb6eb4e1ee19 label.sk-toggleable__label {cursor: pointer;display: block;width: 100%;margin-bottom: 0;padding: 0.3em;box-sizing: border-box;text-align: center;}#sk-4f41ea76-1513-4c91-a47a-fb6eb4e1ee19 label.sk-toggleable__label-arrow:before {content: \"▸\";float: left;margin-right: 0.25em;color: #696969;}#sk-4f41ea76-1513-4c91-a47a-fb6eb4e1ee19 label.sk-toggleable__label-arrow:hover:before {color: black;}#sk-4f41ea76-1513-4c91-a47a-fb6eb4e1ee19 div.sk-estimator:hover label.sk-toggleable__label-arrow:before {color: black;}#sk-4f41ea76-1513-4c91-a47a-fb6eb4e1ee19 div.sk-toggleable__content {max-height: 0;max-width: 0;overflow: hidden;text-align: left;background-color: #f0f8ff;}#sk-4f41ea76-1513-4c91-a47a-fb6eb4e1ee19 div.sk-toggleable__content pre {margin: 0.2em;color: black;border-radius: 0.25em;background-color: #f0f8ff;}#sk-4f41ea76-1513-4c91-a47a-fb6eb4e1ee19 input.sk-toggleable__control:checked~div.sk-toggleable__content {max-height: 200px;max-width: 100%;overflow: auto;}#sk-4f41ea76-1513-4c91-a47a-fb6eb4e1ee19 input.sk-toggleable__control:checked~label.sk-toggleable__label-arrow:before {content: \"▾\";}#sk-4f41ea76-1513-4c91-a47a-fb6eb4e1ee19 div.sk-estimator input.sk-toggleable__control:checked~label.sk-toggleable__label {background-color: #d4ebff;}#sk-4f41ea76-1513-4c91-a47a-fb6eb4e1ee19 div.sk-label input.sk-toggleable__control:checked~label.sk-toggleable__label {background-color: #d4ebff;}#sk-4f41ea76-1513-4c91-a47a-fb6eb4e1ee19 input.sk-hidden--visually {border: 0;clip: rect(1px 1px 1px 1px);clip: rect(1px, 1px, 1px, 1px);height: 1px;margin: -1px;overflow: hidden;padding: 0;position: absolute;width: 1px;}#sk-4f41ea76-1513-4c91-a47a-fb6eb4e1ee19 div.sk-estimator {font-family: monospace;background-color: #f0f8ff;border: 1px dotted black;border-radius: 0.25em;box-sizing: border-box;margin-bottom: 0.5em;}#sk-4f41ea76-1513-4c91-a47a-fb6eb4e1ee19 div.sk-estimator:hover {background-color: #d4ebff;}#sk-4f41ea76-1513-4c91-a47a-fb6eb4e1ee19 div.sk-parallel-item::after {content: \"\";width: 100%;border-bottom: 1px solid gray;flex-grow: 1;}#sk-4f41ea76-1513-4c91-a47a-fb6eb4e1ee19 div.sk-label:hover label.sk-toggleable__label {background-color: #d4ebff;}#sk-4f41ea76-1513-4c91-a47a-fb6eb4e1ee19 div.sk-serial::before {content: \"\";position: absolute;border-left: 1px solid gray;box-sizing: border-box;top: 2em;bottom: 0;left: 50%;}#sk-4f41ea76-1513-4c91-a47a-fb6eb4e1ee19 div.sk-serial {display: flex;flex-direction: column;align-items: center;background-color: white;padding-right: 0.2em;padding-left: 0.2em;}#sk-4f41ea76-1513-4c91-a47a-fb6eb4e1ee19 div.sk-item {z-index: 1;}#sk-4f41ea76-1513-4c91-a47a-fb6eb4e1ee19 div.sk-parallel {display: flex;align-items: stretch;justify-content: center;background-color: white;}#sk-4f41ea76-1513-4c91-a47a-fb6eb4e1ee19 div.sk-parallel::before {content: \"\";position: absolute;border-left: 1px solid gray;box-sizing: border-box;top: 2em;bottom: 0;left: 50%;}#sk-4f41ea76-1513-4c91-a47a-fb6eb4e1ee19 div.sk-parallel-item {display: flex;flex-direction: column;position: relative;background-color: white;}#sk-4f41ea76-1513-4c91-a47a-fb6eb4e1ee19 div.sk-parallel-item:first-child::after {align-self: flex-end;width: 50%;}#sk-4f41ea76-1513-4c91-a47a-fb6eb4e1ee19 div.sk-parallel-item:last-child::after {align-self: flex-start;width: 50%;}#sk-4f41ea76-1513-4c91-a47a-fb6eb4e1ee19 div.sk-parallel-item:only-child::after {width: 0;}#sk-4f41ea76-1513-4c91-a47a-fb6eb4e1ee19 div.sk-dashed-wrapped {border: 1px dashed gray;margin: 0 0.4em 0.5em 0.4em;box-sizing: border-box;padding-bottom: 0.4em;background-color: white;position: relative;}#sk-4f41ea76-1513-4c91-a47a-fb6eb4e1ee19 div.sk-label label {font-family: monospace;font-weight: bold;background-color: white;display: inline-block;line-height: 1.2em;}#sk-4f41ea76-1513-4c91-a47a-fb6eb4e1ee19 div.sk-label-container {position: relative;z-index: 2;text-align: center;}#sk-4f41ea76-1513-4c91-a47a-fb6eb4e1ee19 div.sk-container {/* jupyter's `normalize.less` sets `[hidden] { display: none; }` but bootstrap.min.css set `[hidden] { display: none !important; }` so we also need the `!important` here to be able to override the default hidden behavior on the sphinx rendered scikit-learn.org. See: https://github.com/scikit-learn/scikit-learn/issues/21755 */display: inline-block !important;position: relative;}#sk-4f41ea76-1513-4c91-a47a-fb6eb4e1ee19 div.sk-text-repr-fallback {display: none;}</style><div id=\"sk-4f41ea76-1513-4c91-a47a-fb6eb4e1ee19\" class=\"sk-top-container\"><div class=\"sk-text-repr-fallback\"><pre>ColumnTransformer(remainder=&#x27;passthrough&#x27;,\n",
              "                  transformers=[(&#x27;pipeline-1&#x27;,\n",
              "                                 Pipeline(steps=[(&#x27;simpleimputer&#x27;,\n",
              "                                                  SimpleImputer(strategy=&#x27;median&#x27;)),\n",
              "                                                 (&#x27;standardscaler&#x27;,\n",
              "                                                  StandardScaler())]),\n",
              "                                 &lt;sklearn.compose._column_transformer.make_column_selector object at 0x7f8b6f335a90&gt;),\n",
              "                                (&#x27;pipeline-2&#x27;,\n",
              "                                 Pipeline(steps=[(&#x27;onehotencoder&#x27;,\n",
              "                                                  OneHotEncoder(handle_unknown=&#x27;ignore&#x27;,\n",
              "                                                                sparse=False)),\n",
              "                                                 (&#x27;standardscaler&#x27;,\n",
              "                                                  StandardScaler())]),\n",
              "                                 &lt;sklearn.compose._column_transformer.make_column_selector object at 0x7f8b6f335850&gt;)])</pre><b>Please rerun this cell to show the HTML repr or trust the notebook.</b></div><div class=\"sk-container\" hidden><div class=\"sk-item sk-dashed-wrapped\"><div class=\"sk-label-container\"><div class=\"sk-label sk-toggleable\"><input class=\"sk-toggleable__control sk-hidden--visually\" id=\"81e8fc03-9fb1-4bd3-8f9c-f35ed820d352\" type=\"checkbox\" ><label for=\"81e8fc03-9fb1-4bd3-8f9c-f35ed820d352\" class=\"sk-toggleable__label sk-toggleable__label-arrow\">ColumnTransformer</label><div class=\"sk-toggleable__content\"><pre>ColumnTransformer(remainder=&#x27;passthrough&#x27;,\n",
              "                  transformers=[(&#x27;pipeline-1&#x27;,\n",
              "                                 Pipeline(steps=[(&#x27;simpleimputer&#x27;,\n",
              "                                                  SimpleImputer(strategy=&#x27;median&#x27;)),\n",
              "                                                 (&#x27;standardscaler&#x27;,\n",
              "                                                  StandardScaler())]),\n",
              "                                 &lt;sklearn.compose._column_transformer.make_column_selector object at 0x7f8b6f335a90&gt;),\n",
              "                                (&#x27;pipeline-2&#x27;,\n",
              "                                 Pipeline(steps=[(&#x27;onehotencoder&#x27;,\n",
              "                                                  OneHotEncoder(handle_unknown=&#x27;ignore&#x27;,\n",
              "                                                                sparse=False)),\n",
              "                                                 (&#x27;standardscaler&#x27;,\n",
              "                                                  StandardScaler())]),\n",
              "                                 &lt;sklearn.compose._column_transformer.make_column_selector object at 0x7f8b6f335850&gt;)])</pre></div></div></div><div class=\"sk-parallel\"><div class=\"sk-parallel-item\"><div class=\"sk-item\"><div class=\"sk-label-container\"><div class=\"sk-label sk-toggleable\"><input class=\"sk-toggleable__control sk-hidden--visually\" id=\"3cdc61ef-d436-462a-addd-84e911b0c736\" type=\"checkbox\" ><label for=\"3cdc61ef-d436-462a-addd-84e911b0c736\" class=\"sk-toggleable__label sk-toggleable__label-arrow\">pipeline-1</label><div class=\"sk-toggleable__content\"><pre>&lt;sklearn.compose._column_transformer.make_column_selector object at 0x7f8b6f335a90&gt;</pre></div></div></div><div class=\"sk-serial\"><div class=\"sk-item\"><div class=\"sk-serial\"><div class=\"sk-item\"><div class=\"sk-estimator sk-toggleable\"><input class=\"sk-toggleable__control sk-hidden--visually\" id=\"895c1d35-286c-438d-a382-cdf3f77fe3bc\" type=\"checkbox\" ><label for=\"895c1d35-286c-438d-a382-cdf3f77fe3bc\" class=\"sk-toggleable__label sk-toggleable__label-arrow\">SimpleImputer</label><div class=\"sk-toggleable__content\"><pre>SimpleImputer(strategy=&#x27;median&#x27;)</pre></div></div></div><div class=\"sk-item\"><div class=\"sk-estimator sk-toggleable\"><input class=\"sk-toggleable__control sk-hidden--visually\" id=\"aad33055-69dd-483d-8010-9dbb681f00a7\" type=\"checkbox\" ><label for=\"aad33055-69dd-483d-8010-9dbb681f00a7\" class=\"sk-toggleable__label sk-toggleable__label-arrow\">StandardScaler</label><div class=\"sk-toggleable__content\"><pre>StandardScaler()</pre></div></div></div></div></div></div></div></div><div class=\"sk-parallel-item\"><div class=\"sk-item\"><div class=\"sk-label-container\"><div class=\"sk-label sk-toggleable\"><input class=\"sk-toggleable__control sk-hidden--visually\" id=\"02f3a936-7e15-4797-adde-fc5bb266a019\" type=\"checkbox\" ><label for=\"02f3a936-7e15-4797-adde-fc5bb266a019\" class=\"sk-toggleable__label sk-toggleable__label-arrow\">pipeline-2</label><div class=\"sk-toggleable__content\"><pre>&lt;sklearn.compose._column_transformer.make_column_selector object at 0x7f8b6f335850&gt;</pre></div></div></div><div class=\"sk-serial\"><div class=\"sk-item\"><div class=\"sk-serial\"><div class=\"sk-item\"><div class=\"sk-estimator sk-toggleable\"><input class=\"sk-toggleable__control sk-hidden--visually\" id=\"59905462-0e3f-4087-a92a-10cb0c6dc607\" type=\"checkbox\" ><label for=\"59905462-0e3f-4087-a92a-10cb0c6dc607\" class=\"sk-toggleable__label sk-toggleable__label-arrow\">OneHotEncoder</label><div class=\"sk-toggleable__content\"><pre>OneHotEncoder(handle_unknown=&#x27;ignore&#x27;, sparse=False)</pre></div></div></div><div class=\"sk-item\"><div class=\"sk-estimator sk-toggleable\"><input class=\"sk-toggleable__control sk-hidden--visually\" id=\"7f5ffde8-c416-46bf-a988-a365bb17ab7c\" type=\"checkbox\" ><label for=\"7f5ffde8-c416-46bf-a988-a365bb17ab7c\" class=\"sk-toggleable__label sk-toggleable__label-arrow\">StandardScaler</label><div class=\"sk-toggleable__content\"><pre>StandardScaler()</pre></div></div></div></div></div></div></div></div><div class=\"sk-parallel-item\"><div class=\"sk-item\"><div class=\"sk-label-container\"><div class=\"sk-label sk-toggleable\"><input class=\"sk-toggleable__control sk-hidden--visually\" id=\"e3ccef5b-621c-4bfa-b656-8e73818ad1c1\" type=\"checkbox\" ><label for=\"e3ccef5b-621c-4bfa-b656-8e73818ad1c1\" class=\"sk-toggleable__label sk-toggleable__label-arrow\">remainder</label><div class=\"sk-toggleable__content\"><pre>[]</pre></div></div></div><div class=\"sk-serial\"><div class=\"sk-item\"><div class=\"sk-estimator sk-toggleable\"><input class=\"sk-toggleable__control sk-hidden--visually\" id=\"32a41752-c6a1-434b-a947-7249259463d6\" type=\"checkbox\" ><label for=\"32a41752-c6a1-434b-a947-7249259463d6\" class=\"sk-toggleable__label sk-toggleable__label-arrow\">passthrough</label><div class=\"sk-toggleable__content\"><pre>passthrough</pre></div></div></div></div></div></div></div></div></div></div>"
            ]
          },
          "metadata": {},
          "execution_count": 238
        }
      ]
    },
    {
      "cell_type": "code",
      "source": [
        "X_train_preprocessed = preprocessor.transform(X_train)\n",
        "X_test_preprocessed = preprocessor.transform(X_test)"
      ],
      "metadata": {
        "id": "VvfOjbXKslEf"
      },
      "execution_count": 239,
      "outputs": []
    },
    {
      "cell_type": "markdown",
      "source": [
        "## Sanity Check for Missing Values and Proper Shape"
      ],
      "metadata": {
        "id": "2hPlyLRctpNY"
      }
    },
    {
      "cell_type": "code",
      "source": [
        "print(f'There are {np.isnan(X_train_preprocessed).sum()} missing values in the training data')\n",
        "print(f'There are {np.isnan(X_test_preprocessed).sum()} missing values in the testing data')\n",
        "print(f'All data in X_train_processed are {X_train_preprocessed.dtype} and X_test are {X_test_preprocessed.dtype}.')\n",
        "print(f'There are {X_train_preprocessed.shape[0]} rows and {X_train_preprocessed.shape[1]} columns in the train dataset.')"
      ],
      "metadata": {
        "colab": {
          "base_uri": "https://localhost:8080/"
        },
        "id": "Zw2Bu8I0tGe9",
        "outputId": "f7cd417c-0475-40bb-97d2-68d81086761b"
      },
      "execution_count": 247,
      "outputs": [
        {
          "output_type": "stream",
          "name": "stdout",
          "text": [
            "There are 0 missing values in the training data\n",
            "There are 0 missing values in the testing data\n",
            "All data in X_train_processed are float64 and X_test are float64.\n",
            "There are 3832 rows and 21 columns in the train dataset.\n"
          ]
        }
      ]
    }
  ]
}