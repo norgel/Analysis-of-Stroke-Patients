{
  "nbformat": 4,
  "nbformat_minor": 0,
  "metadata": {
    "colab": {
      "provenance": [],
      "authorship_tag": "ABX9TyPW3LDSVAPmcTSP/rfYf1vK",
      "include_colab_link": true
    },
    "kernelspec": {
      "name": "python3",
      "display_name": "Python 3"
    },
    "language_info": {
      "name": "python"
    }
  },
  "cells": [
    {
      "cell_type": "markdown",
      "metadata": {
        "id": "view-in-github",
        "colab_type": "text"
      },
      "source": [
        "<a href=\"https://colab.research.google.com/github/norgel/Analysis-of-Stroke-Patients/blob/main/Patient_Analysis_of_Stroke_Pre_Post_Assessment.ipynb\" target=\"_parent\"><img src=\"https://colab.research.google.com/assets/colab-badge.svg\" alt=\"Open In Colab\"/></a>"
      ]
    },
    {
      "cell_type": "markdown",
      "source": [
        "Author: Nicholas Orgel\n",
        "\n",
        "Date Started: 11/02/2022"
      ],
      "metadata": {
        "id": "Ohf3A4yrlaaP"
      }
    },
    {
      "cell_type": "markdown",
      "source": [
        "Dataset Aquired from: https://www.kaggle.com/datasets/fedesoriano/stroke-prediction-dataset\n",
        "\n",
        "- This is a classification dataset that has the task of identifying whether or not a person has had a stroke.\n",
        "---\n",
        "## **Description:**\n",
        "- Excerpt from the dataset description: \"According to the World Health Organization (WHO) stroke is the 2nd leading cause of death globally, responsible for approximately 11% of total deaths. This dataset is used to predict whether a patient is likely to get stroke based on the input parameters like gender, age, various diseases, and smoking status. Each row in the data provides relavant information about the patient.\"\n",
        "\n",
        "---\n",
        "\n",
        "## **Tasks:**\n",
        "\n",
        "- Deleted unnecessay columns.\n",
        "- Deleted duplicate rows.\n",
        "- Identified and addressed missing values.\n",
        "- Identified and corrected inconsistencies in data for categorical values (i.e. Cat, cat, cats).\n",
        "- Produced univariate visuals for the target and all features.\n",
        "- Identified outliers.\n",
        "- Clearly commented all of your cleaning steps and described any decisions you made."
      ],
      "metadata": {
        "id": "j-C0VYM4lhBT"
      }
    },
    {
      "cell_type": "markdown",
      "source": [
        "## **Import Libraries**"
      ],
      "metadata": {
        "id": "zujcToepv2-y"
      }
    },
    {
      "cell_type": "code",
      "source": [
        "# Main Libraries\n",
        "import pandas as pd\n",
        "import numpy as np\n",
        "import matplotlib.pyplot as plt\n",
        "import seaborn as sns\n",
        "\n",
        "# sklearn packages\n",
        "from sklearn.model_selection import train_test_split\n",
        "from sklearn.pipeline import make_pipeline\n",
        "from sklearn.preprocessing import StandardScaler\n",
        "from sklearn.impute import SimpleImputer\n",
        "\n",
        "# Pipeline Display\n",
        "from sklearn import set_config\n",
        "set_config(display='diagram')"
      ],
      "metadata": {
        "id": "EgLD7x7Gpw6T"
      },
      "execution_count": 1,
      "outputs": []
    },
    {
      "cell_type": "markdown",
      "source": [
        "## **Load Dataset Head**"
      ],
      "metadata": {
        "id": "LYV9dFBAv7oG"
      }
    },
    {
      "cell_type": "code",
      "execution_count": 2,
      "metadata": {
        "colab": {
          "base_uri": "https://localhost:8080/",
          "height": 221
        },
        "id": "6es6Au5alU4x",
        "outputId": "2214793d-1340-43e1-cbbf-1ae0df4f3fc6"
      },
      "outputs": [
        {
          "output_type": "execute_result",
          "data": {
            "text/plain": [
              "      id  gender   age  hypertension  heart_disease ever_married  \\\n",
              "0   9046    Male  67.0             0              1          Yes   \n",
              "1  51676  Female  61.0             0              0          Yes   \n",
              "2  31112    Male  80.0             0              1          Yes   \n",
              "3  60182  Female  49.0             0              0          Yes   \n",
              "4   1665  Female  79.0             1              0          Yes   \n",
              "\n",
              "       work_type Residence_type  avg_glucose_level   bmi   smoking_status  \\\n",
              "0        Private          Urban             228.69  36.6  formerly smoked   \n",
              "1  Self-employed          Rural             202.21   NaN     never smoked   \n",
              "2        Private          Rural             105.92  32.5     never smoked   \n",
              "3        Private          Urban             171.23  34.4           smokes   \n",
              "4  Self-employed          Rural             174.12  24.0     never smoked   \n",
              "\n",
              "   stroke  \n",
              "0       1  \n",
              "1       1  \n",
              "2       1  \n",
              "3       1  \n",
              "4       1  "
            ],
            "text/html": [
              "\n",
              "  <div id=\"df-b68a7779-6fb5-44dc-bdba-3656d39d963f\">\n",
              "    <div class=\"colab-df-container\">\n",
              "      <div>\n",
              "<style scoped>\n",
              "    .dataframe tbody tr th:only-of-type {\n",
              "        vertical-align: middle;\n",
              "    }\n",
              "\n",
              "    .dataframe tbody tr th {\n",
              "        vertical-align: top;\n",
              "    }\n",
              "\n",
              "    .dataframe thead th {\n",
              "        text-align: right;\n",
              "    }\n",
              "</style>\n",
              "<table border=\"1\" class=\"dataframe\">\n",
              "  <thead>\n",
              "    <tr style=\"text-align: right;\">\n",
              "      <th></th>\n",
              "      <th>id</th>\n",
              "      <th>gender</th>\n",
              "      <th>age</th>\n",
              "      <th>hypertension</th>\n",
              "      <th>heart_disease</th>\n",
              "      <th>ever_married</th>\n",
              "      <th>work_type</th>\n",
              "      <th>Residence_type</th>\n",
              "      <th>avg_glucose_level</th>\n",
              "      <th>bmi</th>\n",
              "      <th>smoking_status</th>\n",
              "      <th>stroke</th>\n",
              "    </tr>\n",
              "  </thead>\n",
              "  <tbody>\n",
              "    <tr>\n",
              "      <th>0</th>\n",
              "      <td>9046</td>\n",
              "      <td>Male</td>\n",
              "      <td>67.0</td>\n",
              "      <td>0</td>\n",
              "      <td>1</td>\n",
              "      <td>Yes</td>\n",
              "      <td>Private</td>\n",
              "      <td>Urban</td>\n",
              "      <td>228.69</td>\n",
              "      <td>36.6</td>\n",
              "      <td>formerly smoked</td>\n",
              "      <td>1</td>\n",
              "    </tr>\n",
              "    <tr>\n",
              "      <th>1</th>\n",
              "      <td>51676</td>\n",
              "      <td>Female</td>\n",
              "      <td>61.0</td>\n",
              "      <td>0</td>\n",
              "      <td>0</td>\n",
              "      <td>Yes</td>\n",
              "      <td>Self-employed</td>\n",
              "      <td>Rural</td>\n",
              "      <td>202.21</td>\n",
              "      <td>NaN</td>\n",
              "      <td>never smoked</td>\n",
              "      <td>1</td>\n",
              "    </tr>\n",
              "    <tr>\n",
              "      <th>2</th>\n",
              "      <td>31112</td>\n",
              "      <td>Male</td>\n",
              "      <td>80.0</td>\n",
              "      <td>0</td>\n",
              "      <td>1</td>\n",
              "      <td>Yes</td>\n",
              "      <td>Private</td>\n",
              "      <td>Rural</td>\n",
              "      <td>105.92</td>\n",
              "      <td>32.5</td>\n",
              "      <td>never smoked</td>\n",
              "      <td>1</td>\n",
              "    </tr>\n",
              "    <tr>\n",
              "      <th>3</th>\n",
              "      <td>60182</td>\n",
              "      <td>Female</td>\n",
              "      <td>49.0</td>\n",
              "      <td>0</td>\n",
              "      <td>0</td>\n",
              "      <td>Yes</td>\n",
              "      <td>Private</td>\n",
              "      <td>Urban</td>\n",
              "      <td>171.23</td>\n",
              "      <td>34.4</td>\n",
              "      <td>smokes</td>\n",
              "      <td>1</td>\n",
              "    </tr>\n",
              "    <tr>\n",
              "      <th>4</th>\n",
              "      <td>1665</td>\n",
              "      <td>Female</td>\n",
              "      <td>79.0</td>\n",
              "      <td>1</td>\n",
              "      <td>0</td>\n",
              "      <td>Yes</td>\n",
              "      <td>Self-employed</td>\n",
              "      <td>Rural</td>\n",
              "      <td>174.12</td>\n",
              "      <td>24.0</td>\n",
              "      <td>never smoked</td>\n",
              "      <td>1</td>\n",
              "    </tr>\n",
              "  </tbody>\n",
              "</table>\n",
              "</div>\n",
              "      <button class=\"colab-df-convert\" onclick=\"convertToInteractive('df-b68a7779-6fb5-44dc-bdba-3656d39d963f')\"\n",
              "              title=\"Convert this dataframe to an interactive table.\"\n",
              "              style=\"display:none;\">\n",
              "        \n",
              "  <svg xmlns=\"http://www.w3.org/2000/svg\" height=\"24px\"viewBox=\"0 0 24 24\"\n",
              "       width=\"24px\">\n",
              "    <path d=\"M0 0h24v24H0V0z\" fill=\"none\"/>\n",
              "    <path d=\"M18.56 5.44l.94 2.06.94-2.06 2.06-.94-2.06-.94-.94-2.06-.94 2.06-2.06.94zm-11 1L8.5 8.5l.94-2.06 2.06-.94-2.06-.94L8.5 2.5l-.94 2.06-2.06.94zm10 10l.94 2.06.94-2.06 2.06-.94-2.06-.94-.94-2.06-.94 2.06-2.06.94z\"/><path d=\"M17.41 7.96l-1.37-1.37c-.4-.4-.92-.59-1.43-.59-.52 0-1.04.2-1.43.59L10.3 9.45l-7.72 7.72c-.78.78-.78 2.05 0 2.83L4 21.41c.39.39.9.59 1.41.59.51 0 1.02-.2 1.41-.59l7.78-7.78 2.81-2.81c.8-.78.8-2.07 0-2.86zM5.41 20L4 18.59l7.72-7.72 1.47 1.35L5.41 20z\"/>\n",
              "  </svg>\n",
              "      </button>\n",
              "      \n",
              "  <style>\n",
              "    .colab-df-container {\n",
              "      display:flex;\n",
              "      flex-wrap:wrap;\n",
              "      gap: 12px;\n",
              "    }\n",
              "\n",
              "    .colab-df-convert {\n",
              "      background-color: #E8F0FE;\n",
              "      border: none;\n",
              "      border-radius: 50%;\n",
              "      cursor: pointer;\n",
              "      display: none;\n",
              "      fill: #1967D2;\n",
              "      height: 32px;\n",
              "      padding: 0 0 0 0;\n",
              "      width: 32px;\n",
              "    }\n",
              "\n",
              "    .colab-df-convert:hover {\n",
              "      background-color: #E2EBFA;\n",
              "      box-shadow: 0px 1px 2px rgba(60, 64, 67, 0.3), 0px 1px 3px 1px rgba(60, 64, 67, 0.15);\n",
              "      fill: #174EA6;\n",
              "    }\n",
              "\n",
              "    [theme=dark] .colab-df-convert {\n",
              "      background-color: #3B4455;\n",
              "      fill: #D2E3FC;\n",
              "    }\n",
              "\n",
              "    [theme=dark] .colab-df-convert:hover {\n",
              "      background-color: #434B5C;\n",
              "      box-shadow: 0px 1px 3px 1px rgba(0, 0, 0, 0.15);\n",
              "      filter: drop-shadow(0px 1px 2px rgba(0, 0, 0, 0.3));\n",
              "      fill: #FFFFFF;\n",
              "    }\n",
              "  </style>\n",
              "\n",
              "      <script>\n",
              "        const buttonEl =\n",
              "          document.querySelector('#df-b68a7779-6fb5-44dc-bdba-3656d39d963f button.colab-df-convert');\n",
              "        buttonEl.style.display =\n",
              "          google.colab.kernel.accessAllowed ? 'block' : 'none';\n",
              "\n",
              "        async function convertToInteractive(key) {\n",
              "          const element = document.querySelector('#df-b68a7779-6fb5-44dc-bdba-3656d39d963f');\n",
              "          const dataTable =\n",
              "            await google.colab.kernel.invokeFunction('convertToInteractive',\n",
              "                                                     [key], {});\n",
              "          if (!dataTable) return;\n",
              "\n",
              "          const docLinkHtml = 'Like what you see? Visit the ' +\n",
              "            '<a target=\"_blank\" href=https://colab.research.google.com/notebooks/data_table.ipynb>data table notebook</a>'\n",
              "            + ' to learn more about interactive tables.';\n",
              "          element.innerHTML = '';\n",
              "          dataTable['output_type'] = 'display_data';\n",
              "          await google.colab.output.renderOutput(dataTable, element);\n",
              "          const docLink = document.createElement('div');\n",
              "          docLink.innerHTML = docLinkHtml;\n",
              "          element.appendChild(docLink);\n",
              "        }\n",
              "      </script>\n",
              "    </div>\n",
              "  </div>\n",
              "  "
            ]
          },
          "metadata": {},
          "execution_count": 2
        }
      ],
      "source": [
        "data = '/content/healthcare-dataset-stroke-data.csv'\n",
        "df = pd.read_csv(data)\n",
        "df.head()"
      ]
    },
    {
      "cell_type": "code",
      "source": [
        "df.columns"
      ],
      "metadata": {
        "colab": {
          "base_uri": "https://localhost:8080/"
        },
        "id": "19dw0YcPrJ79",
        "outputId": "bd70426a-150f-4c3e-850f-1561a707d32d"
      },
      "execution_count": 3,
      "outputs": [
        {
          "output_type": "execute_result",
          "data": {
            "text/plain": [
              "Index(['id', 'gender', 'age', 'hypertension', 'heart_disease', 'ever_married',\n",
              "       'work_type', 'Residence_type', 'avg_glucose_level', 'bmi',\n",
              "       'smoking_status', 'stroke'],\n",
              "      dtype='object')"
            ]
          },
          "metadata": {},
          "execution_count": 3
        }
      ]
    },
    {
      "cell_type": "markdown",
      "source": [
        "This is the list of columns that are present in the dataset. In my opinion, the 'id' column is not needed because it is vague and not categorized in a way that can be compared to the other columns.\n",
        "\n",
        "---\n",
        "\n",
        "I will make a copy of the data in order to enact all the changes.\n",
        "\n",
        "### **Data Copy**"
      ],
      "metadata": {
        "id": "BPvpFKPXrOgu"
      }
    },
    {
      "cell_type": "code",
      "source": [
        "# Make a copy of the base dataset that is used for changes.\n",
        "df_ml = df.copy()"
      ],
      "metadata": {
        "id": "AUmStjZHrfnA"
      },
      "execution_count": 4,
      "outputs": []
    },
    {
      "cell_type": "code",
      "source": [
        "# Delete the unnecessary 'id' column\n",
        "df_ml = df_ml.drop(columns='id', axis=1)\n",
        "df_ml.head()"
      ],
      "metadata": {
        "colab": {
          "base_uri": "https://localhost:8080/",
          "height": 221
        },
        "id": "D_xkoqvBrqHT",
        "outputId": "a9292d2a-e6fb-4321-994a-6a81e359007e"
      },
      "execution_count": 5,
      "outputs": [
        {
          "output_type": "execute_result",
          "data": {
            "text/plain": [
              "   gender   age  hypertension  heart_disease ever_married      work_type  \\\n",
              "0    Male  67.0             0              1          Yes        Private   \n",
              "1  Female  61.0             0              0          Yes  Self-employed   \n",
              "2    Male  80.0             0              1          Yes        Private   \n",
              "3  Female  49.0             0              0          Yes        Private   \n",
              "4  Female  79.0             1              0          Yes  Self-employed   \n",
              "\n",
              "  Residence_type  avg_glucose_level   bmi   smoking_status  stroke  \n",
              "0          Urban             228.69  36.6  formerly smoked       1  \n",
              "1          Rural             202.21   NaN     never smoked       1  \n",
              "2          Rural             105.92  32.5     never smoked       1  \n",
              "3          Urban             171.23  34.4           smokes       1  \n",
              "4          Rural             174.12  24.0     never smoked       1  "
            ],
            "text/html": [
              "\n",
              "  <div id=\"df-f8799aa2-987b-46fa-ade3-7d2cb1a6b3c9\">\n",
              "    <div class=\"colab-df-container\">\n",
              "      <div>\n",
              "<style scoped>\n",
              "    .dataframe tbody tr th:only-of-type {\n",
              "        vertical-align: middle;\n",
              "    }\n",
              "\n",
              "    .dataframe tbody tr th {\n",
              "        vertical-align: top;\n",
              "    }\n",
              "\n",
              "    .dataframe thead th {\n",
              "        text-align: right;\n",
              "    }\n",
              "</style>\n",
              "<table border=\"1\" class=\"dataframe\">\n",
              "  <thead>\n",
              "    <tr style=\"text-align: right;\">\n",
              "      <th></th>\n",
              "      <th>gender</th>\n",
              "      <th>age</th>\n",
              "      <th>hypertension</th>\n",
              "      <th>heart_disease</th>\n",
              "      <th>ever_married</th>\n",
              "      <th>work_type</th>\n",
              "      <th>Residence_type</th>\n",
              "      <th>avg_glucose_level</th>\n",
              "      <th>bmi</th>\n",
              "      <th>smoking_status</th>\n",
              "      <th>stroke</th>\n",
              "    </tr>\n",
              "  </thead>\n",
              "  <tbody>\n",
              "    <tr>\n",
              "      <th>0</th>\n",
              "      <td>Male</td>\n",
              "      <td>67.0</td>\n",
              "      <td>0</td>\n",
              "      <td>1</td>\n",
              "      <td>Yes</td>\n",
              "      <td>Private</td>\n",
              "      <td>Urban</td>\n",
              "      <td>228.69</td>\n",
              "      <td>36.6</td>\n",
              "      <td>formerly smoked</td>\n",
              "      <td>1</td>\n",
              "    </tr>\n",
              "    <tr>\n",
              "      <th>1</th>\n",
              "      <td>Female</td>\n",
              "      <td>61.0</td>\n",
              "      <td>0</td>\n",
              "      <td>0</td>\n",
              "      <td>Yes</td>\n",
              "      <td>Self-employed</td>\n",
              "      <td>Rural</td>\n",
              "      <td>202.21</td>\n",
              "      <td>NaN</td>\n",
              "      <td>never smoked</td>\n",
              "      <td>1</td>\n",
              "    </tr>\n",
              "    <tr>\n",
              "      <th>2</th>\n",
              "      <td>Male</td>\n",
              "      <td>80.0</td>\n",
              "      <td>0</td>\n",
              "      <td>1</td>\n",
              "      <td>Yes</td>\n",
              "      <td>Private</td>\n",
              "      <td>Rural</td>\n",
              "      <td>105.92</td>\n",
              "      <td>32.5</td>\n",
              "      <td>never smoked</td>\n",
              "      <td>1</td>\n",
              "    </tr>\n",
              "    <tr>\n",
              "      <th>3</th>\n",
              "      <td>Female</td>\n",
              "      <td>49.0</td>\n",
              "      <td>0</td>\n",
              "      <td>0</td>\n",
              "      <td>Yes</td>\n",
              "      <td>Private</td>\n",
              "      <td>Urban</td>\n",
              "      <td>171.23</td>\n",
              "      <td>34.4</td>\n",
              "      <td>smokes</td>\n",
              "      <td>1</td>\n",
              "    </tr>\n",
              "    <tr>\n",
              "      <th>4</th>\n",
              "      <td>Female</td>\n",
              "      <td>79.0</td>\n",
              "      <td>1</td>\n",
              "      <td>0</td>\n",
              "      <td>Yes</td>\n",
              "      <td>Self-employed</td>\n",
              "      <td>Rural</td>\n",
              "      <td>174.12</td>\n",
              "      <td>24.0</td>\n",
              "      <td>never smoked</td>\n",
              "      <td>1</td>\n",
              "    </tr>\n",
              "  </tbody>\n",
              "</table>\n",
              "</div>\n",
              "      <button class=\"colab-df-convert\" onclick=\"convertToInteractive('df-f8799aa2-987b-46fa-ade3-7d2cb1a6b3c9')\"\n",
              "              title=\"Convert this dataframe to an interactive table.\"\n",
              "              style=\"display:none;\">\n",
              "        \n",
              "  <svg xmlns=\"http://www.w3.org/2000/svg\" height=\"24px\"viewBox=\"0 0 24 24\"\n",
              "       width=\"24px\">\n",
              "    <path d=\"M0 0h24v24H0V0z\" fill=\"none\"/>\n",
              "    <path d=\"M18.56 5.44l.94 2.06.94-2.06 2.06-.94-2.06-.94-.94-2.06-.94 2.06-2.06.94zm-11 1L8.5 8.5l.94-2.06 2.06-.94-2.06-.94L8.5 2.5l-.94 2.06-2.06.94zm10 10l.94 2.06.94-2.06 2.06-.94-2.06-.94-.94-2.06-.94 2.06-2.06.94z\"/><path d=\"M17.41 7.96l-1.37-1.37c-.4-.4-.92-.59-1.43-.59-.52 0-1.04.2-1.43.59L10.3 9.45l-7.72 7.72c-.78.78-.78 2.05 0 2.83L4 21.41c.39.39.9.59 1.41.59.51 0 1.02-.2 1.41-.59l7.78-7.78 2.81-2.81c.8-.78.8-2.07 0-2.86zM5.41 20L4 18.59l7.72-7.72 1.47 1.35L5.41 20z\"/>\n",
              "  </svg>\n",
              "      </button>\n",
              "      \n",
              "  <style>\n",
              "    .colab-df-container {\n",
              "      display:flex;\n",
              "      flex-wrap:wrap;\n",
              "      gap: 12px;\n",
              "    }\n",
              "\n",
              "    .colab-df-convert {\n",
              "      background-color: #E8F0FE;\n",
              "      border: none;\n",
              "      border-radius: 50%;\n",
              "      cursor: pointer;\n",
              "      display: none;\n",
              "      fill: #1967D2;\n",
              "      height: 32px;\n",
              "      padding: 0 0 0 0;\n",
              "      width: 32px;\n",
              "    }\n",
              "\n",
              "    .colab-df-convert:hover {\n",
              "      background-color: #E2EBFA;\n",
              "      box-shadow: 0px 1px 2px rgba(60, 64, 67, 0.3), 0px 1px 3px 1px rgba(60, 64, 67, 0.15);\n",
              "      fill: #174EA6;\n",
              "    }\n",
              "\n",
              "    [theme=dark] .colab-df-convert {\n",
              "      background-color: #3B4455;\n",
              "      fill: #D2E3FC;\n",
              "    }\n",
              "\n",
              "    [theme=dark] .colab-df-convert:hover {\n",
              "      background-color: #434B5C;\n",
              "      box-shadow: 0px 1px 3px 1px rgba(0, 0, 0, 0.15);\n",
              "      filter: drop-shadow(0px 1px 2px rgba(0, 0, 0, 0.3));\n",
              "      fill: #FFFFFF;\n",
              "    }\n",
              "  </style>\n",
              "\n",
              "      <script>\n",
              "        const buttonEl =\n",
              "          document.querySelector('#df-f8799aa2-987b-46fa-ade3-7d2cb1a6b3c9 button.colab-df-convert');\n",
              "        buttonEl.style.display =\n",
              "          google.colab.kernel.accessAllowed ? 'block' : 'none';\n",
              "\n",
              "        async function convertToInteractive(key) {\n",
              "          const element = document.querySelector('#df-f8799aa2-987b-46fa-ade3-7d2cb1a6b3c9');\n",
              "          const dataTable =\n",
              "            await google.colab.kernel.invokeFunction('convertToInteractive',\n",
              "                                                     [key], {});\n",
              "          if (!dataTable) return;\n",
              "\n",
              "          const docLinkHtml = 'Like what you see? Visit the ' +\n",
              "            '<a target=\"_blank\" href=https://colab.research.google.com/notebooks/data_table.ipynb>data table notebook</a>'\n",
              "            + ' to learn more about interactive tables.';\n",
              "          element.innerHTML = '';\n",
              "          dataTable['output_type'] = 'display_data';\n",
              "          await google.colab.output.renderOutput(dataTable, element);\n",
              "          const docLink = document.createElement('div');\n",
              "          docLink.innerHTML = docLinkHtml;\n",
              "          element.appendChild(docLink);\n",
              "        }\n",
              "      </script>\n",
              "    </div>\n",
              "  </div>\n",
              "  "
            ]
          },
          "metadata": {},
          "execution_count": 5
        }
      ]
    },
    {
      "cell_type": "code",
      "source": [
        "# Checking for duplicates in the dataset\n",
        "df_ml.duplicated().sum()"
      ],
      "metadata": {
        "colab": {
          "base_uri": "https://localhost:8080/"
        },
        "id": "Z6LCnTVusbj4",
        "outputId": "d4da1972-eb9a-4662-8505-4427226342f7"
      },
      "execution_count": 6,
      "outputs": [
        {
          "output_type": "execute_result",
          "data": {
            "text/plain": [
              "0"
            ]
          },
          "metadata": {},
          "execution_count": 6
        }
      ]
    },
    {
      "cell_type": "code",
      "source": [
        "# Checking for missing values in the dataset\n",
        "df_ml.isna().sum()"
      ],
      "metadata": {
        "colab": {
          "base_uri": "https://localhost:8080/"
        },
        "id": "AZm8Pa_Bsuyw",
        "outputId": "436f053a-8141-4f6f-f4bb-0682e554bb1a"
      },
      "execution_count": 7,
      "outputs": [
        {
          "output_type": "execute_result",
          "data": {
            "text/plain": [
              "gender                 0\n",
              "age                    0\n",
              "hypertension           0\n",
              "heart_disease          0\n",
              "ever_married           0\n",
              "work_type              0\n",
              "Residence_type         0\n",
              "avg_glucose_level      0\n",
              "bmi                  201\n",
              "smoking_status         0\n",
              "stroke                 0\n",
              "dtype: int64"
            ]
          },
          "metadata": {},
          "execution_count": 7
        }
      ]
    },
    {
      "cell_type": "markdown",
      "source": [
        "There are **no duplicates** present in the dataset, but there is **201 missing values in the 'bmi'** column."
      ],
      "metadata": {
        "id": "gprqafphsh9m"
      }
    },
    {
      "cell_type": "code",
      "source": [
        "df_ml.info()"
      ],
      "metadata": {
        "colab": {
          "base_uri": "https://localhost:8080/"
        },
        "id": "YIf8JrhauNAX",
        "outputId": "3e1eba93-a0a3-4243-9cc4-69790865ec09"
      },
      "execution_count": 8,
      "outputs": [
        {
          "output_type": "stream",
          "name": "stdout",
          "text": [
            "<class 'pandas.core.frame.DataFrame'>\n",
            "RangeIndex: 5110 entries, 0 to 5109\n",
            "Data columns (total 11 columns):\n",
            " #   Column             Non-Null Count  Dtype  \n",
            "---  ------             --------------  -----  \n",
            " 0   gender             5110 non-null   object \n",
            " 1   age                5110 non-null   float64\n",
            " 2   hypertension       5110 non-null   int64  \n",
            " 3   heart_disease      5110 non-null   int64  \n",
            " 4   ever_married       5110 non-null   object \n",
            " 5   work_type          5110 non-null   object \n",
            " 6   Residence_type     5110 non-null   object \n",
            " 7   avg_glucose_level  5110 non-null   float64\n",
            " 8   bmi                4909 non-null   float64\n",
            " 9   smoking_status     5110 non-null   object \n",
            " 10  stroke             5110 non-null   int64  \n",
            "dtypes: float64(3), int64(3), object(5)\n",
            "memory usage: 439.3+ KB\n"
          ]
        }
      ]
    },
    {
      "cell_type": "markdown",
      "source": [
        "There is **3 float datatypes**, **3 integer datatypes**, and **5 object datatypes**.\n",
        "\n",
        "---"
      ],
      "metadata": {
        "id": "JjUZA9h7vyI4"
      }
    },
    {
      "cell_type": "markdown",
      "source": [
        "### **Identify Data Categories**\n",
        "\n",
        "- **Numerical:** 'gender', 'age', 'bmi'\n",
        "- **Ordinal:**\n",
        "- **Nominal:**"
      ],
      "metadata": {
        "id": "ifJQeFPxtNm0"
      }
    },
    {
      "cell_type": "markdown",
      "source": [
        "### **Identify Categorical Values**"
      ],
      "metadata": {
        "id": "IG1w5xZ7sJlJ"
      }
    },
    {
      "cell_type": "code",
      "source": [
        "df_ml['gender'].value_counts()"
      ],
      "metadata": {
        "colab": {
          "base_uri": "https://localhost:8080/"
        },
        "id": "Mrlt9OknsHm6",
        "outputId": "0df44cdd-0497-427b-dedd-3dcb0e5c1bd0"
      },
      "execution_count": 9,
      "outputs": [
        {
          "output_type": "execute_result",
          "data": {
            "text/plain": [
              "Female    2994\n",
              "Male      2115\n",
              "Other        1\n",
              "Name: gender, dtype: int64"
            ]
          },
          "metadata": {},
          "execution_count": 9
        }
      ]
    },
    {
      "cell_type": "markdown",
      "source": [
        "#### **gender Ordinal Encoding**"
      ],
      "metadata": {
        "id": "10N8siVjcPwr"
      }
    },
    {
      "cell_type": "code",
      "source": [
        "df_ml['gender'].replace({'Other':0, 'Female': 1,\n",
        "                         'Male': 2}, inplace=True)"
      ],
      "metadata": {
        "id": "BouapZSyZ3gD"
      },
      "execution_count": 85,
      "outputs": []
    },
    {
      "cell_type": "code",
      "source": [
        "df_ml['gender'].value_counts()"
      ],
      "metadata": {
        "colab": {
          "base_uri": "https://localhost:8080/"
        },
        "id": "A8itAm5Naug-",
        "outputId": "be43d815-01cf-4869-b792-cb1f3f1c673f"
      },
      "execution_count": 86,
      "outputs": [
        {
          "output_type": "execute_result",
          "data": {
            "text/plain": [
              "1    2994\n",
              "2    2115\n",
              "0       1\n",
              "Name: gender, dtype: int64"
            ]
          },
          "metadata": {},
          "execution_count": 86
        }
      ]
    },
    {
      "cell_type": "markdown",
      "source": [
        "There seems to be no inconsistencies with this column.\n",
        "\n",
        "---"
      ],
      "metadata": {
        "id": "KKhMITBisUbV"
      }
    },
    {
      "cell_type": "code",
      "source": [
        "df_ml['age'].value_counts()"
      ],
      "metadata": {
        "colab": {
          "base_uri": "https://localhost:8080/"
        },
        "id": "mTNPnwj_sYW5",
        "outputId": "aac29cdb-08d0-449f-dad9-26d9cd6885e1"
      },
      "execution_count": 10,
      "outputs": [
        {
          "output_type": "execute_result",
          "data": {
            "text/plain": [
              "78.00    102\n",
              "57.00     95\n",
              "52.00     90\n",
              "54.00     87\n",
              "51.00     86\n",
              "        ... \n",
              "1.40       3\n",
              "0.48       3\n",
              "0.16       3\n",
              "0.40       2\n",
              "0.08       2\n",
              "Name: age, Length: 104, dtype: int64"
            ]
          },
          "metadata": {},
          "execution_count": 10
        }
      ]
    },
    {
      "cell_type": "markdown",
      "source": [
        "There is a lot of inconsistencies and outliers in this data column. It can be better visualized in a boxplot.\n",
        "\n",
        "Some values, like **0.08 do not make sense**, this would make sense if it were 8.00 years of age.\n",
        "\n",
        "---"
      ],
      "metadata": {
        "id": "g3h5F9LJsmO_"
      }
    },
    {
      "cell_type": "code",
      "source": [
        "df_ml['hypertension'].value_counts()"
      ],
      "metadata": {
        "colab": {
          "base_uri": "https://localhost:8080/"
        },
        "id": "YjGFXrd5tFxO",
        "outputId": "db87a4a2-83a0-47ab-a3c3-87d1997887b0"
      },
      "execution_count": 11,
      "outputs": [
        {
          "output_type": "execute_result",
          "data": {
            "text/plain": [
              "0    4612\n",
              "1     498\n",
              "Name: hypertension, dtype: int64"
            ]
          },
          "metadata": {},
          "execution_count": 11
        }
      ]
    },
    {
      "cell_type": "markdown",
      "source": [
        "There is no visible inconsistencies.\n",
        "- 0 means the patient **does not have** hypertension.\n",
        "- 1 means the patient **has** hypertension.\n",
        "---"
      ],
      "metadata": {
        "id": "E02_uBrRtMvm"
      }
    },
    {
      "cell_type": "code",
      "source": [
        "df_ml['heart_disease'].value_counts()"
      ],
      "metadata": {
        "colab": {
          "base_uri": "https://localhost:8080/"
        },
        "id": "Gy01pI52tWvS",
        "outputId": "76417b5b-15e3-40d4-a0b1-e6d0cc18e245"
      },
      "execution_count": 12,
      "outputs": [
        {
          "output_type": "execute_result",
          "data": {
            "text/plain": [
              "0    4834\n",
              "1     276\n",
              "Name: heart_disease, dtype: int64"
            ]
          },
          "metadata": {},
          "execution_count": 12
        }
      ]
    },
    {
      "cell_type": "markdown",
      "source": [
        "There is no visible inconsistencies.\n",
        "- 0 means the patient **does not have** heart disease.\n",
        "- 1 means the patient **has** heart disease.\n",
        "---"
      ],
      "metadata": {
        "id": "qQxRKqYotb45"
      }
    },
    {
      "cell_type": "code",
      "source": [
        "df_ml['ever_married'].value_counts()"
      ],
      "metadata": {
        "colab": {
          "base_uri": "https://localhost:8080/"
        },
        "id": "dgPUmUptty_w",
        "outputId": "36815af5-d7f6-40ba-bac5-955a0aa02039"
      },
      "execution_count": 13,
      "outputs": [
        {
          "output_type": "execute_result",
          "data": {
            "text/plain": [
              "Yes    3353\n",
              "No     1757\n",
              "Name: ever_married, dtype: int64"
            ]
          },
          "metadata": {},
          "execution_count": 13
        }
      ]
    },
    {
      "cell_type": "code",
      "source": [
        "df_ml['ever_married'].replace({'Yes':1, 'No':0}, inplace=True)"
      ],
      "metadata": {
        "id": "2Si3-mj3YNCO"
      },
      "execution_count": 65,
      "outputs": []
    },
    {
      "cell_type": "code",
      "source": [
        "df_ml['ever_married'].value_counts()"
      ],
      "metadata": {
        "colab": {
          "base_uri": "https://localhost:8080/"
        },
        "id": "BM4L1dBkcWn2",
        "outputId": "531b9555-30ec-43af-faeb-cc0ac69cc0c1"
      },
      "execution_count": 94,
      "outputs": [
        {
          "output_type": "execute_result",
          "data": {
            "text/plain": [
              "1    3353\n",
              "0    1757\n",
              "Name: ever_married, dtype: int64"
            ]
          },
          "metadata": {},
          "execution_count": 94
        }
      ]
    },
    {
      "cell_type": "markdown",
      "source": [
        "There is no visible inconsistencies.\n",
        "\n",
        "- This column can be ordinal encoded.\n",
        "---"
      ],
      "metadata": {
        "id": "9ox5ohEwuC5E"
      }
    },
    {
      "cell_type": "code",
      "source": [
        "df_ml['work_type'].value_counts()"
      ],
      "metadata": {
        "colab": {
          "base_uri": "https://localhost:8080/"
        },
        "id": "z6c2D7BvuIEh",
        "outputId": "7011af50-371c-4ed2-d003-baeca640f279"
      },
      "execution_count": 14,
      "outputs": [
        {
          "output_type": "execute_result",
          "data": {
            "text/plain": [
              "Private          2925\n",
              "Self-employed     819\n",
              "children          687\n",
              "Govt_job          657\n",
              "Never_worked       22\n",
              "Name: work_type, dtype: int64"
            ]
          },
          "metadata": {},
          "execution_count": 14
        }
      ]
    },
    {
      "cell_type": "markdown",
      "source": [
        "#### **work_type Ordinal Encoding**"
      ],
      "metadata": {
        "id": "PJWw8dEXcKcQ"
      }
    },
    {
      "cell_type": "code",
      "source": [
        "df_ml['work_type'].replace({'Private': 0,\n",
        "                            'Self-employed': 1,\n",
        "                            'children': 2,\n",
        "                            'Govt_job': 3,\n",
        "                            'Never_worked': 4}, inplace=True)"
      ],
      "metadata": {
        "id": "QX3RQIgzcZ7y"
      },
      "execution_count": 95,
      "outputs": []
    },
    {
      "cell_type": "code",
      "source": [
        "df_ml['work_type'].value_counts()"
      ],
      "metadata": {
        "colab": {
          "base_uri": "https://localhost:8080/"
        },
        "id": "R5q3DQJhcq3M",
        "outputId": "7e836f2d-97fb-4945-de13-4efe8fb44ac5"
      },
      "execution_count": 96,
      "outputs": [
        {
          "output_type": "execute_result",
          "data": {
            "text/plain": [
              "0    2925\n",
              "1     819\n",
              "2     687\n",
              "3     657\n",
              "4      22\n",
              "Name: work_type, dtype: int64"
            ]
          },
          "metadata": {},
          "execution_count": 96
        }
      ]
    },
    {
      "cell_type": "markdown",
      "source": [
        "There is no visible inconsistencies.\n",
        "\n",
        "- This column can be ordinal encoded.\n",
        "\n",
        "---"
      ],
      "metadata": {
        "id": "DtzpWYXDuMJo"
      }
    },
    {
      "cell_type": "code",
      "source": [
        "df_ml['Residence_type'].value_counts()"
      ],
      "metadata": {
        "colab": {
          "base_uri": "https://localhost:8080/"
        },
        "id": "X_lFtgi1uWRz",
        "outputId": "f9e86cc2-01d6-4752-9fc7-d0558f1ad355"
      },
      "execution_count": 15,
      "outputs": [
        {
          "output_type": "execute_result",
          "data": {
            "text/plain": [
              "Urban    2596\n",
              "Rural    2514\n",
              "Name: Residence_type, dtype: int64"
            ]
          },
          "metadata": {},
          "execution_count": 15
        }
      ]
    },
    {
      "cell_type": "markdown",
      "source": [
        "#### **Residence_type Ordinal Encoding**"
      ],
      "metadata": {
        "id": "FMTBCXMpcF5_"
      }
    },
    {
      "cell_type": "code",
      "source": [
        "df_ml['Residence_type'].replace({'Urban': 0,\n",
        "                                 'Rural': 1}, inplace=True)"
      ],
      "metadata": {
        "id": "LsqjkHxlc0HE"
      },
      "execution_count": 97,
      "outputs": []
    },
    {
      "cell_type": "code",
      "source": [
        "df_ml['Residence_type'].value_counts()"
      ],
      "metadata": {
        "colab": {
          "base_uri": "https://localhost:8080/"
        },
        "id": "ahauQ6aMcz0x",
        "outputId": "4ed2adf4-2119-4696-9503-329f441a7585"
      },
      "execution_count": 98,
      "outputs": [
        {
          "output_type": "execute_result",
          "data": {
            "text/plain": [
              "0    2596\n",
              "1    2514\n",
              "Name: Residence_type, dtype: int64"
            ]
          },
          "metadata": {},
          "execution_count": 98
        }
      ]
    },
    {
      "cell_type": "markdown",
      "source": [
        "There is no visible inconsistencies.\n",
        "\n",
        "- This column can be ordinal encoded.\n",
        "\n",
        "---"
      ],
      "metadata": {
        "id": "BGCLUqbSude2"
      }
    },
    {
      "cell_type": "code",
      "source": [
        "df_ml['avg_glucose_level'].value_counts()"
      ],
      "metadata": {
        "colab": {
          "base_uri": "https://localhost:8080/"
        },
        "id": "WiKnJWwhukMI",
        "outputId": "486573af-22df-40db-9194-b3859e449719"
      },
      "execution_count": 16,
      "outputs": [
        {
          "output_type": "execute_result",
          "data": {
            "text/plain": [
              "93.88     6\n",
              "91.68     5\n",
              "91.85     5\n",
              "83.16     5\n",
              "73.00     5\n",
              "         ..\n",
              "111.93    1\n",
              "94.40     1\n",
              "95.57     1\n",
              "66.29     1\n",
              "85.28     1\n",
              "Name: avg_glucose_level, Length: 3979, dtype: int64"
            ]
          },
          "metadata": {},
          "execution_count": 16
        }
      ]
    },
    {
      "cell_type": "markdown",
      "source": [
        "There are no visible inconsistencies.\n",
        "\n",
        "---"
      ],
      "metadata": {
        "id": "kT50eDNnupnQ"
      }
    },
    {
      "cell_type": "code",
      "source": [
        "df_ml['bmi'].value_counts()"
      ],
      "metadata": {
        "colab": {
          "base_uri": "https://localhost:8080/"
        },
        "id": "m9G5C3Kxuv6B",
        "outputId": "1b38ffb7-d065-426e-8782-225e56749598"
      },
      "execution_count": 17,
      "outputs": [
        {
          "output_type": "execute_result",
          "data": {
            "text/plain": [
              "28.7    41\n",
              "28.4    38\n",
              "26.7    37\n",
              "27.6    37\n",
              "26.1    37\n",
              "        ..\n",
              "48.7     1\n",
              "49.2     1\n",
              "51.0     1\n",
              "49.4     1\n",
              "14.9     1\n",
              "Name: bmi, Length: 418, dtype: int64"
            ]
          },
          "metadata": {},
          "execution_count": 17
        }
      ]
    },
    {
      "cell_type": "markdown",
      "source": [
        "There is no visible inconsistencies.\n",
        "\n",
        "- But there is still 201 missing values in this column.\n",
        "---"
      ],
      "metadata": {
        "id": "hZVMZYJou4pH"
      }
    },
    {
      "cell_type": "code",
      "source": [
        "df_ml['smoking_status'].value_counts()"
      ],
      "metadata": {
        "colab": {
          "base_uri": "https://localhost:8080/"
        },
        "id": "-wancV3Yu7_z",
        "outputId": "66992a26-6a16-4fe9-eb0b-f7ea7bea3905"
      },
      "execution_count": 18,
      "outputs": [
        {
          "output_type": "execute_result",
          "data": {
            "text/plain": [
              "never smoked       1892\n",
              "Unknown            1544\n",
              "formerly smoked     885\n",
              "smokes              789\n",
              "Name: smoking_status, dtype: int64"
            ]
          },
          "metadata": {},
          "execution_count": 18
        }
      ]
    },
    {
      "cell_type": "markdown",
      "source": [
        "#### **smoking_status Ordinal Encoding**"
      ],
      "metadata": {
        "id": "SplsGGuGb53n"
      }
    },
    {
      "cell_type": "code",
      "source": [
        "# Ordinal Encoding the 'smoking_status' column\n",
        "df_ml['smoking_status'].replace({'never smoked': 0,\n",
        "                                 'Unknown': 1,\n",
        "                                 'formerly smoked': 2,\n",
        "                                 'smokes': 3}, inplace=True)"
      ],
      "metadata": {
        "id": "wb8jUH7-bgFY"
      },
      "execution_count": 93,
      "outputs": []
    },
    {
      "cell_type": "code",
      "source": [
        "df_ml['smoking_status'].value_counts()"
      ],
      "metadata": {
        "colab": {
          "base_uri": "https://localhost:8080/"
        },
        "id": "4976HdQcieig",
        "outputId": "0b91d016-02fa-4b45-c6f7-74bd14bd3d58"
      },
      "execution_count": 124,
      "outputs": [
        {
          "output_type": "execute_result",
          "data": {
            "text/plain": [
              "0    1892\n",
              "1    1544\n",
              "2     885\n",
              "3     789\n",
              "Name: smoking_status, dtype: int64"
            ]
          },
          "metadata": {},
          "execution_count": 124
        }
      ]
    },
    {
      "cell_type": "markdown",
      "source": [
        "No visible inconsistencies.\n",
        "\n",
        "- Can be ordinal encoded.\n",
        "\n",
        "---"
      ],
      "metadata": {
        "id": "lu31jTqQvSKX"
      }
    },
    {
      "cell_type": "code",
      "source": [
        "df_ml['stroke'].value_counts()"
      ],
      "metadata": {
        "colab": {
          "base_uri": "https://localhost:8080/"
        },
        "id": "vSXubJCrvXDX",
        "outputId": "3bd47453-15f2-43e1-8b73-f4d6b7cfa80d"
      },
      "execution_count": 19,
      "outputs": [
        {
          "output_type": "execute_result",
          "data": {
            "text/plain": [
              "0    4861\n",
              "1     249\n",
              "Name: stroke, dtype: int64"
            ]
          },
          "metadata": {},
          "execution_count": 19
        }
      ]
    },
    {
      "cell_type": "markdown",
      "source": [
        "- 0 means the patient has not had a stroke.\n",
        "- 1 means the patient has had a stroke.\n",
        "\n",
        "There is no visible inconsistencies.\n",
        "\n",
        "---"
      ],
      "metadata": {
        "id": "iYZqYPfhvaHN"
      }
    },
    {
      "cell_type": "markdown",
      "source": [
        "# **Univariate Visualizations**\n",
        "\n",
        "For target (y) and features (X)\n",
        "\n",
        "- Target (y) is ['stroke']\n",
        "- Features (X) are everything else.\n",
        "---"
      ],
      "metadata": {
        "id": "EnM65W7fzO9X"
      }
    },
    {
      "cell_type": "markdown",
      "source": [
        "#### **gender**"
      ],
      "metadata": {
        "id": "ysksxlN4et1N"
      }
    },
    {
      "cell_type": "code",
      "source": [
        "sns.boxplot(x='gender', data=df_ml);"
      ],
      "metadata": {
        "colab": {
          "base_uri": "https://localhost:8080/",
          "height": 279
        },
        "id": "I48zpTlgZw8H",
        "outputId": "46dd8fe6-160b-498c-9ebc-424a63cd22fa"
      },
      "execution_count": 87,
      "outputs": [
        {
          "output_type": "display_data",
          "data": {
            "text/plain": [
              "<Figure size 432x288 with 1 Axes>"
            ],
            "image/png": "[encoded data removed]"
          },
          "metadata": {
            "needs_background": "light"
          }
        }
      ]
    },
    {
      "cell_type": "code",
      "source": [
        "sns.boxplot(x='gender', y= 'avg_glucose_level', data = df_ml);"
      ],
      "metadata": {
        "colab": {
          "base_uri": "https://localhost:8080/",
          "height": 279
        },
        "id": "puyDLYP_SNIs",
        "outputId": "86a6b7f1-9f3d-4cd1-b9e1-7bd91c0c5015"
      },
      "execution_count": 91,
      "outputs": [
        {
          "output_type": "display_data",
          "data": {
            "text/plain": [
              "<Figure size 432x288 with 1 Axes>"
            ],
            "image/png": "[encoded data removed]"
          },
          "metadata": {
            "needs_background": "light"
          }
        }
      ]
    },
    {
      "cell_type": "markdown",
      "source": [
        "**Base Model**\n",
        "- There is only a minimum line in the base gender boxplot for those whose gender is unknown or \"other\".\n",
        "\n",
        "**Combined Model**\n",
        "- You can see that there are numerous outliers on both the Male/Female genders around the 200 glucose level.\n",
        "\n",
        "---"
      ],
      "metadata": {
        "id": "wwI7ErigTtqD"
      }
    },
    {
      "cell_type": "markdown",
      "source": [
        "#### **age**"
      ],
      "metadata": {
        "id": "GYkLw_QFexGV"
      }
    },
    {
      "cell_type": "code",
      "source": [
        "sns.boxplot(x='age', data = df_ml);"
      ],
      "metadata": {
        "colab": {
          "base_uri": "https://localhost:8080/",
          "height": 279
        },
        "id": "2jH93jNjT3kt",
        "outputId": "c8bc7396-d148-4c15-b5f2-010061347ed7"
      },
      "execution_count": 52,
      "outputs": [
        {
          "output_type": "display_data",
          "data": {
            "text/plain": [
              "<Figure size 432x288 with 1 Axes>"
            ],
            "image/png": "[encoded data removed]"
          },
          "metadata": {
            "needs_background": "light"
          }
        }
      ]
    },
    {
      "cell_type": "code",
      "source": [
        "print(sns.boxplot(x='age', y='smoking_status', data = df));"
      ],
      "metadata": {
        "colab": {
          "base_uri": "https://localhost:8080/",
          "height": 299
        },
        "id": "Y_4u-6txVPQb",
        "outputId": "1122fc1e-60e4-4106-cadb-518ed9577d1c"
      },
      "execution_count": 90,
      "outputs": [
        {
          "output_type": "stream",
          "name": "stdout",
          "text": [
            "AxesSubplot(0.125,0.125;0.775x0.755)\n"
          ]
        },
        {
          "output_type": "display_data",
          "data": {
            "text/plain": [
              "<Figure size 432x288 with 1 Axes>"
            ],
            "image/png": "[encoded data removed]"
          },
          "metadata": {
            "needs_background": "light"
          }
        }
      ]
    },
    {
      "cell_type": "markdown",
      "source": [
        "**Base Model**\n",
        "- There are no outliers on the age column on it's own. \n",
        "\n",
        "**Combined Model**\n",
        "- When tracking smoking status based on age. There is a larger majority of people that have formerly smoked around the ages of 40-70.\n",
        "\n",
        "---"
      ],
      "metadata": {
        "id": "lvcBsRRQU4Mh"
      }
    },
    {
      "cell_type": "markdown",
      "source": [
        "#### **hypertension**"
      ],
      "metadata": {
        "id": "1teNQk-TezDt"
      }
    },
    {
      "cell_type": "code",
      "source": [
        "sns.boxplot(x='hypertension', data=df_ml);"
      ],
      "metadata": {
        "colab": {
          "base_uri": "https://localhost:8080/",
          "height": 279
        },
        "id": "tGPSg9z3VkDC",
        "outputId": "c07d3ef3-781f-481a-a7b8-5cab5ab4c3f9"
      },
      "execution_count": 56,
      "outputs": [
        {
          "output_type": "display_data",
          "data": {
            "text/plain": [
              "<Figure size 432x288 with 1 Axes>"
            ],
            "image/png": "[encoded data removed]"
          },
          "metadata": {
            "needs_background": "light"
          }
        }
      ]
    },
    {
      "cell_type": "code",
      "source": [
        "sns.boxplot(x='hypertension', y='bmi', data=df_ml);"
      ],
      "metadata": {
        "colab": {
          "base_uri": "https://localhost:8080/",
          "height": 279
        },
        "id": "ZO6QGygbVs-5",
        "outputId": "756da2ca-1a61-4d73-9bae-d41130e55b34"
      },
      "execution_count": 60,
      "outputs": [
        {
          "output_type": "display_data",
          "data": {
            "text/plain": [
              "<Figure size 432x288 with 1 Axes>"
            ],
            "image/png": "[encoded data removed]"
          },
          "metadata": {
            "needs_background": "light"
          }
        }
      ]
    },
    {
      "cell_type": "markdown",
      "source": [
        "**Base Model**\n",
        "- In the base boxplot, the only outliers in the hypertension column are 1. Which is for patients that **do have hypertension**.\n",
        "\n",
        "**Combined Model**\n",
        "- In the boxplot that **compares 'hypertension' and 'bmi'**, there are bigger outliers for those that **do have hypertension with a BMI between 55-100**.\n",
        "\n",
        "---"
      ],
      "metadata": {
        "id": "mkVzsy4nVwpN"
      }
    },
    {
      "cell_type": "markdown",
      "source": [
        "#### **heart_disease**"
      ],
      "metadata": {
        "id": "XpbxqPmjZexj"
      }
    },
    {
      "cell_type": "code",
      "source": [
        "sns.boxplot(x='heart_disease', data = df_ml);"
      ],
      "metadata": {
        "colab": {
          "base_uri": "https://localhost:8080/",
          "height": 280
        },
        "id": "X6XGNNJ7WyLC",
        "outputId": "947bca11-6f2c-4243-fbb0-636794df2d51"
      },
      "execution_count": 62,
      "outputs": [
        {
          "output_type": "display_data",
          "data": {
            "text/plain": [
              "<Figure size 432x288 with 1 Axes>"
            ],
            "image/png": "[encoded data removed]"
          },
          "metadata": {
            "needs_background": "light"
          }
        }
      ]
    },
    {
      "cell_type": "code",
      "source": [
        "sns.boxplot(x='heart_disease', y='avg_glucose_level', data=df_ml);"
      ],
      "metadata": {
        "colab": {
          "base_uri": "https://localhost:8080/",
          "height": 280
        },
        "id": "ytH6bbTLW--0",
        "outputId": "e9613048-9d2b-4e2c-e3f5-7e978f29a73c"
      },
      "execution_count": 63,
      "outputs": [
        {
          "output_type": "display_data",
          "data": {
            "text/plain": [
              "<Figure size 432x288 with 1 Axes>"
            ],
            "image/png": "[encoded data removed]"
          },
          "metadata": {
            "needs_background": "light"
          }
        }
      ]
    },
    {
      "cell_type": "markdown",
      "source": [
        "**Base Model**\n",
        "- In the base boxplot model, the only outliers are for those that do have heart disease.\n",
        "\n",
        "**Combined Model**\n",
        "- In the boxplot comparing heart disease and average glucose level. The only outliers are for patients that **did not have heart disease** & **had an avg. glucose level between 175-250**.\n",
        "\n",
        "---"
      ],
      "metadata": {
        "id": "A6-YsQFiXMJf"
      }
    },
    {
      "cell_type": "markdown",
      "source": [
        "#### **ever_married**"
      ],
      "metadata": {
        "id": "rNTW5dq6Zapx"
      }
    },
    {
      "cell_type": "code",
      "source": [
        "sns.boxplot(x='ever_married', data=df_ml);"
      ],
      "metadata": {
        "colab": {
          "base_uri": "https://localhost:8080/",
          "height": 280
        },
        "id": "WsANw9csX4eL",
        "outputId": "6a73cccd-3cf2-4140-f16e-9c86939596b6"
      },
      "execution_count": 66,
      "outputs": [
        {
          "output_type": "display_data",
          "data": {
            "text/plain": [
              "<Figure size 432x288 with 1 Axes>"
            ],
            "image/png": "[encoded data removed]"
          },
          "metadata": {
            "needs_background": "light"
          }
        }
      ]
    },
    {
      "cell_type": "code",
      "source": [
        "sns.boxplot(x='ever_married', y='work_type', data=df_ml);"
      ],
      "metadata": {
        "colab": {
          "base_uri": "https://localhost:8080/",
          "height": 280
        },
        "id": "y70DLradY3kE",
        "outputId": "52619773-c537-4016-e84b-eabc3635b918"
      },
      "execution_count": 75,
      "outputs": [
        {
          "output_type": "display_data",
          "data": {
            "text/plain": [
              "<Figure size 432x288 with 1 Axes>"
            ],
            "image/png": "[encoded data removed]"
          },
          "metadata": {
            "needs_background": "light"
          }
        }
      ]
    },
    {
      "cell_type": "markdown",
      "source": [
        "**Base Model**\n",
        "- In the base boxplot model, there is no outliers present.\n",
        "\n",
        "**Combined Model**\n",
        "- In the boxplot comparing whether a patient was ever married and their work type. The only outliers present are those who **were not married, and worked either a government job, or were self-employed.**\n",
        "\n",
        "---"
      ],
      "metadata": {
        "id": "FTMiNFW4YFeJ"
      }
    },
    {
      "cell_type": "markdown",
      "source": [
        "#### **work_type**"
      ],
      "metadata": {
        "id": "D_3ghckje2Py"
      }
    },
    {
      "cell_type": "code",
      "source": [
        "sns.boxplot(x='work_type', data=df_ml);"
      ],
      "metadata": {
        "colab": {
          "base_uri": "https://localhost:8080/",
          "height": 280
        },
        "id": "wcmql4QuZZuf",
        "outputId": "ef42c167-c8b4-4dcc-f4f1-57cf4d518850"
      },
      "execution_count": 102,
      "outputs": [
        {
          "output_type": "display_data",
          "data": {
            "text/plain": [
              "<Figure size 432x288 with 1 Axes>"
            ],
            "image/png": "[encoded data removed]"
          },
          "metadata": {
            "needs_background": "light"
          }
        }
      ]
    },
    {
      "cell_type": "code",
      "source": [
        "df['work_type'].value_counts()"
      ],
      "metadata": {
        "colab": {
          "base_uri": "https://localhost:8080/"
        },
        "id": "YVuUinbEdcAN",
        "outputId": "9e03b73e-ac4d-405d-d1dc-dff0e716ec65"
      },
      "execution_count": 104,
      "outputs": [
        {
          "output_type": "execute_result",
          "data": {
            "text/plain": [
              "Private          2925\n",
              "Self-employed     819\n",
              "children          687\n",
              "Govt_job          657\n",
              "Never_worked       22\n",
              "Name: work_type, dtype: int64"
            ]
          },
          "metadata": {},
          "execution_count": 104
        }
      ]
    },
    {
      "cell_type": "code",
      "source": [
        "sns.boxplot(x='work_type', y='hypertension', data=df_ml);"
      ],
      "metadata": {
        "colab": {
          "base_uri": "https://localhost:8080/",
          "height": 280
        },
        "id": "60q38RL8dCZx",
        "outputId": "fb2bf40c-3409-4e6e-a814-66ddd19c6f27"
      },
      "execution_count": 103,
      "outputs": [
        {
          "output_type": "display_data",
          "data": {
            "text/plain": [
              "<Figure size 432x288 with 1 Axes>"
            ],
            "image/png": "[encoded data removed]"
          },
          "metadata": {
            "needs_background": "light"
          }
        }
      ]
    },
    {
      "cell_type": "markdown",
      "source": [
        "**Base Model**\n",
        "- There are no outliers\n",
        "\n",
        "**Combined Model**\n",
        "- There are outliers for people that **have hypertension** that work in either **the Private Sector (0), Self-employed (1), or work a Government Job (3).**\n",
        "\n",
        "---"
      ],
      "metadata": {
        "id": "ufK-iZqhdQcj"
      }
    },
    {
      "cell_type": "markdown",
      "source": [
        "#### **Residence_type**"
      ],
      "metadata": {
        "id": "VkSCLKF4e5V4"
      }
    },
    {
      "cell_type": "code",
      "source": [
        "sns.boxplot(x='Residence_type', data=df_ml);"
      ],
      "metadata": {
        "colab": {
          "base_uri": "https://localhost:8080/",
          "height": 280
        },
        "id": "gPqEjlPmeaMQ",
        "outputId": "f2b87906-4a9a-4626-f31a-35fa26036cae"
      },
      "execution_count": 107,
      "outputs": [
        {
          "output_type": "display_data",
          "data": {
            "text/plain": [
              "<Figure size 432x288 with 1 Axes>"
            ],
            "image/png": "[encoded data removed]"
          },
          "metadata": {
            "needs_background": "light"
          }
        }
      ]
    },
    {
      "cell_type": "code",
      "source": [
        "sns.boxplot(x='Residence_type', y='bmi',\n",
        "            data=df);"
      ],
      "metadata": {
        "colab": {
          "base_uri": "https://localhost:8080/",
          "height": 280
        },
        "id": "3tlOJrdue8cS",
        "outputId": "1f81eade-420a-4a01-ae78-b47e976908d6"
      },
      "execution_count": 111,
      "outputs": [
        {
          "output_type": "display_data",
          "data": {
            "text/plain": [
              "<Figure size 432x288 with 1 Axes>"
            ],
            "image/png": "[encoded data removed]"
          },
          "metadata": {
            "needs_background": "light"
          }
        }
      ]
    },
    {
      "cell_type": "markdown",
      "source": [
        "**Base Model**\n",
        "- There are no outliers present in the base model.\n",
        "\n",
        "**Combined Model**\n",
        "- In the combined model comparing Residence type and bmi, there are outliers present in both \"Urban\" and \"Rural\" residencies. But there appears to be more in the 'Rural' residence type.\n",
        "\n",
        "---"
      ],
      "metadata": {
        "id": "EoEf1hbKfLII"
      }
    },
    {
      "cell_type": "markdown",
      "source": [
        "#### **avg_glucose_level**"
      ],
      "metadata": {
        "id": "4BOTGyS-gr_A"
      }
    },
    {
      "cell_type": "code",
      "source": [
        "sns.boxplot(x='avg_glucose_level', data=df_ml);"
      ],
      "metadata": {
        "colab": {
          "base_uri": "https://localhost:8080/",
          "height": 280
        },
        "id": "H-GF8nNsfgZ2",
        "outputId": "1e05fae2-2662-405a-ec5a-6abcee39ea09"
      },
      "execution_count": 112,
      "outputs": [
        {
          "output_type": "display_data",
          "data": {
            "text/plain": [
              "<Figure size 432x288 with 1 Axes>"
            ],
            "image/png": "[encoded data removed]"
          },
          "metadata": {
            "needs_background": "light"
          }
        }
      ]
    },
    {
      "cell_type": "markdown",
      "source": [
        "**Base Model**\n",
        "- There is a massive amount of outliers present after the average glucose level reaches around 160, and stretches past 250.\n",
        "\n",
        "**Combined Model**\n",
        "\n",
        "*The cell did not run properly, so I decided not to include a model at the moment.*\n",
        "\n",
        "---"
      ],
      "metadata": {
        "id": "8fJDGNNngQDA"
      }
    },
    {
      "cell_type": "markdown",
      "source": [
        "#### **bmi**"
      ],
      "metadata": {
        "id": "x-mbXi3FgwF1"
      }
    },
    {
      "cell_type": "code",
      "source": [
        "sns.boxplot(x='bmi', data=df_ml);"
      ],
      "metadata": {
        "colab": {
          "base_uri": "https://localhost:8080/",
          "height": 279
        },
        "id": "qVCxvYGugya2",
        "outputId": "189d9cff-fb80-4752-812d-18f0b820f89b"
      },
      "execution_count": 116,
      "outputs": [
        {
          "output_type": "display_data",
          "data": {
            "text/plain": [
              "<Figure size 432x288 with 1 Axes>"
            ],
            "image/png": "[encoded data removed]"
          },
          "metadata": {
            "needs_background": "light"
          }
        }
      ]
    },
    {
      "cell_type": "code",
      "source": [
        "sns.boxplot(x='smoking_status', y='bmi', data=df_ml);"
      ],
      "metadata": {
        "colab": {
          "base_uri": "https://localhost:8080/",
          "height": 280
        },
        "id": "KNFveMtmg2_W",
        "outputId": "f147b999-a9c3-42b1-bc3f-f5155e975504"
      },
      "execution_count": 118,
      "outputs": [
        {
          "output_type": "display_data",
          "data": {
            "text/plain": [
              "<Figure size 432x288 with 1 Axes>"
            ],
            "image/png": "[encoded data removed]"
          },
          "metadata": {
            "needs_background": "light"
          }
        }
      ]
    },
    {
      "cell_type": "markdown",
      "source": [
        "**Base Model**\n",
        "- In the base model, there are outliers present around the bmi mark of 45-50 and stretching to a bmi of 100.\n",
        "\n",
        "**Combined Model**\n",
        "- In the combined model of 'bmi' and 'smoking status', there are outliers present in all the different values of smoking status. These outliers all start around the bmi mark of 45-50.\n",
        "\n",
        "---"
      ],
      "metadata": {
        "id": "RXDaknWwhGZr"
      }
    },
    {
      "cell_type": "markdown",
      "source": [
        "#### **smoking_status**"
      ],
      "metadata": {
        "id": "u7xVW7slhgZi"
      }
    },
    {
      "cell_type": "code",
      "source": [
        "sns.boxplot(x='smoking_status', data=df_ml);"
      ],
      "metadata": {
        "colab": {
          "base_uri": "https://localhost:8080/",
          "height": 280
        },
        "id": "2dmXmtYnhgPA",
        "outputId": "a8967b4a-d7f5-42f4-9dcd-20d2c0c54ecc"
      },
      "execution_count": 119,
      "outputs": [
        {
          "output_type": "display_data",
          "data": {
            "text/plain": [
              "<Figure size 432x288 with 1 Axes>"
            ],
            "image/png": "[encoded data removed]"
          },
          "metadata": {
            "needs_background": "light"
          }
        }
      ]
    },
    {
      "cell_type": "code",
      "source": [
        "sns.boxplot(x='smoking_status', y='gender', data=df_ml);"
      ],
      "metadata": {
        "colab": {
          "base_uri": "https://localhost:8080/",
          "height": 280
        },
        "id": "KiJ3lctthfa-",
        "outputId": "1f6f7a7e-3b70-4e54-bff3-6cbbb432608b"
      },
      "execution_count": 123,
      "outputs": [
        {
          "output_type": "display_data",
          "data": {
            "text/plain": [
              "<Figure size 432x288 with 1 Axes>"
            ],
            "image/png": "[encoded data removed]"
          },
          "metadata": {
            "needs_background": "light"
          }
        }
      ]
    },
    {
      "cell_type": "markdown",
      "source": [
        "**Base Model**\n",
        "- In the base model, there are no outliers present.\n",
        "\n",
        "**Combined Model**\n",
        "- In the combined model of 'smoking_status' and 'gender'. There are no outliers present, but there is only whiskers (**black line**) present in the smoking value of 'formerly smoked'.\n",
        "\n",
        "---"
      ],
      "metadata": {
        "id": "slfcy950h-zf"
      }
    },
    {
      "cell_type": "markdown",
      "source": [
        "#### **stroke**"
      ],
      "metadata": {
        "id": "N7PRVj41ipl6"
      }
    },
    {
      "cell_type": "code",
      "source": [
        "sns.boxplot(x='stroke', data=df_ml);"
      ],
      "metadata": {
        "colab": {
          "base_uri": "https://localhost:8080/",
          "height": 279
        },
        "id": "HTVQzlySipIL",
        "outputId": "7abac759-a024-4827-baac-d66cb1ed92e8"
      },
      "execution_count": 125,
      "outputs": [
        {
          "output_type": "display_data",
          "data": {
            "text/plain": [
              "<Figure size 432x288 with 1 Axes>"
            ],
            "image/png": "[encoded data removed]"
          },
          "metadata": {
            "needs_background": "light"
          }
        }
      ]
    },
    {
      "cell_type": "code",
      "source": [
        "sns.boxplot(x='stroke', y='age', data=df_ml);"
      ],
      "metadata": {
        "colab": {
          "base_uri": "https://localhost:8080/",
          "height": 279
        },
        "id": "Cp4JsCFOiw1o",
        "outputId": "140b6022-adab-436c-d6f0-396b068afd86"
      },
      "execution_count": 127,
      "outputs": [
        {
          "output_type": "display_data",
          "data": {
            "text/plain": [
              "<Figure size 432x288 with 1 Axes>"
            ],
            "image/png": "[encoded data removed]"
          },
          "metadata": {
            "needs_background": "light"
          }
        }
      ]
    },
    {
      "cell_type": "markdown",
      "source": [
        "**Base Model**\n",
        "- There are only outliers present in patients that have had a stroke.\n",
        "\n",
        "**Combined Model**\n",
        "- In the combined model of patients that have had a stroke and patients ages. There are only outliers present in patients that **have had a stroke and are between the ages of 20 and 0.**"
      ],
      "metadata": {
        "id": "ivNLSUyTi9Lb"
      }
    }
  ]
}